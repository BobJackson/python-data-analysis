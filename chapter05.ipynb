{
 "cells": [
  {
   "cell_type": "code",
   "id": "initial_id",
   "metadata": {
    "collapsed": true,
    "ExecuteTime": {
     "end_time": "2024-06-12T07:18:03.151955Z",
     "start_time": "2024-06-12T07:18:03.150002Z"
    }
   },
   "source": [
    "import numpy as np\n",
    "import pandas as pd"
   ],
   "execution_count": 40,
   "outputs": []
  },
  {
   "metadata": {
    "ExecuteTime": {
     "end_time": "2024-06-11T02:40:00.465685Z",
     "start_time": "2024-06-11T02:40:00.439837Z"
    }
   },
   "cell_type": "code",
   "source": "obj = pd.Series([4, 7, -5, 3])",
   "id": "ed9a023ad1c7b3ec",
   "execution_count": 3,
   "outputs": []
  },
  {
   "metadata": {
    "ExecuteTime": {
     "end_time": "2024-06-11T02:40:02.698461Z",
     "start_time": "2024-06-11T02:40:02.690575Z"
    }
   },
   "cell_type": "code",
   "source": "obj",
   "id": "c11e087e45d51298",
   "execution_count": 4,
   "outputs": []
  },
  {
   "metadata": {
    "ExecuteTime": {
     "end_time": "2024-06-11T02:40:14.694262Z",
     "start_time": "2024-06-11T02:40:14.682710Z"
    }
   },
   "cell_type": "code",
   "source": "obj.array",
   "id": "2edf5a27cda6d084",
   "execution_count": 5,
   "outputs": []
  },
  {
   "metadata": {
    "ExecuteTime": {
     "end_time": "2024-06-11T02:40:31.760321Z",
     "start_time": "2024-06-11T02:40:31.757176Z"
    }
   },
   "cell_type": "code",
   "source": "obj.index",
   "id": "8aab793a1c12ebf8",
   "execution_count": 6,
   "outputs": []
  },
  {
   "metadata": {
    "ExecuteTime": {
     "end_time": "2024-06-11T02:40:49.070875Z",
     "start_time": "2024-06-11T02:40:49.063781Z"
    }
   },
   "cell_type": "code",
   "source": "obj2 = pd.Series([4, 7, -5, 3], index=['a', 'b', 'c', 'd'])",
   "id": "bdfc97506eff710b",
   "execution_count": 7,
   "outputs": []
  },
  {
   "metadata": {
    "ExecuteTime": {
     "end_time": "2024-06-11T02:40:52.662179Z",
     "start_time": "2024-06-11T02:40:52.656632Z"
    }
   },
   "cell_type": "code",
   "source": "obj2",
   "id": "b0afdf21bbb1c41c",
   "execution_count": 8,
   "outputs": []
  },
  {
   "metadata": {
    "ExecuteTime": {
     "end_time": "2024-06-11T02:41:00.787844Z",
     "start_time": "2024-06-11T02:41:00.782312Z"
    }
   },
   "cell_type": "code",
   "source": "obj2.index",
   "id": "c3b983acdbdd653",
   "execution_count": 9,
   "outputs": []
  },
  {
   "metadata": {
    "ExecuteTime": {
     "end_time": "2024-06-11T02:41:29.538624Z",
     "start_time": "2024-06-11T02:41:29.532228Z"
    }
   },
   "cell_type": "code",
   "source": "obj2['a']",
   "id": "6d81f53ea808bf67",
   "execution_count": 10,
   "outputs": []
  },
  {
   "metadata": {
    "ExecuteTime": {
     "end_time": "2024-06-11T02:41:53.316913Z",
     "start_time": "2024-06-11T02:41:53.296430Z"
    }
   },
   "cell_type": "code",
   "source": "obj2['d']",
   "id": "be437c01f1362139",
   "execution_count": 11,
   "outputs": []
  },
  {
   "metadata": {
    "ExecuteTime": {
     "end_time": "2024-06-11T02:42:03.465895Z",
     "start_time": "2024-06-11T02:42:03.455770Z"
    }
   },
   "cell_type": "code",
   "source": "obj2[[\"a\", \"b\"]]",
   "id": "398b471f4fb39841",
   "execution_count": 12,
   "outputs": []
  },
  {
   "metadata": {
    "ExecuteTime": {
     "end_time": "2024-06-11T02:42:16.882743Z",
     "start_time": "2024-06-11T02:42:16.870900Z"
    }
   },
   "cell_type": "code",
   "source": "obj2[obj2 > 2]",
   "id": "9288a7ab1a900ecd",
   "execution_count": 13,
   "outputs": []
  },
  {
   "metadata": {
    "ExecuteTime": {
     "end_time": "2024-06-11T02:42:26.956189Z",
     "start_time": "2024-06-11T02:42:26.952450Z"
    }
   },
   "cell_type": "code",
   "source": "obj2 * 2",
   "id": "aa188184fa08f918",
   "execution_count": 14,
   "outputs": []
  },
  {
   "metadata": {
    "ExecuteTime": {
     "end_time": "2024-06-11T02:42:35.616135Z",
     "start_time": "2024-06-11T02:42:35.606646Z"
    }
   },
   "cell_type": "code",
   "source": "obj2",
   "id": "acb17cae4d3006",
   "execution_count": 15,
   "outputs": []
  },
  {
   "metadata": {
    "ExecuteTime": {
     "end_time": "2024-06-11T02:42:46.458975Z",
     "start_time": "2024-06-11T02:42:46.453100Z"
    }
   },
   "cell_type": "code",
   "source": "np.exp(obj2)",
   "id": "17e95b1a157bed2a",
   "execution_count": 16,
   "outputs": []
  },
  {
   "metadata": {
    "ExecuteTime": {
     "end_time": "2024-06-11T02:43:02.518544Z",
     "start_time": "2024-06-11T02:43:02.514771Z"
    }
   },
   "cell_type": "code",
   "source": "\"b\" in obj2",
   "id": "28163be66d2b5e55",
   "execution_count": 17,
   "outputs": []
  },
  {
   "metadata": {
    "ExecuteTime": {
     "end_time": "2024-06-11T02:43:08.005084Z",
     "start_time": "2024-06-11T02:43:07.998772Z"
    }
   },
   "cell_type": "code",
   "source": "\"e\" in obj2",
   "id": "18542d5f8e1f78a",
   "execution_count": 18,
   "outputs": []
  },
  {
   "metadata": {
    "ExecuteTime": {
     "end_time": "2024-06-11T02:44:24.435127Z",
     "start_time": "2024-06-11T02:44:24.425040Z"
    }
   },
   "cell_type": "code",
   "source": "sdata = {\"Ohio\": 35000, \"Texas\": 71000, \"Oregon\": 16000, \"Utah\": 5000}",
   "id": "876c7d67bf725e51",
   "execution_count": 19,
   "outputs": []
  },
  {
   "metadata": {
    "ExecuteTime": {
     "end_time": "2024-06-11T02:44:32.146114Z",
     "start_time": "2024-06-11T02:44:32.142530Z"
    }
   },
   "cell_type": "code",
   "source": "obj3 = pd.Series(sdata)",
   "id": "7684b803d96a2382",
   "execution_count": 20,
   "outputs": []
  },
  {
   "metadata": {
    "ExecuteTime": {
     "end_time": "2024-06-11T02:44:35.713678Z",
     "start_time": "2024-06-11T02:44:35.709257Z"
    }
   },
   "cell_type": "code",
   "source": "obj3",
   "id": "282d1902cd786a21",
   "execution_count": 21,
   "outputs": []
  },
  {
   "metadata": {
    "ExecuteTime": {
     "end_time": "2024-06-11T02:44:50.556101Z",
     "start_time": "2024-06-11T02:44:50.546305Z"
    }
   },
   "cell_type": "code",
   "source": "obj3.to_dict()",
   "id": "d293d1b102216fb4",
   "execution_count": 22,
   "outputs": []
  },
  {
   "metadata": {
    "ExecuteTime": {
     "end_time": "2024-06-11T02:45:07.650873Z",
     "start_time": "2024-06-11T02:45:07.644742Z"
    }
   },
   "cell_type": "code",
   "source": "states = (\"Ohio\", \"Texas\", \"Oregon\", \"Utah\")",
   "id": "1d0db2591351fa05",
   "execution_count": 23,
   "outputs": []
  },
  {
   "metadata": {
    "ExecuteTime": {
     "end_time": "2024-06-11T02:45:41.807455Z",
     "start_time": "2024-06-11T02:45:41.799719Z"
    }
   },
   "cell_type": "code",
   "source": "obj4 = pd.Series(sdata, index=states)",
   "id": "18898cdf0c73a72f",
   "execution_count": 24,
   "outputs": []
  },
  {
   "metadata": {
    "ExecuteTime": {
     "end_time": "2024-06-11T02:45:46.659897Z",
     "start_time": "2024-06-11T02:45:46.654269Z"
    }
   },
   "cell_type": "code",
   "source": "obj4",
   "id": "8dbacd05705d41e7",
   "execution_count": 25,
   "outputs": []
  },
  {
   "metadata": {
    "ExecuteTime": {
     "end_time": "2024-06-11T02:46:23.434368Z",
     "start_time": "2024-06-11T02:46:23.424497Z"
    }
   },
   "cell_type": "code",
   "source": "pd.isna(obj4)",
   "id": "4b0c39ff0a7d200b",
   "execution_count": 26,
   "outputs": []
  },
  {
   "metadata": {
    "ExecuteTime": {
     "end_time": "2024-06-11T02:46:37.019394Z",
     "start_time": "2024-06-11T02:46:37.010658Z"
    }
   },
   "cell_type": "code",
   "source": "obj4.isna()",
   "id": "7aa5ad42d0eeabf0",
   "execution_count": 27,
   "outputs": []
  },
  {
   "metadata": {
    "ExecuteTime": {
     "end_time": "2024-06-11T02:46:44.062681Z",
     "start_time": "2024-06-11T02:46:44.057999Z"
    }
   },
   "cell_type": "code",
   "source": "obj3",
   "id": "c4e5d9ec31d7fc44",
   "execution_count": 28,
   "outputs": []
  },
  {
   "metadata": {
    "ExecuteTime": {
     "end_time": "2024-06-11T02:46:50.232498Z",
     "start_time": "2024-06-11T02:46:50.228477Z"
    }
   },
   "cell_type": "code",
   "source": "obj4",
   "id": "383edb3496b51282",
   "execution_count": 29,
   "outputs": []
  },
  {
   "metadata": {
    "ExecuteTime": {
     "end_time": "2024-06-11T02:46:59.050362Z",
     "start_time": "2024-06-11T02:46:59.027696Z"
    }
   },
   "cell_type": "code",
   "source": "obj3 + obj4",
   "id": "504fae774e35a8e",
   "execution_count": 30,
   "outputs": []
  },
  {
   "metadata": {
    "ExecuteTime": {
     "end_time": "2024-06-11T02:47:23.724857Z",
     "start_time": "2024-06-11T02:47:23.719586Z"
    }
   },
   "cell_type": "code",
   "source": "obj4.name = \"population\"",
   "id": "c89aca5cf9bbcbbf",
   "execution_count": 31,
   "outputs": []
  },
  {
   "metadata": {
    "ExecuteTime": {
     "end_time": "2024-06-11T02:47:35.925127Z",
     "start_time": "2024-06-11T02:47:35.920330Z"
    }
   },
   "cell_type": "code",
   "source": "obj4.index.name = \"state\"",
   "id": "91f288958352a6c7",
   "execution_count": 32,
   "outputs": []
  },
  {
   "metadata": {
    "ExecuteTime": {
     "end_time": "2024-06-11T02:47:38.784312Z",
     "start_time": "2024-06-11T02:47:38.779002Z"
    }
   },
   "cell_type": "code",
   "source": "obj4",
   "id": "ec8c2f626f14d8be",
   "execution_count": 33,
   "outputs": []
  },
  {
   "metadata": {
    "ExecuteTime": {
     "end_time": "2024-06-11T02:48:03.486942Z",
     "start_time": "2024-06-11T02:48:03.478951Z"
    }
   },
   "cell_type": "code",
   "source": "obj",
   "id": "9a47e1e092bbdc12",
   "execution_count": 34,
   "outputs": []
  },
  {
   "metadata": {
    "ExecuteTime": {
     "end_time": "2024-06-11T02:48:36.337450Z",
     "start_time": "2024-06-11T02:48:36.328749Z"
    }
   },
   "cell_type": "code",
   "source": "obj.index = [\"Bob\", \"Steve\", \"Jeff\", \"Ryan\"]",
   "id": "a434a53380dcfcb4",
   "execution_count": 35,
   "outputs": []
  },
  {
   "metadata": {
    "ExecuteTime": {
     "end_time": "2024-06-11T02:48:38.971193Z",
     "start_time": "2024-06-11T02:48:38.966591Z"
    }
   },
   "cell_type": "code",
   "source": "obj",
   "id": "ed357d63159ae077",
   "execution_count": 36,
   "outputs": []
  },
  {
   "metadata": {
    "ExecuteTime": {
     "end_time": "2024-06-11T02:57:13.748557Z",
     "start_time": "2024-06-11T02:57:13.739832Z"
    }
   },
   "cell_type": "code",
   "source": [
    "data = {\n",
    "    \"state\": [\"Ohio\", \"Ohio\", \"Ohio\", \"Nevada\", \"Nevada\", \"Nevada\"],\n",
    "    \"year\": [2000, 2001, 2002, 2001, 2002, 2003],\n",
    "    \"pop\": [1.5, 1.7, 3.6, 2.4, 2.9, 3.2]\n",
    "}\n",
    "frame = pd.DataFrame(data)"
   ],
   "id": "1e9879c2dc3f9b65",
   "execution_count": 37,
   "outputs": []
  },
  {
   "metadata": {
    "ExecuteTime": {
     "end_time": "2024-06-11T02:57:15.654893Z",
     "start_time": "2024-06-11T02:57:15.650163Z"
    }
   },
   "cell_type": "code",
   "source": "frame",
   "id": "161c8d038816899e",
   "execution_count": 38,
   "outputs": []
  },
  {
   "metadata": {
    "ExecuteTime": {
     "end_time": "2024-06-11T02:57:44.178237Z",
     "start_time": "2024-06-11T02:57:44.152661Z"
    }
   },
   "cell_type": "code",
   "source": "frame.T",
   "id": "c4984748ecc49eb5",
   "execution_count": 39,
   "outputs": []
  },
  {
   "metadata": {
    "ExecuteTime": {
     "end_time": "2024-06-11T02:58:36.265973Z",
     "start_time": "2024-06-11T02:58:36.255712Z"
    }
   },
   "cell_type": "code",
   "source": "frame",
   "id": "d4bf7f8a5327fe2f",
   "execution_count": 40,
   "outputs": []
  },
  {
   "metadata": {
    "ExecuteTime": {
     "end_time": "2024-06-11T02:58:42.165729Z",
     "start_time": "2024-06-11T02:58:42.159755Z"
    }
   },
   "cell_type": "code",
   "source": "frame.head()",
   "id": "b22e372740142e40",
   "execution_count": 41,
   "outputs": []
  },
  {
   "metadata": {
    "ExecuteTime": {
     "end_time": "2024-06-11T02:58:57.982260Z",
     "start_time": "2024-06-11T02:58:57.967484Z"
    }
   },
   "cell_type": "code",
   "source": "frame.tail()",
   "id": "83f57e4679d97c98",
   "execution_count": 42,
   "outputs": []
  },
  {
   "metadata": {
    "ExecuteTime": {
     "end_time": "2024-06-11T02:59:26.679254Z",
     "start_time": "2024-06-11T02:59:26.660854Z"
    }
   },
   "cell_type": "code",
   "source": "pd.DataFrame(data, columns=[\"year\", \"state\", \"pop\"])",
   "id": "82712f3f9e4abba1",
   "execution_count": 43,
   "outputs": []
  },
  {
   "metadata": {
    "ExecuteTime": {
     "end_time": "2024-06-11T02:59:54.015200Z",
     "start_time": "2024-06-11T02:59:53.999392Z"
    }
   },
   "cell_type": "code",
   "source": "frame2 = pd.DataFrame(data, columns=[\"year\", \"state\", \"pop\", \"debt\"])",
   "id": "6596458a39a853a1",
   "execution_count": 44,
   "outputs": []
  },
  {
   "metadata": {
    "ExecuteTime": {
     "end_time": "2024-06-11T02:59:56.912276Z",
     "start_time": "2024-06-11T02:59:56.906857Z"
    }
   },
   "cell_type": "code",
   "source": "frame2",
   "id": "c630a8b990a2de3a",
   "execution_count": 45,
   "outputs": []
  },
  {
   "metadata": {
    "ExecuteTime": {
     "end_time": "2024-06-11T03:00:05.311713Z",
     "start_time": "2024-06-11T03:00:05.304010Z"
    }
   },
   "cell_type": "code",
   "source": "frame2.columns",
   "id": "245ef0111bcbee6d",
   "execution_count": 46,
   "outputs": []
  },
  {
   "metadata": {
    "ExecuteTime": {
     "end_time": "2024-06-11T03:00:17.448928Z",
     "start_time": "2024-06-11T03:00:17.438953Z"
    }
   },
   "cell_type": "code",
   "source": "frame2[\"state\"]",
   "id": "c5ce0a59298ebd58",
   "execution_count": 47,
   "outputs": []
  },
  {
   "metadata": {
    "ExecuteTime": {
     "end_time": "2024-06-11T03:00:25.219622Z",
     "start_time": "2024-06-11T03:00:25.215001Z"
    }
   },
   "cell_type": "code",
   "source": "frame2.year",
   "id": "7857865f695e8713",
   "execution_count": 48,
   "outputs": []
  },
  {
   "metadata": {
    "ExecuteTime": {
     "end_time": "2024-06-11T03:00:37.056415Z",
     "start_time": "2024-06-11T03:00:37.042335Z"
    }
   },
   "cell_type": "code",
   "source": "frame2.loc[1]",
   "id": "a28478f5e5bec75e",
   "execution_count": 49,
   "outputs": []
  },
  {
   "metadata": {
    "ExecuteTime": {
     "end_time": "2024-06-11T03:01:00.842071Z",
     "start_time": "2024-06-11T03:01:00.809144Z"
    }
   },
   "cell_type": "code",
   "source": "frame2.iloc[2]",
   "id": "b34884759dd69ae3",
   "execution_count": 50,
   "outputs": []
  },
  {
   "metadata": {
    "ExecuteTime": {
     "end_time": "2024-06-11T03:03:05.990833Z",
     "start_time": "2024-06-11T03:03:05.981691Z"
    }
   },
   "cell_type": "code",
   "source": "frame2[\"debt\"] = 16.5",
   "id": "3222b4a79955389b",
   "execution_count": 51,
   "outputs": []
  },
  {
   "metadata": {
    "ExecuteTime": {
     "end_time": "2024-06-11T03:03:09.048123Z",
     "start_time": "2024-06-11T03:03:09.041382Z"
    }
   },
   "cell_type": "code",
   "source": "frame2",
   "id": "54b2e583ca28dc85",
   "execution_count": 52,
   "outputs": []
  },
  {
   "metadata": {
    "ExecuteTime": {
     "end_time": "2024-06-11T03:03:33.647591Z",
     "start_time": "2024-06-11T03:03:33.628986Z"
    }
   },
   "cell_type": "code",
   "source": "frame2[\"debt\"] = np.arange(6.)",
   "id": "531f5afe126c69cf",
   "execution_count": 53,
   "outputs": []
  },
  {
   "metadata": {
    "ExecuteTime": {
     "end_time": "2024-06-11T03:03:36.378110Z",
     "start_time": "2024-06-11T03:03:36.372412Z"
    }
   },
   "cell_type": "code",
   "source": "frame2",
   "id": "d99a193c5ac6252a",
   "execution_count": 54,
   "outputs": []
  },
  {
   "metadata": {
    "ExecuteTime": {
     "end_time": "2024-06-11T03:04:17.410115Z",
     "start_time": "2024-06-11T03:04:17.403909Z"
    }
   },
   "cell_type": "code",
   "source": "val = pd.Series([-1.2, -1.5, -1.7], index=[\"two\", \"four\", \"five\"])",
   "id": "ffeb6773f48c9213",
   "execution_count": 55,
   "outputs": []
  },
  {
   "metadata": {
    "ExecuteTime": {
     "end_time": "2024-06-11T03:04:31.597898Z",
     "start_time": "2024-06-11T03:04:31.590333Z"
    }
   },
   "cell_type": "code",
   "source": "frame2[\"debt\"] = val",
   "id": "f6983c9b3d27bbe2",
   "execution_count": 56,
   "outputs": []
  },
  {
   "metadata": {
    "ExecuteTime": {
     "end_time": "2024-06-11T03:04:35.174775Z",
     "start_time": "2024-06-11T03:04:35.170009Z"
    }
   },
   "cell_type": "code",
   "source": "frame2",
   "id": "fa424c180d37a6e7",
   "execution_count": 57,
   "outputs": []
  },
  {
   "metadata": {
    "ExecuteTime": {
     "end_time": "2024-06-11T03:05:03.641957Z",
     "start_time": "2024-06-11T03:05:03.632289Z"
    }
   },
   "cell_type": "code",
   "source": "frame2[\"eastern\"] = frame2[\"state\"] == \"Ohio\"",
   "id": "7e895779e9dadf14",
   "execution_count": 58,
   "outputs": []
  },
  {
   "metadata": {
    "ExecuteTime": {
     "end_time": "2024-06-11T03:05:06.144012Z",
     "start_time": "2024-06-11T03:05:06.138631Z"
    }
   },
   "cell_type": "code",
   "source": "frame2",
   "id": "ed32b23efe40337a",
   "execution_count": 59,
   "outputs": []
  },
  {
   "metadata": {
    "ExecuteTime": {
     "end_time": "2024-06-11T03:05:21.540392Z",
     "start_time": "2024-06-11T03:05:21.533308Z"
    }
   },
   "cell_type": "code",
   "source": "del frame2[\"eastern\"]",
   "id": "e15c452d48577150",
   "execution_count": 60,
   "outputs": []
  },
  {
   "metadata": {
    "ExecuteTime": {
     "end_time": "2024-06-11T03:05:28.043016Z",
     "start_time": "2024-06-11T03:05:28.038454Z"
    }
   },
   "cell_type": "code",
   "source": "frame2.columns",
   "id": "ac892bdac9ab3e15",
   "execution_count": 61,
   "outputs": []
  },
  {
   "metadata": {
    "ExecuteTime": {
     "end_time": "2024-06-11T03:06:45.275488Z",
     "start_time": "2024-06-11T03:06:45.270753Z"
    }
   },
   "cell_type": "code",
   "source": "populations = {\"Ohio\": {2000: 1.5, 2001: 1.7, 2002: 3.6}, \"Nevada\": {2001: 2.4, 2002: 2.9}}",
   "id": "de090e9062b18832",
   "execution_count": 62,
   "outputs": []
  },
  {
   "metadata": {
    "ExecuteTime": {
     "end_time": "2024-06-11T03:07:02.284366Z",
     "start_time": "2024-06-11T03:07:02.275290Z"
    }
   },
   "cell_type": "code",
   "source": "frame3 = pd.DataFrame(populations)",
   "id": "50d995727ad4d6ae",
   "execution_count": 63,
   "outputs": []
  },
  {
   "metadata": {
    "ExecuteTime": {
     "end_time": "2024-06-11T03:07:04.976434Z",
     "start_time": "2024-06-11T03:07:04.971897Z"
    }
   },
   "cell_type": "code",
   "source": "frame3",
   "id": "60df884e5ecba00e",
   "execution_count": 64,
   "outputs": []
  },
  {
   "metadata": {
    "ExecuteTime": {
     "end_time": "2024-06-11T03:07:24.451300Z",
     "start_time": "2024-06-11T03:07:24.440436Z"
    }
   },
   "cell_type": "code",
   "source": "frame3.T",
   "id": "80acb47ee85b5c5",
   "execution_count": 65,
   "outputs": []
  },
  {
   "metadata": {
    "ExecuteTime": {
     "end_time": "2024-06-11T03:08:31.390026Z",
     "start_time": "2024-06-11T03:08:31.375631Z"
    }
   },
   "cell_type": "code",
   "source": "pd.DataFrame(populations, index=[2001, 2002, 2003])",
   "id": "827de8f9021956b9",
   "execution_count": 66,
   "outputs": []
  },
  {
   "metadata": {
    "ExecuteTime": {
     "end_time": "2024-06-11T03:09:20.002250Z",
     "start_time": "2024-06-11T03:09:19.991038Z"
    }
   },
   "cell_type": "code",
   "source": "pdata = {\"Ohio\": frame3[\"Ohio\"][:-1], \"Nevada\": frame3[\"Nevada\"][:2]}",
   "id": "4a27977cc4966424",
   "execution_count": 67,
   "outputs": []
  },
  {
   "metadata": {
    "ExecuteTime": {
     "end_time": "2024-06-11T03:09:24.472588Z",
     "start_time": "2024-06-11T03:09:24.467783Z"
    }
   },
   "cell_type": "code",
   "source": "pd.DataFrame(pdata)",
   "id": "ac4ea814e3f95b7f",
   "execution_count": 68,
   "outputs": []
  },
  {
   "metadata": {
    "ExecuteTime": {
     "end_time": "2024-06-11T03:11:05.574181Z",
     "start_time": "2024-06-11T03:11:05.564064Z"
    }
   },
   "cell_type": "code",
   "source": "frame3.index.name = \"year\"",
   "id": "9f49a829101d7f51",
   "execution_count": 69,
   "outputs": []
  },
  {
   "metadata": {
    "ExecuteTime": {
     "end_time": "2024-06-11T03:11:13.496506Z",
     "start_time": "2024-06-11T03:11:13.491775Z"
    }
   },
   "cell_type": "code",
   "source": "frame3.columns.name = \"state\"",
   "id": "8e615886ce0701b2",
   "execution_count": 70,
   "outputs": []
  },
  {
   "metadata": {
    "ExecuteTime": {
     "end_time": "2024-06-11T03:11:16.199714Z",
     "start_time": "2024-06-11T03:11:16.195013Z"
    }
   },
   "cell_type": "code",
   "source": "frame3",
   "id": "f6c49d2c1ec2d12d",
   "execution_count": 71,
   "outputs": []
  },
  {
   "metadata": {
    "ExecuteTime": {
     "end_time": "2024-06-11T03:11:46.700241Z",
     "start_time": "2024-06-11T03:11:46.680015Z"
    }
   },
   "cell_type": "code",
   "source": "frame3.to_numpy()",
   "id": "16f0d74b87caa9d5",
   "execution_count": 72,
   "outputs": []
  },
  {
   "metadata": {
    "ExecuteTime": {
     "end_time": "2024-06-11T03:12:11.300806Z",
     "start_time": "2024-06-11T03:12:11.286175Z"
    }
   },
   "cell_type": "code",
   "source": "frame2.to_numpy()",
   "id": "3d5b255bf60fcf21",
   "execution_count": 73,
   "outputs": []
  },
  {
   "metadata": {
    "ExecuteTime": {
     "end_time": "2024-06-11T03:14:37.139865Z",
     "start_time": "2024-06-11T03:14:37.128765Z"
    }
   },
   "cell_type": "code",
   "source": "obj = pd.Series(np.arange(3), index=[\"a\", \"b\", \"c\"])",
   "id": "20388494966a161b",
   "execution_count": 74,
   "outputs": []
  },
  {
   "metadata": {
    "ExecuteTime": {
     "end_time": "2024-06-11T03:14:43.917052Z",
     "start_time": "2024-06-11T03:14:43.898643Z"
    }
   },
   "cell_type": "code",
   "source": "index = obj.index",
   "id": "e8e59a26db980c01",
   "execution_count": 75,
   "outputs": []
  },
  {
   "metadata": {
    "ExecuteTime": {
     "end_time": "2024-06-11T03:14:49.190070Z",
     "start_time": "2024-06-11T03:14:49.186807Z"
    }
   },
   "cell_type": "code",
   "source": "index",
   "id": "4e3fb82d18ee6687",
   "execution_count": 76,
   "outputs": []
  },
  {
   "metadata": {
    "ExecuteTime": {
     "end_time": "2024-06-11T03:14:59.988667Z",
     "start_time": "2024-06-11T03:14:59.964116Z"
    }
   },
   "cell_type": "code",
   "source": "index[1:]",
   "id": "181d01b07f9a8a92",
   "execution_count": 77,
   "outputs": []
  },
  {
   "metadata": {
    "ExecuteTime": {
     "end_time": "2024-06-11T03:15:27.558518Z",
     "start_time": "2024-06-11T03:15:27.364239Z"
    }
   },
   "cell_type": "code",
   "source": "index[1] = \"d\"",
   "id": "f1762d196c8ef3f8",
   "execution_count": 78,
   "outputs": []
  },
  {
   "metadata": {
    "ExecuteTime": {
     "end_time": "2024-06-11T03:15:55.750599Z",
     "start_time": "2024-06-11T03:15:55.744484Z"
    }
   },
   "cell_type": "code",
   "source": "labels = pd.Index(np.arange(3))",
   "id": "24f6e3629f5b5b4",
   "execution_count": 79,
   "outputs": []
  },
  {
   "metadata": {
    "ExecuteTime": {
     "end_time": "2024-06-11T03:16:01.668328Z",
     "start_time": "2024-06-11T03:16:01.662395Z"
    }
   },
   "cell_type": "code",
   "source": "labels",
   "id": "5a08ee5a9489e885",
   "execution_count": 80,
   "outputs": []
  },
  {
   "metadata": {
    "ExecuteTime": {
     "end_time": "2024-06-11T03:18:07.331520Z",
     "start_time": "2024-06-11T03:18:07.326588Z"
    }
   },
   "cell_type": "code",
   "source": "obj2 = pd.Series([1.5, -2.5, 0], index=labels)",
   "id": "7a97a5d5dceb94ac",
   "execution_count": 81,
   "outputs": []
  },
  {
   "metadata": {
    "ExecuteTime": {
     "end_time": "2024-06-11T03:18:11.428881Z",
     "start_time": "2024-06-11T03:18:11.424140Z"
    }
   },
   "cell_type": "code",
   "source": "obj2",
   "id": "a48af24917b4223",
   "execution_count": 82,
   "outputs": []
  },
  {
   "metadata": {
    "ExecuteTime": {
     "end_time": "2024-06-11T03:18:30.232369Z",
     "start_time": "2024-06-11T03:18:30.225804Z"
    }
   },
   "cell_type": "code",
   "source": "obj2.index is labels",
   "id": "f07a9b399fe5d816",
   "execution_count": 83,
   "outputs": []
  },
  {
   "metadata": {
    "ExecuteTime": {
     "end_time": "2024-06-11T03:18:44.100510Z",
     "start_time": "2024-06-11T03:18:44.094714Z"
    }
   },
   "cell_type": "code",
   "source": "frame3",
   "id": "91a9c2165ec47920",
   "execution_count": 84,
   "outputs": []
  },
  {
   "metadata": {
    "ExecuteTime": {
     "end_time": "2024-06-11T03:19:57.172472Z",
     "start_time": "2024-06-11T03:19:57.160684Z"
    }
   },
   "cell_type": "code",
   "source": "frame3.columns",
   "id": "aaecedb581bb951e",
   "execution_count": 85,
   "outputs": []
  },
  {
   "metadata": {
    "ExecuteTime": {
     "end_time": "2024-06-11T03:20:10.537943Z",
     "start_time": "2024-06-11T03:20:10.528593Z"
    }
   },
   "cell_type": "code",
   "source": "\"Ohio\" in frame3.columns",
   "id": "1f123bf91ed628d5",
   "execution_count": 86,
   "outputs": []
  },
  {
   "metadata": {
    "ExecuteTime": {
     "end_time": "2024-06-11T03:20:22.840166Z",
     "start_time": "2024-06-11T03:20:22.834262Z"
    }
   },
   "cell_type": "code",
   "source": "2003 in frame3.index",
   "id": "da06504ffe66d598",
   "execution_count": 87,
   "outputs": []
  },
  {
   "metadata": {
    "ExecuteTime": {
     "end_time": "2024-06-11T03:20:46.442839Z",
     "start_time": "2024-06-11T03:20:46.405851Z"
    }
   },
   "cell_type": "code",
   "source": "pd.Index([\"foo\", \"foo\", \"bar\", \"bar\"])",
   "id": "dfa5ed0c31597c53",
   "execution_count": 88,
   "outputs": []
  },
  {
   "metadata": {
    "ExecuteTime": {
     "end_time": "2024-06-11T03:22:47.044212Z",
     "start_time": "2024-06-11T03:22:47.035657Z"
    }
   },
   "cell_type": "code",
   "source": "obj = pd.Series([4.5, 7.2, -5.3, 3.6], index=[\"d\", \"b\", \"a\", \"c\"])",
   "id": "3d87bc83e39f533d",
   "execution_count": 89,
   "outputs": []
  },
  {
   "metadata": {
    "ExecuteTime": {
     "end_time": "2024-06-11T03:22:49.444895Z",
     "start_time": "2024-06-11T03:22:49.441281Z"
    }
   },
   "cell_type": "code",
   "source": "obj",
   "id": "e8ec495de1dc60e8",
   "execution_count": 90,
   "outputs": []
  },
  {
   "metadata": {
    "ExecuteTime": {
     "end_time": "2024-06-11T03:23:35.339541Z",
     "start_time": "2024-06-11T03:23:35.332328Z"
    }
   },
   "cell_type": "code",
   "source": "obj2 = obj.reindex([\"a\", \"b\", \"c\", \"d\", \"e\"])",
   "id": "73ce47bfad8d8691",
   "execution_count": 91,
   "outputs": []
  },
  {
   "metadata": {
    "ExecuteTime": {
     "end_time": "2024-06-11T03:23:39.356316Z",
     "start_time": "2024-06-11T03:23:39.351900Z"
    }
   },
   "cell_type": "code",
   "source": "obj2",
   "id": "47a5bc9b417ac5d2",
   "execution_count": 92,
   "outputs": []
  },
  {
   "metadata": {
    "ExecuteTime": {
     "end_time": "2024-06-11T03:25:10.423353Z",
     "start_time": "2024-06-11T03:25:10.416399Z"
    }
   },
   "cell_type": "code",
   "source": "obj3 = pd.Series([\"blue\", \"purple\", \"yellow\"], index=[0, 2, 4])",
   "id": "c3a76ab6358d0481",
   "execution_count": 93,
   "outputs": []
  },
  {
   "metadata": {
    "ExecuteTime": {
     "end_time": "2024-06-11T03:25:12.857903Z",
     "start_time": "2024-06-11T03:25:12.854242Z"
    }
   },
   "cell_type": "code",
   "source": "obj3",
   "id": "ae5e7fedfe202c87",
   "execution_count": 94,
   "outputs": []
  },
  {
   "metadata": {
    "ExecuteTime": {
     "end_time": "2024-06-11T03:28:02.853516Z",
     "start_time": "2024-06-11T03:28:02.820006Z"
    }
   },
   "cell_type": "code",
   "source": "obj3.reindex(np.arange(6), method=\"ffill\")",
   "id": "7babe59745067f04",
   "execution_count": 95,
   "outputs": []
  },
  {
   "metadata": {
    "ExecuteTime": {
     "end_time": "2024-06-11T03:36:22.537266Z",
     "start_time": "2024-06-11T03:36:22.509797Z"
    }
   },
   "cell_type": "code",
   "source": "frame = pd.DataFrame(np.arange(9).reshape((3, 3)), index=[\"a\", \"c\", \"d\"], columns=[\"Ohio\", \"Texas\", \"California\"])",
   "id": "b02900a9ee0fca1",
   "execution_count": 96,
   "outputs": []
  },
  {
   "metadata": {
    "ExecuteTime": {
     "end_time": "2024-06-11T03:36:25.925500Z",
     "start_time": "2024-06-11T03:36:25.921093Z"
    }
   },
   "cell_type": "code",
   "source": "frame",
   "id": "b9e92690d65f49e",
   "execution_count": 97,
   "outputs": []
  },
  {
   "metadata": {
    "ExecuteTime": {
     "end_time": "2024-06-11T03:37:06.776108Z",
     "start_time": "2024-06-11T03:37:06.767540Z"
    }
   },
   "cell_type": "code",
   "source": "frame2 = frame.reindex(index=[\"a\", \"b\", \"c\", \"d\"])",
   "id": "5868bd304e36e595",
   "execution_count": 98,
   "outputs": []
  },
  {
   "metadata": {
    "ExecuteTime": {
     "end_time": "2024-06-11T03:37:10.477020Z",
     "start_time": "2024-06-11T03:37:10.472222Z"
    }
   },
   "cell_type": "code",
   "source": "frame2",
   "id": "bb03db35cafae77e",
   "execution_count": 99,
   "outputs": []
  },
  {
   "metadata": {
    "ExecuteTime": {
     "end_time": "2024-06-11T04:16:12.965682Z",
     "start_time": "2024-06-11T04:16:12.941435Z"
    }
   },
   "cell_type": "code",
   "source": "states = [\"Texas\", \"Utah\", \"California\"]",
   "id": "4590cea21e81560d",
   "execution_count": 100,
   "outputs": []
  },
  {
   "metadata": {
    "ExecuteTime": {
     "end_time": "2024-06-11T04:16:22.795401Z",
     "start_time": "2024-06-11T04:16:22.767737Z"
    }
   },
   "cell_type": "code",
   "source": "frame.reindex(columns=states)",
   "id": "4042d67495bf798c",
   "execution_count": 101,
   "outputs": []
  },
  {
   "metadata": {
    "ExecuteTime": {
     "end_time": "2024-06-11T04:16:52.271854Z",
     "start_time": "2024-06-11T04:16:52.244548Z"
    }
   },
   "cell_type": "code",
   "source": "frame.reindex(states, axis=\"columns\")",
   "id": "8d385527b660b53a",
   "execution_count": 102,
   "outputs": []
  },
  {
   "metadata": {
    "ExecuteTime": {
     "end_time": "2024-06-11T04:18:28.541504Z",
     "start_time": "2024-06-11T04:18:28.525618Z"
    }
   },
   "cell_type": "code",
   "source": "obj = pd.Series(np.arange(5.), index=[\"a\", \"b\", \"c\", \"d\", \"e\"])",
   "id": "32e5ad95ffb8a7cb",
   "execution_count": 103,
   "outputs": []
  },
  {
   "metadata": {
    "ExecuteTime": {
     "end_time": "2024-06-11T04:18:30.507433Z",
     "start_time": "2024-06-11T04:18:30.499305Z"
    }
   },
   "cell_type": "code",
   "source": "obj",
   "id": "8d93fa077b3a3a66",
   "execution_count": 104,
   "outputs": []
  },
  {
   "metadata": {
    "ExecuteTime": {
     "end_time": "2024-06-11T04:18:49.141142Z",
     "start_time": "2024-06-11T04:18:49.131941Z"
    }
   },
   "cell_type": "code",
   "source": "new_obj = obj.drop(\"c\")",
   "id": "6cd86a85f3d0699d",
   "execution_count": 105,
   "outputs": []
  },
  {
   "metadata": {
    "ExecuteTime": {
     "end_time": "2024-06-11T04:18:51.223733Z",
     "start_time": "2024-06-11T04:18:51.219510Z"
    }
   },
   "cell_type": "code",
   "source": "new_obj",
   "id": "372e41683c83a2b",
   "execution_count": 106,
   "outputs": []
  },
  {
   "metadata": {
    "ExecuteTime": {
     "end_time": "2024-06-11T04:19:06.891411Z",
     "start_time": "2024-06-11T04:19:06.880169Z"
    }
   },
   "cell_type": "code",
   "source": "obj.drop([\"d\", \"c\"])",
   "id": "6c586b670a2ab770",
   "execution_count": 107,
   "outputs": []
  },
  {
   "metadata": {
    "ExecuteTime": {
     "end_time": "2024-06-11T04:19:11.087091Z",
     "start_time": "2024-06-11T04:19:11.083731Z"
    }
   },
   "cell_type": "code",
   "source": "obj",
   "id": "a2972482f458b811",
   "execution_count": 108,
   "outputs": []
  },
  {
   "metadata": {
    "ExecuteTime": {
     "end_time": "2024-06-11T04:20:31.174386Z",
     "start_time": "2024-06-11T04:20:31.168010Z"
    }
   },
   "cell_type": "code",
   "source": [
    "data = pd.DataFrame(np.arange(16).reshape((4, 4)),\n",
    "                    index=[\"Ohio\", \"Colorado\", \"Utah\", \"New York\"],\n",
    "                    columns=[\"one\", \"two\", \"three\", \"four\"])"
   ],
   "id": "220192d89891ffe8",
   "execution_count": 109,
   "outputs": []
  },
  {
   "metadata": {
    "ExecuteTime": {
     "end_time": "2024-06-11T04:20:33.824646Z",
     "start_time": "2024-06-11T04:20:33.819351Z"
    }
   },
   "cell_type": "code",
   "source": "data",
   "id": "1d1d4d69e4e25cee",
   "execution_count": 110,
   "outputs": []
  },
  {
   "metadata": {
    "ExecuteTime": {
     "end_time": "2024-06-11T04:21:22.163587Z",
     "start_time": "2024-06-11T04:21:22.152938Z"
    }
   },
   "cell_type": "code",
   "source": "data.drop(index=[\"Colorado\", \"Ohio\"])",
   "id": "3f818724e5a516e8",
   "execution_count": 111,
   "outputs": []
  },
  {
   "metadata": {
    "ExecuteTime": {
     "end_time": "2024-06-11T04:21:41.108883Z",
     "start_time": "2024-06-11T04:21:41.104363Z"
    }
   },
   "cell_type": "code",
   "source": "data",
   "id": "2df42f7dd1e9f173",
   "execution_count": 113,
   "outputs": []
  },
  {
   "metadata": {
    "ExecuteTime": {
     "end_time": "2024-06-11T04:22:01.558139Z",
     "start_time": "2024-06-11T04:22:01.551969Z"
    }
   },
   "cell_type": "code",
   "source": "data.drop(columns=[\"two\"])",
   "id": "6b9db14e8c67aeca",
   "execution_count": 115,
   "outputs": []
  },
  {
   "metadata": {
    "ExecuteTime": {
     "end_time": "2024-06-11T04:22:16.835795Z",
     "start_time": "2024-06-11T04:22:16.822275Z"
    }
   },
   "cell_type": "code",
   "source": "data.drop(\"two\", axis=1)",
   "id": "b24ea76848f7dba9",
   "execution_count": 116,
   "outputs": []
  },
  {
   "metadata": {
    "ExecuteTime": {
     "end_time": "2024-06-11T04:22:48.959351Z",
     "start_time": "2024-06-11T04:22:48.948312Z"
    }
   },
   "cell_type": "code",
   "source": "data.drop([\"two\", \"four\"], axis=\"columns\")",
   "id": "113e2bc9a41f0874",
   "execution_count": 117,
   "outputs": []
  },
  {
   "metadata": {
    "ExecuteTime": {
     "end_time": "2024-06-11T04:23:24.144406Z",
     "start_time": "2024-06-11T04:23:24.137875Z"
    }
   },
   "cell_type": "code",
   "source": "obj = pd.Series(np.arange(4.), index=[\"a\", \"b\", \"c\", \"d\"])",
   "id": "72ad29b689635afd",
   "execution_count": 118,
   "outputs": []
  },
  {
   "metadata": {
    "ExecuteTime": {
     "end_time": "2024-06-11T04:23:25.740196Z",
     "start_time": "2024-06-11T04:23:25.736559Z"
    }
   },
   "cell_type": "code",
   "source": "obj",
   "id": "1416701b4542d651",
   "execution_count": 119,
   "outputs": []
  },
  {
   "metadata": {
    "ExecuteTime": {
     "end_time": "2024-06-11T04:23:35.174551Z",
     "start_time": "2024-06-11T04:23:35.158246Z"
    }
   },
   "cell_type": "code",
   "source": "obj[\"b\"]",
   "id": "94dcc5bee96a0050",
   "execution_count": 120,
   "outputs": []
  },
  {
   "metadata": {
    "ExecuteTime": {
     "end_time": "2024-06-11T04:23:46.347619Z",
     "start_time": "2024-06-11T04:23:46.339889Z"
    }
   },
   "cell_type": "code",
   "source": "obj[1]",
   "id": "7524f8fa9d59ffa3",
   "execution_count": 121,
   "outputs": []
  },
  {
   "metadata": {
    "ExecuteTime": {
     "end_time": "2024-06-11T04:23:58.035230Z",
     "start_time": "2024-06-11T04:23:58.025236Z"
    }
   },
   "cell_type": "code",
   "source": "obj[2:4]",
   "id": "d22ac573caf84dd5",
   "execution_count": 122,
   "outputs": []
  },
  {
   "metadata": {
    "ExecuteTime": {
     "end_time": "2024-06-11T04:24:23.861629Z",
     "start_time": "2024-06-11T04:24:23.850172Z"
    }
   },
   "cell_type": "code",
   "source": "obj[[\"b\", \"a\", \"d\"]]",
   "id": "1418660d7803d6ac",
   "execution_count": 125,
   "outputs": []
  },
  {
   "metadata": {
    "ExecuteTime": {
     "end_time": "2024-06-11T04:24:32.533027Z",
     "start_time": "2024-06-11T04:24:32.522456Z"
    }
   },
   "cell_type": "code",
   "source": "obj[[1, 3]]",
   "id": "e4dd4639bf092a7d",
   "execution_count": 126,
   "outputs": []
  },
  {
   "metadata": {
    "ExecuteTime": {
     "end_time": "2024-06-11T04:24:46.835469Z",
     "start_time": "2024-06-11T04:24:46.825791Z"
    }
   },
   "cell_type": "code",
   "source": "obj[obj < 2]",
   "id": "37474ae9377c9bd5",
   "execution_count": 127,
   "outputs": []
  },
  {
   "metadata": {
    "ExecuteTime": {
     "end_time": "2024-06-11T04:25:42.109783Z",
     "start_time": "2024-06-11T04:25:42.094534Z"
    }
   },
   "cell_type": "code",
   "source": "obj.loc[[\"b\", \"a\", \"d\"]]",
   "id": "86918791da27e5a",
   "execution_count": 128,
   "outputs": []
  },
  {
   "metadata": {
    "ExecuteTime": {
     "end_time": "2024-06-11T04:26:05.233053Z",
     "start_time": "2024-06-11T04:26:05.224703Z"
    }
   },
   "cell_type": "code",
   "source": "obj1 = pd.Series([1, 2, 3], index=[2, 0, 1])",
   "id": "1b15eb273844386b",
   "execution_count": 129,
   "outputs": []
  },
  {
   "metadata": {
    "ExecuteTime": {
     "end_time": "2024-06-11T04:26:33.244040Z",
     "start_time": "2024-06-11T04:26:33.237716Z"
    }
   },
   "cell_type": "code",
   "source": "obj2 = pd.Series([1, 2, 3], index=[\"a\", \"b\", \"c\"])",
   "id": "35b229b1d969bd23",
   "execution_count": 130,
   "outputs": []
  },
  {
   "metadata": {
    "ExecuteTime": {
     "end_time": "2024-06-11T04:26:36.261560Z",
     "start_time": "2024-06-11T04:26:36.258554Z"
    }
   },
   "cell_type": "code",
   "source": "obj1",
   "id": "d2d4df3875f0de9b",
   "execution_count": 131,
   "outputs": []
  },
  {
   "metadata": {
    "ExecuteTime": {
     "end_time": "2024-06-11T04:26:39.071032Z",
     "start_time": "2024-06-11T04:26:39.054144Z"
    }
   },
   "cell_type": "code",
   "source": "obj2",
   "id": "9abd0d20c24f43e6",
   "execution_count": 132,
   "outputs": []
  },
  {
   "metadata": {
    "ExecuteTime": {
     "end_time": "2024-06-11T04:26:55.545348Z",
     "start_time": "2024-06-11T04:26:55.525393Z"
    }
   },
   "cell_type": "code",
   "source": "obj1[[0, 1, 2]]",
   "id": "2f1a62a4369b03aa",
   "execution_count": 133,
   "outputs": []
  },
  {
   "metadata": {
    "ExecuteTime": {
     "end_time": "2024-06-11T04:27:05.263718Z",
     "start_time": "2024-06-11T04:27:05.243184Z"
    }
   },
   "cell_type": "code",
   "source": "obj2[[0, 1, 2]]",
   "id": "8a81191ac09c49ec",
   "execution_count": 134,
   "outputs": []
  },
  {
   "metadata": {
    "ExecuteTime": {
     "end_time": "2024-06-11T04:27:43.390817Z",
     "start_time": "2024-06-11T04:27:43.380132Z"
    }
   },
   "cell_type": "code",
   "source": "obj2.loc[[\"a\", \"b\"]]",
   "id": "871c5e737a4be050",
   "execution_count": 135,
   "outputs": []
  },
  {
   "metadata": {
    "ExecuteTime": {
     "end_time": "2024-06-11T04:28:12.572127Z",
     "start_time": "2024-06-11T04:28:12.564432Z"
    }
   },
   "cell_type": "code",
   "source": "obj1.iloc[[0, 1, 2]]",
   "id": "a4c09c609d08cb1c",
   "execution_count": 136,
   "outputs": []
  },
  {
   "metadata": {
    "ExecuteTime": {
     "end_time": "2024-06-11T04:28:26.166929Z",
     "start_time": "2024-06-11T04:28:26.146609Z"
    }
   },
   "cell_type": "code",
   "source": "obj2.iloc[[0, 1, 2]]",
   "id": "550f20fff8e1e5ac",
   "execution_count": 137,
   "outputs": []
  },
  {
   "metadata": {
    "ExecuteTime": {
     "end_time": "2024-06-11T04:28:49.057975Z",
     "start_time": "2024-06-11T04:28:49.041850Z"
    }
   },
   "cell_type": "code",
   "source": "obj2.loc[\"b\":\"c\"]",
   "id": "2e2f3d187eb9832d",
   "execution_count": 138,
   "outputs": []
  },
  {
   "metadata": {
    "ExecuteTime": {
     "end_time": "2024-06-11T04:29:05.045656Z",
     "start_time": "2024-06-11T04:29:05.026861Z"
    }
   },
   "cell_type": "code",
   "source": "obj2.loc[\"b\":\"c\"] = 5",
   "id": "f87f3bed6baef20",
   "execution_count": 139,
   "outputs": []
  },
  {
   "metadata": {
    "ExecuteTime": {
     "end_time": "2024-06-11T04:29:08.253338Z",
     "start_time": "2024-06-11T04:29:08.249980Z"
    }
   },
   "cell_type": "code",
   "source": "obj2",
   "id": "fb0f212578617c90",
   "execution_count": 140,
   "outputs": []
  },
  {
   "metadata": {
    "ExecuteTime": {
     "end_time": "2024-06-11T04:30:54.345887Z",
     "start_time": "2024-06-11T04:30:54.330682Z"
    }
   },
   "cell_type": "code",
   "source": [
    "data = pd.DataFrame(np.arange(16).reshape((4, 4)),\n",
    "                    index=[\"Ohio\", \"Colorado\", \"Utah\", \"New York\"],\n",
    "                    columns=[\"one\", \"two\", \"three\", \"four\"])"
   ],
   "id": "a978de4f8703bd0d",
   "execution_count": 141,
   "outputs": []
  },
  {
   "metadata": {
    "ExecuteTime": {
     "end_time": "2024-06-11T04:30:55.994179Z",
     "start_time": "2024-06-11T04:30:55.983022Z"
    }
   },
   "cell_type": "code",
   "source": "data",
   "id": "8a4296e1eda94367",
   "execution_count": 142,
   "outputs": []
  },
  {
   "metadata": {
    "ExecuteTime": {
     "end_time": "2024-06-11T04:31:43.219750Z",
     "start_time": "2024-06-11T04:31:43.206302Z"
    }
   },
   "cell_type": "code",
   "source": "data[\"two\"]",
   "id": "4b684f1bfa53524d",
   "execution_count": 143,
   "outputs": []
  },
  {
   "metadata": {
    "ExecuteTime": {
     "end_time": "2024-06-11T04:31:56.488529Z",
     "start_time": "2024-06-11T04:31:56.460767Z"
    }
   },
   "cell_type": "code",
   "source": "data[[\"three\", \"one\"]]",
   "id": "24b5932c3fa75df7",
   "execution_count": 144,
   "outputs": []
  },
  {
   "metadata": {
    "ExecuteTime": {
     "end_time": "2024-06-11T04:32:06.549303Z",
     "start_time": "2024-06-11T04:32:06.527438Z"
    }
   },
   "cell_type": "code",
   "source": "data[:2]",
   "id": "ddef9a573c81c55f",
   "execution_count": 145,
   "outputs": []
  },
  {
   "metadata": {
    "ExecuteTime": {
     "end_time": "2024-06-11T04:32:26.799332Z",
     "start_time": "2024-06-11T04:32:26.781503Z"
    }
   },
   "cell_type": "code",
   "source": "data[data[\"three\"] > 5]",
   "id": "c5d46f6c77b9afce",
   "execution_count": 146,
   "outputs": []
  },
  {
   "metadata": {
    "ExecuteTime": {
     "end_time": "2024-06-11T04:32:52.829057Z",
     "start_time": "2024-06-11T04:32:52.815308Z"
    }
   },
   "cell_type": "code",
   "source": "data",
   "id": "85572568f6bd14a4",
   "execution_count": 147,
   "outputs": []
  },
  {
   "metadata": {
    "ExecuteTime": {
     "end_time": "2024-06-11T04:33:22.091439Z",
     "start_time": "2024-06-11T04:33:22.065489Z"
    }
   },
   "cell_type": "code",
   "source": "data[data[\"two\"] > 10]",
   "id": "bee2b0719c6db9e6",
   "execution_count": 148,
   "outputs": []
  },
  {
   "metadata": {
    "ExecuteTime": {
     "end_time": "2024-06-11T04:37:06.020057Z",
     "start_time": "2024-06-11T04:37:06.000541Z"
    }
   },
   "cell_type": "code",
   "source": "data < 5",
   "id": "faf48316c814d368",
   "execution_count": 149,
   "outputs": []
  },
  {
   "metadata": {
    "ExecuteTime": {
     "end_time": "2024-06-11T04:37:22.666446Z",
     "start_time": "2024-06-11T04:37:22.649019Z"
    }
   },
   "cell_type": "code",
   "source": "data[data < 5] = 0",
   "id": "39c26a31915a2577",
   "execution_count": 150,
   "outputs": []
  },
  {
   "metadata": {
    "ExecuteTime": {
     "end_time": "2024-06-11T04:37:27.216020Z",
     "start_time": "2024-06-11T04:37:27.210613Z"
    }
   },
   "cell_type": "code",
   "source": "data",
   "id": "7c8b6bc944edc9fa",
   "execution_count": 151,
   "outputs": []
  },
  {
   "metadata": {
    "ExecuteTime": {
     "end_time": "2024-06-11T04:37:46.484859Z",
     "start_time": "2024-06-11T04:37:46.476537Z"
    }
   },
   "cell_type": "code",
   "source": "data.loc[\"Colorado\"]",
   "id": "f2a052521294332d",
   "execution_count": 152,
   "outputs": []
  },
  {
   "metadata": {
    "ExecuteTime": {
     "end_time": "2024-06-11T04:38:13.282636Z",
     "start_time": "2024-06-11T04:38:13.270196Z"
    }
   },
   "cell_type": "code",
   "source": "data.loc[\"Colorado\", [\"two\", \"three\"]]",
   "id": "527720fe09f5b2ba",
   "execution_count": 153,
   "outputs": []
  },
  {
   "metadata": {
    "ExecuteTime": {
     "end_time": "2024-06-11T04:38:28.392125Z",
     "start_time": "2024-06-11T04:38:28.383646Z"
    }
   },
   "cell_type": "code",
   "source": "data.iloc[2]",
   "id": "ebf56193f8a11c8e",
   "execution_count": 154,
   "outputs": []
  },
  {
   "metadata": {
    "ExecuteTime": {
     "end_time": "2024-06-11T04:38:50.959919Z",
     "start_time": "2024-06-11T04:38:50.930503Z"
    }
   },
   "cell_type": "code",
   "source": "data.iloc[[2, 1]]",
   "id": "14b41938e315e0e1",
   "execution_count": 155,
   "outputs": []
  },
  {
   "metadata": {
    "ExecuteTime": {
     "end_time": "2024-06-11T04:39:03.855773Z",
     "start_time": "2024-06-11T04:39:03.843939Z"
    }
   },
   "cell_type": "code",
   "source": "data.iloc[2, [3, 0, 1]]",
   "id": "d2f306807ee3dcb3",
   "execution_count": 156,
   "outputs": []
  },
  {
   "metadata": {
    "ExecuteTime": {
     "end_time": "2024-06-11T04:39:35.626208Z",
     "start_time": "2024-06-11T04:39:35.615155Z"
    }
   },
   "cell_type": "code",
   "source": "data.iloc[[1, 2], [3, 0, 1]]",
   "id": "3eadd5c88311b255",
   "execution_count": 157,
   "outputs": []
  },
  {
   "metadata": {
    "ExecuteTime": {
     "end_time": "2024-06-11T04:40:11.947176Z",
     "start_time": "2024-06-11T04:40:11.924525Z"
    }
   },
   "cell_type": "code",
   "source": "data.loc[:\"Utah\", \"two\"]",
   "id": "8e532ceead55907a",
   "execution_count": 158,
   "outputs": []
  },
  {
   "metadata": {
    "ExecuteTime": {
     "end_time": "2024-06-11T04:40:49.085018Z",
     "start_time": "2024-06-11T04:40:49.074144Z"
    }
   },
   "cell_type": "code",
   "source": "data.iloc[:, :3][data.three > 5]",
   "id": "9a9f464ba68d8df5",
   "execution_count": 159,
   "outputs": []
  },
  {
   "metadata": {
    "ExecuteTime": {
     "end_time": "2024-06-11T04:41:26.410527Z",
     "start_time": "2024-06-11T04:41:26.398139Z"
    }
   },
   "cell_type": "code",
   "source": "data.loc[data.three >= 2]",
   "id": "9a8729caa479177a",
   "execution_count": 160,
   "outputs": []
  },
  {
   "metadata": {
    "ExecuteTime": {
     "end_time": "2024-06-11T04:41:36.657855Z",
     "start_time": "2024-06-11T04:41:36.646036Z"
    }
   },
   "cell_type": "code",
   "source": "data",
   "id": "a781577fa590fe0e",
   "execution_count": 161,
   "outputs": []
  },
  {
   "metadata": {
    "ExecuteTime": {
     "end_time": "2024-06-11T04:42:52.471681Z",
     "start_time": "2024-06-11T04:42:52.465767Z"
    }
   },
   "cell_type": "code",
   "source": "ser = pd.Series(np.arange(3.))",
   "id": "c663f008bd78f0c",
   "execution_count": 162,
   "outputs": []
  },
  {
   "metadata": {
    "ExecuteTime": {
     "end_time": "2024-06-11T04:42:53.526215Z",
     "start_time": "2024-06-11T04:42:53.522814Z"
    }
   },
   "cell_type": "code",
   "source": "ser",
   "id": "7f7b1f857508cc15",
   "execution_count": 163,
   "outputs": []
  },
  {
   "metadata": {
    "ExecuteTime": {
     "end_time": "2024-06-11T04:43:13.278716Z",
     "start_time": "2024-06-11T04:43:13.053094Z"
    }
   },
   "cell_type": "code",
   "source": "ser[-1]",
   "id": "f7c656c5b56798e7",
   "execution_count": 164,
   "outputs": []
  },
  {
   "metadata": {
    "ExecuteTime": {
     "end_time": "2024-06-11T04:44:16.528513Z",
     "start_time": "2024-06-11T04:44:16.522270Z"
    }
   },
   "cell_type": "code",
   "source": "ser2 = pd.Series(np.arange(3.), index=[\"a\", \"b\", \"c\"])",
   "id": "cd33b8528535675e",
   "execution_count": 165,
   "outputs": []
  },
  {
   "metadata": {
    "ExecuteTime": {
     "end_time": "2024-06-11T04:44:27.009563Z",
     "start_time": "2024-06-11T04:44:26.990262Z"
    }
   },
   "cell_type": "code",
   "source": "ser2[-1]",
   "id": "14024f8c7e492363",
   "execution_count": 166,
   "outputs": []
  },
  {
   "metadata": {
    "ExecuteTime": {
     "end_time": "2024-06-11T04:44:45.576442Z",
     "start_time": "2024-06-11T04:44:45.569716Z"
    }
   },
   "cell_type": "code",
   "source": "ser2.iloc[-1]",
   "id": "c273bb7cd5c592c0",
   "execution_count": 167,
   "outputs": []
  },
  {
   "metadata": {
    "ExecuteTime": {
     "end_time": "2024-06-11T04:45:22.751240Z",
     "start_time": "2024-06-11T04:45:22.739532Z"
    }
   },
   "cell_type": "code",
   "source": "ser[:2]",
   "id": "234507c8e7563e26",
   "execution_count": 168,
   "outputs": []
  },
  {
   "metadata": {
    "ExecuteTime": {
     "end_time": "2024-06-11T04:45:31.000971Z",
     "start_time": "2024-06-11T04:45:30.990299Z"
    }
   },
   "cell_type": "code",
   "source": "data",
   "id": "7b60590753a593c4",
   "execution_count": 169,
   "outputs": []
  },
  {
   "metadata": {
    "ExecuteTime": {
     "end_time": "2024-06-11T04:45:43.430Z",
     "start_time": "2024-06-11T04:45:43.423299Z"
    }
   },
   "cell_type": "code",
   "source": "data.loc[:, \"one\"] = 1",
   "id": "a638fc2a7a90d086",
   "execution_count": 170,
   "outputs": []
  },
  {
   "metadata": {
    "ExecuteTime": {
     "end_time": "2024-06-11T04:45:47.147111Z",
     "start_time": "2024-06-11T04:45:47.141150Z"
    }
   },
   "cell_type": "code",
   "source": "data",
   "id": "1115ccef2e06a2c2",
   "execution_count": 171,
   "outputs": []
  },
  {
   "metadata": {
    "ExecuteTime": {
     "end_time": "2024-06-11T04:45:57.657827Z",
     "start_time": "2024-06-11T04:45:57.652298Z"
    }
   },
   "cell_type": "code",
   "source": "data.iloc[2] = 5",
   "id": "3a5af3cfcd17642a",
   "execution_count": 172,
   "outputs": []
  },
  {
   "metadata": {
    "ExecuteTime": {
     "end_time": "2024-06-11T04:46:01.814404Z",
     "start_time": "2024-06-11T04:46:01.809818Z"
    }
   },
   "cell_type": "code",
   "source": "data",
   "id": "99abf7557de865d5",
   "execution_count": 173,
   "outputs": []
  },
  {
   "metadata": {
    "ExecuteTime": {
     "end_time": "2024-06-11T04:46:41.763515Z",
     "start_time": "2024-06-11T04:46:41.755189Z"
    }
   },
   "cell_type": "code",
   "source": "data.loc[data[\"four\"] > 5] = 3",
   "id": "2274d83d95301be9",
   "execution_count": 174,
   "outputs": []
  },
  {
   "metadata": {
    "ExecuteTime": {
     "end_time": "2024-06-11T04:46:45.052887Z",
     "start_time": "2024-06-11T04:46:45.048530Z"
    }
   },
   "cell_type": "code",
   "source": "data",
   "id": "c76036819657d182",
   "execution_count": 175,
   "outputs": []
  },
  {
   "metadata": {
    "ExecuteTime": {
     "end_time": "2024-06-11T04:47:36.172271Z",
     "start_time": "2024-06-11T04:47:36.165342Z"
    }
   },
   "cell_type": "code",
   "source": "data.loc[data.three == 5, \"three\"] = 6",
   "id": "7e430a33630933fb",
   "execution_count": 176,
   "outputs": []
  },
  {
   "metadata": {
    "ExecuteTime": {
     "end_time": "2024-06-11T04:47:38.425952Z",
     "start_time": "2024-06-11T04:47:38.420624Z"
    }
   },
   "cell_type": "code",
   "source": "data",
   "id": "e8d99c5f3c97d94",
   "execution_count": 177,
   "outputs": []
  },
  {
   "metadata": {
    "ExecuteTime": {
     "end_time": "2024-06-11T04:48:47.685294Z",
     "start_time": "2024-06-11T04:48:47.677895Z"
    }
   },
   "cell_type": "code",
   "source": "s1 = pd.Series([7.3, -2.5, 3.4, 1.5], index=[\"a\", \"c\", \"d\", \"e\"])",
   "id": "2892510707b44819",
   "execution_count": 178,
   "outputs": []
  },
  {
   "metadata": {
    "ExecuteTime": {
     "end_time": "2024-06-11T04:49:29.641412Z",
     "start_time": "2024-06-11T04:49:29.634191Z"
    }
   },
   "cell_type": "code",
   "source": [
    "s2 = pd.Series([-2.1, 3.6, -1.5, 4, 3.1],\n",
    "               index=[\"a\", \"c\", \"e\", \"f\", \"g\"])"
   ],
   "id": "6fc06da0eb808950",
   "execution_count": 179,
   "outputs": []
  },
  {
   "metadata": {
    "ExecuteTime": {
     "end_time": "2024-06-11T04:49:32.002399Z",
     "start_time": "2024-06-11T04:49:31.996203Z"
    }
   },
   "cell_type": "code",
   "source": "s1",
   "id": "af2fd3dbc6f88445",
   "execution_count": 180,
   "outputs": []
  },
  {
   "metadata": {
    "ExecuteTime": {
     "end_time": "2024-06-11T04:49:34.845181Z",
     "start_time": "2024-06-11T04:49:34.840683Z"
    }
   },
   "cell_type": "code",
   "source": "s2",
   "id": "a16736cd47aa8444",
   "execution_count": 181,
   "outputs": []
  },
  {
   "metadata": {
    "ExecuteTime": {
     "end_time": "2024-06-11T04:49:48.453630Z",
     "start_time": "2024-06-11T04:49:48.413870Z"
    }
   },
   "cell_type": "code",
   "source": "s1 + s2",
   "id": "6b35244bfec374f1",
   "execution_count": 182,
   "outputs": []
  },
  {
   "metadata": {
    "ExecuteTime": {
     "end_time": "2024-06-11T04:50:50.376228Z",
     "start_time": "2024-06-11T04:50:50.367955Z"
    }
   },
   "cell_type": "code",
   "source": [
    "df1 = pd.DataFrame(np.arange(9.).reshape((3, 3)), columns=list(\"bcd\"),\n",
    "                   index=[\"Ohio\", \"Texas\", \"Colorado\"])"
   ],
   "id": "dd18a02d6c9d420e",
   "execution_count": 183,
   "outputs": []
  },
  {
   "metadata": {
    "ExecuteTime": {
     "end_time": "2024-06-11T04:51:51.204881Z",
     "start_time": "2024-06-11T04:51:51.189413Z"
    }
   },
   "cell_type": "code",
   "source": [
    "df2 = pd.DataFrame(np.arange(12.).reshape((4, 3)), columns=list(\"bde\"),\n",
    "                   index=[\"Utah\", \"Ohio\", \"Texas\", \"Oregon\"])"
   ],
   "id": "a82b17ca2b5bcd73",
   "execution_count": 184,
   "outputs": []
  },
  {
   "metadata": {
    "ExecuteTime": {
     "end_time": "2024-06-11T04:51:54.105035Z",
     "start_time": "2024-06-11T04:51:54.099916Z"
    }
   },
   "cell_type": "code",
   "source": "df1",
   "id": "4179abee1c0c1cff",
   "execution_count": 185,
   "outputs": []
  },
  {
   "metadata": {
    "ExecuteTime": {
     "end_time": "2024-06-11T04:51:56.281761Z",
     "start_time": "2024-06-11T04:51:56.275034Z"
    }
   },
   "cell_type": "code",
   "source": "df2",
   "id": "6ad7f06e23f6d80e",
   "execution_count": 186,
   "outputs": []
  },
  {
   "metadata": {
    "ExecuteTime": {
     "end_time": "2024-06-11T04:52:09.719712Z",
     "start_time": "2024-06-11T04:52:09.710376Z"
    }
   },
   "cell_type": "code",
   "source": "df1 + df2",
   "id": "ad99bbb2e9de8a00",
   "execution_count": 187,
   "outputs": []
  },
  {
   "metadata": {
    "ExecuteTime": {
     "end_time": "2024-06-11T04:52:42.443277Z",
     "start_time": "2024-06-11T04:52:42.435653Z"
    }
   },
   "cell_type": "code",
   "source": "df1 = pd.DataFrame({\"A\": [1, 2]})",
   "id": "5eb7e5dee724ed4c",
   "execution_count": 188,
   "outputs": []
  },
  {
   "metadata": {
    "ExecuteTime": {
     "end_time": "2024-06-11T04:53:00.191172Z",
     "start_time": "2024-06-11T04:53:00.184684Z"
    }
   },
   "cell_type": "code",
   "source": "df2 = pd.DataFrame({\"B\": [3, 4]})",
   "id": "47820ee4dc5a7b5c",
   "execution_count": 189,
   "outputs": []
  },
  {
   "metadata": {
    "ExecuteTime": {
     "end_time": "2024-06-11T04:53:02.406541Z",
     "start_time": "2024-06-11T04:53:02.401251Z"
    }
   },
   "cell_type": "code",
   "source": "df1",
   "id": "60b4d1744b675fec",
   "execution_count": 190,
   "outputs": []
  },
  {
   "metadata": {
    "ExecuteTime": {
     "end_time": "2024-06-11T04:53:08.726627Z",
     "start_time": "2024-06-11T04:53:08.716700Z"
    }
   },
   "cell_type": "code",
   "source": "df2",
   "id": "b5831d6f0df7b8d",
   "execution_count": 191,
   "outputs": []
  },
  {
   "metadata": {
    "ExecuteTime": {
     "end_time": "2024-06-11T04:53:18.177124Z",
     "start_time": "2024-06-11T04:53:18.169262Z"
    }
   },
   "cell_type": "code",
   "source": "df1 + df2",
   "id": "98c9e6d74fea3252",
   "execution_count": 192,
   "outputs": []
  },
  {
   "metadata": {
    "ExecuteTime": {
     "end_time": "2024-06-11T04:54:24.045066Z",
     "start_time": "2024-06-11T04:54:24.041823Z"
    }
   },
   "cell_type": "code",
   "source": "df1 = pd.DataFrame(np.arange(12.).reshape((3, 4)), columns=list(\"abcd\"))",
   "id": "a79af3fa6c9661b9",
   "execution_count": 194,
   "outputs": []
  },
  {
   "metadata": {
    "ExecuteTime": {
     "end_time": "2024-06-11T04:54:52.976400Z",
     "start_time": "2024-06-11T04:54:52.963468Z"
    }
   },
   "cell_type": "code",
   "source": "df2 = pd.DataFrame(np.arange(20.).reshape((4, 5)), columns=list(\"abcde\"))",
   "id": "416d7ff27192e090",
   "execution_count": 195,
   "outputs": []
  },
  {
   "metadata": {
    "ExecuteTime": {
     "end_time": "2024-06-11T04:54:56.172936Z",
     "start_time": "2024-06-11T04:54:56.167806Z"
    }
   },
   "cell_type": "code",
   "source": "df1",
   "id": "4ae9102ad5e1292e",
   "execution_count": 196,
   "outputs": []
  },
  {
   "metadata": {
    "ExecuteTime": {
     "end_time": "2024-06-11T04:55:03.316955Z",
     "start_time": "2024-06-11T04:55:03.281313Z"
    }
   },
   "cell_type": "code",
   "source": "df2",
   "id": "6c1a8a6f8700b624",
   "execution_count": 197,
   "outputs": []
  },
  {
   "metadata": {
    "ExecuteTime": {
     "end_time": "2024-06-11T04:55:15.455286Z",
     "start_time": "2024-06-11T04:55:15.436442Z"
    }
   },
   "cell_type": "code",
   "source": "df1 + df2",
   "id": "ff7e5058610f1493",
   "execution_count": 198,
   "outputs": []
  },
  {
   "metadata": {
    "ExecuteTime": {
     "end_time": "2024-06-11T04:56:01.428994Z",
     "start_time": "2024-06-11T04:56:01.423714Z"
    }
   },
   "cell_type": "code",
   "source": "df2.loc[1, \"b\"] = np.nan",
   "id": "dc76efc91c0fd32f",
   "execution_count": 199,
   "outputs": []
  },
  {
   "metadata": {
    "ExecuteTime": {
     "end_time": "2024-06-11T04:56:05.735141Z",
     "start_time": "2024-06-11T04:56:05.730121Z"
    }
   },
   "cell_type": "code",
   "source": "df1",
   "id": "a468032b74cf2caa",
   "execution_count": 200,
   "outputs": []
  },
  {
   "metadata": {
    "ExecuteTime": {
     "end_time": "2024-06-11T04:56:43.143870Z",
     "start_time": "2024-06-11T04:56:43.122657Z"
    }
   },
   "cell_type": "code",
   "source": "df2",
   "id": "873b5078880c7f4a",
   "execution_count": 201,
   "outputs": []
  },
  {
   "metadata": {
    "ExecuteTime": {
     "end_time": "2024-06-11T04:56:48.623386Z",
     "start_time": "2024-06-11T04:56:48.617506Z"
    }
   },
   "cell_type": "code",
   "source": "df1 + df2",
   "id": "71b8794159ac27d7",
   "execution_count": 202,
   "outputs": []
  },
  {
   "metadata": {
    "ExecuteTime": {
     "end_time": "2024-06-11T04:57:10.745015Z",
     "start_time": "2024-06-11T04:57:10.729512Z"
    }
   },
   "cell_type": "code",
   "source": "df1.add(df2, fill_value=0)",
   "id": "e77fd9b1cfd7ab20",
   "execution_count": 203,
   "outputs": []
  },
  {
   "metadata": {
    "ExecuteTime": {
     "end_time": "2024-06-11T04:57:29.017045Z",
     "start_time": "2024-06-11T04:57:29.004442Z"
    }
   },
   "cell_type": "code",
   "source": "1 / df1",
   "id": "624b8ba7d3dbbe93",
   "execution_count": 204,
   "outputs": []
  },
  {
   "metadata": {
    "ExecuteTime": {
     "end_time": "2024-06-11T04:57:42.841191Z",
     "start_time": "2024-06-11T04:57:42.834986Z"
    }
   },
   "cell_type": "code",
   "source": "df1.rdiv(1)",
   "id": "913e115b5913464a",
   "execution_count": 205,
   "outputs": []
  },
  {
   "metadata": {
    "ExecuteTime": {
     "end_time": "2024-06-11T04:58:18.253722Z",
     "start_time": "2024-06-11T04:58:18.242875Z"
    }
   },
   "cell_type": "code",
   "source": "df1.reindex(columns=df2.columns, fill_value=0)",
   "id": "42586ef1c044be47",
   "execution_count": 206,
   "outputs": []
  },
  {
   "metadata": {
    "ExecuteTime": {
     "end_time": "2024-06-11T05:02:10.368784Z",
     "start_time": "2024-06-11T05:02:10.361691Z"
    }
   },
   "cell_type": "code",
   "source": "arr = np.arange(12.).reshape((3, 4))",
   "id": "cbf4fcabac066730",
   "execution_count": 207,
   "outputs": []
  },
  {
   "metadata": {
    "ExecuteTime": {
     "end_time": "2024-06-11T05:02:12.981755Z",
     "start_time": "2024-06-11T05:02:12.978638Z"
    }
   },
   "cell_type": "code",
   "source": "arr",
   "id": "e010fb9b9dee68bf",
   "execution_count": 208,
   "outputs": []
  },
  {
   "metadata": {
    "ExecuteTime": {
     "end_time": "2024-06-11T05:02:28.731416Z",
     "start_time": "2024-06-11T05:02:28.719747Z"
    }
   },
   "cell_type": "code",
   "source": "arr[0]",
   "id": "34c7655d787df197",
   "execution_count": 209,
   "outputs": []
  },
  {
   "metadata": {
    "ExecuteTime": {
     "end_time": "2024-06-11T05:02:36.313961Z",
     "start_time": "2024-06-11T05:02:36.309183Z"
    }
   },
   "cell_type": "code",
   "source": "arr - arr[0]",
   "id": "c0a4fa655ae706e8",
   "execution_count": 210,
   "outputs": []
  },
  {
   "metadata": {
    "ExecuteTime": {
     "end_time": "2024-06-11T05:04:05.393222Z",
     "start_time": "2024-06-11T05:04:05.386964Z"
    }
   },
   "cell_type": "code",
   "source": [
    "frame = pd.DataFrame(np.arange(12.).reshape((4, 3)),\n",
    "                     columns=list(\"bde\"),\n",
    "                     index=[\"Utah\", \"Ohio\", \"Texas\", \"Oregon\"])"
   ],
   "id": "4a08382dd28a188c",
   "execution_count": 211,
   "outputs": []
  },
  {
   "metadata": {
    "ExecuteTime": {
     "end_time": "2024-06-11T05:04:15.850096Z",
     "start_time": "2024-06-11T05:04:15.837186Z"
    }
   },
   "cell_type": "code",
   "source": "series = frame.iloc[0]",
   "id": "6495ee63f82dd877",
   "execution_count": 212,
   "outputs": []
  },
  {
   "metadata": {
    "ExecuteTime": {
     "end_time": "2024-06-11T05:04:19.779625Z",
     "start_time": "2024-06-11T05:04:19.774346Z"
    }
   },
   "cell_type": "code",
   "source": "frame",
   "id": "4a26a64e20023a8b",
   "execution_count": 213,
   "outputs": []
  },
  {
   "metadata": {
    "ExecuteTime": {
     "end_time": "2024-06-11T05:04:39.241588Z",
     "start_time": "2024-06-11T05:04:39.232595Z"
    }
   },
   "cell_type": "code",
   "source": "series",
   "id": "aba4d1cc3730c25e",
   "execution_count": 214,
   "outputs": []
  },
  {
   "metadata": {
    "ExecuteTime": {
     "end_time": "2024-06-11T05:05:08.292642Z",
     "start_time": "2024-06-11T05:05:08.269977Z"
    }
   },
   "cell_type": "code",
   "source": "frame - series",
   "id": "26361ec25a35c8ee",
   "execution_count": 215,
   "outputs": []
  },
  {
   "metadata": {
    "ExecuteTime": {
     "end_time": "2024-06-11T05:05:54.045199Z",
     "start_time": "2024-06-11T05:05:54.038609Z"
    }
   },
   "cell_type": "code",
   "source": "series2 = pd.Series(np.arange(3), index=list(\"bef\"))",
   "id": "f130e1be650e49e4",
   "execution_count": 216,
   "outputs": []
  },
  {
   "metadata": {
    "ExecuteTime": {
     "end_time": "2024-06-11T05:05:58.168987Z",
     "start_time": "2024-06-11T05:05:58.165192Z"
    }
   },
   "cell_type": "code",
   "source": "series2",
   "id": "1c903317107b5beb",
   "execution_count": 217,
   "outputs": []
  },
  {
   "metadata": {
    "ExecuteTime": {
     "end_time": "2024-06-11T05:06:17.653784Z",
     "start_time": "2024-06-11T05:06:17.639217Z"
    }
   },
   "cell_type": "code",
   "source": "frame + series2",
   "id": "fab96afe8d158e9e",
   "execution_count": 218,
   "outputs": []
  },
  {
   "metadata": {
    "ExecuteTime": {
     "end_time": "2024-06-11T05:06:43.789497Z",
     "start_time": "2024-06-11T05:06:43.774782Z"
    }
   },
   "cell_type": "code",
   "source": "series3 = frame[\"d\"]",
   "id": "74a6782007ead84f",
   "execution_count": 219,
   "outputs": []
  },
  {
   "metadata": {
    "ExecuteTime": {
     "end_time": "2024-06-11T05:06:47.708419Z",
     "start_time": "2024-06-11T05:06:47.700860Z"
    }
   },
   "cell_type": "code",
   "source": "frame",
   "id": "27c32b256f4d6d7b",
   "execution_count": 220,
   "outputs": []
  },
  {
   "metadata": {
    "ExecuteTime": {
     "end_time": "2024-06-11T05:07:07.267815Z",
     "start_time": "2024-06-11T05:07:07.253595Z"
    }
   },
   "cell_type": "code",
   "source": "series3",
   "id": "d7acab1359638792",
   "execution_count": 221,
   "outputs": []
  },
  {
   "metadata": {
    "ExecuteTime": {
     "end_time": "2024-06-11T05:07:25.408199Z",
     "start_time": "2024-06-11T05:07:25.396333Z"
    }
   },
   "cell_type": "code",
   "source": "frame.sub(series3, axis=\"index\")",
   "id": "6d27a4d944d3ab20",
   "execution_count": 222,
   "outputs": []
  },
  {
   "metadata": {
    "ExecuteTime": {
     "end_time": "2024-06-11T05:08:32.469558Z",
     "start_time": "2024-06-11T05:08:32.459701Z"
    }
   },
   "cell_type": "code",
   "source": [
    "frame = pd.DataFrame(np.random.standard_normal((4, 3)),\n",
    "                     columns=list(\"bde\"),\n",
    "                     index=[\"Utah\", \"Ohio\", \"Texas\", \"Oregon\"])"
   ],
   "id": "d65fd6ac010e27b3",
   "execution_count": 223,
   "outputs": []
  },
  {
   "metadata": {
    "ExecuteTime": {
     "end_time": "2024-06-11T05:08:38.079091Z",
     "start_time": "2024-06-11T05:08:38.068603Z"
    }
   },
   "cell_type": "code",
   "source": "frame",
   "id": "ca97d12b722131a8",
   "execution_count": 224,
   "outputs": []
  },
  {
   "metadata": {
    "ExecuteTime": {
     "end_time": "2024-06-11T05:09:05.840120Z",
     "start_time": "2024-06-11T05:09:05.826943Z"
    }
   },
   "cell_type": "code",
   "source": "np.abs(frame)",
   "id": "b08de635ec813954",
   "execution_count": 225,
   "outputs": []
  },
  {
   "metadata": {
    "ExecuteTime": {
     "end_time": "2024-06-11T05:09:45.098999Z",
     "start_time": "2024-06-11T05:09:45.094421Z"
    }
   },
   "cell_type": "code",
   "source": [
    "def f1(x):\n",
    "    return x.max() - x.min()"
   ],
   "id": "4f541d1b9857755d",
   "execution_count": 226,
   "outputs": []
  },
  {
   "metadata": {
    "ExecuteTime": {
     "end_time": "2024-06-11T05:09:59.586726Z",
     "start_time": "2024-06-11T05:09:59.554550Z"
    }
   },
   "cell_type": "code",
   "source": "frame.apply(f1)",
   "id": "e2d2ab44b8aafc45",
   "execution_count": 227,
   "outputs": []
  },
  {
   "metadata": {
    "ExecuteTime": {
     "end_time": "2024-06-11T05:10:34.874564Z",
     "start_time": "2024-06-11T05:10:34.849065Z"
    }
   },
   "cell_type": "code",
   "source": "frame.apply(f1, axis=\"columns\")",
   "id": "9cf6f0efbcd9700f",
   "execution_count": 228,
   "outputs": []
  },
  {
   "metadata": {
    "ExecuteTime": {
     "end_time": "2024-06-11T05:17:07.025326Z",
     "start_time": "2024-06-11T05:17:07.020208Z"
    }
   },
   "cell_type": "code",
   "source": [
    "def f2(x):\n",
    "    return pd.Series([x.min(), x.max()], index=[\"min\", \"max\"])"
   ],
   "id": "1c1db376491aa9ef",
   "execution_count": 229,
   "outputs": []
  },
  {
   "metadata": {
    "ExecuteTime": {
     "end_time": "2024-06-11T05:17:14.206099Z",
     "start_time": "2024-06-11T05:17:14.192917Z"
    }
   },
   "cell_type": "code",
   "source": "frame.apply(f2)",
   "id": "ed394f86968d6f9d",
   "execution_count": 230,
   "outputs": []
  },
  {
   "metadata": {
    "ExecuteTime": {
     "end_time": "2024-06-11T05:18:38.481228Z",
     "start_time": "2024-06-11T05:18:38.468656Z"
    }
   },
   "cell_type": "code",
   "source": "frame",
   "id": "6956175b81e4bef7",
   "execution_count": 231,
   "outputs": []
  },
  {
   "metadata": {
    "ExecuteTime": {
     "end_time": "2024-06-11T05:20:13.940552Z",
     "start_time": "2024-06-11T05:20:13.935739Z"
    }
   },
   "cell_type": "code",
   "source": [
    "def my_format(x):\n",
    "    return f\"{x:.2f}\""
   ],
   "id": "930cf3bd9843f68e",
   "execution_count": 232,
   "outputs": []
  },
  {
   "metadata": {
    "ExecuteTime": {
     "end_time": "2024-06-11T05:20:29.577657Z",
     "start_time": "2024-06-11T05:20:29.572398Z"
    }
   },
   "cell_type": "code",
   "source": "frame.applymap(my_format)",
   "id": "d808fef4e4c5944b",
   "execution_count": 234,
   "outputs": []
  },
  {
   "metadata": {
    "ExecuteTime": {
     "end_time": "2024-06-11T05:20:48.528296Z",
     "start_time": "2024-06-11T05:20:48.515869Z"
    }
   },
   "cell_type": "code",
   "source": "frame.map(my_format)",
   "id": "5c5c3b6cc73c44b2",
   "execution_count": 235,
   "outputs": []
  },
  {
   "metadata": {
    "ExecuteTime": {
     "end_time": "2024-06-11T05:21:19.502818Z",
     "start_time": "2024-06-11T05:21:19.494397Z"
    }
   },
   "cell_type": "code",
   "source": "frame[\"e\"].map(my_format)",
   "id": "4edeab29b876bc4e",
   "execution_count": 236,
   "outputs": []
  },
  {
   "metadata": {
    "ExecuteTime": {
     "end_time": "2024-06-11T05:21:56.330210Z",
     "start_time": "2024-06-11T05:21:56.324316Z"
    }
   },
   "cell_type": "code",
   "source": "obj = pd.Series(np.arange(4), index=[\"d\", \"a\", \"b\", \"c\"])",
   "id": "3cb6a76e4199faf6",
   "execution_count": 237,
   "outputs": []
  },
  {
   "metadata": {
    "ExecuteTime": {
     "end_time": "2024-06-11T05:21:58.348221Z",
     "start_time": "2024-06-11T05:21:58.343180Z"
    }
   },
   "cell_type": "code",
   "source": "obj",
   "id": "6981adc23a1fc7fa",
   "execution_count": 238,
   "outputs": []
  },
  {
   "metadata": {
    "ExecuteTime": {
     "end_time": "2024-06-11T05:22:09.011523Z",
     "start_time": "2024-06-11T05:22:09.001391Z"
    }
   },
   "cell_type": "code",
   "source": "obj.sort_index()",
   "id": "b13043f7764e9a11",
   "execution_count": 239,
   "outputs": []
  },
  {
   "metadata": {
    "ExecuteTime": {
     "end_time": "2024-06-11T05:25:55.602444Z",
     "start_time": "2024-06-11T05:25:55.595934Z"
    }
   },
   "cell_type": "code",
   "source": [
    "frame = pd.DataFrame(np.arange(8).reshape((2, 4)),\n",
    "                     index=[\"three\", \"one\"],\n",
    "                     columns=[\"d\", \"a\", \"b\", \"c\"])"
   ],
   "id": "5ecc7bde614c9f76",
   "execution_count": 240,
   "outputs": []
  },
  {
   "metadata": {
    "ExecuteTime": {
     "end_time": "2024-06-11T05:25:58.480239Z",
     "start_time": "2024-06-11T05:25:58.474986Z"
    }
   },
   "cell_type": "code",
   "source": "frame",
   "id": "80e0e218b896a112",
   "execution_count": 241,
   "outputs": []
  },
  {
   "metadata": {
    "ExecuteTime": {
     "end_time": "2024-06-11T05:26:46.581442Z",
     "start_time": "2024-06-11T05:26:46.562172Z"
    }
   },
   "cell_type": "code",
   "source": "frame.sort_index()",
   "id": "6b15fcb3958d7515",
   "execution_count": 242,
   "outputs": []
  },
  {
   "metadata": {
    "ExecuteTime": {
     "end_time": "2024-06-11T05:27:37.660888Z",
     "start_time": "2024-06-11T05:27:37.648363Z"
    }
   },
   "cell_type": "code",
   "source": "frame.sort_values(by=\"d\")",
   "id": "231b375d97f73870",
   "execution_count": 244,
   "outputs": []
  },
  {
   "metadata": {
    "ExecuteTime": {
     "end_time": "2024-06-11T05:28:22.282561Z",
     "start_time": "2024-06-11T05:28:22.259236Z"
    }
   },
   "cell_type": "code",
   "source": "frame.sort_index(axis=\"columns\")",
   "id": "ccdeec70d013ab31",
   "execution_count": 245,
   "outputs": []
  },
  {
   "metadata": {
    "ExecuteTime": {
     "end_time": "2024-06-11T05:28:46.688882Z",
     "start_time": "2024-06-11T05:28:46.675890Z"
    }
   },
   "cell_type": "code",
   "source": "frame.sort_index(axis=\"columns\", ascending=False)",
   "id": "956d7169c1db218d",
   "execution_count": 246,
   "outputs": []
  },
  {
   "metadata": {
    "ExecuteTime": {
     "end_time": "2024-06-11T05:29:20.402691Z",
     "start_time": "2024-06-11T05:29:20.396112Z"
    }
   },
   "cell_type": "code",
   "source": "obj = pd.Series([4, 7, -3, 2])",
   "id": "e45cce706558c1dc",
   "execution_count": 247,
   "outputs": []
  },
  {
   "metadata": {
    "ExecuteTime": {
     "end_time": "2024-06-11T05:29:29.188143Z",
     "start_time": "2024-06-11T05:29:29.178970Z"
    }
   },
   "cell_type": "code",
   "source": "obj.sort_values()",
   "id": "62ff66a230555d1f",
   "execution_count": 248,
   "outputs": []
  },
  {
   "metadata": {
    "ExecuteTime": {
     "end_time": "2024-06-11T05:29:51.330332Z",
     "start_time": "2024-06-11T05:29:51.308907Z"
    }
   },
   "cell_type": "code",
   "source": "obj.sort_values(ascending=False)",
   "id": "38b4a2ea3fff3bc4",
   "execution_count": 249,
   "outputs": []
  },
  {
   "metadata": {
    "ExecuteTime": {
     "end_time": "2024-06-11T05:30:52.237055Z",
     "start_time": "2024-06-11T05:30:52.227442Z"
    }
   },
   "cell_type": "code",
   "source": "obj = pd.Series([4, np.nan, 7, np.nan, -3, 2])",
   "id": "95c274f005b70a08",
   "execution_count": 250,
   "outputs": []
  },
  {
   "metadata": {
    "ExecuteTime": {
     "end_time": "2024-06-11T05:31:06.504528Z",
     "start_time": "2024-06-11T05:31:06.496388Z"
    }
   },
   "cell_type": "code",
   "source": "obj.sort_values()",
   "id": "1344eb233a884d0f",
   "execution_count": 251,
   "outputs": []
  },
  {
   "metadata": {
    "ExecuteTime": {
     "end_time": "2024-06-11T05:31:25.841495Z",
     "start_time": "2024-06-11T05:31:25.819058Z"
    }
   },
   "cell_type": "code",
   "source": "obj.sort_values(na_position=\"first\")",
   "id": "c9f00061cc9abfba",
   "execution_count": 252,
   "outputs": []
  },
  {
   "metadata": {
    "ExecuteTime": {
     "end_time": "2024-06-11T05:32:04.551045Z",
     "start_time": "2024-06-11T05:32:04.544374Z"
    }
   },
   "cell_type": "code",
   "source": "frame = pd.DataFrame({\"b\": [4, 7, -3, 2], \"a\": [0, 1, 0, 1]})",
   "id": "100f2418100f7115",
   "execution_count": 253,
   "outputs": []
  },
  {
   "metadata": {
    "ExecuteTime": {
     "end_time": "2024-06-11T05:32:06.269896Z",
     "start_time": "2024-06-11T05:32:06.265978Z"
    }
   },
   "cell_type": "code",
   "source": "frame",
   "id": "aa29aa1c69eab420",
   "execution_count": 254,
   "outputs": []
  },
  {
   "metadata": {
    "ExecuteTime": {
     "end_time": "2024-06-11T05:32:25.752464Z",
     "start_time": "2024-06-11T05:32:25.732238Z"
    }
   },
   "cell_type": "code",
   "source": "frame.sort_values(\"b\")",
   "id": "242045c67bb962c7",
   "execution_count": 255,
   "outputs": []
  },
  {
   "metadata": {
    "ExecuteTime": {
     "end_time": "2024-06-11T05:32:59.517646Z",
     "start_time": "2024-06-11T05:32:59.510811Z"
    }
   },
   "cell_type": "code",
   "source": "obj = pd.Series([7, -5, 7, 4, 2, 0, 4])",
   "id": "889409e88930599f",
   "execution_count": 256,
   "outputs": []
  },
  {
   "metadata": {
    "ExecuteTime": {
     "end_time": "2024-06-11T05:33:06.941925Z",
     "start_time": "2024-06-11T05:33:06.924189Z"
    }
   },
   "cell_type": "code",
   "source": "obj.rank()",
   "id": "7c8117102374c6a",
   "execution_count": 257,
   "outputs": []
  },
  {
   "metadata": {
    "ExecuteTime": {
     "end_time": "2024-06-11T05:33:53.334056Z",
     "start_time": "2024-06-11T05:33:53.323987Z"
    }
   },
   "cell_type": "code",
   "source": "obj.rank(method=\"first\")",
   "id": "867ccf5e0d6508a3",
   "execution_count": 258,
   "outputs": []
  },
  {
   "metadata": {
    "ExecuteTime": {
     "end_time": "2024-06-11T05:34:07.165335Z",
     "start_time": "2024-06-11T05:34:07.154014Z"
    }
   },
   "cell_type": "code",
   "source": "obj.rank(ascending=False)",
   "id": "d9e10e92e22fbc98",
   "execution_count": 259,
   "outputs": []
  },
  {
   "metadata": {
    "ExecuteTime": {
     "end_time": "2024-06-11T05:36:28.205679Z",
     "start_time": "2024-06-11T05:36:28.199311Z"
    }
   },
   "cell_type": "code",
   "source": "frame = pd.DataFrame({\"b\": [4.3, 7, -3, 2], \"a\": [0, 1, 0, 1], \"c\": [-2, 5, 8, -2.5]})",
   "id": "44cfe71dc5eb16f0",
   "execution_count": 3,
   "outputs": []
  },
  {
   "metadata": {
    "ExecuteTime": {
     "end_time": "2024-06-11T05:36:30.166470Z",
     "start_time": "2024-06-11T05:36:30.159249Z"
    }
   },
   "cell_type": "code",
   "source": "frame",
   "id": "c23dbe3b3452c1c7",
   "execution_count": 4,
   "outputs": []
  },
  {
   "metadata": {
    "ExecuteTime": {
     "end_time": "2024-06-11T05:36:53.508986Z",
     "start_time": "2024-06-11T05:36:53.491647Z"
    }
   },
   "cell_type": "code",
   "source": "frame.rank(axis=\"columns\")",
   "id": "44b60cc50e3b4512",
   "execution_count": 5,
   "outputs": []
  },
  {
   "metadata": {
    "ExecuteTime": {
     "end_time": "2024-06-11T05:38:01.854360Z",
     "start_time": "2024-06-11T05:38:01.848541Z"
    }
   },
   "cell_type": "code",
   "source": "obj = pd.Series(np.arange(5), index=[\"a\", \"a\", \"b\", \"b\", \"c\"])",
   "id": "b5477d69bac5de31",
   "execution_count": 6,
   "outputs": []
  },
  {
   "metadata": {
    "ExecuteTime": {
     "end_time": "2024-06-11T05:38:03.789911Z",
     "start_time": "2024-06-11T05:38:03.783972Z"
    }
   },
   "cell_type": "code",
   "source": "obj",
   "id": "b226390d9e5b9f70",
   "execution_count": 7,
   "outputs": []
  },
  {
   "metadata": {
    "ExecuteTime": {
     "end_time": "2024-06-11T05:38:26.708806Z",
     "start_time": "2024-06-11T05:38:26.703250Z"
    }
   },
   "cell_type": "code",
   "source": "obj.index.is_unique",
   "id": "cbaf74faedc82c91",
   "execution_count": 8,
   "outputs": []
  },
  {
   "metadata": {
    "ExecuteTime": {
     "end_time": "2024-06-11T05:38:34.458232Z",
     "start_time": "2024-06-11T05:38:34.453794Z"
    }
   },
   "cell_type": "code",
   "source": "obj[\"a\"]",
   "id": "8aabbfdbafb45f7f",
   "execution_count": 9,
   "outputs": []
  },
  {
   "metadata": {
    "ExecuteTime": {
     "end_time": "2024-06-11T05:38:42.754191Z",
     "start_time": "2024-06-11T05:38:42.748753Z"
    }
   },
   "cell_type": "code",
   "source": "obj[\"c\"]",
   "id": "68654cfb01457ea8",
   "execution_count": 10,
   "outputs": []
  },
  {
   "metadata": {
    "ExecuteTime": {
     "end_time": "2024-06-11T05:46:16.955061Z",
     "start_time": "2024-06-11T05:46:16.941734Z"
    }
   },
   "cell_type": "code",
   "source": [
    "df = pd.DataFrame(np.random.standard_normal((5, 3)),\n",
    "                  index=[\"a\", \"a\", \"b\", \"b\", \"c\"])"
   ],
   "id": "9d01d092e1490d38",
   "execution_count": 11,
   "outputs": []
  },
  {
   "metadata": {
    "ExecuteTime": {
     "end_time": "2024-06-11T05:46:18.046522Z",
     "start_time": "2024-06-11T05:46:18.042082Z"
    }
   },
   "cell_type": "code",
   "source": "df",
   "id": "9cc22fabaa16116e",
   "execution_count": 12,
   "outputs": []
  },
  {
   "metadata": {
    "ExecuteTime": {
     "end_time": "2024-06-11T05:46:46.034167Z",
     "start_time": "2024-06-11T05:46:46.026298Z"
    }
   },
   "cell_type": "code",
   "source": "df.loc[\"b\"]",
   "id": "4b4e3eeda419249a",
   "execution_count": 13,
   "outputs": []
  },
  {
   "metadata": {
    "ExecuteTime": {
     "end_time": "2024-06-11T05:46:58.163270Z",
     "start_time": "2024-06-11T05:46:58.156443Z"
    }
   },
   "cell_type": "code",
   "source": "df.loc[\"c\"]",
   "id": "20fbc9a6be28b09d",
   "execution_count": 14,
   "outputs": []
  },
  {
   "metadata": {
    "ExecuteTime": {
     "end_time": "2024-06-11T05:49:02.386521Z",
     "start_time": "2024-06-11T05:49:02.379971Z"
    }
   },
   "cell_type": "code",
   "source": [
    "df = pd.DataFrame([[1.4, np.nan], [7.1, -4.5], [np.nan, np.nan], [0.75, -1.3]],\n",
    "                  index=[\"a\", \"b\", \"c\", \"d\"],\n",
    "                  columns=[\"one\", \"two\"])"
   ],
   "id": "956142e64a95759e",
   "execution_count": 15,
   "outputs": []
  },
  {
   "metadata": {
    "ExecuteTime": {
     "end_time": "2024-06-11T05:49:07.717893Z",
     "start_time": "2024-06-11T05:49:07.712005Z"
    }
   },
   "cell_type": "code",
   "source": "df",
   "id": "1f494037f9ae56d",
   "execution_count": 16,
   "outputs": []
  },
  {
   "metadata": {
    "ExecuteTime": {
     "end_time": "2024-06-11T05:50:15.839863Z",
     "start_time": "2024-06-11T05:50:15.832282Z"
    }
   },
   "cell_type": "code",
   "source": "df.sum()",
   "id": "9a3a448ac124d839",
   "execution_count": 17,
   "outputs": []
  },
  {
   "metadata": {
    "ExecuteTime": {
     "end_time": "2024-06-11T05:50:39.110651Z",
     "start_time": "2024-06-11T05:50:39.093618Z"
    }
   },
   "cell_type": "code",
   "source": "df.sum(axis=\"columns\")",
   "id": "d759df19c31aa38a",
   "execution_count": 18,
   "outputs": []
  },
  {
   "metadata": {
    "ExecuteTime": {
     "end_time": "2024-06-11T05:51:10.205111Z",
     "start_time": "2024-06-11T05:51:10.197202Z"
    }
   },
   "cell_type": "code",
   "source": "df.sum(axis=\"index\", skipna=False)",
   "id": "a6825cafdb454b54",
   "execution_count": 19,
   "outputs": []
  },
  {
   "metadata": {
    "ExecuteTime": {
     "end_time": "2024-06-11T05:52:33.127413Z",
     "start_time": "2024-06-11T05:52:33.116772Z"
    }
   },
   "cell_type": "code",
   "source": "df.mean(axis=\"columns\")",
   "id": "5fc36d423dcdc44a",
   "execution_count": 20,
   "outputs": []
  },
  {
   "metadata": {
    "ExecuteTime": {
     "end_time": "2024-06-11T05:54:11.441758Z",
     "start_time": "2024-06-11T05:54:11.432857Z"
    }
   },
   "cell_type": "code",
   "source": "df.idxmax()",
   "id": "f0a57ae3a48886e7",
   "execution_count": 22,
   "outputs": []
  },
  {
   "metadata": {
    "ExecuteTime": {
     "end_time": "2024-06-11T09:16:36.599202Z",
     "start_time": "2024-06-11T09:16:36.517527Z"
    }
   },
   "cell_type": "code",
   "source": "df.cumsum()",
   "id": "25cd643050102043",
   "execution_count": 23,
   "outputs": []
  },
  {
   "metadata": {
    "ExecuteTime": {
     "end_time": "2024-06-11T09:16:45.287104Z",
     "start_time": "2024-06-11T09:16:45.268243Z"
    }
   },
   "cell_type": "code",
   "source": "df.describe()",
   "id": "bc12be4deebeecc3",
   "execution_count": 24,
   "outputs": []
  },
  {
   "metadata": {
    "ExecuteTime": {
     "end_time": "2024-06-11T09:17:17.429601Z",
     "start_time": "2024-06-11T09:17:17.414205Z"
    }
   },
   "cell_type": "code",
   "source": "obj = pd.Series([\"a\", \"a\", \"b\", \"c\"] * 4)",
   "id": "9811357c32fd3c2c",
   "execution_count": 25,
   "outputs": []
  },
  {
   "metadata": {
    "ExecuteTime": {
     "end_time": "2024-06-11T09:17:22.304134Z",
     "start_time": "2024-06-11T09:17:22.289870Z"
    }
   },
   "cell_type": "code",
   "source": "obj.describe()",
   "id": "d8460b10601f8356",
   "execution_count": 26,
   "outputs": []
  },
  {
   "metadata": {
    "ExecuteTime": {
     "end_time": "2024-06-11T09:19:23.100449Z",
     "start_time": "2024-06-11T09:19:23.062352Z"
    }
   },
   "cell_type": "code",
   "source": "price = pd.read_pickle(\"examples/yahoo_price.pkl\")",
   "id": "85742ffb97fadbd3",
   "execution_count": 27,
   "outputs": []
  },
  {
   "metadata": {
    "ExecuteTime": {
     "end_time": "2024-06-11T09:19:44.458082Z",
     "start_time": "2024-06-11T09:19:44.449873Z"
    }
   },
   "cell_type": "code",
   "source": "volume = pd.read_pickle(\"examples/yahoo_volume.pkl\")",
   "id": "bfa5c22029f09c6f",
   "execution_count": 28,
   "outputs": []
  },
  {
   "metadata": {
    "ExecuteTime": {
     "end_time": "2024-06-11T09:20:03.112978Z",
     "start_time": "2024-06-11T09:20:03.098473Z"
    }
   },
   "cell_type": "code",
   "source": "returns = price.pct_change()",
   "id": "8337d701d549ae29",
   "execution_count": 29,
   "outputs": []
  },
  {
   "metadata": {
    "ExecuteTime": {
     "end_time": "2024-06-11T09:20:10.202876Z",
     "start_time": "2024-06-11T09:20:10.191240Z"
    }
   },
   "cell_type": "code",
   "source": "returns.tail()",
   "id": "c95e48b3b3de6ad1",
   "execution_count": 30,
   "outputs": []
  },
  {
   "metadata": {
    "ExecuteTime": {
     "end_time": "2024-06-11T09:21:02.528033Z",
     "start_time": "2024-06-11T09:21:02.514100Z"
    }
   },
   "cell_type": "code",
   "source": "returns[\"MSFT\"].corr(returns[\"IBM\"])",
   "id": "2a005f601384e2e2",
   "execution_count": 31,
   "outputs": []
  },
  {
   "metadata": {
    "ExecuteTime": {
     "end_time": "2024-06-11T09:21:58.189942Z",
     "start_time": "2024-06-11T09:21:58.181228Z"
    }
   },
   "cell_type": "code",
   "source": "returns[\"MSFT\"].cov(returns[\"IBM\"])",
   "id": "501fa8e41213293f",
   "execution_count": 32,
   "outputs": []
  },
  {
   "metadata": {
    "ExecuteTime": {
     "end_time": "2024-06-11T09:22:23.340848Z",
     "start_time": "2024-06-11T09:22:23.331472Z"
    }
   },
   "cell_type": "code",
   "source": "returns[\"MSFT\"].corr(returns[\"IBM\"])",
   "id": "c17a80394a366ab4",
   "execution_count": 33,
   "outputs": []
  },
  {
   "metadata": {
    "ExecuteTime": {
     "end_time": "2024-06-11T09:22:35.069750Z",
     "start_time": "2024-06-11T09:22:35.058825Z"
    }
   },
   "cell_type": "code",
   "source": "returns.corr()",
   "id": "762bd84c71e63f1b",
   "execution_count": 34,
   "outputs": []
  },
  {
   "metadata": {
    "ExecuteTime": {
     "end_time": "2024-06-11T09:22:51.646304Z",
     "start_time": "2024-06-11T09:22:51.636829Z"
    }
   },
   "cell_type": "code",
   "source": "returns.cov()",
   "id": "367fa469cbfc36c4",
   "execution_count": 35,
   "outputs": []
  },
  {
   "metadata": {
    "ExecuteTime": {
     "end_time": "2024-06-11T09:23:15.192750Z",
     "start_time": "2024-06-11T09:23:15.174398Z"
    }
   },
   "cell_type": "code",
   "source": "returns.corrwith(returns[\"IBM\"])",
   "id": "cd63e3458aaa863",
   "execution_count": 36,
   "outputs": []
  },
  {
   "metadata": {
    "ExecuteTime": {
     "end_time": "2024-06-11T09:24:38.757991Z",
     "start_time": "2024-06-11T09:24:38.710494Z"
    }
   },
   "cell_type": "code",
   "source": "returns.corrwith(volume)",
   "id": "8b40e7471975426",
   "execution_count": 37,
   "outputs": []
  },
  {
   "metadata": {
    "ExecuteTime": {
     "end_time": "2024-06-12T07:18:13.163173Z",
     "start_time": "2024-06-12T07:18:13.159435Z"
    }
   },
   "cell_type": "code",
   "source": "obj = pd.Series([\"c\", \"a\", \"d\", \"a\", \"a\", \"b\", \"b\", \"c\", \"c\"])",
   "id": "8b782b8676331928",
   "execution_count": 41,
   "outputs": []
  },
  {
   "metadata": {
    "ExecuteTime": {
     "end_time": "2024-06-12T07:18:27.593997Z",
     "start_time": "2024-06-12T07:18:27.588005Z"
    }
   },
   "cell_type": "code",
   "source": "uniques = obj.unique()",
   "id": "1e3574bf345d01d9",
   "execution_count": 42,
   "outputs": []
  },
  {
   "metadata": {
    "ExecuteTime": {
     "end_time": "2024-06-12T07:18:31.266447Z",
     "start_time": "2024-06-12T07:18:31.259879Z"
    }
   },
   "cell_type": "code",
   "source": "uniques",
   "id": "60c4c16036b43f91",
   "execution_count": 43,
   "outputs": []
  },
  {
   "metadata": {
    "ExecuteTime": {
     "end_time": "2024-06-12T07:20:26.503003Z",
     "start_time": "2024-06-12T07:20:26.493245Z"
    }
   },
   "cell_type": "code",
   "source": "obj.value_counts()",
   "id": "82dd243f817b9753",
   "execution_count": 44,
   "outputs": []
  },
  {
   "metadata": {
    "ExecuteTime": {
     "end_time": "2024-06-12T07:20:51.636922Z",
     "start_time": "2024-06-12T07:20:51.628833Z"
    }
   },
   "cell_type": "code",
   "source": "pd.value_counts(obj.to_numpy(), sort=False)",
   "id": "a5e33288ed013135",
   "execution_count": 45,
   "outputs": []
  },
  {
   "metadata": {
    "ExecuteTime": {
     "end_time": "2024-06-12T07:21:24.260407Z",
     "start_time": "2024-06-12T07:21:24.256363Z"
    }
   },
   "cell_type": "code",
   "source": "pd.Series(obj).value_counts()",
   "id": "cb6fe714bd795c8a",
   "execution_count": 46,
   "outputs": []
  },
  {
   "metadata": {
    "ExecuteTime": {
     "end_time": "2024-06-12T07:21:35.174839Z",
     "start_time": "2024-06-12T07:21:35.170338Z"
    }
   },
   "cell_type": "code",
   "source": "obj",
   "id": "4fc18e42787a1baa",
   "execution_count": 47,
   "outputs": []
  },
  {
   "metadata": {
    "ExecuteTime": {
     "end_time": "2024-06-12T07:22:06.967628Z",
     "start_time": "2024-06-12T07:22:06.962612Z"
    }
   },
   "cell_type": "code",
   "source": "mask = obj.isin([\"b\", \"c\"])",
   "id": "7068f31a8fa54e1d",
   "execution_count": 48,
   "outputs": []
  },
  {
   "metadata": {
    "ExecuteTime": {
     "end_time": "2024-06-12T07:22:09.350386Z",
     "start_time": "2024-06-12T07:22:09.345580Z"
    }
   },
   "cell_type": "code",
   "source": "mask",
   "id": "90350e203b7426b0",
   "execution_count": 49,
   "outputs": []
  },
  {
   "metadata": {
    "ExecuteTime": {
     "end_time": "2024-06-12T07:22:23.957174Z",
     "start_time": "2024-06-12T07:22:23.952965Z"
    }
   },
   "cell_type": "code",
   "source": "obj[mask]",
   "id": "b88d379455672bd1",
   "execution_count": 50,
   "outputs": []
  },
  {
   "metadata": {
    "ExecuteTime": {
     "end_time": "2024-06-12T07:24:31.445645Z",
     "start_time": "2024-06-12T07:24:31.442249Z"
    }
   },
   "cell_type": "code",
   "source": "to_match = pd.Series([\"c\", \"a\", \"b\", \"b\", \"c\", \"a\"])",
   "id": "335b3bd785c6ee52",
   "execution_count": 51,
   "outputs": []
  },
  {
   "metadata": {
    "ExecuteTime": {
     "end_time": "2024-06-12T07:24:54.617399Z",
     "start_time": "2024-06-12T07:24:54.614405Z"
    }
   },
   "cell_type": "code",
   "source": "unique_vals = pd.Series([\"c\", \"b\", \"a\"])",
   "id": "802923469bca4f44",
   "execution_count": 52,
   "outputs": []
  },
  {
   "metadata": {
    "ExecuteTime": {
     "end_time": "2024-06-12T07:25:18.610789Z",
     "start_time": "2024-06-12T07:25:18.606023Z"
    }
   },
   "cell_type": "code",
   "source": "indices = pd.Index(unique_vals).get_indexer(to_match)",
   "id": "df444319e8fb7413",
   "execution_count": 53,
   "outputs": []
  },
  {
   "metadata": {
    "ExecuteTime": {
     "end_time": "2024-06-12T07:25:22.217035Z",
     "start_time": "2024-06-12T07:25:22.212640Z"
    }
   },
   "cell_type": "code",
   "source": "indices",
   "id": "49c68bdc7fcb569c",
   "execution_count": 54,
   "outputs": []
  },
  {
   "metadata": {
    "ExecuteTime": {
     "end_time": "2024-06-12T07:26:37.214107Z",
     "start_time": "2024-06-12T07:26:37.210737Z"
    }
   },
   "cell_type": "code",
   "source": [
    "data = pd.DataFrame({\n",
    "    \"Qu1\": [1, 3, 4, 3, 4],\n",
    "    \"Qu2\": [2, 3, 1, 2, 3],\n",
    "    \"Qu3\": [1, 5, 2, 4, 4]\n",
    "})"
   ],
   "id": "b327e7b1a281d242",
   "execution_count": 55,
   "outputs": []
  },
  {
   "metadata": {
    "ExecuteTime": {
     "end_time": "2024-06-12T07:26:39.005391Z",
     "start_time": "2024-06-12T07:26:39.001036Z"
    }
   },
   "cell_type": "code",
   "source": "data",
   "id": "b77880f78f357be3",
   "execution_count": 56,
   "outputs": []
  },
  {
   "metadata": {
    "ExecuteTime": {
     "end_time": "2024-06-12T07:27:06.424841Z",
     "start_time": "2024-06-12T07:27:06.420758Z"
    }
   },
   "cell_type": "code",
   "source": "data.shape",
   "id": "e1c9f2d8fae2aa32",
   "execution_count": 57,
   "outputs": []
  },
  {
   "metadata": {
    "ExecuteTime": {
     "end_time": "2024-06-12T07:27:29.293664Z",
     "start_time": "2024-06-12T07:27:29.288276Z"
    }
   },
   "cell_type": "code",
   "source": "data[\"Qu1\"].value_counts().sort_index()",
   "id": "51d158684c9105a",
   "execution_count": 58,
   "outputs": []
  },
  {
   "metadata": {
    "ExecuteTime": {
     "end_time": "2024-06-12T07:28:03.571301Z",
     "start_time": "2024-06-12T07:28:03.564997Z"
    }
   },
   "cell_type": "code",
   "source": "data[\"Qu1\"].value_counts().sort_index(ascending=False)",
   "id": "bb829776bfaf44a6",
   "execution_count": 59,
   "outputs": []
  },
  {
   "metadata": {
    "ExecuteTime": {
     "end_time": "2024-06-12T07:28:29.084334Z",
     "start_time": "2024-06-12T07:28:29.077Z"
    }
   },
   "cell_type": "code",
   "source": "result = data.apply(pd.value_counts).fillna(0)",
   "id": "f83f1a4982cf9f8c",
   "execution_count": 60,
   "outputs": []
  },
  {
   "metadata": {
    "ExecuteTime": {
     "end_time": "2024-06-12T07:28:40.993981Z",
     "start_time": "2024-06-12T07:28:40.988893Z"
    }
   },
   "cell_type": "code",
   "source": "result",
   "id": "e4faff7c5aaee28f",
   "execution_count": 61,
   "outputs": []
  },
  {
   "metadata": {
    "ExecuteTime": {
     "end_time": "2024-06-12T07:29:32.138043Z",
     "start_time": "2024-06-12T07:29:32.134068Z"
    }
   },
   "cell_type": "code",
   "source": "pd.Series(obj).value_counts().fillna(0)",
   "id": "3794abfcfb7f3c64",
   "execution_count": 62,
   "outputs": []
  },
  {
   "metadata": {
    "ExecuteTime": {
     "end_time": "2024-06-12T07:30:37.007968Z",
     "start_time": "2024-06-12T07:30:37.001923Z"
    }
   },
   "cell_type": "code",
   "source": "data = pd.DataFrame({\"a\": [1, 1, 1, 2,2], \"b\": [0, 0 , 1, 0, 0]})",
   "id": "7fd3c658a508063f",
   "execution_count": 63,
   "outputs": []
  },
  {
   "metadata": {
    "ExecuteTime": {
     "end_time": "2024-06-12T07:30:38.872804Z",
     "start_time": "2024-06-12T07:30:38.868046Z"
    }
   },
   "cell_type": "code",
   "source": "data",
   "id": "8650db713eaeb969",
   "execution_count": 64,
   "outputs": []
  },
  {
   "metadata": {
    "ExecuteTime": {
     "end_time": "2024-06-12T07:31:00.772746Z",
     "start_time": "2024-06-12T07:31:00.766330Z"
    }
   },
   "cell_type": "code",
   "source": "data.value_counts()",
   "id": "c87271d8e0f9263c",
   "execution_count": 65,
   "outputs": []
  },
  {
   "metadata": {},
   "cell_type": "code",
   "execution_count": null,
   "source": "",
   "id": "5e531040d807720",
   "outputs": []
  }
 ],
 "metadata": {
  "kernelspec": {
   "display_name": "Python 3",
   "language": "python",
   "name": "python3"
  },
  "language_info": {
   "codemirror_mode": {
    "name": "ipython",
    "version": 2
   },
   "file_extension": ".py",
   "mimetype": "text/x-python",
   "name": "python",
   "nbconvert_exporter": "python",
   "pygments_lexer": "ipython2",
   "version": "2.7.6"
  }
 },
 "nbformat": 4,
 "nbformat_minor": 5
}
