{
 "cells": [
  {
   "cell_type": "code",
   "id": "initial_id",
   "metadata": {
    "collapsed": true,
    "ExecuteTime": {
     "end_time": "2024-06-14T06:01:43.046731Z",
     "start_time": "2024-06-14T06:01:43.044640Z"
    }
   },
   "source": [
    "import matplotlib.pyplot as plt\n",
    "import numpy as np\n",
    "import pandas as pd"
   ],
   "execution_count": 43,
   "outputs": []
  },
  {
   "metadata": {
    "ExecuteTime": {
     "end_time": "2024-06-14T05:20:46.331898Z",
     "start_time": "2024-06-14T05:20:46.329498Z"
    }
   },
   "cell_type": "code",
   "source": "data = np.arange(10)",
   "id": "db53f4815f9bd6bd",
   "execution_count": 3,
   "outputs": []
  },
  {
   "metadata": {
    "ExecuteTime": {
     "end_time": "2024-06-14T05:20:55.955250Z",
     "start_time": "2024-06-14T05:20:55.843309Z"
    }
   },
   "cell_type": "code",
   "source": "plt.plot(data)",
   "id": "a1c3ce73afa90ba4",
   "execution_count": 4,
   "outputs": []
  },
  {
   "metadata": {
    "ExecuteTime": {
     "end_time": "2024-06-14T05:21:30.680392Z",
     "start_time": "2024-06-14T05:21:30.675858Z"
    }
   },
   "cell_type": "code",
   "source": "fig = plt.figure()",
   "id": "ea0ec3f63262cb10",
   "execution_count": 5,
   "outputs": []
  },
  {
   "metadata": {
    "ExecuteTime": {
     "end_time": "2024-06-14T05:21:47.871685Z",
     "start_time": "2024-06-14T05:21:47.855975Z"
    }
   },
   "cell_type": "code",
   "source": "ax1 = fig.add_subplot(2, 2, 1)",
   "id": "686a2503e40dc246",
   "execution_count": 6,
   "outputs": []
  },
  {
   "metadata": {
    "ExecuteTime": {
     "end_time": "2024-06-14T05:22:08.517115Z",
     "start_time": "2024-06-14T05:22:08.491928Z"
    }
   },
   "cell_type": "code",
   "source": "ax2 = fig.add_subplot(2, 2, 2)",
   "id": "3f64449c9f5f892e",
   "execution_count": 7,
   "outputs": []
  },
  {
   "metadata": {
    "ExecuteTime": {
     "end_time": "2024-06-14T05:22:22.391441Z",
     "start_time": "2024-06-14T05:22:22.382024Z"
    }
   },
   "cell_type": "code",
   "source": "ax3 = fig.add_subplot(2, 2, 3)",
   "id": "82e502f64cbea24f",
   "execution_count": 8,
   "outputs": []
  },
  {
   "metadata": {
    "ExecuteTime": {
     "end_time": "2024-06-14T05:22:48.311717Z",
     "start_time": "2024-06-14T05:22:48.307303Z"
    }
   },
   "cell_type": "code",
   "source": "fig = plt.figure()",
   "id": "b01fe6fdef3d0735",
   "execution_count": 9,
   "outputs": []
  },
  {
   "metadata": {
    "ExecuteTime": {
     "end_time": "2024-06-14T05:23:37.943909Z",
     "start_time": "2024-06-14T05:23:37.934486Z"
    }
   },
   "cell_type": "code",
   "source": "ax3.plot(np.random.standard_normal(50).cumsum(), color=\"black\", linestyle=\"dashed\")",
   "id": "802b9a99cc8ef318",
   "execution_count": 10,
   "outputs": []
  },
  {
   "metadata": {
    "ExecuteTime": {
     "end_time": "2024-06-14T05:25:15.871173Z",
     "start_time": "2024-06-14T05:25:15.824277Z"
    }
   },
   "cell_type": "code",
   "source": "ax1.hist(np.random.standard_normal(100), bins=20, color=\"black\", alpha=0.3)",
   "id": "b24110d1d27a0a08",
   "execution_count": 13,
   "outputs": []
  },
  {
   "metadata": {
    "ExecuteTime": {
     "end_time": "2024-06-14T05:26:07.409259Z",
     "start_time": "2024-06-14T05:26:07.382092Z"
    }
   },
   "cell_type": "code",
   "source": "ax2.scatter(np.arange(30), np.arange(30) + 3 * np.random.standard_normal(30))",
   "id": "ad36f8292cebe640",
   "execution_count": 14,
   "outputs": []
  },
  {
   "metadata": {
    "ExecuteTime": {
     "end_time": "2024-06-14T05:26:51.908688Z",
     "start_time": "2024-06-14T05:26:51.713018Z"
    }
   },
   "cell_type": "code",
   "source": "fig, axes = plt.subplots(2,3)",
   "id": "e672b219fdbd54ae",
   "execution_count": 17,
   "outputs": []
  },
  {
   "metadata": {
    "ExecuteTime": {
     "end_time": "2024-06-14T05:27:00.235494Z",
     "start_time": "2024-06-14T05:27:00.232721Z"
    }
   },
   "cell_type": "code",
   "source": "axes",
   "id": "11f66af42e1eb522",
   "execution_count": 18,
   "outputs": []
  },
  {
   "metadata": {
    "ExecuteTime": {
     "end_time": "2024-06-14T05:29:01.998907Z",
     "start_time": "2024-06-14T05:29:01.734082Z"
    }
   },
   "cell_type": "code",
   "source": [
    "fig, axes = plt.subplots(2, 2, sharex=True, sharey=True)\n",
    "for i in range(2):\n",
    "    for j in range(2):\n",
    "        axes[i, j].hist(np.random.standard_normal(500), bins=50, color=\"black\", alpha=0.5)"
   ],
   "id": "f609914104afd1c6",
   "execution_count": 19,
   "outputs": []
  },
  {
   "metadata": {
    "ExecuteTime": {
     "end_time": "2024-06-14T05:41:04.887782Z",
     "start_time": "2024-06-14T05:41:04.869917Z"
    }
   },
   "cell_type": "code",
   "source": "ax = fig.add_subplot()",
   "id": "28967efd72e8a275",
   "execution_count": 20,
   "outputs": []
  },
  {
   "metadata": {
    "ExecuteTime": {
     "end_time": "2024-06-14T05:41:56.571448Z",
     "start_time": "2024-06-14T05:41:56.563204Z"
    }
   },
   "cell_type": "code",
   "source": [
    "ax.plot(np.random.standard_normal(30).cumsum(), color=\"black\",\n",
    "        linestyle=\"dashed\", marker=\"o\")"
   ],
   "id": "7b4e1c3628fe31ac",
   "execution_count": 21,
   "outputs": []
  },
  {
   "metadata": {
    "ExecuteTime": {
     "end_time": "2024-06-14T05:42:10.922262Z",
     "start_time": "2024-06-14T05:42:10.917989Z"
    }
   },
   "cell_type": "code",
   "source": "fig = plt.figure()",
   "id": "82da2640e1498b3a",
   "execution_count": 22,
   "outputs": []
  },
  {
   "metadata": {
    "ExecuteTime": {
     "end_time": "2024-06-14T05:42:18.469458Z",
     "start_time": "2024-06-14T05:42:18.350435Z"
    }
   },
   "cell_type": "code",
   "source": "ax = fig.add_subplot()",
   "id": "815867f8aaca026a",
   "execution_count": 23,
   "outputs": []
  },
  {
   "metadata": {
    "ExecuteTime": {
     "end_time": "2024-06-14T05:42:33.068707Z",
     "start_time": "2024-06-14T05:42:33.066460Z"
    }
   },
   "cell_type": "code",
   "source": "data = np.random.standard_normal(30).cumsum()",
   "id": "b706d562b8c5bc72",
   "execution_count": 24,
   "outputs": []
  },
  {
   "metadata": {
    "ExecuteTime": {
     "end_time": "2024-06-14T05:43:53.366952Z",
     "start_time": "2024-06-14T05:43:53.362896Z"
    }
   },
   "cell_type": "code",
   "source": "ax.plot(data, color=\"black\", linestyle=\"dashed\", label=\"Default\")",
   "id": "ee0059c98f2a7dea",
   "execution_count": 26,
   "outputs": []
  },
  {
   "metadata": {
    "ExecuteTime": {
     "end_time": "2024-06-14T05:46:29.990948Z",
     "start_time": "2024-06-14T05:46:29.981489Z"
    }
   },
   "cell_type": "code",
   "source": "ax.plot(data, color=\"black\", linestyle=\"dashed\", drawstyle=\"steps-post\")",
   "id": "c8004e92621a91ae",
   "execution_count": 27,
   "outputs": []
  },
  {
   "metadata": {
    "ExecuteTime": {
     "end_time": "2024-06-14T05:46:33.828392Z",
     "start_time": "2024-06-14T05:46:33.823729Z"
    }
   },
   "cell_type": "code",
   "source": "ax.legend()",
   "id": "fb02414e77e18c3f",
   "execution_count": 28,
   "outputs": []
  },
  {
   "metadata": {
    "ExecuteTime": {
     "end_time": "2024-06-14T05:47:26.288478Z",
     "start_time": "2024-06-14T05:47:26.217237Z"
    }
   },
   "cell_type": "code",
   "source": "fig, ax = plt.subplots()",
   "id": "5b09183e2d2ff643",
   "execution_count": 29,
   "outputs": []
  },
  {
   "metadata": {
    "ExecuteTime": {
     "end_time": "2024-06-14T05:47:43.899462Z",
     "start_time": "2024-06-14T05:47:43.894451Z"
    }
   },
   "cell_type": "code",
   "source": "ax.plot(np.random.standard_normal(1000).cumsum())",
   "id": "b766e300c148ea91",
   "execution_count": 30,
   "outputs": []
  },
  {
   "metadata": {
    "ExecuteTime": {
     "end_time": "2024-06-14T05:48:19.015100Z",
     "start_time": "2024-06-14T05:48:19.008305Z"
    }
   },
   "cell_type": "code",
   "source": "ticks = ax.set_xticks([0, 250, 500, 750, 1000])",
   "id": "59a70f5e93e2b827",
   "execution_count": 31,
   "outputs": []
  },
  {
   "metadata": {
    "ExecuteTime": {
     "end_time": "2024-06-14T05:49:07.568Z",
     "start_time": "2024-06-14T05:49:07.562551Z"
    }
   },
   "cell_type": "code",
   "source": "labels = ax.set_xticklabels([\"one\", \"two\", \"three\", \"four\", \"five\"], rotation=30, fontsize=8)",
   "id": "8b4ba4a2680d1770",
   "execution_count": 32,
   "outputs": []
  },
  {
   "metadata": {
    "ExecuteTime": {
     "end_time": "2024-06-14T05:49:24.283852Z",
     "start_time": "2024-06-14T05:49:24.277440Z"
    }
   },
   "cell_type": "code",
   "source": "ax.set_xlabel(\"Stages\")",
   "id": "97613020db0b5587",
   "execution_count": 33,
   "outputs": []
  },
  {
   "metadata": {
    "ExecuteTime": {
     "end_time": "2024-06-14T05:49:54.866854Z",
     "start_time": "2024-06-14T05:49:54.863132Z"
    }
   },
   "cell_type": "code",
   "source": "ax.set_title(\"My first matplotlib plot\")",
   "id": "270a5711fc9fded9",
   "execution_count": 34,
   "outputs": []
  },
  {
   "metadata": {
    "ExecuteTime": {
     "end_time": "2024-06-14T05:50:25.728723Z",
     "start_time": "2024-06-14T05:50:25.724626Z"
    }
   },
   "cell_type": "code",
   "source": "ax.set(title=\"My first matplotlib plot\", xlabel=\"Stages\")",
   "id": "b25f37d5c4ad8d41",
   "execution_count": 35,
   "outputs": []
  },
  {
   "metadata": {
    "ExecuteTime": {
     "end_time": "2024-06-14T05:50:44.736352Z",
     "start_time": "2024-06-14T05:50:44.678395Z"
    }
   },
   "cell_type": "code",
   "source": "fig, ax = plt.subplots()",
   "id": "f15869766f4d0ea3",
   "execution_count": 36,
   "outputs": []
  },
  {
   "metadata": {
    "ExecuteTime": {
     "end_time": "2024-06-14T05:51:27.604737Z",
     "start_time": "2024-06-14T05:51:27.592120Z"
    }
   },
   "cell_type": "code",
   "source": "ax.plot(np.random.randn(1000).cumsum(), color=\"black\", label=\"one\")",
   "id": "427a4e18320d8c72",
   "execution_count": 37,
   "outputs": []
  },
  {
   "metadata": {
    "ExecuteTime": {
     "end_time": "2024-06-14T05:52:11.883480Z",
     "start_time": "2024-06-14T05:52:11.853367Z"
    }
   },
   "cell_type": "code",
   "source": "ax.plot(np.random.randn(1000).cumsum(), color=\"black\", linestyle=\"dashed\", label=\"two\")",
   "id": "c47e56d0daade717",
   "execution_count": 38,
   "outputs": []
  },
  {
   "metadata": {
    "ExecuteTime": {
     "end_time": "2024-06-14T05:53:18.271689Z",
     "start_time": "2024-06-14T05:53:18.263563Z"
    }
   },
   "cell_type": "code",
   "source": "ax.plot(np.random.randn(1000).cumsum(), color=\"black\", linestyle=\"dotted\", label=\"three\")",
   "id": "2ca1cb2e2e6d87f3",
   "execution_count": 39,
   "outputs": []
  },
  {
   "metadata": {
    "ExecuteTime": {
     "end_time": "2024-06-14T05:53:23.194654Z",
     "start_time": "2024-06-14T05:53:23.181161Z"
    }
   },
   "cell_type": "code",
   "source": "ax.legend()",
   "id": "114ddf702685b230",
   "execution_count": 40,
   "outputs": []
  },
  {
   "metadata": {
    "ExecuteTime": {
     "end_time": "2024-06-14T06:02:12.925633Z",
     "start_time": "2024-06-14T06:02:12.726246Z"
    }
   },
   "cell_type": "code",
   "source": [
    "from datetime import datetime\n",
    "\n",
    "fig, ax = plt.subplots()\n",
    "\n",
    "data = pd.read_csv(\"examples/spx.csv\", index_col=0, parse_dates=True)\n",
    "spx = data[\"SPX\"]\n",
    "\n",
    "spx.plot(ax=ax, color=\"black\")\n",
    "\n",
    "crisis_data = [\n",
    "    (datetime(2007, 10, 11), \"Peak of bull market\"),\n",
    "    (datetime(2008, 3, 12), \"Bear Stearns Fails\"),\n",
    "    (datetime(2008, 9, 15), \"Lehman Bankruptcy\")\n",
    "]\n",
    "\n",
    "for date, label in crisis_data:\n",
    "    ax.annotate(label, xy=(date, spx.asof(date) + 75),\n",
    "                xytext=(date, spx.asof(date) + 225),\n",
    "                arrowprops=dict(facecolor=\"black\", headwidth=4, width=2,headlength=4),\n",
    "                horizontalalignment=\"left\", verticalalignment=\"top\")\n",
    "    \n",
    "ax.set_xlim([\"1/1/2007\", \"1/1/2011\"])\n",
    "ax.set_ylim([600, 1800])\n",
    "\n",
    "ax.set_title(\"Important dates in the 2008-2009 financial crisis\")"
   ],
   "id": "699db2c1b74a22e3",
   "execution_count": 45,
   "outputs": []
  },
  {
   "metadata": {
    "ExecuteTime": {
     "end_time": "2024-06-14T06:07:09.173686Z",
     "start_time": "2024-06-14T06:07:09.083451Z"
    }
   },
   "cell_type": "code",
   "source": [
    "fig, ax = plt.subplots()\n",
    "\n",
    "rect = plt.Rectangle((0.2, 0.75), 0.4, 0.15, color=\"black\", alpha=0.3)\n",
    "circ = plt.Circle((0.7, 0.2), 0.15, color=\"blue\", alpha=0.3)\n",
    "pgon = plt.Polygon([[0.15, 0.15], [0.35, 0.4], [0.2, 0.6]],color=\"green\", alpha=0.5)\n",
    "\n",
    "ax.add_patch(rect)\n",
    "ax.add_patch(circ)\n",
    "ax.add_patch(pgon)"
   ],
   "id": "b543d7de21e15cbb",
   "execution_count": 46,
   "outputs": []
  },
  {
   "metadata": {
    "ExecuteTime": {
     "end_time": "2024-06-14T06:08:14.025435Z",
     "start_time": "2024-06-14T06:08:13.987630Z"
    }
   },
   "cell_type": "code",
   "source": "fig.savefig(\"figpath.svg\")",
   "id": "dc22ea4a20d87eca",
   "execution_count": 47,
   "outputs": []
  },
  {
   "metadata": {
    "ExecuteTime": {
     "end_time": "2024-06-14T06:09:34.489225Z",
     "start_time": "2024-06-14T06:09:20.766767Z"
    }
   },
   "cell_type": "code",
   "source": "fig.savefig(\"figpath.png\", dpi=400)",
   "id": "79c2c00167cb6f59",
   "execution_count": 49,
   "outputs": []
  },
  {
   "metadata": {
    "ExecuteTime": {
     "end_time": "2024-06-14T06:11:46.481056Z",
     "start_time": "2024-06-14T06:11:46.477455Z"
    }
   },
   "cell_type": "code",
   "source": "s = pd.Series(np.random.standard_normal(10).cumsum(), index=np.arange(0,100, 10))",
   "id": "113285dcdddf4c00",
   "execution_count": 52,
   "outputs": []
  },
  {
   "metadata": {
    "ExecuteTime": {
     "end_time": "2024-06-14T06:11:47.989312Z",
     "start_time": "2024-06-14T06:11:47.923366Z"
    }
   },
   "cell_type": "code",
   "source": "s.plot()",
   "id": "246e430f66762b94",
   "execution_count": 53,
   "outputs": []
  },
  {
   "metadata": {
    "ExecuteTime": {
     "end_time": "2024-06-14T06:13:30.197698Z",
     "start_time": "2024-06-14T06:13:30.192227Z"
    }
   },
   "cell_type": "code",
   "source": [
    "df = pd.DataFrame(np.random.standard_normal((10, 4)).cumsum(0),\n",
    "                  columns=[\"A\", \"B\", \"C\", \"D\"],\n",
    "                  index=np.arange(0, 100 , 10))"
   ],
   "id": "6bbad5475829d56f",
   "execution_count": 54,
   "outputs": []
  },
  {
   "metadata": {
    "ExecuteTime": {
     "end_time": "2024-06-14T06:13:45.730627Z",
     "start_time": "2024-06-14T06:13:45.728012Z"
    }
   },
   "cell_type": "code",
   "source": "plt.style.use('grayscale')",
   "id": "e817e79be5eebeb",
   "execution_count": 55,
   "outputs": []
  },
  {
   "metadata": {
    "ExecuteTime": {
     "end_time": "2024-06-14T06:13:50.995050Z",
     "start_time": "2024-06-14T06:13:50.921887Z"
    }
   },
   "cell_type": "code",
   "source": "df.plot()",
   "id": "a1fa28e242cb2df",
   "execution_count": 56,
   "outputs": []
  },
  {
   "metadata": {
    "ExecuteTime": {
     "end_time": "2024-06-14T06:14:54.395820Z",
     "start_time": "2024-06-14T06:14:54.292227Z"
    }
   },
   "cell_type": "code",
   "source": "fig, axes = plt.subplots(2, 1)",
   "id": "c03550b2c7a752f",
   "execution_count": 57,
   "outputs": []
  },
  {
   "metadata": {
    "ExecuteTime": {
     "end_time": "2024-06-14T06:15:45.740158Z",
     "start_time": "2024-06-14T06:15:45.732498Z"
    }
   },
   "cell_type": "code",
   "source": "data = pd.Series(np.random.uniform(size=16), index=list(\"abcdefghijklmnop\"))",
   "id": "e5c6a93a82d702bc",
   "execution_count": 58,
   "outputs": []
  },
  {
   "metadata": {
    "ExecuteTime": {
     "end_time": "2024-06-14T06:16:15.342228Z",
     "start_time": "2024-06-14T06:16:15.293147Z"
    }
   },
   "cell_type": "code",
   "source": "data.plot.bar(ax=axes[0], color=\"black\", alpha=0.7)",
   "id": "279882f050ca614",
   "execution_count": 59,
   "outputs": []
  },
  {
   "metadata": {
    "ExecuteTime": {
     "end_time": "2024-06-14T06:19:16.474627Z",
     "start_time": "2024-06-14T06:19:16.443575Z"
    }
   },
   "cell_type": "code",
   "source": "data.plot.barh(ax=axes[1], color=\"black\", alpha=0.7)",
   "id": "e202ffce9f6fc33a",
   "execution_count": 60,
   "outputs": []
  },
  {
   "metadata": {
    "ExecuteTime": {
     "end_time": "2024-06-14T06:21:21.496486Z",
     "start_time": "2024-06-14T06:21:21.486120Z"
    }
   },
   "cell_type": "code",
   "source": [
    "df = pd.DataFrame(np.random.uniform(size=(6,4)), \n",
    "                  index=[\"one\", \"two\", \"three\", \"four\", \"five\", \"six\"],\n",
    "                  columns=pd.Index([\"A\", \"B\", \"C\", \"D\"], name=\"Genus\"))"
   ],
   "id": "deead4e718e4bce3",
   "execution_count": 61,
   "outputs": []
  },
  {
   "metadata": {
    "ExecuteTime": {
     "end_time": "2024-06-14T06:21:22.847743Z",
     "start_time": "2024-06-14T06:21:22.842043Z"
    }
   },
   "cell_type": "code",
   "source": "df",
   "id": "583a592b7c1200f5",
   "execution_count": 62,
   "outputs": []
  },
  {
   "metadata": {
    "ExecuteTime": {
     "end_time": "2024-06-14T06:21:37.005610Z",
     "start_time": "2024-06-14T06:21:36.893527Z"
    }
   },
   "cell_type": "code",
   "source": "df.plot.bar()",
   "id": "57a13499e85b4346",
   "execution_count": 63,
   "outputs": []
  },
  {
   "metadata": {
    "ExecuteTime": {
     "end_time": "2024-06-14T06:24:00.823299Z",
     "start_time": "2024-06-14T06:24:00.709789Z"
    }
   },
   "cell_type": "code",
   "source": "df.plot.barh(stacked=True, alpha=0.5)",
   "id": "1485f3fd594f6a1c",
   "execution_count": 64,
   "outputs": []
  },
  {
   "metadata": {
    "ExecuteTime": {
     "end_time": "2024-06-14T06:24:33.356981Z",
     "start_time": "2024-06-14T06:24:33.346928Z"
    }
   },
   "cell_type": "code",
   "source": "tips = pd.read_csv(\"examples/tips.csv\")",
   "id": "d76283245e437cb5",
   "execution_count": 65,
   "outputs": []
  },
  {
   "metadata": {
    "ExecuteTime": {
     "end_time": "2024-06-14T06:24:37.961935Z",
     "start_time": "2024-06-14T06:24:37.956483Z"
    }
   },
   "cell_type": "code",
   "source": "tips.head()",
   "id": "af97f3879f9ff9ec",
   "execution_count": 66,
   "outputs": []
  },
  {
   "metadata": {
    "ExecuteTime": {
     "end_time": "2024-06-14T06:26:03.763398Z",
     "start_time": "2024-06-14T06:26:03.731745Z"
    }
   },
   "cell_type": "code",
   "source": "party_counts = pd.crosstab(tips[\"day\"], tips[\"size\"])",
   "id": "1935e391a7dbea03",
   "execution_count": 67,
   "outputs": []
  },
  {
   "metadata": {
    "ExecuteTime": {
     "end_time": "2024-06-14T06:27:32.750317Z",
     "start_time": "2024-06-14T06:27:32.740006Z"
    }
   },
   "cell_type": "code",
   "source": "party_counts = party_counts.reindex(index=[\"Thur\", \"Fri\", \"Sat\", \"Sun\"])",
   "id": "468dbaaa1721efe2",
   "execution_count": 68,
   "outputs": []
  },
  {
   "metadata": {
    "ExecuteTime": {
     "end_time": "2024-06-14T06:27:34.652729Z",
     "start_time": "2024-06-14T06:27:34.648148Z"
    }
   },
   "cell_type": "code",
   "source": "party_counts",
   "id": "aa2657e9e77dd93c",
   "execution_count": 69,
   "outputs": []
  },
  {
   "metadata": {
    "ExecuteTime": {
     "end_time": "2024-06-14T06:28:04.404045Z",
     "start_time": "2024-06-14T06:28:04.399277Z"
    }
   },
   "cell_type": "code",
   "source": "party_counts = party_counts.loc[:, 2:5]",
   "id": "ea1bb7ff56f24f3c",
   "execution_count": 70,
   "outputs": []
  },
  {
   "metadata": {
    "ExecuteTime": {
     "end_time": "2024-06-14T06:28:49.168717Z",
     "start_time": "2024-06-14T06:28:49.162015Z"
    }
   },
   "cell_type": "code",
   "source": [
    "party_pcts = party_counts.div(party_counts.sum(axis=\"columns\"),\n",
    "                              axis=\"index\")"
   ],
   "id": "7b2ceaadc94faaf0",
   "execution_count": 71,
   "outputs": []
  },
  {
   "metadata": {
    "ExecuteTime": {
     "end_time": "2024-06-14T06:28:54.215986Z",
     "start_time": "2024-06-14T06:28:54.211609Z"
    }
   },
   "cell_type": "code",
   "source": "party_pcts",
   "id": "2974725699d15df6",
   "execution_count": 72,
   "outputs": []
  },
  {
   "metadata": {
    "ExecuteTime": {
     "end_time": "2024-06-14T06:35:10.520056Z",
     "start_time": "2024-06-14T06:35:08.491205Z"
    }
   },
   "cell_type": "code",
   "source": "import seaborn as sns",
   "id": "aebefd43602cb764",
   "execution_count": 74,
   "outputs": []
  },
  {
   "metadata": {
    "ExecuteTime": {
     "end_time": "2024-06-14T06:35:51.708066Z",
     "start_time": "2024-06-14T06:35:51.699789Z"
    }
   },
   "cell_type": "code",
   "source": "tips[\"tip_pct\"] = tips[\"tip\"] / (tips[\"total_bill\"] - tips[\"tip\"])",
   "id": "9b37c0b94e41687d",
   "execution_count": 75,
   "outputs": []
  },
  {
   "metadata": {
    "ExecuteTime": {
     "end_time": "2024-06-14T06:35:57.067148Z",
     "start_time": "2024-06-14T06:35:57.061676Z"
    }
   },
   "cell_type": "code",
   "source": "tips.head()",
   "id": "aeccda948e94c688",
   "execution_count": 76,
   "outputs": []
  },
  {
   "metadata": {
    "ExecuteTime": {
     "end_time": "2024-06-14T06:37:26.944636Z",
     "start_time": "2024-06-14T06:37:26.817246Z"
    }
   },
   "cell_type": "code",
   "source": "sns.barplot(x=\"tip_pct\", y = \"day\", data=tips, orient=\"h\")",
   "id": "e8ca0a769ee1b5f3",
   "execution_count": 77,
   "outputs": []
  },
  {
   "metadata": {
    "ExecuteTime": {
     "end_time": "2024-06-14T06:38:13.576772Z",
     "start_time": "2024-06-14T06:38:13.434343Z"
    }
   },
   "cell_type": "code",
   "source": "sns.barplot(x=\"tip_pct\", y=\"day\", hue=\"time\", data=tips, orient=\"h\")",
   "id": "7cea9a78f2d6f190",
   "execution_count": 78,
   "outputs": []
  },
  {
   "metadata": {
    "ExecuteTime": {
     "end_time": "2024-06-14T06:39:28.059341Z",
     "start_time": "2024-06-14T06:39:28.041100Z"
    }
   },
   "cell_type": "code",
   "source": "sns.set_style(\"whitegrid\")",
   "id": "809f5afd6715c5ce",
   "execution_count": 79,
   "outputs": []
  },
  {
   "metadata": {
    "ExecuteTime": {
     "end_time": "2024-06-14T06:39:55.500230Z",
     "start_time": "2024-06-14T06:39:55.367420Z"
    }
   },
   "cell_type": "code",
   "source": "tips[\"tip_pct\"].plot.hist(bins=50)",
   "id": "ead242ecd36bb84d",
   "execution_count": 80,
   "outputs": []
  },
  {
   "metadata": {
    "ExecuteTime": {
     "end_time": "2024-06-14T06:40:14.845554Z",
     "start_time": "2024-06-14T06:40:14.679071Z"
    }
   },
   "cell_type": "code",
   "source": "tips[\"tip_pct\"].plot.density()",
   "id": "66e9ce60f8015ace",
   "execution_count": 81,
   "outputs": []
  },
  {
   "metadata": {
    "ExecuteTime": {
     "end_time": "2024-06-14T06:41:23.809049Z",
     "start_time": "2024-06-14T06:41:23.804444Z"
    }
   },
   "cell_type": "code",
   "source": "comp1 = np.random.standard_normal(200)",
   "id": "99c38d8d011a1c61",
   "execution_count": 82,
   "outputs": []
  },
  {
   "metadata": {
    "ExecuteTime": {
     "end_time": "2024-06-14T06:41:41.544345Z",
     "start_time": "2024-06-14T06:41:41.539762Z"
    }
   },
   "cell_type": "code",
   "source": "comp2 = 10 + 2 * np.random.standard_normal(200)",
   "id": "51a5dca93b7f6407",
   "execution_count": 83,
   "outputs": []
  },
  {
   "metadata": {
    "ExecuteTime": {
     "end_time": "2024-06-14T06:42:02.221851Z",
     "start_time": "2024-06-14T06:42:02.216146Z"
    }
   },
   "cell_type": "code",
   "source": "values = pd.Series(np.concatenate([comp1, comp2]))",
   "id": "4e8511fcf1df7f5a",
   "execution_count": 84,
   "outputs": []
  },
  {
   "metadata": {
    "ExecuteTime": {
     "end_time": "2024-06-14T06:42:28.217483Z",
     "start_time": "2024-06-14T06:42:28.070840Z"
    }
   },
   "cell_type": "code",
   "source": "sns.histplot(values, bins=100, color=\"black\")",
   "id": "2a2cc4505660601d",
   "execution_count": 86,
   "outputs": []
  },
  {
   "metadata": {
    "ExecuteTime": {
     "end_time": "2024-06-14T06:43:25.484686Z",
     "start_time": "2024-06-14T06:43:25.475523Z"
    }
   },
   "cell_type": "code",
   "source": "macro = pd.read_csv(\"examples/macrodata.csv\")",
   "id": "335b9236d7a65b6d",
   "execution_count": 87,
   "outputs": []
  },
  {
   "metadata": {
    "ExecuteTime": {
     "end_time": "2024-06-14T06:43:47.547202Z",
     "start_time": "2024-06-14T06:43:47.540200Z"
    }
   },
   "cell_type": "code",
   "source": "data = macro[[\"cpi\", \"m1\", \"tbilrate\", \"unemp\"]]",
   "id": "b8d25878b7696a90",
   "execution_count": 88,
   "outputs": []
  },
  {
   "metadata": {
    "ExecuteTime": {
     "end_time": "2024-06-14T06:44:16.549058Z",
     "start_time": "2024-06-14T06:44:16.538470Z"
    }
   },
   "cell_type": "code",
   "source": "trans_data = np.log(data).diff().dropna()",
   "id": "78d0acd28fc939fb",
   "execution_count": 89,
   "outputs": []
  },
  {
   "metadata": {
    "ExecuteTime": {
     "end_time": "2024-06-14T06:44:25.309940Z",
     "start_time": "2024-06-14T06:44:25.303394Z"
    }
   },
   "cell_type": "code",
   "source": "trans_data.tail()",
   "id": "e80c959b9e8f54a3",
   "execution_count": 90,
   "outputs": []
  },
  {
   "metadata": {
    "ExecuteTime": {
     "end_time": "2024-06-14T06:45:01.799080Z",
     "start_time": "2024-06-14T06:45:01.659925Z"
    }
   },
   "cell_type": "code",
   "source": "ax = sns.regplot(x=\"m1\", y=\"unemp\", data=trans_data)",
   "id": "c714671b6f54204e",
   "execution_count": 91,
   "outputs": []
  },
  {
   "metadata": {
    "ExecuteTime": {
     "end_time": "2024-06-14T06:45:35.467681Z",
     "start_time": "2024-06-14T06:45:35.461619Z"
    }
   },
   "cell_type": "code",
   "source": "ax.set_title(\"Change in log(m1) versus log(unemp)\")",
   "id": "b9a51aa0b9af6c96",
   "execution_count": 92,
   "outputs": []
  },
  {
   "metadata": {
    "ExecuteTime": {
     "end_time": "2024-06-14T06:46:08.255088Z",
     "start_time": "2024-06-14T06:46:06.738413Z"
    }
   },
   "cell_type": "code",
   "source": "sns.pairplot(trans_data, diag_kind=\"kde\", plot_kws={\"alpha\": 0.2})",
   "id": "51f1ce9fc95b222c",
   "execution_count": 93,
   "outputs": []
  },
  {
   "metadata": {
    "ExecuteTime": {
     "end_time": "2024-06-14T06:48:06.842133Z",
     "start_time": "2024-06-14T06:48:06.464826Z"
    }
   },
   "cell_type": "code",
   "source": [
    "sns.catplot(x=\"day\", y=\"tip_pct\", hue=\"time\", col=\"smoker\",\n",
    "            kind=\"bar\", data=tips[tips.tip_pct < 1])"
   ],
   "id": "569707aba938f5ca",
   "execution_count": 94,
   "outputs": []
  },
  {
   "metadata": {
    "ExecuteTime": {
     "end_time": "2024-06-14T06:49:17.252131Z",
     "start_time": "2024-06-14T06:49:16.707531Z"
    }
   },
   "cell_type": "code",
   "source": [
    "sns.catplot(x=\"day\", y=\"tip_pct\", row=\"time\",\n",
    "            col=\"smoker\", \n",
    "            kind=\"bar\", data=tips[tips.tip_pct < 1])"
   ],
   "id": "19023611a0d2c938",
   "execution_count": 95,
   "outputs": []
  },
  {
   "metadata": {
    "ExecuteTime": {
     "end_time": "2024-06-14T06:51:18.335564Z",
     "start_time": "2024-06-14T06:51:18.138467Z"
    }
   },
   "cell_type": "code",
   "source": "sns.catplot(x=\"tip_pct\", y=\"day\", kind=\"box\", data=tips[tips.tip_pct< 0.5])",
   "id": "8f86064c1102cfb6",
   "execution_count": 97,
   "outputs": []
  },
  {
   "metadata": {},
   "cell_type": "code",
   "execution_count": null,
   "source": "",
   "id": "ae52e6d0825a8efc",
   "outputs": []
  }
 ],
 "metadata": {
  "kernelspec": {
   "display_name": "Python 3",
   "language": "python",
   "name": "python3"
  },
  "language_info": {
   "codemirror_mode": {
    "name": "ipython",
    "version": 2
   },
   "file_extension": ".py",
   "mimetype": "text/x-python",
   "name": "python",
   "nbconvert_exporter": "python",
   "pygments_lexer": "ipython2",
   "version": "2.7.6"
  }
 },
 "nbformat": 4,
 "nbformat_minor": 5
}
