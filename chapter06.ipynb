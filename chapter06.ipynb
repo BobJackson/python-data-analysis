{
 "cells": [
  {
   "metadata": {
    "ExecuteTime": {
     "end_time": "2024-06-12T09:30:20.376488Z",
     "start_time": "2024-06-12T09:30:19.851339Z"
    }
   },
   "cell_type": "code",
   "source": [
    "import numpy as np\n",
    "import pandas as pd"
   ],
   "id": "6d352519f574bc2a",
   "execution_count": 1,
   "outputs": []
  },
  {
   "cell_type": "code",
   "id": "initial_id",
   "metadata": {
    "collapsed": true,
    "ExecuteTime": {
     "end_time": "2024-06-12T07:36:41.931725Z",
     "start_time": "2024-06-12T07:36:41.356545Z"
    }
   },
   "source": "!cat examples/ex1.csv",
   "execution_count": 3,
   "outputs": []
  },
  {
   "metadata": {
    "ExecuteTime": {
     "end_time": "2024-06-12T07:36:54.677825Z",
     "start_time": "2024-06-12T07:36:54.674456Z"
    }
   },
   "cell_type": "code",
   "source": "df = pd.read_csv(\"examples/ex1.csv\")",
   "id": "bc44b37b82825568",
   "execution_count": 5,
   "outputs": []
  },
  {
   "metadata": {
    "ExecuteTime": {
     "end_time": "2024-06-12T07:36:56.993213Z",
     "start_time": "2024-06-12T07:36:56.986361Z"
    }
   },
   "cell_type": "code",
   "source": "df",
   "id": "ee609cad66956681",
   "execution_count": 6,
   "outputs": []
  },
  {
   "metadata": {
    "ExecuteTime": {
     "end_time": "2024-06-12T07:37:18.916604Z",
     "start_time": "2024-06-12T07:37:18.781925Z"
    }
   },
   "cell_type": "code",
   "source": "!cat examples/ex2.csv",
   "id": "839bc0b34ec3a5fa",
   "execution_count": 7,
   "outputs": []
  },
  {
   "metadata": {
    "ExecuteTime": {
     "end_time": "2024-06-12T07:37:43.133121Z",
     "start_time": "2024-06-12T07:37:43.122921Z"
    }
   },
   "cell_type": "code",
   "source": "pd.read_csv(\"examples/ex2.csv\", header=None)",
   "id": "8f9266f6b7feed4f",
   "execution_count": 8,
   "outputs": []
  },
  {
   "metadata": {
    "ExecuteTime": {
     "end_time": "2024-06-12T07:38:24.159211Z",
     "start_time": "2024-06-12T07:38:24.151957Z"
    }
   },
   "cell_type": "code",
   "source": "pd.read_csv(\"examples/ex2.csv\", names=[\"a\", \"b\", \"c\", \"d\", \"message\"])",
   "id": "9e34a5bc3662f351",
   "execution_count": 9,
   "outputs": []
  },
  {
   "metadata": {
    "ExecuteTime": {
     "end_time": "2024-06-12T07:39:05.366112Z",
     "start_time": "2024-06-12T07:39:05.362424Z"
    }
   },
   "cell_type": "code",
   "source": "names = [\"a\", \"b\", \"c\", \"d\", \"message\"]",
   "id": "be9efeeaa8b0c40",
   "execution_count": 10,
   "outputs": []
  },
  {
   "metadata": {
    "ExecuteTime": {
     "end_time": "2024-06-12T07:39:28.659118Z",
     "start_time": "2024-06-12T07:39:28.651584Z"
    }
   },
   "cell_type": "code",
   "source": "pd.read_csv(\"examples/ex2.csv\", names=names, index_col=\"message\")",
   "id": "6003e18635a689e4",
   "execution_count": 11,
   "outputs": []
  },
  {
   "metadata": {
    "ExecuteTime": {
     "end_time": "2024-06-12T07:39:56.202309Z",
     "start_time": "2024-06-12T07:39:56.073936Z"
    }
   },
   "cell_type": "code",
   "source": "!cat examples/csv_mindex.csv",
   "id": "9057bb733ccacb8e",
   "execution_count": 12,
   "outputs": []
  },
  {
   "metadata": {
    "ExecuteTime": {
     "end_time": "2024-06-12T07:40:32.046162Z",
     "start_time": "2024-06-12T07:40:32.040766Z"
    }
   },
   "cell_type": "code",
   "source": "parsed = pd.read_csv(\"examples/csv_mindex.csv\", index_col=[\"key1\", \"key2\"])",
   "id": "3f294aa28c49b391",
   "execution_count": 14,
   "outputs": []
  },
  {
   "metadata": {
    "ExecuteTime": {
     "end_time": "2024-06-12T07:40:35.257957Z",
     "start_time": "2024-06-12T07:40:35.253279Z"
    }
   },
   "cell_type": "code",
   "source": "parsed",
   "id": "ce89bd43e9069dd1",
   "execution_count": 15,
   "outputs": []
  },
  {
   "metadata": {
    "ExecuteTime": {
     "end_time": "2024-06-12T07:42:11.294858Z",
     "start_time": "2024-06-12T07:42:11.170203Z"
    }
   },
   "cell_type": "code",
   "source": "!cat examples/ex3.txt",
   "id": "c5739f96d59e84d",
   "execution_count": 16,
   "outputs": []
  },
  {
   "metadata": {
    "ExecuteTime": {
     "end_time": "2024-06-12T07:42:41.162750Z",
     "start_time": "2024-06-12T07:42:41.154846Z"
    }
   },
   "cell_type": "code",
   "source": "result = pd.read_csv(\"examples/ex3.txt\", sep=\"\\s+\")",
   "id": "fe30d43a5b5893da",
   "execution_count": 17,
   "outputs": []
  },
  {
   "metadata": {
    "ExecuteTime": {
     "end_time": "2024-06-12T07:42:43.700171Z",
     "start_time": "2024-06-12T07:42:43.695684Z"
    }
   },
   "cell_type": "code",
   "source": "result",
   "id": "9af607cfbcd5c37d",
   "execution_count": 18,
   "outputs": []
  },
  {
   "metadata": {
    "ExecuteTime": {
     "end_time": "2024-06-12T07:43:28.925652Z",
     "start_time": "2024-06-12T07:43:28.794677Z"
    }
   },
   "cell_type": "code",
   "source": "!cat examples/ex4.csv",
   "id": "e7df70371718e78b",
   "execution_count": 19,
   "outputs": []
  },
  {
   "metadata": {
    "ExecuteTime": {
     "end_time": "2024-06-12T07:43:51.381856Z",
     "start_time": "2024-06-12T07:43:51.253304Z"
    }
   },
   "cell_type": "code",
   "source": "!cat examples/ex5.csv",
   "id": "6e952b8af349b1be",
   "execution_count": 20,
   "outputs": []
  },
  {
   "metadata": {
    "ExecuteTime": {
     "end_time": "2024-06-12T07:44:27.319510Z",
     "start_time": "2024-06-12T07:44:27.311481Z"
    }
   },
   "cell_type": "code",
   "source": "pd.read_csv(\"examples/ex4.csv\", skiprows=[0, 2, 3])",
   "id": "a255c3d92de7a20e",
   "execution_count": 21,
   "outputs": []
  },
  {
   "metadata": {
    "ExecuteTime": {
     "end_time": "2024-06-12T07:44:55.959237Z",
     "start_time": "2024-06-12T07:44:55.954863Z"
    }
   },
   "cell_type": "code",
   "source": "result = pd.read_csv(\"examples/ex5.csv\")",
   "id": "210fa923b8509b37",
   "execution_count": 22,
   "outputs": []
  },
  {
   "metadata": {
    "ExecuteTime": {
     "end_time": "2024-06-12T07:44:58.876303Z",
     "start_time": "2024-06-12T07:44:58.871768Z"
    }
   },
   "cell_type": "code",
   "source": "result",
   "id": "cf66fbf18f26b879",
   "execution_count": 23,
   "outputs": []
  },
  {
   "metadata": {
    "ExecuteTime": {
     "end_time": "2024-06-12T07:45:39.843109Z",
     "start_time": "2024-06-12T07:45:39.833850Z"
    }
   },
   "cell_type": "code",
   "source": "pd.isna(result)",
   "id": "8e030083cd6c25f6",
   "execution_count": 24,
   "outputs": []
  },
  {
   "metadata": {
    "ExecuteTime": {
     "end_time": "2024-06-12T07:46:23.834014Z",
     "start_time": "2024-06-12T07:46:23.826268Z"
    }
   },
   "cell_type": "code",
   "source": "result = pd.read_csv(\"examples/ex5.csv\", na_values=[\"NULL\"])",
   "id": "9d0ac78732b3dc2a",
   "execution_count": 25,
   "outputs": []
  },
  {
   "metadata": {
    "ExecuteTime": {
     "end_time": "2024-06-12T07:46:31.191715Z",
     "start_time": "2024-06-12T07:46:31.186334Z"
    }
   },
   "cell_type": "code",
   "source": "result",
   "id": "32a23162f5dc2fa3",
   "execution_count": 27,
   "outputs": []
  },
  {
   "metadata": {
    "ExecuteTime": {
     "end_time": "2024-06-12T07:47:37.496339Z",
     "start_time": "2024-06-12T07:47:37.349289Z"
    }
   },
   "cell_type": "code",
   "source": "!cat examples/ex5.csv",
   "id": "7a9bf9005729d967",
   "execution_count": 28,
   "outputs": []
  },
  {
   "metadata": {
    "ExecuteTime": {
     "end_time": "2024-06-12T07:51:40.974725Z",
     "start_time": "2024-06-12T07:51:40.964590Z"
    }
   },
   "cell_type": "code",
   "source": "pd.isna(result)",
   "id": "be2722108d942260",
   "execution_count": 29,
   "outputs": []
  },
  {
   "metadata": {
    "ExecuteTime": {
     "end_time": "2024-06-12T07:53:34.648735Z",
     "start_time": "2024-06-12T07:53:34.645267Z"
    }
   },
   "cell_type": "code",
   "source": "result2 = pd.read_csv(\"examples/ex5.csv\", keep_default_na=False)",
   "id": "8bbd238bdbc2a2fd",
   "execution_count": 35,
   "outputs": []
  },
  {
   "metadata": {
    "ExecuteTime": {
     "end_time": "2024-06-12T07:53:37.421898Z",
     "start_time": "2024-06-12T07:53:37.414970Z"
    }
   },
   "cell_type": "code",
   "source": "result2",
   "id": "33adefd721e8ba4d",
   "execution_count": 36,
   "outputs": []
  },
  {
   "metadata": {
    "ExecuteTime": {
     "end_time": "2024-06-12T07:53:10.380681Z",
     "start_time": "2024-06-12T07:53:10.376045Z"
    }
   },
   "cell_type": "code",
   "source": "result2.isna()",
   "id": "283bfa824862c26d",
   "execution_count": 32,
   "outputs": []
  },
  {
   "metadata": {
    "ExecuteTime": {
     "end_time": "2024-06-12T07:54:48.390313Z",
     "start_time": "2024-06-12T07:54:48.386846Z"
    }
   },
   "cell_type": "code",
   "source": "result3 = pd.read_csv(\"examples/ex5.csv\", keep_default_na=False, na_values=\"NA\")",
   "id": "52c190acebde7469",
   "execution_count": 40,
   "outputs": []
  },
  {
   "metadata": {
    "ExecuteTime": {
     "end_time": "2024-06-12T07:54:49.206786Z",
     "start_time": "2024-06-12T07:54:49.202541Z"
    }
   },
   "cell_type": "code",
   "source": "result3",
   "id": "dacbbb376d66acff",
   "execution_count": 41,
   "outputs": []
  },
  {
   "metadata": {
    "ExecuteTime": {
     "end_time": "2024-06-12T07:55:06.161208Z",
     "start_time": "2024-06-12T07:55:06.151891Z"
    }
   },
   "cell_type": "code",
   "source": "result3.isna()",
   "id": "3a577de890c0c14c",
   "execution_count": 42,
   "outputs": []
  },
  {
   "metadata": {
    "ExecuteTime": {
     "end_time": "2024-06-12T07:55:55.254027Z",
     "start_time": "2024-06-12T07:55:55.251372Z"
    }
   },
   "cell_type": "code",
   "source": "sentinels = {\"message\": [\"foo\", \"NA\"], \"something\": [\"two\"]}",
   "id": "774dc03788a07fc1",
   "execution_count": 43,
   "outputs": []
  },
  {
   "metadata": {
    "ExecuteTime": {
     "end_time": "2024-06-12T07:57:49.169180Z",
     "start_time": "2024-06-12T07:57:49.164056Z"
    }
   },
   "cell_type": "code",
   "source": "pd.read_csv(\"examples/ex5.csv\", keep_default_na=False, na_values=\"NA\")",
   "id": "1dfc2d62374f647d",
   "execution_count": 45,
   "outputs": []
  },
  {
   "metadata": {
    "ExecuteTime": {
     "end_time": "2024-06-12T08:00:01.899173Z",
     "start_time": "2024-06-12T08:00:01.894882Z"
    }
   },
   "cell_type": "code",
   "source": "pd.options.display.max_rows = 10",
   "id": "5056eef1b140ee6a",
   "execution_count": 46,
   "outputs": []
  },
  {
   "metadata": {
    "ExecuteTime": {
     "end_time": "2024-06-12T08:00:16.796914Z",
     "start_time": "2024-06-12T08:00:16.787585Z"
    }
   },
   "cell_type": "code",
   "source": "result = pd.read_csv(\"examples/ex6.csv\")",
   "id": "245af87b7826a4ff",
   "execution_count": 47,
   "outputs": []
  },
  {
   "metadata": {
    "ExecuteTime": {
     "end_time": "2024-06-12T08:00:20.339347Z",
     "start_time": "2024-06-12T08:00:20.333763Z"
    }
   },
   "cell_type": "code",
   "source": "result",
   "id": "1e21810b46ad416b",
   "execution_count": 48,
   "outputs": []
  },
  {
   "metadata": {
    "ExecuteTime": {
     "end_time": "2024-06-12T08:01:13.708938Z",
     "start_time": "2024-06-12T08:01:13.683568Z"
    }
   },
   "cell_type": "code",
   "source": "pd.read_csv(\"examples/ex6.csv\", nrows=5)",
   "id": "521a89fe995c83fe",
   "execution_count": 49,
   "outputs": []
  },
  {
   "metadata": {
    "ExecuteTime": {
     "end_time": "2024-06-12T08:02:03.777763Z",
     "start_time": "2024-06-12T08:02:03.773131Z"
    }
   },
   "cell_type": "code",
   "source": "chunker = pd.read_csv(\"examples/ex6.csv\", chunksize=1000)",
   "id": "4c9b7d2e736e85ff",
   "execution_count": 50,
   "outputs": []
  },
  {
   "metadata": {
    "ExecuteTime": {
     "end_time": "2024-06-12T08:02:11.328298Z",
     "start_time": "2024-06-12T08:02:11.325246Z"
    }
   },
   "cell_type": "code",
   "source": "type(chunker)",
   "id": "6078ac1757cc93e8",
   "execution_count": 51,
   "outputs": []
  },
  {
   "metadata": {
    "ExecuteTime": {
     "end_time": "2024-06-12T08:04:53.870778Z",
     "start_time": "2024-06-12T08:04:53.828637Z"
    }
   },
   "cell_type": "code",
   "source": [
    "chunker = pd.read_csv(\"examples/ex6.csv\", chunksize=1000)\n",
    "\n",
    "tot = pd.Series([], dtype=\"int64\")\n",
    "for piece in chunker:\n",
    "    tot = tot.add(piece[\"key\"].value_counts(), fill_value=0)\n",
    "\n",
    "tot = tot.sort_values(ascending=False)"
   ],
   "id": "3728524de9c94fcb",
   "execution_count": 52,
   "outputs": []
  },
  {
   "metadata": {
    "ExecuteTime": {
     "end_time": "2024-06-12T08:05:03.717957Z",
     "start_time": "2024-06-12T08:05:03.713576Z"
    }
   },
   "cell_type": "code",
   "source": "tot[:10]",
   "id": "f9ae84ab3eda9ba9",
   "execution_count": 53,
   "outputs": []
  },
  {
   "metadata": {
    "ExecuteTime": {
     "end_time": "2024-06-12T08:05:44.434352Z",
     "start_time": "2024-06-12T08:05:44.429886Z"
    }
   },
   "cell_type": "code",
   "source": "data = pd.read_csv(\"examples/ex5.csv\")",
   "id": "7b5562d09f8ca0fe",
   "execution_count": 54,
   "outputs": []
  },
  {
   "metadata": {
    "ExecuteTime": {
     "end_time": "2024-06-12T08:05:45.753316Z",
     "start_time": "2024-06-12T08:05:45.748501Z"
    }
   },
   "cell_type": "code",
   "source": "data",
   "id": "a27f8bbb01ebd41e",
   "execution_count": 55,
   "outputs": []
  },
  {
   "metadata": {
    "ExecuteTime": {
     "end_time": "2024-06-12T08:06:17.484191Z",
     "start_time": "2024-06-12T08:06:17.478667Z"
    }
   },
   "cell_type": "code",
   "source": "data.to_csv(\"examples/out.csv\")",
   "id": "dd652c18bdbe2da0",
   "execution_count": 56,
   "outputs": []
  },
  {
   "metadata": {
    "ExecuteTime": {
     "end_time": "2024-06-12T08:06:32.211744Z",
     "start_time": "2024-06-12T08:06:32.089857Z"
    }
   },
   "cell_type": "code",
   "source": "!cat examples/out.csv",
   "id": "fbaaf4aafe2720ba",
   "execution_count": 57,
   "outputs": []
  },
  {
   "metadata": {
    "ExecuteTime": {
     "end_time": "2024-06-12T08:07:01.316895Z",
     "start_time": "2024-06-12T08:07:01.313445Z"
    }
   },
   "cell_type": "code",
   "source": "import sys",
   "id": "8e9a2fc9a6a63861",
   "execution_count": 58,
   "outputs": []
  },
  {
   "metadata": {
    "ExecuteTime": {
     "end_time": "2024-06-12T08:07:30.879211Z",
     "start_time": "2024-06-12T08:07:30.875938Z"
    }
   },
   "cell_type": "code",
   "source": "data.to_csv(sys.stdout, sep=\"|\")",
   "id": "365667ecf2d573fe",
   "execution_count": 59,
   "outputs": []
  },
  {
   "metadata": {
    "ExecuteTime": {
     "end_time": "2024-06-12T08:08:14.332966Z",
     "start_time": "2024-06-12T08:08:14.309826Z"
    }
   },
   "cell_type": "code",
   "source": "data.to_csv(sys.stdout, na_rep=\"NULL\")",
   "id": "dbd35e95e937c752",
   "execution_count": 60,
   "outputs": []
  },
  {
   "metadata": {
    "ExecuteTime": {
     "end_time": "2024-06-12T08:08:52.523945Z",
     "start_time": "2024-06-12T08:08:52.520316Z"
    }
   },
   "cell_type": "code",
   "source": "data.to_csv(sys.stdout, index=False, header=False)",
   "id": "cc0dce8cc451dc88",
   "execution_count": 61,
   "outputs": []
  },
  {
   "metadata": {
    "ExecuteTime": {
     "end_time": "2024-06-12T08:09:26.771465Z",
     "start_time": "2024-06-12T08:09:26.766557Z"
    }
   },
   "cell_type": "code",
   "source": "data.to_csv(sys.stdout, index=False, columns=[\"a\", \"b\", \"c\"])",
   "id": "a9f0a0f41bc175fa",
   "execution_count": 62,
   "outputs": []
  },
  {
   "metadata": {
    "ExecuteTime": {
     "end_time": "2024-06-12T08:10:04.356255Z",
     "start_time": "2024-06-12T08:10:04.229230Z"
    }
   },
   "cell_type": "code",
   "source": "!cat examples/ex7.csv",
   "id": "eadbf32a53991e10",
   "execution_count": 63,
   "outputs": []
  },
  {
   "metadata": {
    "ExecuteTime": {
     "end_time": "2024-06-12T08:10:14.687265Z",
     "start_time": "2024-06-12T08:10:14.684963Z"
    }
   },
   "cell_type": "code",
   "source": "import csv",
   "id": "5ff4f1071668013b",
   "execution_count": 64,
   "outputs": []
  },
  {
   "metadata": {
    "ExecuteTime": {
     "end_time": "2024-06-12T08:10:27.724330Z",
     "start_time": "2024-06-12T08:10:27.722254Z"
    }
   },
   "cell_type": "code",
   "source": "f = open(\"examples/ex7.csv\")",
   "id": "fdc1d09c8820a86c",
   "execution_count": 65,
   "outputs": []
  },
  {
   "metadata": {
    "ExecuteTime": {
     "end_time": "2024-06-12T08:10:46.698269Z",
     "start_time": "2024-06-12T08:10:46.696366Z"
    }
   },
   "cell_type": "code",
   "source": "reader = csv.reader(f)",
   "id": "ff1a95ac84a3daac",
   "execution_count": 66,
   "outputs": []
  },
  {
   "metadata": {
    "ExecuteTime": {
     "end_time": "2024-06-12T08:10:58.188327Z",
     "start_time": "2024-06-12T08:10:58.186018Z"
    }
   },
   "cell_type": "code",
   "source": [
    "for line in reader:\n",
    "    print(line)"
   ],
   "id": "3bdeed4f695ba81d",
   "execution_count": 67,
   "outputs": []
  },
  {
   "metadata": {
    "ExecuteTime": {
     "end_time": "2024-06-12T08:11:07.912785Z",
     "start_time": "2024-06-12T08:11:07.910625Z"
    }
   },
   "cell_type": "code",
   "source": "f.close()",
   "id": "a53cf4409551ae44",
   "execution_count": 68,
   "outputs": []
  },
  {
   "metadata": {
    "ExecuteTime": {
     "end_time": "2024-06-12T08:13:53.901826Z",
     "start_time": "2024-06-12T08:13:53.898439Z"
    }
   },
   "cell_type": "code",
   "source": [
    "with open(\"examples/ex7.csv\") as f:\n",
    "    lines = list(csv.reader(f))\n",
    "    header, values = lines[0], lines[1]\n",
    "    data_dict = {h: v for h, v in zip(header, zip(*values))}"
   ],
   "id": "2620054a3c529bb8",
   "execution_count": 73,
   "outputs": []
  },
  {
   "metadata": {
    "ExecuteTime": {
     "end_time": "2024-06-12T08:13:55.333743Z",
     "start_time": "2024-06-12T08:13:55.331086Z"
    }
   },
   "cell_type": "code",
   "source": "data_dict",
   "id": "7d0b405f9a69fe01",
   "execution_count": 74,
   "outputs": []
  },
  {
   "metadata": {
    "ExecuteTime": {
     "end_time": "2024-06-12T08:16:01.692395Z",
     "start_time": "2024-06-12T08:16:01.688529Z"
    }
   },
   "cell_type": "code",
   "source": [
    "class my_dialect(csv.Dialect):\n",
    "    lineterminator = \"\\n\"\n",
    "    delimiter = \";\"\n",
    "    quotechar = '\"'\n",
    "    quoting = csv.QUOTE_MINIMAL"
   ],
   "id": "c3b0570cc970597b",
   "execution_count": 75,
   "outputs": []
  },
  {
   "metadata": {
    "ExecuteTime": {
     "end_time": "2024-06-12T08:17:12.224029Z",
     "start_time": "2024-06-12T08:17:12.221057Z"
    }
   },
   "cell_type": "code",
   "source": [
    "f = open(\"examples/ex7.csv\")\n",
    "reader = csv.reader(f, dialect=my_dialect)"
   ],
   "id": "2138940bf5960521",
   "execution_count": 77,
   "outputs": []
  },
  {
   "metadata": {
    "ExecuteTime": {
     "end_time": "2024-06-12T08:17:50.136512Z",
     "start_time": "2024-06-12T08:17:50.133975Z"
    }
   },
   "cell_type": "code",
   "source": "reader = csv.reader(f, delimiter=\"|\")",
   "id": "7c658c85fed4146f",
   "execution_count": 79,
   "outputs": []
  },
  {
   "metadata": {
    "ExecuteTime": {
     "end_time": "2024-06-12T08:18:16.657685Z",
     "start_time": "2024-06-12T08:18:16.655530Z"
    }
   },
   "cell_type": "code",
   "source": "f.close()",
   "id": "fa9389f5385275c6",
   "execution_count": 80,
   "outputs": []
  },
  {
   "metadata": {
    "ExecuteTime": {
     "end_time": "2024-06-12T08:19:52.533607Z",
     "start_time": "2024-06-12T08:19:52.528712Z"
    }
   },
   "cell_type": "code",
   "source": [
    "with open(\"mydata.csv\", \"w\") as f:\n",
    "    writer = csv.writer(f, dialect=my_dialect)\n",
    "    writer.writerow((\"one\", \"two\", \"three\"))\n",
    "    writer.writerow((\"1\", \"2\", \"3\"))\n",
    "    writer.writerow((\"4\", \"5\", \"6\"))\n",
    "    writer.writerow((\"7\", \"8\", \"9\"))"
   ],
   "id": "5d0c18d3bf008eca",
   "execution_count": 81,
   "outputs": []
  },
  {
   "metadata": {
    "ExecuteTime": {
     "end_time": "2024-06-12T08:20:04.929897Z",
     "start_time": "2024-06-12T08:20:04.804249Z"
    }
   },
   "cell_type": "code",
   "source": "!cat mydata.csv",
   "id": "2ba27b32006b05fd",
   "execution_count": 82,
   "outputs": []
  },
  {
   "metadata": {
    "ExecuteTime": {
     "end_time": "2024-06-12T08:23:35.327654Z",
     "start_time": "2024-06-12T08:23:35.324103Z"
    }
   },
   "cell_type": "code",
   "source": [
    "obj = \"\"\"\n",
    "{\n",
    "    \"name\": \"Wes\",\n",
    "    \"cities_lived\": [\"Akron\", \"Nashville\", \"New York\", \"San Francisco\"],\n",
    "    \"pet\": null,\n",
    "    \"siblings\": [\n",
    "    {\"name\": \"Scott\", \"age\": 34, \"hobbies\": [\"guitars\", \"soccer\"]},\n",
    "    {\"name\": \"Katie\", \"age\": 42, \"hobbies\": [\"diving\", \"art\"]}\n",
    "    ]\n",
    "}\n",
    "\"\"\""
   ],
   "id": "92d2494cd6a80e6f",
   "execution_count": 83,
   "outputs": []
  },
  {
   "metadata": {
    "ExecuteTime": {
     "end_time": "2024-06-12T08:23:39.312103Z",
     "start_time": "2024-06-12T08:23:39.310145Z"
    }
   },
   "cell_type": "code",
   "source": "import json",
   "id": "2eba43938a0b0e07",
   "execution_count": 84,
   "outputs": []
  },
  {
   "metadata": {
    "ExecuteTime": {
     "end_time": "2024-06-12T08:23:56.089409Z",
     "start_time": "2024-06-12T08:23:56.087413Z"
    }
   },
   "cell_type": "code",
   "source": "result = json.loads(obj)",
   "id": "f796d2c37937718c",
   "execution_count": 86,
   "outputs": []
  },
  {
   "metadata": {
    "ExecuteTime": {
     "end_time": "2024-06-12T08:23:58.840951Z",
     "start_time": "2024-06-12T08:23:58.837802Z"
    }
   },
   "cell_type": "code",
   "source": "result",
   "id": "3c1bc896c22a6454",
   "execution_count": 87,
   "outputs": []
  },
  {
   "metadata": {
    "ExecuteTime": {
     "end_time": "2024-06-12T08:24:24.916963Z",
     "start_time": "2024-06-12T08:24:24.904247Z"
    }
   },
   "cell_type": "code",
   "source": "asjson = json.dumps(result)",
   "id": "5ef78f648a529ad6",
   "execution_count": 88,
   "outputs": []
  },
  {
   "metadata": {
    "ExecuteTime": {
     "end_time": "2024-06-12T08:24:33.848645Z",
     "start_time": "2024-06-12T08:24:33.845745Z"
    }
   },
   "cell_type": "code",
   "source": "asjson",
   "id": "7c9428bce747edba",
   "execution_count": 89,
   "outputs": []
  },
  {
   "metadata": {
    "ExecuteTime": {
     "end_time": "2024-06-12T08:25:30.478549Z",
     "start_time": "2024-06-12T08:25:30.474879Z"
    }
   },
   "cell_type": "code",
   "source": "siblings = pd.DataFrame(result[\"siblings\"], columns=[\"name\", \"age\"])",
   "id": "6299d7fb5ed0c72d",
   "execution_count": 90,
   "outputs": []
  },
  {
   "metadata": {
    "ExecuteTime": {
     "end_time": "2024-06-12T08:25:33.095547Z",
     "start_time": "2024-06-12T08:25:33.091435Z"
    }
   },
   "cell_type": "code",
   "source": "siblings",
   "id": "9d6223611c3e2caa",
   "execution_count": 91,
   "outputs": []
  },
  {
   "metadata": {
    "ExecuteTime": {
     "end_time": "2024-06-12T08:26:13.306721Z",
     "start_time": "2024-06-12T08:26:13.179699Z"
    }
   },
   "cell_type": "code",
   "source": "!cat examples/example.json",
   "id": "8cb13d68deb017b6",
   "execution_count": 92,
   "outputs": []
  },
  {
   "metadata": {
    "ExecuteTime": {
     "end_time": "2024-06-12T08:26:32.784511Z",
     "start_time": "2024-06-12T08:26:32.777158Z"
    }
   },
   "cell_type": "code",
   "source": "data = pd.read_json(\"examples/example.json\")",
   "id": "615133326b19374d",
   "execution_count": 93,
   "outputs": []
  },
  {
   "metadata": {
    "ExecuteTime": {
     "end_time": "2024-06-12T08:26:34.033494Z",
     "start_time": "2024-06-12T08:26:34.029441Z"
    }
   },
   "cell_type": "code",
   "source": "data",
   "id": "42e8ca04bf7c9964",
   "execution_count": 94,
   "outputs": []
  },
  {
   "metadata": {
    "ExecuteTime": {
     "end_time": "2024-06-12T08:27:03.467467Z",
     "start_time": "2024-06-12T08:27:03.464940Z"
    }
   },
   "cell_type": "code",
   "source": "data.to_json(sys.stdout)",
   "id": "63d3c910830b0355",
   "execution_count": 95,
   "outputs": []
  },
  {
   "metadata": {
    "ExecuteTime": {
     "end_time": "2024-06-12T08:27:46.091402Z",
     "start_time": "2024-06-12T08:27:45.970402Z"
    }
   },
   "cell_type": "code",
   "source": "tables = pd.read_html(\"examples/fdic_failed_bank_list.html\")",
   "id": "e6ff1df4d78b93e0",
   "execution_count": 96,
   "outputs": []
  },
  {
   "metadata": {
    "ExecuteTime": {
     "end_time": "2024-06-12T08:27:50.289071Z",
     "start_time": "2024-06-12T08:27:50.286091Z"
    }
   },
   "cell_type": "code",
   "source": "len(tables)",
   "id": "110a77d8528e19af",
   "execution_count": 97,
   "outputs": []
  },
  {
   "metadata": {
    "ExecuteTime": {
     "end_time": "2024-06-12T08:28:01.207880Z",
     "start_time": "2024-06-12T08:28:01.205979Z"
    }
   },
   "cell_type": "code",
   "source": "failures = tables[0]",
   "id": "f5cfc05b4db30f10",
   "execution_count": 98,
   "outputs": []
  },
  {
   "metadata": {
    "ExecuteTime": {
     "end_time": "2024-06-12T08:28:06.675462Z",
     "start_time": "2024-06-12T08:28:06.669995Z"
    }
   },
   "cell_type": "code",
   "source": "failures.head()",
   "id": "ad0da9e09329c49f",
   "execution_count": 99,
   "outputs": []
  },
  {
   "metadata": {
    "ExecuteTime": {
     "end_time": "2024-06-12T08:29:10.630016Z",
     "start_time": "2024-06-12T08:29:10.626757Z"
    }
   },
   "cell_type": "code",
   "source": "close_timestamps = pd.to_datetime(failures[\"Closing Date\"])",
   "id": "d9c4f6a483fbb11c",
   "execution_count": 101,
   "outputs": []
  },
  {
   "metadata": {
    "ExecuteTime": {
     "end_time": "2024-06-12T08:29:15.955301Z",
     "start_time": "2024-06-12T08:29:15.943656Z"
    }
   },
   "cell_type": "code",
   "source": "close_timestamps",
   "id": "1c4aa8f7c9972a12",
   "execution_count": 102,
   "outputs": []
  },
  {
   "metadata": {
    "ExecuteTime": {
     "end_time": "2024-06-12T08:29:36.440107Z",
     "start_time": "2024-06-12T08:29:36.434107Z"
    }
   },
   "cell_type": "code",
   "source": "close_timestamps.dt.year.value_counts()",
   "id": "9109f656f20e5eda",
   "execution_count": 103,
   "outputs": []
  },
  {
   "metadata": {
    "ExecuteTime": {
     "end_time": "2024-06-12T08:35:26.444707Z",
     "start_time": "2024-06-12T08:35:26.391419Z"
    }
   },
   "cell_type": "code",
   "source": [
    "from lxml import objectify\n",
    "\n",
    "path = \"datasets/mta_perf/Performance_MNR.xml\"\n",
    "with open(path) as f:\n",
    "    parsed = objectify.parse(f)"
   ],
   "id": "435e559d0a040d7e",
   "execution_count": 104,
   "outputs": []
  },
  {
   "metadata": {
    "ExecuteTime": {
     "end_time": "2024-06-12T08:35:38.143643Z",
     "start_time": "2024-06-12T08:35:38.141566Z"
    }
   },
   "cell_type": "code",
   "source": "root = parsed.getroot()",
   "id": "8158fa0236d1be00",
   "execution_count": 105,
   "outputs": []
  },
  {
   "metadata": {
    "ExecuteTime": {
     "end_time": "2024-06-12T08:35:41.775285Z",
     "start_time": "2024-06-12T08:35:41.772386Z"
    }
   },
   "cell_type": "code",
   "source": "root",
   "id": "d509be41757c91fc",
   "execution_count": 106,
   "outputs": []
  },
  {
   "metadata": {
    "ExecuteTime": {
     "end_time": "2024-06-12T08:38:20.105110Z",
     "start_time": "2024-06-12T08:38:20.075353Z"
    }
   },
   "cell_type": "code",
   "source": [
    "data = []\n",
    "skip_fields = [\"PARENT_SEQ\", \"INDICATOR_SEQ\", \"DESIRED_CHANGE\", \"DECIMAL_PLACES\"]\n",
    "\n",
    "for elt in root.INDICATOR:\n",
    "    el_data = {}\n",
    "    for child in elt.getchildren():\n",
    "        if child.tag in skip_fields:\n",
    "            continue\n",
    "        el_data[child.tag] = child.pyval\n",
    "    data.append(el_data)"
   ],
   "id": "5dbee639823f6f68",
   "execution_count": 107,
   "outputs": []
  },
  {
   "metadata": {
    "ExecuteTime": {
     "end_time": "2024-06-12T08:38:31.599968Z",
     "start_time": "2024-06-12T08:38:31.595518Z"
    }
   },
   "cell_type": "code",
   "source": "perf = pd.DataFrame(data)",
   "id": "9af1df2536649c03",
   "execution_count": 108,
   "outputs": []
  },
  {
   "metadata": {
    "ExecuteTime": {
     "end_time": "2024-06-12T08:38:38.606644Z",
     "start_time": "2024-06-12T08:38:38.601152Z"
    }
   },
   "cell_type": "code",
   "source": "perf.head()",
   "id": "b92869723c6e8e3a",
   "execution_count": 109,
   "outputs": []
  },
  {
   "metadata": {
    "ExecuteTime": {
     "end_time": "2024-06-12T08:40:10.122784Z",
     "start_time": "2024-06-12T08:40:10.090594Z"
    }
   },
   "cell_type": "code",
   "source": "perf = pd.read_xml(path)",
   "id": "64510a65148cf351",
   "execution_count": 110,
   "outputs": []
  },
  {
   "metadata": {
    "ExecuteTime": {
     "end_time": "2024-06-12T08:40:16.650303Z",
     "start_time": "2024-06-12T08:40:16.643937Z"
    }
   },
   "cell_type": "code",
   "source": "perf.head()",
   "id": "9089c8aec7a59bbb",
   "execution_count": 111,
   "outputs": []
  },
  {
   "metadata": {
    "ExecuteTime": {
     "end_time": "2024-06-12T08:41:43.566476Z",
     "start_time": "2024-06-12T08:41:43.558757Z"
    }
   },
   "cell_type": "code",
   "source": "frame = pd.read_csv(\"examples/ex1.csv\")",
   "id": "ba464c9009af882d",
   "execution_count": 112,
   "outputs": []
  },
  {
   "metadata": {
    "ExecuteTime": {
     "end_time": "2024-06-12T08:41:45.808013Z",
     "start_time": "2024-06-12T08:41:45.803786Z"
    }
   },
   "cell_type": "code",
   "source": "frame",
   "id": "bad668df2422fb92",
   "execution_count": 113,
   "outputs": []
  },
  {
   "metadata": {
    "ExecuteTime": {
     "end_time": "2024-06-12T08:42:14.369319Z",
     "start_time": "2024-06-12T08:42:14.363395Z"
    }
   },
   "cell_type": "code",
   "source": "frame.to_pickle(\"examples/frame_pickle\")",
   "id": "1dc86eb619afbef0",
   "execution_count": 114,
   "outputs": []
  },
  {
   "metadata": {
    "ExecuteTime": {
     "end_time": "2024-06-12T08:42:32.064605Z",
     "start_time": "2024-06-12T08:42:32.054150Z"
    }
   },
   "cell_type": "code",
   "source": "pd.read_pickle(\"examples/frame_pickle\")",
   "id": "50d3820d505505d8",
   "execution_count": 115,
   "outputs": []
  },
  {
   "metadata": {
    "ExecuteTime": {
     "end_time": "2024-06-12T08:46:17.362078Z",
     "start_time": "2024-06-12T08:46:16.677307Z"
    }
   },
   "cell_type": "code",
   "source": "fec = pd.read_parquet(\"datasets/fec/fec.parquet\")",
   "id": "1d484012512ae9ea",
   "execution_count": 117,
   "outputs": []
  },
  {
   "metadata": {
    "ExecuteTime": {
     "end_time": "2024-06-12T08:46:29.170718Z",
     "start_time": "2024-06-12T08:46:29.147916Z"
    }
   },
   "cell_type": "code",
   "source": "fec",
   "id": "2950d5ad2020138a",
   "execution_count": 118,
   "outputs": []
  },
  {
   "metadata": {
    "ExecuteTime": {
     "end_time": "2024-06-12T08:48:58.381042Z",
     "start_time": "2024-06-12T08:48:58.287291Z"
    }
   },
   "cell_type": "code",
   "source": "xlsx = pd.ExcelFile(\"examples/ex1.xlsx\")",
   "id": "6f20984774bfb112",
   "execution_count": 120,
   "outputs": []
  },
  {
   "metadata": {
    "ExecuteTime": {
     "end_time": "2024-06-12T08:49:01.730759Z",
     "start_time": "2024-06-12T08:49:01.727992Z"
    }
   },
   "cell_type": "code",
   "source": "xlsx",
   "id": "b91276825856f83f",
   "execution_count": 121,
   "outputs": []
  },
  {
   "metadata": {
    "ExecuteTime": {
     "end_time": "2024-06-12T08:49:10.579022Z",
     "start_time": "2024-06-12T08:49:10.575560Z"
    }
   },
   "cell_type": "code",
   "source": "xlsx.sheet_names",
   "id": "9dc896084c397e0c",
   "execution_count": 122,
   "outputs": []
  },
  {
   "metadata": {
    "ExecuteTime": {
     "end_time": "2024-06-12T08:49:29.856852Z",
     "start_time": "2024-06-12T08:49:29.813517Z"
    }
   },
   "cell_type": "code",
   "source": "xlsx.parse(sheet_name=\"Sheet1\")",
   "id": "32c993298556a703",
   "execution_count": 123,
   "outputs": []
  },
  {
   "metadata": {
    "ExecuteTime": {
     "end_time": "2024-06-12T08:49:53.993379Z",
     "start_time": "2024-06-12T08:49:53.981257Z"
    }
   },
   "cell_type": "code",
   "source": "xlsx.parse(sheet_name=\"Sheet1\", index_col=0)",
   "id": "e418e0824bef45f8",
   "execution_count": 124,
   "outputs": []
  },
  {
   "metadata": {
    "ExecuteTime": {
     "end_time": "2024-06-12T08:51:11.315208Z",
     "start_time": "2024-06-12T08:51:11.295615Z"
    }
   },
   "cell_type": "code",
   "source": "frame = pd.read_excel(\"examples/ex1.xlsx\", sheet_name=\"Sheet1\")",
   "id": "191503b0495f414b",
   "execution_count": 125,
   "outputs": []
  },
  {
   "metadata": {
    "ExecuteTime": {
     "end_time": "2024-06-12T08:51:13.516583Z",
     "start_time": "2024-06-12T08:51:13.511927Z"
    }
   },
   "cell_type": "code",
   "source": "frame",
   "id": "c5706fb49ed632c3",
   "execution_count": 126,
   "outputs": []
  },
  {
   "metadata": {
    "ExecuteTime": {
     "end_time": "2024-06-12T08:51:49.596818Z",
     "start_time": "2024-06-12T08:51:49.588159Z"
    }
   },
   "cell_type": "code",
   "source": "writer = pd.ExcelWriter(\"examples/ex2.xlsx\")",
   "id": "fb33b7804270d76d",
   "execution_count": 127,
   "outputs": []
  },
  {
   "metadata": {
    "ExecuteTime": {
     "end_time": "2024-06-12T08:52:45.463591Z",
     "start_time": "2024-06-12T08:52:45.459176Z"
    }
   },
   "cell_type": "code",
   "source": "frame.to_excel(writer, sheet_name=\"Sheet1\")",
   "id": "df8695a0141912cd",
   "execution_count": 130,
   "outputs": []
  },
  {
   "metadata": {
    "ExecuteTime": {
     "end_time": "2024-06-12T08:53:03.390852Z",
     "start_time": "2024-06-12T08:53:03.380166Z"
    }
   },
   "cell_type": "code",
   "source": "writer.close()",
   "id": "4b3d911e606ef78b",
   "execution_count": 132,
   "outputs": []
  },
  {
   "metadata": {
    "ExecuteTime": {
     "end_time": "2024-06-12T08:54:12.191853Z",
     "start_time": "2024-06-12T08:54:12.175593Z"
    }
   },
   "cell_type": "code",
   "source": "frame.to_excel(\"examples/ex2.xlsx\")",
   "id": "6b3c737591eac838",
   "execution_count": 133,
   "outputs": []
  },
  {
   "metadata": {
    "ExecuteTime": {
     "end_time": "2024-06-12T09:31:04.490842Z",
     "start_time": "2024-06-12T09:31:04.485823Z"
    }
   },
   "cell_type": "code",
   "source": [
    "import numpy as np\n",
    "frame = pd.DataFrame({\"a\": np.random.standard_normal(100)})"
   ],
   "id": "e4eed8058b6a3ae9",
   "execution_count": 4,
   "outputs": []
  },
  {
   "metadata": {
    "ExecuteTime": {
     "end_time": "2024-06-12T09:31:06.339231Z",
     "start_time": "2024-06-12T09:31:06.334910Z"
    }
   },
   "cell_type": "code",
   "source": "store = pd.HDFStore(\"examples/mydata.h5\")",
   "id": "6d73afa1f310c817",
   "execution_count": 5,
   "outputs": []
  },
  {
   "metadata": {
    "ExecuteTime": {
     "end_time": "2024-06-12T09:31:07.617573Z",
     "start_time": "2024-06-12T09:31:07.604987Z"
    }
   },
   "cell_type": "code",
   "source": "store[\"obj1\"] = frame",
   "id": "70a03cfbce6a14e9",
   "execution_count": 6,
   "outputs": []
  },
  {
   "metadata": {
    "ExecuteTime": {
     "end_time": "2024-06-12T09:31:25.993208Z",
     "start_time": "2024-06-12T09:31:25.985473Z"
    }
   },
   "cell_type": "code",
   "source": "store[\"obj1_col\"] = frame[\"a\"]",
   "id": "fd70a528b137e39d",
   "execution_count": 7,
   "outputs": []
  },
  {
   "metadata": {
    "ExecuteTime": {
     "end_time": "2024-06-12T09:31:27.762118Z",
     "start_time": "2024-06-12T09:31:27.757642Z"
    }
   },
   "cell_type": "code",
   "source": "store",
   "id": "66c810d4e50c61b1",
   "execution_count": 8,
   "outputs": []
  },
  {
   "metadata": {
    "ExecuteTime": {
     "end_time": "2024-06-12T09:31:48.295523Z",
     "start_time": "2024-06-12T09:31:48.279556Z"
    }
   },
   "cell_type": "code",
   "source": "store[\"obj1\"]",
   "id": "401461feb3b4bef7",
   "execution_count": 9,
   "outputs": []
  },
  {
   "metadata": {
    "ExecuteTime": {
     "end_time": "2024-06-12T09:32:16.436678Z",
     "start_time": "2024-06-12T09:32:16.410496Z"
    }
   },
   "cell_type": "code",
   "source": "store.put(\"obj2\", frame, format=\"table\")",
   "id": "25248a327f121e0d",
   "execution_count": 10,
   "outputs": []
  },
  {
   "metadata": {
    "ExecuteTime": {
     "end_time": "2024-06-12T09:32:56.793651Z",
     "start_time": "2024-06-12T09:32:56.784340Z"
    }
   },
   "cell_type": "code",
   "source": "store.select(\"obj2\", where=[\"index >= 10 and index <= 15\"])",
   "id": "c66dea45a765042",
   "execution_count": 12,
   "outputs": []
  },
  {
   "metadata": {
    "ExecuteTime": {
     "end_time": "2024-06-12T09:33:06.687070Z",
     "start_time": "2024-06-12T09:33:06.679669Z"
    }
   },
   "cell_type": "code",
   "source": "store.close()",
   "id": "288d55ea15d9ceb1",
   "execution_count": 13,
   "outputs": []
  },
  {
   "metadata": {
    "ExecuteTime": {
     "end_time": "2024-06-12T09:33:16.541045Z",
     "start_time": "2024-06-12T09:33:16.531622Z"
    }
   },
   "cell_type": "code",
   "source": "frame",
   "id": "7a639c7a6edbc20d",
   "execution_count": 14,
   "outputs": []
  },
  {
   "metadata": {
    "ExecuteTime": {
     "end_time": "2024-06-12T09:36:51.821214Z",
     "start_time": "2024-06-12T09:36:51.800560Z"
    }
   },
   "cell_type": "code",
   "source": "frame.to_hdf(\"examples/mydata.h5\", \"obj3\", format=\"table\")",
   "id": "cda9430347c1a424",
   "execution_count": 19,
   "outputs": []
  },
  {
   "metadata": {
    "ExecuteTime": {
     "end_time": "2024-06-12T09:37:13.212393Z",
     "start_time": "2024-06-12T09:37:13.167319Z"
    }
   },
   "cell_type": "code",
   "source": "pd.read_hdf(\"examples/mydata.h5\",\"obj3\", where=[\"index < 5\"])",
   "id": "1b743fde8af8e515",
   "execution_count": 20,
   "outputs": []
  },
  {
   "metadata": {
    "ExecuteTime": {
     "end_time": "2024-06-12T09:37:37.200251Z",
     "start_time": "2024-06-12T09:37:37.194289Z"
    }
   },
   "cell_type": "code",
   "source": [
    "import os\n",
    "os.remove(\"examples/mydata.h5\")"
   ],
   "id": "d3be3c92df1ee494",
   "execution_count": 21,
   "outputs": []
  },
  {
   "metadata": {
    "ExecuteTime": {
     "end_time": "2024-06-12T09:38:58.736930Z",
     "start_time": "2024-06-12T09:38:58.653603Z"
    }
   },
   "cell_type": "code",
   "source": "import requests",
   "id": "5fb3023e8b41c9ef",
   "execution_count": 22,
   "outputs": []
  },
  {
   "metadata": {
    "ExecuteTime": {
     "end_time": "2024-06-12T09:40:31.985667Z",
     "start_time": "2024-06-12T09:40:31.980618Z"
    }
   },
   "cell_type": "code",
   "source": "url = \"https://api.github.com/repos/pandas-dev/pandas/issues\"",
   "id": "ed360f43451a0bbd",
   "execution_count": 26,
   "outputs": []
  },
  {
   "metadata": {
    "ExecuteTime": {
     "end_time": "2024-06-12T09:40:34.401549Z",
     "start_time": "2024-06-12T09:40:33.253708Z"
    }
   },
   "cell_type": "code",
   "source": "resp = requests.get(url)",
   "id": "bdb906d09ffd3fc1",
   "execution_count": 27,
   "outputs": []
  },
  {
   "metadata": {
    "ExecuteTime": {
     "end_time": "2024-06-12T09:40:35.106127Z",
     "start_time": "2024-06-12T09:40:35.103825Z"
    }
   },
   "cell_type": "code",
   "source": "resp.raise_for_status()",
   "id": "2a81e562d5daf91a",
   "execution_count": 28,
   "outputs": []
  },
  {
   "metadata": {
    "ExecuteTime": {
     "end_time": "2024-06-12T09:40:42.781884Z",
     "start_time": "2024-06-12T09:40:42.779352Z"
    }
   },
   "cell_type": "code",
   "source": "resp",
   "id": "54709f0fb2d6b0e0",
   "execution_count": 30,
   "outputs": []
  },
  {
   "metadata": {
    "ExecuteTime": {
     "end_time": "2024-06-12T09:40:51.779320Z",
     "start_time": "2024-06-12T09:40:51.773912Z"
    }
   },
   "cell_type": "code",
   "source": "data = resp.json()",
   "id": "cc6d70daf636838f",
   "execution_count": 31,
   "outputs": []
  },
  {
   "metadata": {
    "ExecuteTime": {
     "end_time": "2024-06-12T09:40:55.515253Z",
     "start_time": "2024-06-12T09:40:55.487746Z"
    }
   },
   "cell_type": "code",
   "source": "data",
   "id": "24182299919d8658",
   "execution_count": 32,
   "outputs": []
  },
  {
   "metadata": {
    "ExecuteTime": {
     "end_time": "2024-06-12T09:41:10.189804Z",
     "start_time": "2024-06-12T09:41:10.184479Z"
    }
   },
   "cell_type": "code",
   "source": "data[0][\"title\"]",
   "id": "8ae0a34edd50c3e2",
   "execution_count": 33,
   "outputs": []
  },
  {
   "metadata": {
    "ExecuteTime": {
     "end_time": "2024-06-12T09:41:59.331678Z",
     "start_time": "2024-06-12T09:41:59.325050Z"
    }
   },
   "cell_type": "code",
   "source": "issues = pd.DataFrame(data, columns=[\"number\", \"title\", \"labels\", \"state\"])",
   "id": "de4fbafe6aa78982",
   "execution_count": 34,
   "outputs": []
  },
  {
   "metadata": {
    "ExecuteTime": {
     "end_time": "2024-06-12T09:42:01.462562Z",
     "start_time": "2024-06-12T09:42:01.448400Z"
    }
   },
   "cell_type": "code",
   "source": "issues",
   "id": "d83ed7828b0ad5d8",
   "execution_count": 35,
   "outputs": []
  },
  {
   "metadata": {
    "ExecuteTime": {
     "end_time": "2024-06-12T09:44:40.444459Z",
     "start_time": "2024-06-12T09:44:40.440536Z"
    }
   },
   "cell_type": "code",
   "source": "import sqlite3",
   "id": "ea116308db35eac1",
   "execution_count": 38,
   "outputs": []
  },
  {
   "metadata": {
    "ExecuteTime": {
     "end_time": "2024-06-12T09:44:28.161087Z",
     "start_time": "2024-06-12T09:44:28.142586Z"
    }
   },
   "cell_type": "code",
   "source": [
    "query = \"\"\"\n",
    "create table test(\n",
    "a varchar(20) ,\n",
    "b varchar(20),\n",
    "c real,\n",
    "d integer\n",
    ");\n",
    "\"\"\""
   ],
   "id": "2173c6b3cbe19f7b",
   "execution_count": 37,
   "outputs": []
  },
  {
   "metadata": {
    "ExecuteTime": {
     "end_time": "2024-06-12T09:44:59.968880Z",
     "start_time": "2024-06-12T09:44:59.965022Z"
    }
   },
   "cell_type": "code",
   "source": "con = sqlite3.connect(\"mydata.sqlite\")",
   "id": "eaf856fa108f4e57",
   "execution_count": 39,
   "outputs": []
  },
  {
   "metadata": {
    "ExecuteTime": {
     "end_time": "2024-06-12T09:45:08.127439Z",
     "start_time": "2024-06-12T09:45:08.122981Z"
    }
   },
   "cell_type": "code",
   "source": "con.execute(query)",
   "id": "b7ba0097b973f5a8",
   "execution_count": 40,
   "outputs": []
  },
  {
   "metadata": {
    "ExecuteTime": {
     "end_time": "2024-06-12T09:45:20.159750Z",
     "start_time": "2024-06-12T09:45:20.157348Z"
    }
   },
   "cell_type": "code",
   "source": "con.commit()",
   "id": "c072fffc2ac338f2",
   "execution_count": 41,
   "outputs": []
  },
  {
   "metadata": {
    "ExecuteTime": {
     "end_time": "2024-06-12T09:46:42.797372Z",
     "start_time": "2024-06-12T09:46:42.788867Z"
    }
   },
   "cell_type": "code",
   "source": [
    "data = [\n",
    "    (\"Atlanta\", \"Georgia\", 1.25, 6),\n",
    "    (\"Tallahassee\", \"Florida\", 2.6, 3),\n",
    "    (\"Sacramento\", \"California\", 1.7, 5)\n",
    "]"
   ],
   "id": "23fdb92de639a6d4",
   "execution_count": 42,
   "outputs": []
  },
  {
   "metadata": {
    "ExecuteTime": {
     "end_time": "2024-06-12T09:47:23.925195Z",
     "start_time": "2024-06-12T09:47:23.921562Z"
    }
   },
   "cell_type": "code",
   "source": "stmt = \"insert into test values(?, ?, ? , ?)\"",
   "id": "a654326c819b60d9",
   "execution_count": 43,
   "outputs": []
  },
  {
   "metadata": {
    "ExecuteTime": {
     "end_time": "2024-06-12T09:47:39.946218Z",
     "start_time": "2024-06-12T09:47:39.941086Z"
    }
   },
   "cell_type": "code",
   "source": "con.executemany(stmt, data)",
   "id": "4b14a96156ed56bc",
   "execution_count": 44,
   "outputs": []
  },
  {
   "metadata": {
    "ExecuteTime": {
     "end_time": "2024-06-12T09:47:46.857008Z",
     "start_time": "2024-06-12T09:47:46.853037Z"
    }
   },
   "cell_type": "code",
   "source": "con.commit()",
   "id": "94c96b3d37f23065",
   "execution_count": 45,
   "outputs": []
  },
  {
   "metadata": {
    "ExecuteTime": {
     "end_time": "2024-06-12T09:48:02.623698Z",
     "start_time": "2024-06-12T09:48:02.619451Z"
    }
   },
   "cell_type": "code",
   "source": "cursor = con.execute(\"select * from test\")",
   "id": "65b4a95e1a08eb95",
   "execution_count": 46,
   "outputs": []
  },
  {
   "metadata": {
    "ExecuteTime": {
     "end_time": "2024-06-12T09:48:09.312787Z",
     "start_time": "2024-06-12T09:48:09.310630Z"
    }
   },
   "cell_type": "code",
   "source": "rows = cursor.fetchall()",
   "id": "b497716b841786fb",
   "execution_count": 47,
   "outputs": []
  },
  {
   "metadata": {
    "ExecuteTime": {
     "end_time": "2024-06-12T09:48:11.647459Z",
     "start_time": "2024-06-12T09:48:11.644658Z"
    }
   },
   "cell_type": "code",
   "source": "rows",
   "id": "5270d0e39841fbea",
   "execution_count": 48,
   "outputs": []
  },
  {
   "metadata": {
    "ExecuteTime": {
     "end_time": "2024-06-12T09:48:24.342170Z",
     "start_time": "2024-06-12T09:48:24.337353Z"
    }
   },
   "cell_type": "code",
   "source": "cursor.description",
   "id": "927606ef38cce705",
   "execution_count": 49,
   "outputs": []
  },
  {
   "metadata": {
    "ExecuteTime": {
     "end_time": "2024-06-12T09:48:52.021657Z",
     "start_time": "2024-06-12T09:48:52.012813Z"
    }
   },
   "cell_type": "code",
   "source": "pd.DataFrame(rows, columns=[x[0] for x in cursor.description])",
   "id": "28bd5dbb2850c622",
   "execution_count": 50,
   "outputs": []
  },
  {
   "metadata": {
    "ExecuteTime": {
     "end_time": "2024-06-12T09:49:38.333183Z",
     "start_time": "2024-06-12T09:49:38.136602Z"
    }
   },
   "cell_type": "code",
   "source": "import sqlalchemy as sqla",
   "id": "fdf6d34f6bce580",
   "execution_count": 51,
   "outputs": []
  },
  {
   "metadata": {
    "ExecuteTime": {
     "end_time": "2024-06-12T09:49:46.796486Z",
     "start_time": "2024-06-12T09:49:46.784432Z"
    }
   },
   "cell_type": "code",
   "source": "db = sqla.create_engine(\"sqlite:///mydata.sqlite\")",
   "id": "63a18b5ed4f7a49a",
   "execution_count": 52,
   "outputs": []
  },
  {
   "metadata": {
    "ExecuteTime": {
     "end_time": "2024-06-12T09:50:03.892790Z",
     "start_time": "2024-06-12T09:50:03.879876Z"
    }
   },
   "cell_type": "code",
   "source": "pd.read_sql(\"select * from test\", db)",
   "id": "20f3a3831c6f40ce",
   "execution_count": 53,
   "outputs": []
  },
  {
   "metadata": {},
   "cell_type": "code",
   "execution_count": null,
   "source": "",
   "id": "77bd8610d538d2ca",
   "outputs": []
  }
 ],
 "metadata": {
  "kernelspec": {
   "display_name": "Python 3",
   "language": "python",
   "name": "python3"
  },
  "language_info": {
   "codemirror_mode": {
    "name": "ipython",
    "version": 2
   },
   "file_extension": ".py",
   "mimetype": "text/x-python",
   "name": "python",
   "nbconvert_exporter": "python",
   "pygments_lexer": "ipython2",
   "version": "2.7.6"
  }
 },
 "nbformat": 4,
 "nbformat_minor": 5
}
