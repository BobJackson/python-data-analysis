{
 "cells": [
  {
   "cell_type": "code",
   "id": "initial_id",
   "metadata": {
    "collapsed": true,
    "ExecuteTime": {
     "end_time": "2024-06-14T09:37:35.073643Z",
     "start_time": "2024-06-14T09:37:34.422526Z"
    }
   },
   "source": [
    "import numpy as np\n",
    "import pandas as pd"
   ],
   "outputs": [],
   "execution_count": 1
  },
  {
   "metadata": {
    "ExecuteTime": {
     "end_time": "2024-06-14T09:37:46.516669Z",
     "start_time": "2024-06-14T09:37:46.511343Z"
    }
   },
   "cell_type": "code",
   "source": "from datetime import datetime",
   "id": "cd80bff2fdc0b52f",
   "outputs": [],
   "execution_count": 2
  },
  {
   "metadata": {
    "ExecuteTime": {
     "end_time": "2024-06-14T09:37:51.905909Z",
     "start_time": "2024-06-14T09:37:51.903762Z"
    }
   },
   "cell_type": "code",
   "source": "now = datetime.now()",
   "id": "251678777672bc91",
   "outputs": [],
   "execution_count": 3
  },
  {
   "metadata": {
    "ExecuteTime": {
     "end_time": "2024-06-14T09:37:56.939857Z",
     "start_time": "2024-06-14T09:37:56.930103Z"
    }
   },
   "cell_type": "code",
   "source": "now",
   "id": "54205a7d6d9195c9",
   "outputs": [
    {
     "data": {
      "text/plain": [
       "datetime.datetime(2024, 6, 14, 17, 37, 51, 904465)"
      ]
     },
     "execution_count": 4,
     "metadata": {},
     "output_type": "execute_result"
    }
   ],
   "execution_count": 4
  },
  {
   "metadata": {
    "ExecuteTime": {
     "end_time": "2024-06-14T09:38:13.869823Z",
     "start_time": "2024-06-14T09:38:13.866765Z"
    }
   },
   "cell_type": "code",
   "source": "now.year, now.month, now.day",
   "id": "e84f8fec775adace",
   "outputs": [
    {
     "data": {
      "text/plain": [
       "(2024, 6, 14)"
      ]
     },
     "execution_count": 5,
     "metadata": {},
     "output_type": "execute_result"
    }
   ],
   "execution_count": 5
  },
  {
   "metadata": {
    "ExecuteTime": {
     "end_time": "2024-06-14T09:38:53.893368Z",
     "start_time": "2024-06-14T09:38:53.889369Z"
    }
   },
   "cell_type": "code",
   "source": "delta = datetime(2011, 1, 7) - datetime(2008, 6, 24, 8, 15)",
   "id": "825f4878b898130e",
   "outputs": [],
   "execution_count": 6
  },
  {
   "metadata": {
    "ExecuteTime": {
     "end_time": "2024-06-14T09:38:56.464153Z",
     "start_time": "2024-06-14T09:38:56.460800Z"
    }
   },
   "cell_type": "code",
   "source": "delta",
   "id": "ed025f8957810f6e",
   "outputs": [
    {
     "data": {
      "text/plain": [
       "datetime.timedelta(days=926, seconds=56700)"
      ]
     },
     "execution_count": 7,
     "metadata": {},
     "output_type": "execute_result"
    }
   ],
   "execution_count": 7
  },
  {
   "metadata": {
    "ExecuteTime": {
     "end_time": "2024-06-14T09:39:14.657850Z",
     "start_time": "2024-06-14T09:39:14.652307Z"
    }
   },
   "cell_type": "code",
   "source": "delta.days",
   "id": "97bfa05cb45dd6e9",
   "outputs": [
    {
     "data": {
      "text/plain": [
       "926"
      ]
     },
     "execution_count": 8,
     "metadata": {},
     "output_type": "execute_result"
    }
   ],
   "execution_count": 8
  },
  {
   "metadata": {
    "ExecuteTime": {
     "end_time": "2024-06-14T09:39:20.293453Z",
     "start_time": "2024-06-14T09:39:20.290035Z"
    }
   },
   "cell_type": "code",
   "source": "delta.seconds",
   "id": "85d4fa035e14deb0",
   "outputs": [
    {
     "data": {
      "text/plain": [
       "56700"
      ]
     },
     "execution_count": 9,
     "metadata": {},
     "output_type": "execute_result"
    }
   ],
   "execution_count": 9
  },
  {
   "metadata": {
    "ExecuteTime": {
     "end_time": "2024-06-14T09:39:46.887036Z",
     "start_time": "2024-06-14T09:39:46.883372Z"
    }
   },
   "cell_type": "code",
   "source": "24 * 3600",
   "id": "1ff2b51c58a0c28b",
   "outputs": [
    {
     "data": {
      "text/plain": [
       "86400"
      ]
     },
     "execution_count": 10,
     "metadata": {},
     "output_type": "execute_result"
    }
   ],
   "execution_count": 10
  },
  {
   "metadata": {
    "ExecuteTime": {
     "end_time": "2024-06-14T09:40:13.227509Z",
     "start_time": "2024-06-14T09:40:13.224974Z"
    }
   },
   "cell_type": "code",
   "source": "from datetime import timedelta",
   "id": "5d4f80581e013673",
   "outputs": [],
   "execution_count": 11
  },
  {
   "metadata": {
    "ExecuteTime": {
     "end_time": "2024-06-14T09:40:23.543197Z",
     "start_time": "2024-06-14T09:40:23.541030Z"
    }
   },
   "cell_type": "code",
   "source": "start = datetime(2011, 1, 7)",
   "id": "8780034c5702d8c5",
   "outputs": [],
   "execution_count": 12
  },
  {
   "metadata": {
    "ExecuteTime": {
     "end_time": "2024-06-14T09:40:33.378736Z",
     "start_time": "2024-06-14T09:40:33.375352Z"
    }
   },
   "cell_type": "code",
   "source": "start + timedelta(12)",
   "id": "710a71af753f5e81",
   "outputs": [
    {
     "data": {
      "text/plain": [
       "datetime.datetime(2011, 1, 19, 0, 0)"
      ]
     },
     "execution_count": 13,
     "metadata": {},
     "output_type": "execute_result"
    }
   ],
   "execution_count": 13
  },
  {
   "metadata": {
    "ExecuteTime": {
     "end_time": "2024-06-14T09:40:52.050147Z",
     "start_time": "2024-06-14T09:40:52.047312Z"
    }
   },
   "cell_type": "code",
   "source": "start - 2 * timedelta(12)",
   "id": "f018ac1f3bc41b05",
   "outputs": [
    {
     "data": {
      "text/plain": [
       "datetime.datetime(2010, 12, 14, 0, 0)"
      ]
     },
     "execution_count": 14,
     "metadata": {},
     "output_type": "execute_result"
    }
   ],
   "execution_count": 14
  },
  {
   "metadata": {
    "ExecuteTime": {
     "end_time": "2024-06-14T09:41:25.809128Z",
     "start_time": "2024-06-14T09:41:25.802778Z"
    }
   },
   "cell_type": "code",
   "source": "stamp = datetime(2011, 1, 3)",
   "id": "ab8ddfac4831fee1",
   "outputs": [],
   "execution_count": 15
  },
  {
   "metadata": {
    "ExecuteTime": {
     "end_time": "2024-06-14T09:41:29.994807Z",
     "start_time": "2024-06-14T09:41:29.991980Z"
    }
   },
   "cell_type": "code",
   "source": "str(stamp)",
   "id": "3fbd0c9b62037fa9",
   "outputs": [
    {
     "data": {
      "text/plain": [
       "'2011-01-03 00:00:00'"
      ]
     },
     "execution_count": 16,
     "metadata": {},
     "output_type": "execute_result"
    }
   ],
   "execution_count": 16
  },
  {
   "metadata": {
    "ExecuteTime": {
     "end_time": "2024-06-14T09:41:55.314757Z",
     "start_time": "2024-06-14T09:41:55.297590Z"
    }
   },
   "cell_type": "code",
   "source": "stamp.strftime(\"%Y-%m-%d\")",
   "id": "37e7a438260585ad",
   "outputs": [
    {
     "data": {
      "text/plain": [
       "'2011-01-03'"
      ]
     },
     "execution_count": 17,
     "metadata": {},
     "output_type": "execute_result"
    }
   ],
   "execution_count": 17
  },
  {
   "metadata": {
    "ExecuteTime": {
     "end_time": "2024-06-14T09:47:33.753079Z",
     "start_time": "2024-06-14T09:47:33.749222Z"
    }
   },
   "cell_type": "code",
   "source": "value = \"2011-01-03\"",
   "id": "bb1d775dc400a2b7",
   "outputs": [],
   "execution_count": 18
  },
  {
   "metadata": {
    "ExecuteTime": {
     "end_time": "2024-06-14T09:48:04.076644Z",
     "start_time": "2024-06-14T09:48:04.070522Z"
    }
   },
   "cell_type": "code",
   "source": "datetime.strptime(value, \"%Y-%m-%d\")",
   "id": "2853cbf6ab96fc78",
   "outputs": [
    {
     "data": {
      "text/plain": [
       "datetime.datetime(2011, 1, 3, 0, 0)"
      ]
     },
     "execution_count": 19,
     "metadata": {},
     "output_type": "execute_result"
    }
   ],
   "execution_count": 19
  },
  {
   "metadata": {
    "ExecuteTime": {
     "end_time": "2024-06-14T09:48:36.129062Z",
     "start_time": "2024-06-14T09:48:36.125383Z"
    }
   },
   "cell_type": "code",
   "source": "datestrs = [\"7/6/2011\", \"8/6/2011\"]",
   "id": "37a8776ef09d2c65",
   "outputs": [],
   "execution_count": 20
  },
  {
   "metadata": {
    "ExecuteTime": {
     "end_time": "2024-06-14T09:49:27.183409Z",
     "start_time": "2024-06-14T09:49:27.176682Z"
    }
   },
   "cell_type": "code",
   "source": "[datetime.strptime(x, \"%m/%d/%Y\") for x in datestrs]",
   "id": "54ea51ad235ae60",
   "outputs": [
    {
     "data": {
      "text/plain": [
       "[datetime.datetime(2011, 7, 6, 0, 0), datetime.datetime(2011, 8, 6, 0, 0)]"
      ]
     },
     "execution_count": 21,
     "metadata": {},
     "output_type": "execute_result"
    }
   ],
   "execution_count": 21
  },
  {
   "metadata": {
    "ExecuteTime": {
     "end_time": "2024-06-14T09:50:20.011209Z",
     "start_time": "2024-06-14T09:50:20.007467Z"
    }
   },
   "cell_type": "code",
   "source": "datestrs = [\"2011-07-06 12:00:00\", \"2011-08-06 00:00:00\"]",
   "id": "f79e628cdab297c2",
   "outputs": [],
   "execution_count": 22
  },
  {
   "metadata": {
    "ExecuteTime": {
     "end_time": "2024-06-14T09:50:31.924471Z",
     "start_time": "2024-06-14T09:50:31.908793Z"
    }
   },
   "cell_type": "code",
   "source": "pd.to_datetime(datestrs)",
   "id": "69cf811dc8c756f",
   "outputs": [
    {
     "data": {
      "text/plain": [
       "DatetimeIndex(['2011-07-06 12:00:00', '2011-08-06 00:00:00'], dtype='datetime64[ns]', freq=None)"
      ]
     },
     "execution_count": 23,
     "metadata": {},
     "output_type": "execute_result"
    }
   ],
   "execution_count": 23
  },
  {
   "metadata": {
    "ExecuteTime": {
     "end_time": "2024-06-14T09:53:01.301483Z",
     "start_time": "2024-06-14T09:53:01.293884Z"
    }
   },
   "cell_type": "code",
   "source": "idx = pd.to_datetime(datestrs + [None])",
   "id": "ab740955d2048034",
   "outputs": [],
   "execution_count": 24
  },
  {
   "metadata": {
    "ExecuteTime": {
     "end_time": "2024-06-14T09:53:03.925097Z",
     "start_time": "2024-06-14T09:53:03.922160Z"
    }
   },
   "cell_type": "code",
   "source": "idx",
   "id": "7aa989a13160b3b0",
   "outputs": [
    {
     "data": {
      "text/plain": [
       "DatetimeIndex(['2011-07-06 12:00:00', '2011-08-06 00:00:00', 'NaT'], dtype='datetime64[ns]', freq=None)"
      ]
     },
     "execution_count": 25,
     "metadata": {},
     "output_type": "execute_result"
    }
   ],
   "execution_count": 25
  },
  {
   "metadata": {
    "ExecuteTime": {
     "end_time": "2024-06-14T09:53:09.829152Z",
     "start_time": "2024-06-14T09:53:09.826378Z"
    }
   },
   "cell_type": "code",
   "source": "idx[2]",
   "id": "42d64e46ebbddeb",
   "outputs": [
    {
     "data": {
      "text/plain": [
       "NaT"
      ]
     },
     "execution_count": 26,
     "metadata": {},
     "output_type": "execute_result"
    }
   ],
   "execution_count": 26
  },
  {
   "metadata": {
    "ExecuteTime": {
     "end_time": "2024-06-14T09:53:21.352293Z",
     "start_time": "2024-06-14T09:53:21.348831Z"
    }
   },
   "cell_type": "code",
   "source": "pd.isna(idx)",
   "id": "b89cfc5bb4d46ae6",
   "outputs": [
    {
     "data": {
      "text/plain": [
       "array([False, False,  True])"
      ]
     },
     "execution_count": 27,
     "metadata": {},
     "output_type": "execute_result"
    }
   ],
   "execution_count": 27
  },
  {
   "metadata": {
    "ExecuteTime": {
     "end_time": "2024-06-14T09:56:02.098202Z",
     "start_time": "2024-06-14T09:56:02.087537Z"
    }
   },
   "cell_type": "code",
   "source": [
    "dates = [datetime(2011, 1, 2), datetime(2011, 1, 5),\n",
    "         datetime(2011, 1, 7), datetime(2011, 1, 8),\n",
    "         datetime(2011, 1, 10), datetime(2011, 1, 12)]"
   ],
   "id": "e965458bfe836483",
   "outputs": [],
   "execution_count": 28
  },
  {
   "metadata": {
    "ExecuteTime": {
     "end_time": "2024-06-14T09:56:27.296785Z",
     "start_time": "2024-06-14T09:56:27.288723Z"
    }
   },
   "cell_type": "code",
   "source": "ts = pd.Series(np.random.standard_normal(6), index=dates)",
   "id": "a1615074dc6b54df",
   "outputs": [],
   "execution_count": 29
  },
  {
   "metadata": {
    "ExecuteTime": {
     "end_time": "2024-06-14T09:56:28.551219Z",
     "start_time": "2024-06-14T09:56:28.545776Z"
    }
   },
   "cell_type": "code",
   "source": "ts",
   "id": "41a4ca9e007aac30",
   "outputs": [
    {
     "data": {
      "text/plain": [
       "2011-01-02    1.683530\n",
       "2011-01-05   -1.268499\n",
       "2011-01-07    0.329314\n",
       "2011-01-08   -0.000999\n",
       "2011-01-10    1.167370\n",
       "2011-01-12   -0.096150\n",
       "dtype: float64"
      ]
     },
     "execution_count": 30,
     "metadata": {},
     "output_type": "execute_result"
    }
   ],
   "execution_count": 30
  },
  {
   "metadata": {
    "ExecuteTime": {
     "end_time": "2024-06-14T09:57:01.900632Z",
     "start_time": "2024-06-14T09:57:01.894265Z"
    }
   },
   "cell_type": "code",
   "source": "ts.index",
   "id": "d60ddd0de08c31c0",
   "outputs": [
    {
     "data": {
      "text/plain": [
       "DatetimeIndex(['2011-01-02', '2011-01-05', '2011-01-07', '2011-01-08',\n",
       "               '2011-01-10', '2011-01-12'],\n",
       "              dtype='datetime64[ns]', freq=None)"
      ]
     },
     "execution_count": 31,
     "metadata": {},
     "output_type": "execute_result"
    }
   ],
   "execution_count": 31
  },
  {
   "metadata": {
    "ExecuteTime": {
     "end_time": "2024-06-14T09:57:19.438939Z",
     "start_time": "2024-06-14T09:57:19.424994Z"
    }
   },
   "cell_type": "code",
   "source": "ts + ts[::2]",
   "id": "31a3b3aca28b6e56",
   "outputs": [
    {
     "data": {
      "text/plain": [
       "2011-01-02    3.367060\n",
       "2011-01-05         NaN\n",
       "2011-01-07    0.658627\n",
       "2011-01-08         NaN\n",
       "2011-01-10    2.334740\n",
       "2011-01-12         NaN\n",
       "dtype: float64"
      ]
     },
     "execution_count": 32,
     "metadata": {},
     "output_type": "execute_result"
    }
   ],
   "execution_count": 32
  },
  {
   "metadata": {
    "ExecuteTime": {
     "end_time": "2024-06-14T09:57:33.887315Z",
     "start_time": "2024-06-14T09:57:33.884129Z"
    }
   },
   "cell_type": "code",
   "source": "ts.index.dtype",
   "id": "51ca54bae22b6ef4",
   "outputs": [
    {
     "data": {
      "text/plain": [
       "dtype('<M8[ns]')"
      ]
     },
     "execution_count": 33,
     "metadata": {},
     "output_type": "execute_result"
    }
   ],
   "execution_count": 33
  },
  {
   "metadata": {
    "ExecuteTime": {
     "end_time": "2024-06-14T09:57:50.533704Z",
     "start_time": "2024-06-14T09:57:50.529206Z"
    }
   },
   "cell_type": "code",
   "source": "stamp = ts.index[0]",
   "id": "b8533c1c14345627",
   "outputs": [],
   "execution_count": 34
  },
  {
   "metadata": {
    "ExecuteTime": {
     "end_time": "2024-06-14T09:57:53.717742Z",
     "start_time": "2024-06-14T09:57:53.713343Z"
    }
   },
   "cell_type": "code",
   "source": "stamp",
   "id": "47d5e2e3b605347b",
   "outputs": [
    {
     "data": {
      "text/plain": [
       "Timestamp('2011-01-02 00:00:00')"
      ]
     },
     "execution_count": 35,
     "metadata": {},
     "output_type": "execute_result"
    }
   ],
   "execution_count": 35
  },
  {
   "metadata": {
    "ExecuteTime": {
     "end_time": "2024-06-14T09:58:31.055103Z",
     "start_time": "2024-06-14T09:58:31.048258Z"
    }
   },
   "cell_type": "code",
   "source": "stamp = ts.index[2]",
   "id": "e2e180fa4f1225de",
   "outputs": [],
   "execution_count": 36
  },
  {
   "metadata": {
    "ExecuteTime": {
     "end_time": "2024-06-14T09:58:36.823494Z",
     "start_time": "2024-06-14T09:58:36.815860Z"
    }
   },
   "cell_type": "code",
   "source": "ts[stamp]",
   "id": "9c5490f389b4cc0",
   "outputs": [
    {
     "data": {
      "text/plain": [
       "0.3293137149138677"
      ]
     },
     "execution_count": 37,
     "metadata": {},
     "output_type": "execute_result"
    }
   ],
   "execution_count": 37
  },
  {
   "metadata": {
    "ExecuteTime": {
     "end_time": "2024-06-14T09:58:55.412186Z",
     "start_time": "2024-06-14T09:58:55.404799Z"
    }
   },
   "cell_type": "code",
   "source": "ts[\"2011-01-10\"]",
   "id": "f5fc90c2d8a61c28",
   "outputs": [
    {
     "data": {
      "text/plain": [
       "1.1673700929171842"
      ]
     },
     "execution_count": 38,
     "metadata": {},
     "output_type": "execute_result"
    }
   ],
   "execution_count": 38
  },
  {
   "metadata": {
    "ExecuteTime": {
     "end_time": "2024-06-14T09:59:56.081215Z",
     "start_time": "2024-06-14T09:59:56.072779Z"
    }
   },
   "cell_type": "code",
   "source": [
    "longer_ts = pd.Series(np.random.standard_normal(1000),\n",
    "                      index=pd.date_range(\"2000-01-01\", periods=1000))"
   ],
   "id": "961d335b1d495bf",
   "outputs": [],
   "execution_count": 39
  },
  {
   "metadata": {
    "ExecuteTime": {
     "end_time": "2024-06-14T10:00:02.195225Z",
     "start_time": "2024-06-14T10:00:02.190390Z"
    }
   },
   "cell_type": "code",
   "source": "longer_ts",
   "id": "fd73dbdf9cb62194",
   "outputs": [
    {
     "data": {
      "text/plain": [
       "2000-01-01   -1.925643\n",
       "2000-01-02    1.897129\n",
       "2000-01-03    0.752236\n",
       "2000-01-04   -2.271636\n",
       "2000-01-05   -0.530915\n",
       "                ...   \n",
       "2002-09-22   -0.039606\n",
       "2002-09-23    0.573902\n",
       "2002-09-24    0.483153\n",
       "2002-09-25   -0.183888\n",
       "2002-09-26   -1.535947\n",
       "Freq: D, Length: 1000, dtype: float64"
      ]
     },
     "execution_count": 40,
     "metadata": {},
     "output_type": "execute_result"
    }
   ],
   "execution_count": 40
  },
  {
   "metadata": {
    "ExecuteTime": {
     "end_time": "2024-06-14T10:00:35.925094Z",
     "start_time": "2024-06-14T10:00:35.918032Z"
    }
   },
   "cell_type": "code",
   "source": "longer_ts[\"2001\"]",
   "id": "684e84b76d1d719e",
   "outputs": [
    {
     "data": {
      "text/plain": [
       "2001-01-01   -0.521593\n",
       "2001-01-02   -1.230708\n",
       "2001-01-03    0.229982\n",
       "2001-01-04    0.097353\n",
       "2001-01-05    0.195143\n",
       "                ...   \n",
       "2001-12-27   -0.720062\n",
       "2001-12-28    0.428663\n",
       "2001-12-29   -0.159412\n",
       "2001-12-30   -0.567503\n",
       "2001-12-31    0.093012\n",
       "Freq: D, Length: 365, dtype: float64"
      ]
     },
     "execution_count": 41,
     "metadata": {},
     "output_type": "execute_result"
    }
   ],
   "execution_count": 41
  },
  {
   "metadata": {
    "ExecuteTime": {
     "end_time": "2024-06-14T10:00:58.598776Z",
     "start_time": "2024-06-14T10:00:58.593509Z"
    }
   },
   "cell_type": "code",
   "source": "longer_ts[\"2001-05\"]",
   "id": "1e3a1f65587dcf26",
   "outputs": [
    {
     "data": {
      "text/plain": [
       "2001-05-01    2.047698\n",
       "2001-05-02   -0.243237\n",
       "2001-05-03    0.777941\n",
       "2001-05-04    0.047211\n",
       "2001-05-05   -0.274963\n",
       "2001-05-06    1.849300\n",
       "2001-05-07   -0.877340\n",
       "2001-05-08    0.841679\n",
       "2001-05-09   -1.450852\n",
       "2001-05-10   -0.176342\n",
       "2001-05-11    2.692380\n",
       "2001-05-12    1.138777\n",
       "2001-05-13   -0.385627\n",
       "2001-05-14    0.421871\n",
       "2001-05-15    0.243069\n",
       "2001-05-16    0.419912\n",
       "2001-05-17    1.366406\n",
       "2001-05-18    0.471477\n",
       "2001-05-19    2.024442\n",
       "2001-05-20    0.523597\n",
       "2001-05-21   -0.560777\n",
       "2001-05-22   -1.068980\n",
       "2001-05-23    1.147765\n",
       "2001-05-24    1.273224\n",
       "2001-05-25    1.559771\n",
       "2001-05-26    0.423094\n",
       "2001-05-27   -0.301193\n",
       "2001-05-28    0.156362\n",
       "2001-05-29   -0.628718\n",
       "2001-05-30    0.506186\n",
       "2001-05-31    0.733194\n",
       "Freq: D, dtype: float64"
      ]
     },
     "execution_count": 42,
     "metadata": {},
     "output_type": "execute_result"
    }
   ],
   "execution_count": 42
  },
  {
   "metadata": {
    "ExecuteTime": {
     "end_time": "2024-06-14T10:01:32.994677Z",
     "start_time": "2024-06-14T10:01:32.989402Z"
    }
   },
   "cell_type": "code",
   "source": "ts[datetime(2011,1,7):]",
   "id": "d8d925f4beaf7faa",
   "outputs": [
    {
     "data": {
      "text/plain": [
       "2011-01-07    0.329314\n",
       "2011-01-08   -0.000999\n",
       "2011-01-10    1.167370\n",
       "2011-01-12   -0.096150\n",
       "dtype: float64"
      ]
     },
     "execution_count": 43,
     "metadata": {},
     "output_type": "execute_result"
    }
   ],
   "execution_count": 43
  },
  {
   "metadata": {
    "ExecuteTime": {
     "end_time": "2024-06-14T10:02:12.026263Z",
     "start_time": "2024-06-14T10:02:12.018062Z"
    }
   },
   "cell_type": "code",
   "source": "ts[datetime(2011, 1,7):datetime(2011, 1, 10)]",
   "id": "6c234b79132aa3e6",
   "outputs": [
    {
     "data": {
      "text/plain": [
       "2011-01-07    0.329314\n",
       "2011-01-08   -0.000999\n",
       "2011-01-10    1.167370\n",
       "dtype: float64"
      ]
     },
     "execution_count": 44,
     "metadata": {},
     "output_type": "execute_result"
    }
   ],
   "execution_count": 44
  },
  {
   "metadata": {
    "ExecuteTime": {
     "end_time": "2024-06-14T10:02:44.573304Z",
     "start_time": "2024-06-14T10:02:44.569984Z"
    }
   },
   "cell_type": "code",
   "source": "ts",
   "id": "d3a38fadffb837b4",
   "outputs": [
    {
     "data": {
      "text/plain": [
       "2011-01-02    1.683530\n",
       "2011-01-05   -1.268499\n",
       "2011-01-07    0.329314\n",
       "2011-01-08   -0.000999\n",
       "2011-01-10    1.167370\n",
       "2011-01-12   -0.096150\n",
       "dtype: float64"
      ]
     },
     "execution_count": 45,
     "metadata": {},
     "output_type": "execute_result"
    }
   ],
   "execution_count": 45
  },
  {
   "metadata": {
    "ExecuteTime": {
     "end_time": "2024-06-14T10:03:07.773914Z",
     "start_time": "2024-06-14T10:03:07.752308Z"
    }
   },
   "cell_type": "code",
   "source": "ts[\"2011-01-06\":\"2011-01-11\"]",
   "id": "ff42154482349409",
   "outputs": [
    {
     "data": {
      "text/plain": [
       "2011-01-07    0.329314\n",
       "2011-01-08   -0.000999\n",
       "2011-01-10    1.167370\n",
       "dtype: float64"
      ]
     },
     "execution_count": 46,
     "metadata": {},
     "output_type": "execute_result"
    }
   ],
   "execution_count": 46
  },
  {
   "metadata": {
    "ExecuteTime": {
     "end_time": "2024-06-14T10:03:29.439864Z",
     "start_time": "2024-06-14T10:03:29.430108Z"
    }
   },
   "cell_type": "code",
   "source": "ts.truncate(after=\"2011-01-09\")",
   "id": "9ebe998d0ba3ddf1",
   "outputs": [
    {
     "data": {
      "text/plain": [
       "2011-01-02    1.683530\n",
       "2011-01-05   -1.268499\n",
       "2011-01-07    0.329314\n",
       "2011-01-08   -0.000999\n",
       "dtype: float64"
      ]
     },
     "execution_count": 47,
     "metadata": {},
     "output_type": "execute_result"
    }
   ],
   "execution_count": 47
  },
  {
   "metadata": {
    "ExecuteTime": {
     "end_time": "2024-06-14T10:03:30.739745Z",
     "start_time": "2024-06-14T10:03:30.736096Z"
    }
   },
   "cell_type": "code",
   "source": "ts",
   "id": "48ecbed81f4049ac",
   "outputs": [
    {
     "data": {
      "text/plain": [
       "2011-01-02    1.683530\n",
       "2011-01-05   -1.268499\n",
       "2011-01-07    0.329314\n",
       "2011-01-08   -0.000999\n",
       "2011-01-10    1.167370\n",
       "2011-01-12   -0.096150\n",
       "dtype: float64"
      ]
     },
     "execution_count": 48,
     "metadata": {},
     "output_type": "execute_result"
    }
   ],
   "execution_count": 48
  },
  {
   "metadata": {
    "ExecuteTime": {
     "end_time": "2024-06-14T10:05:52.172387Z",
     "start_time": "2024-06-14T10:05:52.163877Z"
    }
   },
   "cell_type": "code",
   "source": "dates = pd.date_range(\"2000-01-01\", periods=100, freq=\"W-WED\")",
   "id": "52af207b453137eb",
   "outputs": [],
   "execution_count": 49
  },
  {
   "metadata": {
    "ExecuteTime": {
     "end_time": "2024-06-14T10:06:49.027538Z",
     "start_time": "2024-06-14T10:06:49.019324Z"
    }
   },
   "cell_type": "code",
   "source": [
    "long_df = pd.DataFrame(np.random.standard_normal((100,4)),\n",
    "                       index=dates,\n",
    "                       columns=[\"Colorado\", \"Texas\", \"New York\", \"Ohio\"])"
   ],
   "id": "3d17837ef78748db",
   "outputs": [],
   "execution_count": 50
  },
  {
   "metadata": {
    "ExecuteTime": {
     "end_time": "2024-06-14T10:07:16.040958Z",
     "start_time": "2024-06-14T10:07:16.013327Z"
    }
   },
   "cell_type": "code",
   "source": "long_df.loc[\"2001-05\"]",
   "id": "37085f06dea6e4b5",
   "outputs": [
    {
     "data": {
      "text/plain": [
       "            Colorado     Texas  New York      Ohio\n",
       "2001-05-02 -2.164954  2.525196 -0.075934 -1.803924\n",
       "2001-05-09 -0.925462  1.361561  1.024993  0.476172\n",
       "2001-05-16  1.227291 -0.866489  0.182795 -1.052219\n",
       "2001-05-23  0.179373  0.529295  2.625567  0.618984\n",
       "2001-05-30  0.844047  0.124977  1.237985 -1.435729"
      ],
      "text/html": [
       "<div>\n",
       "<style scoped>\n",
       "    .dataframe tbody tr th:only-of-type {\n",
       "        vertical-align: middle;\n",
       "    }\n",
       "\n",
       "    .dataframe tbody tr th {\n",
       "        vertical-align: top;\n",
       "    }\n",
       "\n",
       "    .dataframe thead th {\n",
       "        text-align: right;\n",
       "    }\n",
       "</style>\n",
       "<table border=\"1\" class=\"dataframe\">\n",
       "  <thead>\n",
       "    <tr style=\"text-align: right;\">\n",
       "      <th></th>\n",
       "      <th>Colorado</th>\n",
       "      <th>Texas</th>\n",
       "      <th>New York</th>\n",
       "      <th>Ohio</th>\n",
       "    </tr>\n",
       "  </thead>\n",
       "  <tbody>\n",
       "    <tr>\n",
       "      <th>2001-05-02</th>\n",
       "      <td>-2.164954</td>\n",
       "      <td>2.525196</td>\n",
       "      <td>-0.075934</td>\n",
       "      <td>-1.803924</td>\n",
       "    </tr>\n",
       "    <tr>\n",
       "      <th>2001-05-09</th>\n",
       "      <td>-0.925462</td>\n",
       "      <td>1.361561</td>\n",
       "      <td>1.024993</td>\n",
       "      <td>0.476172</td>\n",
       "    </tr>\n",
       "    <tr>\n",
       "      <th>2001-05-16</th>\n",
       "      <td>1.227291</td>\n",
       "      <td>-0.866489</td>\n",
       "      <td>0.182795</td>\n",
       "      <td>-1.052219</td>\n",
       "    </tr>\n",
       "    <tr>\n",
       "      <th>2001-05-23</th>\n",
       "      <td>0.179373</td>\n",
       "      <td>0.529295</td>\n",
       "      <td>2.625567</td>\n",
       "      <td>0.618984</td>\n",
       "    </tr>\n",
       "    <tr>\n",
       "      <th>2001-05-30</th>\n",
       "      <td>0.844047</td>\n",
       "      <td>0.124977</td>\n",
       "      <td>1.237985</td>\n",
       "      <td>-1.435729</td>\n",
       "    </tr>\n",
       "  </tbody>\n",
       "</table>\n",
       "</div>"
      ]
     },
     "execution_count": 51,
     "metadata": {},
     "output_type": "execute_result"
    }
   ],
   "execution_count": 51
  },
  {
   "metadata": {
    "ExecuteTime": {
     "end_time": "2024-06-14T10:08:50.836576Z",
     "start_time": "2024-06-14T10:08:50.809442Z"
    }
   },
   "cell_type": "code",
   "source": "dates = pd.DatetimeIndex([\"2000-01-01\", \"2000-01-02\",\"2000-01-02\",\"2000-01-02\",\"2000-01-03\"])",
   "id": "a69c2533ca09d069",
   "outputs": [],
   "execution_count": 52
  },
  {
   "metadata": {
    "ExecuteTime": {
     "end_time": "2024-06-14T10:09:12.303086Z",
     "start_time": "2024-06-14T10:09:12.295563Z"
    }
   },
   "cell_type": "code",
   "source": "dup_ts = pd.Series(np.arange(5), index=dates)",
   "id": "895013c4f4b2e185",
   "outputs": [],
   "execution_count": 53
  },
  {
   "metadata": {
    "ExecuteTime": {
     "end_time": "2024-06-14T10:09:17.509775Z",
     "start_time": "2024-06-14T10:09:17.506333Z"
    }
   },
   "cell_type": "code",
   "source": "dup_ts",
   "id": "d2d0f53bb8b8ede7",
   "outputs": [
    {
     "data": {
      "text/plain": [
       "2000-01-01    0\n",
       "2000-01-02    1\n",
       "2000-01-02    2\n",
       "2000-01-02    3\n",
       "2000-01-03    4\n",
       "dtype: int64"
      ]
     },
     "execution_count": 54,
     "metadata": {},
     "output_type": "execute_result"
    }
   ],
   "execution_count": 54
  },
  {
   "metadata": {
    "ExecuteTime": {
     "end_time": "2024-06-14T10:10:26.561408Z",
     "start_time": "2024-06-14T10:10:26.556141Z"
    }
   },
   "cell_type": "code",
   "source": "dup_ts.index.is_unique",
   "id": "2d4661b2df80b958",
   "outputs": [
    {
     "data": {
      "text/plain": [
       "False"
      ]
     },
     "execution_count": 55,
     "metadata": {},
     "output_type": "execute_result"
    }
   ],
   "execution_count": 55
  },
  {
   "metadata": {
    "ExecuteTime": {
     "end_time": "2024-06-14T10:11:44.718019Z",
     "start_time": "2024-06-14T10:11:44.711952Z"
    }
   },
   "cell_type": "code",
   "source": "dup_ts[\"2000-01-03\"]",
   "id": "5a2d49c03ed06434",
   "outputs": [
    {
     "data": {
      "text/plain": [
       "4"
      ]
     },
     "execution_count": 56,
     "metadata": {},
     "output_type": "execute_result"
    }
   ],
   "execution_count": 56
  },
  {
   "metadata": {
    "ExecuteTime": {
     "end_time": "2024-06-14T10:11:56.698902Z",
     "start_time": "2024-06-14T10:11:56.694362Z"
    }
   },
   "cell_type": "code",
   "source": "dup_ts[\"2000-01-02\"]",
   "id": "bda70ce4ee4977db",
   "outputs": [
    {
     "data": {
      "text/plain": [
       "2000-01-02    1\n",
       "2000-01-02    2\n",
       "2000-01-02    3\n",
       "dtype: int64"
      ]
     },
     "execution_count": 57,
     "metadata": {},
     "output_type": "execute_result"
    }
   ],
   "execution_count": 57
  },
  {
   "metadata": {
    "ExecuteTime": {
     "end_time": "2024-06-14T10:12:16.054918Z",
     "start_time": "2024-06-14T10:12:16.048486Z"
    }
   },
   "cell_type": "code",
   "source": "grouped = dup_ts.groupby(level=0)",
   "id": "ddd9d3966f82b92a",
   "outputs": [],
   "execution_count": 58
  },
  {
   "metadata": {
    "ExecuteTime": {
     "end_time": "2024-06-14T10:12:21.660625Z",
     "start_time": "2024-06-14T10:12:21.655486Z"
    }
   },
   "cell_type": "code",
   "source": "grouped.mean()",
   "id": "9744555f3b296467",
   "outputs": [
    {
     "data": {
      "text/plain": [
       "2000-01-01    0.0\n",
       "2000-01-02    2.0\n",
       "2000-01-03    4.0\n",
       "dtype: float64"
      ]
     },
     "execution_count": 59,
     "metadata": {},
     "output_type": "execute_result"
    }
   ],
   "execution_count": 59
  },
  {
   "metadata": {
    "ExecuteTime": {
     "end_time": "2024-06-14T10:12:32.469952Z",
     "start_time": "2024-06-14T10:12:32.465864Z"
    }
   },
   "cell_type": "code",
   "source": "grouped.count()",
   "id": "9316abeede5c65da",
   "outputs": [
    {
     "data": {
      "text/plain": [
       "2000-01-01    1\n",
       "2000-01-02    3\n",
       "2000-01-03    1\n",
       "dtype: int64"
      ]
     },
     "execution_count": 60,
     "metadata": {},
     "output_type": "execute_result"
    }
   ],
   "execution_count": 60
  },
  {
   "metadata": {
    "ExecuteTime": {
     "end_time": "2024-06-14T10:13:39.477385Z",
     "start_time": "2024-06-14T10:13:39.469529Z"
    }
   },
   "cell_type": "code",
   "source": "ts",
   "id": "d7b3da823bd6c6d0",
   "outputs": [
    {
     "data": {
      "text/plain": [
       "2011-01-02    1.683530\n",
       "2011-01-05   -1.268499\n",
       "2011-01-07    0.329314\n",
       "2011-01-08   -0.000999\n",
       "2011-01-10    1.167370\n",
       "2011-01-12   -0.096150\n",
       "dtype: float64"
      ]
     },
     "execution_count": 61,
     "metadata": {},
     "output_type": "execute_result"
    }
   ],
   "execution_count": 61
  },
  {
   "metadata": {
    "ExecuteTime": {
     "end_time": "2024-06-14T10:14:03.673140Z",
     "start_time": "2024-06-14T10:14:03.667116Z"
    }
   },
   "cell_type": "code",
   "source": "resampler = ts.resample(\"D\")",
   "id": "162cfd34fb96998c",
   "outputs": [],
   "execution_count": 62
  },
  {
   "metadata": {
    "ExecuteTime": {
     "end_time": "2024-06-14T10:14:06.036724Z",
     "start_time": "2024-06-14T10:14:06.032689Z"
    }
   },
   "cell_type": "code",
   "source": "resampler",
   "id": "49b5b7f0eb541a8b",
   "outputs": [
    {
     "data": {
      "text/plain": [
       "<pandas.core.resample.DatetimeIndexResampler object at 0x1370d4b80>"
      ]
     },
     "execution_count": 63,
     "metadata": {},
     "output_type": "execute_result"
    }
   ],
   "execution_count": 63
  },
  {
   "metadata": {
    "ExecuteTime": {
     "end_time": "2024-06-14T10:15:03.769344Z",
     "start_time": "2024-06-14T10:15:03.758437Z"
    }
   },
   "cell_type": "code",
   "source": "index = pd.date_range(\"2012-04-01\", \"2012-06-01\")",
   "id": "5d570c9b18eee46a",
   "outputs": [],
   "execution_count": 64
  },
  {
   "metadata": {
    "ExecuteTime": {
     "end_time": "2024-06-14T10:15:05.483048Z",
     "start_time": "2024-06-14T10:15:05.480011Z"
    }
   },
   "cell_type": "code",
   "source": "index",
   "id": "42fe47c958699672",
   "outputs": [
    {
     "data": {
      "text/plain": [
       "DatetimeIndex(['2012-04-01', '2012-04-02', '2012-04-03', '2012-04-04',\n",
       "               '2012-04-05', '2012-04-06', '2012-04-07', '2012-04-08',\n",
       "               '2012-04-09', '2012-04-10', '2012-04-11', '2012-04-12',\n",
       "               '2012-04-13', '2012-04-14', '2012-04-15', '2012-04-16',\n",
       "               '2012-04-17', '2012-04-18', '2012-04-19', '2012-04-20',\n",
       "               '2012-04-21', '2012-04-22', '2012-04-23', '2012-04-24',\n",
       "               '2012-04-25', '2012-04-26', '2012-04-27', '2012-04-28',\n",
       "               '2012-04-29', '2012-04-30', '2012-05-01', '2012-05-02',\n",
       "               '2012-05-03', '2012-05-04', '2012-05-05', '2012-05-06',\n",
       "               '2012-05-07', '2012-05-08', '2012-05-09', '2012-05-10',\n",
       "               '2012-05-11', '2012-05-12', '2012-05-13', '2012-05-14',\n",
       "               '2012-05-15', '2012-05-16', '2012-05-17', '2012-05-18',\n",
       "               '2012-05-19', '2012-05-20', '2012-05-21', '2012-05-22',\n",
       "               '2012-05-23', '2012-05-24', '2012-05-25', '2012-05-26',\n",
       "               '2012-05-27', '2012-05-28', '2012-05-29', '2012-05-30',\n",
       "               '2012-05-31', '2012-06-01'],\n",
       "              dtype='datetime64[ns]', freq='D')"
      ]
     },
     "execution_count": 65,
     "metadata": {},
     "output_type": "execute_result"
    }
   ],
   "execution_count": 65
  },
  {
   "metadata": {
    "ExecuteTime": {
     "end_time": "2024-06-14T10:15:47.797214Z",
     "start_time": "2024-06-14T10:15:47.787296Z"
    }
   },
   "cell_type": "code",
   "source": "pd.date_range(start=\"2012-04-01\", periods=20)",
   "id": "20363e1fde9bfce8",
   "outputs": [
    {
     "data": {
      "text/plain": [
       "DatetimeIndex(['2012-04-01', '2012-04-02', '2012-04-03', '2012-04-04',\n",
       "               '2012-04-05', '2012-04-06', '2012-04-07', '2012-04-08',\n",
       "               '2012-04-09', '2012-04-10', '2012-04-11', '2012-04-12',\n",
       "               '2012-04-13', '2012-04-14', '2012-04-15', '2012-04-16',\n",
       "               '2012-04-17', '2012-04-18', '2012-04-19', '2012-04-20'],\n",
       "              dtype='datetime64[ns]', freq='D')"
      ]
     },
     "execution_count": 66,
     "metadata": {},
     "output_type": "execute_result"
    }
   ],
   "execution_count": 66
  },
  {
   "metadata": {
    "ExecuteTime": {
     "end_time": "2024-06-14T10:16:15.921711Z",
     "start_time": "2024-06-14T10:16:15.914701Z"
    }
   },
   "cell_type": "code",
   "source": "pd.date_range(end=\"2012-06-01\", periods=20)",
   "id": "cdb1edb47b42082b",
   "outputs": [
    {
     "data": {
      "text/plain": [
       "DatetimeIndex(['2012-05-13', '2012-05-14', '2012-05-15', '2012-05-16',\n",
       "               '2012-05-17', '2012-05-18', '2012-05-19', '2012-05-20',\n",
       "               '2012-05-21', '2012-05-22', '2012-05-23', '2012-05-24',\n",
       "               '2012-05-25', '2012-05-26', '2012-05-27', '2012-05-28',\n",
       "               '2012-05-29', '2012-05-30', '2012-05-31', '2012-06-01'],\n",
       "              dtype='datetime64[ns]', freq='D')"
      ]
     },
     "execution_count": 67,
     "metadata": {},
     "output_type": "execute_result"
    }
   ],
   "execution_count": 67
  },
  {
   "metadata": {
    "ExecuteTime": {
     "end_time": "2024-06-14T10:17:16.831720Z",
     "start_time": "2024-06-14T10:17:16.828177Z"
    }
   },
   "cell_type": "code",
   "source": "pd.date_range(\"2000-01-01\", \"2000-12-01\", freq=\"BME\")",
   "id": "33c6759548fc5035",
   "outputs": [
    {
     "data": {
      "text/plain": [
       "DatetimeIndex(['2000-01-31', '2000-02-29', '2000-03-31', '2000-04-28',\n",
       "               '2000-05-31', '2000-06-30', '2000-07-31', '2000-08-31',\n",
       "               '2000-09-29', '2000-10-31', '2000-11-30'],\n",
       "              dtype='datetime64[ns]', freq='BME')"
      ]
     },
     "execution_count": 69,
     "metadata": {},
     "output_type": "execute_result"
    }
   ],
   "execution_count": 69
  },
  {
   "metadata": {
    "ExecuteTime": {
     "end_time": "2024-06-14T10:18:38.443532Z",
     "start_time": "2024-06-14T10:18:38.436457Z"
    }
   },
   "cell_type": "code",
   "source": "pd.date_range(\"2012-05-02 12:56:31\", periods=5)",
   "id": "44b746008e6bc7e4",
   "outputs": [
    {
     "data": {
      "text/plain": [
       "DatetimeIndex(['2012-05-02 12:56:31', '2012-05-03 12:56:31',\n",
       "               '2012-05-04 12:56:31', '2012-05-05 12:56:31',\n",
       "               '2012-05-06 12:56:31'],\n",
       "              dtype='datetime64[ns]', freq='D')"
      ]
     },
     "execution_count": 70,
     "metadata": {},
     "output_type": "execute_result"
    }
   ],
   "execution_count": 70
  },
  {
   "metadata": {
    "ExecuteTime": {
     "end_time": "2024-06-14T10:19:10.858894Z",
     "start_time": "2024-06-14T10:19:10.843920Z"
    }
   },
   "cell_type": "code",
   "source": "pd.date_range(\"2012-05-02 12:56:31\", periods=5, normalize=True)",
   "id": "dde7cef798b2005d",
   "outputs": [
    {
     "data": {
      "text/plain": [
       "DatetimeIndex(['2012-05-02', '2012-05-03', '2012-05-04', '2012-05-05',\n",
       "               '2012-05-06'],\n",
       "              dtype='datetime64[ns]', freq='D')"
      ]
     },
     "execution_count": 71,
     "metadata": {},
     "output_type": "execute_result"
    }
   ],
   "execution_count": 71
  },
  {
   "metadata": {
    "ExecuteTime": {
     "end_time": "2024-06-14T10:20:26.238590Z",
     "start_time": "2024-06-14T10:20:26.233954Z"
    }
   },
   "cell_type": "code",
   "source": "from pandas.tseries.offsets import Hour, Minute",
   "id": "59d3d23848f6c177",
   "outputs": [],
   "execution_count": 72
  },
  {
   "metadata": {
    "ExecuteTime": {
     "end_time": "2024-06-14T10:20:32.429162Z",
     "start_time": "2024-06-14T10:20:32.427091Z"
    }
   },
   "cell_type": "code",
   "source": "hour = Hour()",
   "id": "a292c503c7731ca0",
   "outputs": [],
   "execution_count": 73
  },
  {
   "metadata": {
    "ExecuteTime": {
     "end_time": "2024-06-14T10:20:34.990771Z",
     "start_time": "2024-06-14T10:20:34.988028Z"
    }
   },
   "cell_type": "code",
   "source": "hour",
   "id": "c993f0c453b9da07",
   "outputs": [
    {
     "data": {
      "text/plain": [
       "<Hour>"
      ]
     },
     "execution_count": 74,
     "metadata": {},
     "output_type": "execute_result"
    }
   ],
   "execution_count": 74
  },
  {
   "metadata": {
    "ExecuteTime": {
     "end_time": "2024-06-14T10:20:47.219677Z",
     "start_time": "2024-06-14T10:20:47.215828Z"
    }
   },
   "cell_type": "code",
   "source": "four_hours = Hour(4)",
   "id": "9fd0bd6a34334983",
   "outputs": [],
   "execution_count": 75
  },
  {
   "metadata": {
    "ExecuteTime": {
     "end_time": "2024-06-14T10:20:52.027468Z",
     "start_time": "2024-06-14T10:20:52.024609Z"
    }
   },
   "cell_type": "code",
   "source": "four_hours",
   "id": "d241c0fd562b242c",
   "outputs": [
    {
     "data": {
      "text/plain": [
       "<4 * Hours>"
      ]
     },
     "execution_count": 76,
     "metadata": {},
     "output_type": "execute_result"
    }
   ],
   "execution_count": 76
  },
  {
   "metadata": {
    "ExecuteTime": {
     "end_time": "2024-06-14T10:21:38.130383Z",
     "start_time": "2024-06-14T10:21:38.126595Z"
    }
   },
   "cell_type": "code",
   "source": "pd.date_range(\"2000-01-01\", \"2000-01-03 23:59\", freq=\"4h\")",
   "id": "64d87021f106ea68",
   "outputs": [
    {
     "data": {
      "text/plain": [
       "DatetimeIndex(['2000-01-01 00:00:00', '2000-01-01 04:00:00',\n",
       "               '2000-01-01 08:00:00', '2000-01-01 12:00:00',\n",
       "               '2000-01-01 16:00:00', '2000-01-01 20:00:00',\n",
       "               '2000-01-02 00:00:00', '2000-01-02 04:00:00',\n",
       "               '2000-01-02 08:00:00', '2000-01-02 12:00:00',\n",
       "               '2000-01-02 16:00:00', '2000-01-02 20:00:00',\n",
       "               '2000-01-03 00:00:00', '2000-01-03 04:00:00',\n",
       "               '2000-01-03 08:00:00', '2000-01-03 12:00:00',\n",
       "               '2000-01-03 16:00:00', '2000-01-03 20:00:00'],\n",
       "              dtype='datetime64[ns]', freq='4h')"
      ]
     },
     "execution_count": 78,
     "metadata": {},
     "output_type": "execute_result"
    }
   ],
   "execution_count": 78
  },
  {
   "metadata": {
    "ExecuteTime": {
     "end_time": "2024-06-14T10:22:14.348999Z",
     "start_time": "2024-06-14T10:22:14.343368Z"
    }
   },
   "cell_type": "code",
   "source": "Hour(2) + Minute(30)",
   "id": "8e1026c92647cc3d",
   "outputs": [
    {
     "data": {
      "text/plain": [
       "<150 * Minutes>"
      ]
     },
     "execution_count": 79,
     "metadata": {},
     "output_type": "execute_result"
    }
   ],
   "execution_count": 79
  },
  {
   "metadata": {
    "ExecuteTime": {
     "end_time": "2024-06-14T10:22:41.289552Z",
     "start_time": "2024-06-14T10:22:41.281657Z"
    }
   },
   "cell_type": "code",
   "source": "pd.date_range(\"2000-01-01\", periods=10, freq=\"1h30min\")",
   "id": "3faa8a3f3cd02982",
   "outputs": [
    {
     "data": {
      "text/plain": [
       "DatetimeIndex(['2000-01-01 00:00:00', '2000-01-01 01:30:00',\n",
       "               '2000-01-01 03:00:00', '2000-01-01 04:30:00',\n",
       "               '2000-01-01 06:00:00', '2000-01-01 07:30:00',\n",
       "               '2000-01-01 09:00:00', '2000-01-01 10:30:00',\n",
       "               '2000-01-01 12:00:00', '2000-01-01 13:30:00'],\n",
       "              dtype='datetime64[ns]', freq='90min')"
      ]
     },
     "execution_count": 80,
     "metadata": {},
     "output_type": "execute_result"
    }
   ],
   "execution_count": 80
  },
  {
   "metadata": {
    "ExecuteTime": {
     "end_time": "2024-06-14T10:23:41.428693Z",
     "start_time": "2024-06-14T10:23:41.412412Z"
    }
   },
   "cell_type": "code",
   "source": "monthly_dates = pd.date_range(\"2012-01-01\", \"2012-09-01\", freq=\"WOM-3FRI\")",
   "id": "999c954d98e6eb31",
   "outputs": [],
   "execution_count": 81
  },
  {
   "metadata": {
    "ExecuteTime": {
     "end_time": "2024-06-14T10:23:46.820920Z",
     "start_time": "2024-06-14T10:23:46.817845Z"
    }
   },
   "cell_type": "code",
   "source": "list(monthly_dates)",
   "id": "a42e3b8e9efa9d67",
   "outputs": [
    {
     "data": {
      "text/plain": [
       "[Timestamp('2012-01-20 00:00:00'),\n",
       " Timestamp('2012-02-17 00:00:00'),\n",
       " Timestamp('2012-03-16 00:00:00'),\n",
       " Timestamp('2012-04-20 00:00:00'),\n",
       " Timestamp('2012-05-18 00:00:00'),\n",
       " Timestamp('2012-06-15 00:00:00'),\n",
       " Timestamp('2012-07-20 00:00:00'),\n",
       " Timestamp('2012-08-17 00:00:00')]"
      ]
     },
     "execution_count": 82,
     "metadata": {},
     "output_type": "execute_result"
    }
   ],
   "execution_count": 82
  },
  {
   "metadata": {
    "ExecuteTime": {
     "end_time": "2024-06-14T10:24:55.645971Z",
     "start_time": "2024-06-14T10:24:55.643352Z"
    }
   },
   "cell_type": "code",
   "source": "ts = pd.Series(np.random.standard_normal(4), index=pd.date_range(\"2000-01-01\", periods=4, freq=\"ME\"))",
   "id": "25ee2caa2a5788be",
   "outputs": [],
   "execution_count": 84
  },
  {
   "metadata": {
    "ExecuteTime": {
     "end_time": "2024-06-14T10:24:57.361362Z",
     "start_time": "2024-06-14T10:24:57.357629Z"
    }
   },
   "cell_type": "code",
   "source": "ts",
   "id": "191648cd304d1dc7",
   "outputs": [
    {
     "data": {
      "text/plain": [
       "2000-01-31    1.114621\n",
       "2000-02-29   -0.580872\n",
       "2000-03-31    1.366959\n",
       "2000-04-30   -0.241691\n",
       "Freq: ME, dtype: float64"
      ]
     },
     "execution_count": 85,
     "metadata": {},
     "output_type": "execute_result"
    }
   ],
   "execution_count": 85
  },
  {
   "metadata": {
    "ExecuteTime": {
     "end_time": "2024-06-14T10:27:27.969157Z",
     "start_time": "2024-06-14T10:27:27.952774Z"
    }
   },
   "cell_type": "code",
   "source": "ts.shift(2)",
   "id": "373f877fbe4e5079",
   "outputs": [
    {
     "data": {
      "text/plain": [
       "2000-01-31         NaN\n",
       "2000-02-29         NaN\n",
       "2000-03-31    1.114621\n",
       "2000-04-30   -0.580872\n",
       "Freq: ME, dtype: float64"
      ]
     },
     "execution_count": 86,
     "metadata": {},
     "output_type": "execute_result"
    }
   ],
   "execution_count": 86
  },
  {
   "metadata": {
    "ExecuteTime": {
     "end_time": "2024-06-14T10:27:35.742745Z",
     "start_time": "2024-06-14T10:27:35.738285Z"
    }
   },
   "cell_type": "code",
   "source": "ts.shift(-2)",
   "id": "514a77fa1950849e",
   "outputs": [
    {
     "data": {
      "text/plain": [
       "2000-01-31    1.366959\n",
       "2000-02-29   -0.241691\n",
       "2000-03-31         NaN\n",
       "2000-04-30         NaN\n",
       "Freq: ME, dtype: float64"
      ]
     },
     "execution_count": 87,
     "metadata": {},
     "output_type": "execute_result"
    }
   ],
   "execution_count": 87
  },
  {
   "metadata": {
    "ExecuteTime": {
     "end_time": "2024-06-14T10:27:46.240762Z",
     "start_time": "2024-06-14T10:27:46.237257Z"
    }
   },
   "cell_type": "code",
   "source": "ts / ts.shift(1) - 1",
   "id": "80bc37e177b94d3b",
   "outputs": [
    {
     "data": {
      "text/plain": [
       "2000-01-31         NaN\n",
       "2000-02-29   -1.521139\n",
       "2000-03-31   -3.353287\n",
       "2000-04-30   -1.176809\n",
       "Freq: ME, dtype: float64"
      ]
     },
     "execution_count": 88,
     "metadata": {},
     "output_type": "execute_result"
    }
   ],
   "execution_count": 88
  },
  {
   "metadata": {
    "ExecuteTime": {
     "end_time": "2024-06-14T10:28:02.311770Z",
     "start_time": "2024-06-14T10:28:02.308145Z"
    }
   },
   "cell_type": "code",
   "source": "ts.shift(2, freq=\"ME\")",
   "id": "34386a7e2c2a12d",
   "outputs": [
    {
     "data": {
      "text/plain": [
       "2000-03-31    1.114621\n",
       "2000-04-30   -0.580872\n",
       "2000-05-31    1.366959\n",
       "2000-06-30   -0.241691\n",
       "Freq: ME, dtype: float64"
      ]
     },
     "execution_count": 90,
     "metadata": {},
     "output_type": "execute_result"
    }
   ],
   "execution_count": 90
  },
  {
   "metadata": {
    "ExecuteTime": {
     "end_time": "2024-06-14T10:28:27.016889Z",
     "start_time": "2024-06-14T10:28:27.008928Z"
    }
   },
   "cell_type": "code",
   "source": "ts.shift(3, freq=\"D\")",
   "id": "5d28c9595e3929b8",
   "outputs": [
    {
     "data": {
      "text/plain": [
       "2000-02-03    1.114621\n",
       "2000-03-03   -0.580872\n",
       "2000-04-03    1.366959\n",
       "2000-05-03   -0.241691\n",
       "dtype: float64"
      ]
     },
     "execution_count": 91,
     "metadata": {},
     "output_type": "execute_result"
    }
   ],
   "execution_count": 91
  },
  {
   "metadata": {
    "ExecuteTime": {
     "end_time": "2024-06-14T10:28:51.819917Z",
     "start_time": "2024-06-14T10:28:51.816639Z"
    }
   },
   "cell_type": "code",
   "source": "ts.shift(1, freq=\"90min\")",
   "id": "765471565dc8637",
   "outputs": [
    {
     "data": {
      "text/plain": [
       "2000-01-31 01:30:00    1.114621\n",
       "2000-02-29 01:30:00   -0.580872\n",
       "2000-03-31 01:30:00    1.366959\n",
       "2000-04-30 01:30:00   -0.241691\n",
       "dtype: float64"
      ]
     },
     "execution_count": 93,
     "metadata": {},
     "output_type": "execute_result"
    }
   ],
   "execution_count": 93
  },
  {
   "metadata": {
    "ExecuteTime": {
     "end_time": "2024-06-14T10:29:21.004236Z",
     "start_time": "2024-06-14T10:29:21.000087Z"
    }
   },
   "cell_type": "code",
   "source": "from pandas.tseries.offsets import Day, MonthEnd",
   "id": "702fa306add83752",
   "outputs": [],
   "execution_count": 94
  },
  {
   "metadata": {
    "ExecuteTime": {
     "end_time": "2024-06-14T10:29:37.027089Z",
     "start_time": "2024-06-14T10:29:37.024881Z"
    }
   },
   "cell_type": "code",
   "source": "now = datetime(2011, 11, 17)",
   "id": "8351659de2c6e1f9",
   "outputs": [],
   "execution_count": 96
  },
  {
   "metadata": {
    "ExecuteTime": {
     "end_time": "2024-06-14T10:29:45.622181Z",
     "start_time": "2024-06-14T10:29:45.617562Z"
    }
   },
   "cell_type": "code",
   "source": "now + 3 * Day()",
   "id": "3a464da61d618db",
   "outputs": [
    {
     "data": {
      "text/plain": [
       "Timestamp('2011-11-20 00:00:00')"
      ]
     },
     "execution_count": 97,
     "metadata": {},
     "output_type": "execute_result"
    }
   ],
   "execution_count": 97
  },
  {
   "metadata": {
    "ExecuteTime": {
     "end_time": "2024-06-14T10:29:58.744665Z",
     "start_time": "2024-06-14T10:29:58.741459Z"
    }
   },
   "cell_type": "code",
   "source": "now + MonthEnd()",
   "id": "e5a5c7c9343efd0b",
   "outputs": [
    {
     "data": {
      "text/plain": [
       "Timestamp('2011-11-30 00:00:00')"
      ]
     },
     "execution_count": 98,
     "metadata": {},
     "output_type": "execute_result"
    }
   ],
   "execution_count": 98
  },
  {
   "metadata": {
    "ExecuteTime": {
     "end_time": "2024-06-14T10:30:11.753653Z",
     "start_time": "2024-06-14T10:30:11.751054Z"
    }
   },
   "cell_type": "code",
   "source": "offset = MonthEnd()",
   "id": "e587c31263f180ca",
   "outputs": [],
   "execution_count": 99
  },
  {
   "metadata": {
    "ExecuteTime": {
     "end_time": "2024-06-14T10:30:27.835967Z",
     "start_time": "2024-06-14T10:30:27.825080Z"
    }
   },
   "cell_type": "code",
   "source": "offset.rollforward(now)",
   "id": "93425c9820735936",
   "outputs": [
    {
     "data": {
      "text/plain": [
       "Timestamp('2011-11-30 00:00:00')"
      ]
     },
     "execution_count": 100,
     "metadata": {},
     "output_type": "execute_result"
    }
   ],
   "execution_count": 100
  },
  {
   "metadata": {
    "ExecuteTime": {
     "end_time": "2024-06-14T10:30:41.891395Z",
     "start_time": "2024-06-14T10:30:41.888107Z"
    }
   },
   "cell_type": "code",
   "source": "offset.rollback(now)",
   "id": "f2c79faa009add40",
   "outputs": [
    {
     "data": {
      "text/plain": [
       "Timestamp('2011-10-31 00:00:00')"
      ]
     },
     "execution_count": 101,
     "metadata": {},
     "output_type": "execute_result"
    }
   ],
   "execution_count": 101
  },
  {
   "metadata": {
    "ExecuteTime": {
     "end_time": "2024-06-14T10:31:26.844954Z",
     "start_time": "2024-06-14T10:31:26.838351Z"
    }
   },
   "cell_type": "code",
   "source": "ts = pd.Series(np.random.standard_normal(20), index=pd.date_range(\"2000-01-15\", periods=20, freq=\"4D\"))",
   "id": "85cf440f348092c7",
   "outputs": [],
   "execution_count": 102
  },
  {
   "metadata": {
    "ExecuteTime": {
     "end_time": "2024-06-14T10:31:28.846748Z",
     "start_time": "2024-06-14T10:31:28.842677Z"
    }
   },
   "cell_type": "code",
   "source": "ts",
   "id": "ab2abc8550bbb899",
   "outputs": [
    {
     "data": {
      "text/plain": [
       "2000-01-15   -0.737230\n",
       "2000-01-19    0.168872\n",
       "2000-01-23    0.581100\n",
       "2000-01-27   -0.207418\n",
       "2000-01-31   -0.837827\n",
       "2000-02-04    1.758119\n",
       "2000-02-08    1.554602\n",
       "2000-02-12   -1.013884\n",
       "2000-02-16   -1.193625\n",
       "2000-02-20   -0.507021\n",
       "2000-02-24   -0.383390\n",
       "2000-02-28   -1.096701\n",
       "2000-03-03   -0.773060\n",
       "2000-03-07    1.800949\n",
       "2000-03-11    0.362869\n",
       "2000-03-15   -0.470529\n",
       "2000-03-19    1.350388\n",
       "2000-03-23    0.535111\n",
       "2000-03-27    1.429461\n",
       "2000-03-31   -0.496900\n",
       "Freq: 4D, dtype: float64"
      ]
     },
     "execution_count": 103,
     "metadata": {},
     "output_type": "execute_result"
    }
   ],
   "execution_count": 103
  },
  {
   "metadata": {
    "ExecuteTime": {
     "end_time": "2024-06-14T10:31:57.191842Z",
     "start_time": "2024-06-14T10:31:57.183595Z"
    }
   },
   "cell_type": "code",
   "source": "ts.groupby(MonthEnd().rollforward).mean()",
   "id": "14925213d096b299",
   "outputs": [
    {
     "data": {
      "text/plain": [
       "2000-01-31   -0.206501\n",
       "2000-02-29   -0.125986\n",
       "2000-03-31    0.467286\n",
       "dtype: float64"
      ]
     },
     "execution_count": 104,
     "metadata": {},
     "output_type": "execute_result"
    }
   ],
   "execution_count": 104
  },
  {
   "metadata": {
    "ExecuteTime": {
     "end_time": "2024-06-14T10:32:17.824816Z",
     "start_time": "2024-06-14T10:32:17.820829Z"
    }
   },
   "cell_type": "code",
   "source": "ts.resample(\"ME\").mean()",
   "id": "30a1c02608a5ec6e",
   "outputs": [
    {
     "data": {
      "text/plain": [
       "2000-01-31   -0.206501\n",
       "2000-02-29   -0.125986\n",
       "2000-03-31    0.467286\n",
       "Freq: ME, dtype: float64"
      ]
     },
     "execution_count": 106,
     "metadata": {},
     "output_type": "execute_result"
    }
   ],
   "execution_count": 106
  },
  {
   "metadata": {
    "ExecuteTime": {
     "end_time": "2024-06-17T01:33:34.942197Z",
     "start_time": "2024-06-17T01:33:34.868624Z"
    }
   },
   "cell_type": "code",
   "source": [
    "import pytz\n",
    "\n",
    "pytz.common_timezones[-5:]"
   ],
   "id": "6b5cf0a63d297672",
   "outputs": [
    {
     "data": {
      "text/plain": [
       "['US/Eastern', 'US/Hawaii', 'US/Mountain', 'US/Pacific', 'UTC']"
      ]
     },
     "execution_count": 107,
     "metadata": {},
     "output_type": "execute_result"
    }
   ],
   "execution_count": 107
  },
  {
   "metadata": {
    "ExecuteTime": {
     "end_time": "2024-06-17T01:34:15.293879Z",
     "start_time": "2024-06-17T01:34:15.285752Z"
    }
   },
   "cell_type": "code",
   "source": "tz = pytz.timezone(\"America/New_York\")",
   "id": "e03f7a1b597e49a9",
   "outputs": [],
   "execution_count": 108
  },
  {
   "metadata": {
    "ExecuteTime": {
     "end_time": "2024-06-17T01:34:17.955634Z",
     "start_time": "2024-06-17T01:34:17.952330Z"
    }
   },
   "cell_type": "code",
   "source": "tz",
   "id": "9b6d9412732e8da3",
   "outputs": [
    {
     "data": {
      "text/plain": [
       "<DstTzInfo 'America/New_York' LMT-1 day, 19:04:00 STD>"
      ]
     },
     "execution_count": 109,
     "metadata": {},
     "output_type": "execute_result"
    }
   ],
   "execution_count": 109
  },
  {
   "metadata": {
    "ExecuteTime": {
     "end_time": "2024-06-17T01:34:50.137255Z",
     "start_time": "2024-06-17T01:34:50.120891Z"
    }
   },
   "cell_type": "code",
   "source": "dates = pd.date_range(\"2012-03-09 09:30\", periods=6)",
   "id": "5945f99bdb7527f1",
   "outputs": [],
   "execution_count": 110
  },
  {
   "metadata": {
    "ExecuteTime": {
     "end_time": "2024-06-17T01:35:15.257334Z",
     "start_time": "2024-06-17T01:35:15.248358Z"
    }
   },
   "cell_type": "code",
   "source": "ts = pd.Series(np.random.standard_normal(len(dates)), index=dates)",
   "id": "19b6e0433a14fc55",
   "outputs": [],
   "execution_count": 111
  },
  {
   "metadata": {
    "ExecuteTime": {
     "end_time": "2024-06-17T01:35:17.556497Z",
     "start_time": "2024-06-17T01:35:17.552732Z"
    }
   },
   "cell_type": "code",
   "source": "ts",
   "id": "59aabe182aa77258",
   "outputs": [
    {
     "data": {
      "text/plain": [
       "2012-03-09 09:30:00    1.961900\n",
       "2012-03-10 09:30:00    0.248000\n",
       "2012-03-11 09:30:00   -0.811373\n",
       "2012-03-12 09:30:00    0.890190\n",
       "2012-03-13 09:30:00    1.677004\n",
       "2012-03-14 09:30:00   -0.326590\n",
       "Freq: D, dtype: float64"
      ]
     },
     "execution_count": 112,
     "metadata": {},
     "output_type": "execute_result"
    }
   ],
   "execution_count": 112
  },
  {
   "metadata": {
    "ExecuteTime": {
     "end_time": "2024-06-17T01:35:52.394740Z",
     "start_time": "2024-06-17T01:35:52.389616Z"
    }
   },
   "cell_type": "code",
   "source": "print(ts.index.tz)",
   "id": "ed68dbcaf3010c41",
   "outputs": [
    {
     "name": "stdout",
     "output_type": "stream",
     "text": [
      "None\n"
     ]
    }
   ],
   "execution_count": 113
  },
  {
   "metadata": {
    "ExecuteTime": {
     "end_time": "2024-06-17T01:36:38.711384Z",
     "start_time": "2024-06-17T01:36:38.702220Z"
    }
   },
   "cell_type": "code",
   "source": "pd.date_range(\"2012-03-09 09:30\", periods=10, tz=\"UTC\")",
   "id": "6cb36ae5fe8c9456",
   "outputs": [
    {
     "data": {
      "text/plain": [
       "DatetimeIndex(['2012-03-09 09:30:00+00:00', '2012-03-10 09:30:00+00:00',\n",
       "               '2012-03-11 09:30:00+00:00', '2012-03-12 09:30:00+00:00',\n",
       "               '2012-03-13 09:30:00+00:00', '2012-03-14 09:30:00+00:00',\n",
       "               '2012-03-15 09:30:00+00:00', '2012-03-16 09:30:00+00:00',\n",
       "               '2012-03-17 09:30:00+00:00', '2012-03-18 09:30:00+00:00'],\n",
       "              dtype='datetime64[ns, UTC]', freq='D')"
      ]
     },
     "execution_count": 114,
     "metadata": {},
     "output_type": "execute_result"
    }
   ],
   "execution_count": 114
  },
  {
   "metadata": {
    "ExecuteTime": {
     "end_time": "2024-06-17T01:37:01.518234Z",
     "start_time": "2024-06-17T01:37:01.496488Z"
    }
   },
   "cell_type": "code",
   "source": "ts",
   "id": "a27d1d8a5462abc0",
   "outputs": [
    {
     "data": {
      "text/plain": [
       "2012-03-09 09:30:00    1.961900\n",
       "2012-03-10 09:30:00    0.248000\n",
       "2012-03-11 09:30:00   -0.811373\n",
       "2012-03-12 09:30:00    0.890190\n",
       "2012-03-13 09:30:00    1.677004\n",
       "2012-03-14 09:30:00   -0.326590\n",
       "Freq: D, dtype: float64"
      ]
     },
     "execution_count": 115,
     "metadata": {},
     "output_type": "execute_result"
    }
   ],
   "execution_count": 115
  },
  {
   "metadata": {
    "ExecuteTime": {
     "end_time": "2024-06-17T01:37:23.459123Z",
     "start_time": "2024-06-17T01:37:23.450855Z"
    }
   },
   "cell_type": "code",
   "source": "ts_utc = ts.tz_localize(\"UTC\")",
   "id": "27d6d10ee80b0802",
   "outputs": [],
   "execution_count": 116
  },
  {
   "metadata": {
    "ExecuteTime": {
     "end_time": "2024-06-17T01:37:26.651448Z",
     "start_time": "2024-06-17T01:37:26.648039Z"
    }
   },
   "cell_type": "code",
   "source": "ts_utc",
   "id": "f0faab7fae8202",
   "outputs": [
    {
     "data": {
      "text/plain": [
       "2012-03-09 09:30:00+00:00    1.961900\n",
       "2012-03-10 09:30:00+00:00    0.248000\n",
       "2012-03-11 09:30:00+00:00   -0.811373\n",
       "2012-03-12 09:30:00+00:00    0.890190\n",
       "2012-03-13 09:30:00+00:00    1.677004\n",
       "2012-03-14 09:30:00+00:00   -0.326590\n",
       "Freq: D, dtype: float64"
      ]
     },
     "execution_count": 117,
     "metadata": {},
     "output_type": "execute_result"
    }
   ],
   "execution_count": 117
  },
  {
   "metadata": {
    "ExecuteTime": {
     "end_time": "2024-06-17T01:38:00.461261Z",
     "start_time": "2024-06-17T01:38:00.454803Z"
    }
   },
   "cell_type": "code",
   "source": "ts_utc.index",
   "id": "2ff16acbe323d99",
   "outputs": [
    {
     "data": {
      "text/plain": [
       "DatetimeIndex(['2012-03-09 09:30:00+00:00', '2012-03-10 09:30:00+00:00',\n",
       "               '2012-03-11 09:30:00+00:00', '2012-03-12 09:30:00+00:00',\n",
       "               '2012-03-13 09:30:00+00:00', '2012-03-14 09:30:00+00:00'],\n",
       "              dtype='datetime64[ns, UTC]', freq='D')"
      ]
     },
     "execution_count": 118,
     "metadata": {},
     "output_type": "execute_result"
    }
   ],
   "execution_count": 118
  },
  {
   "metadata": {
    "ExecuteTime": {
     "end_time": "2024-06-17T01:38:17.805145Z",
     "start_time": "2024-06-17T01:38:17.770411Z"
    }
   },
   "cell_type": "code",
   "source": "ts_utc.tz_convert(\"America/New_York\")",
   "id": "33071bf976292e4f",
   "outputs": [
    {
     "data": {
      "text/plain": [
       "2012-03-09 04:30:00-05:00    1.961900\n",
       "2012-03-10 04:30:00-05:00    0.248000\n",
       "2012-03-11 05:30:00-04:00   -0.811373\n",
       "2012-03-12 05:30:00-04:00    0.890190\n",
       "2012-03-13 05:30:00-04:00    1.677004\n",
       "2012-03-14 05:30:00-04:00   -0.326590\n",
       "Freq: D, dtype: float64"
      ]
     },
     "execution_count": 119,
     "metadata": {},
     "output_type": "execute_result"
    }
   ],
   "execution_count": 119
  },
  {
   "metadata": {
    "ExecuteTime": {
     "end_time": "2024-06-17T01:38:59.457931Z",
     "start_time": "2024-06-17T01:38:59.448741Z"
    }
   },
   "cell_type": "code",
   "source": "ts_eastern = ts.tz_localize(\"America/New_York\")",
   "id": "4b3672d631598e9c",
   "outputs": [],
   "execution_count": 120
  },
  {
   "metadata": {
    "ExecuteTime": {
     "end_time": "2024-06-17T01:39:13.265813Z",
     "start_time": "2024-06-17T01:39:13.258670Z"
    }
   },
   "cell_type": "code",
   "source": "ts_eastern.tz_convert(\"UTC\")",
   "id": "65ed7f64db506acc",
   "outputs": [
    {
     "data": {
      "text/plain": [
       "2012-03-09 14:30:00+00:00    1.961900\n",
       "2012-03-10 14:30:00+00:00    0.248000\n",
       "2012-03-11 13:30:00+00:00   -0.811373\n",
       "2012-03-12 13:30:00+00:00    0.890190\n",
       "2012-03-13 13:30:00+00:00    1.677004\n",
       "2012-03-14 13:30:00+00:00   -0.326590\n",
       "dtype: float64"
      ]
     },
     "execution_count": 121,
     "metadata": {},
     "output_type": "execute_result"
    }
   ],
   "execution_count": 121
  },
  {
   "metadata": {
    "ExecuteTime": {
     "end_time": "2024-06-17T01:39:33.162071Z",
     "start_time": "2024-06-17T01:39:33.132535Z"
    }
   },
   "cell_type": "code",
   "source": "ts_eastern",
   "id": "740a23ed34da5d37",
   "outputs": [
    {
     "data": {
      "text/plain": [
       "2012-03-09 09:30:00-05:00    1.961900\n",
       "2012-03-10 09:30:00-05:00    0.248000\n",
       "2012-03-11 09:30:00-04:00   -0.811373\n",
       "2012-03-12 09:30:00-04:00    0.890190\n",
       "2012-03-13 09:30:00-04:00    1.677004\n",
       "2012-03-14 09:30:00-04:00   -0.326590\n",
       "dtype: float64"
      ]
     },
     "execution_count": 122,
     "metadata": {},
     "output_type": "execute_result"
    }
   ],
   "execution_count": 122
  },
  {
   "metadata": {
    "ExecuteTime": {
     "end_time": "2024-06-17T01:40:35.337688Z",
     "start_time": "2024-06-17T01:40:35.326082Z"
    }
   },
   "cell_type": "code",
   "source": "ts_eastern.tz_convert(\"Europe/Berlin\")",
   "id": "e8276cca50e496c9",
   "outputs": [
    {
     "data": {
      "text/plain": [
       "2012-03-09 15:30:00+01:00    1.961900\n",
       "2012-03-10 15:30:00+01:00    0.248000\n",
       "2012-03-11 14:30:00+01:00   -0.811373\n",
       "2012-03-12 14:30:00+01:00    0.890190\n",
       "2012-03-13 14:30:00+01:00    1.677004\n",
       "2012-03-14 14:30:00+01:00   -0.326590\n",
       "dtype: float64"
      ]
     },
     "execution_count": 123,
     "metadata": {},
     "output_type": "execute_result"
    }
   ],
   "execution_count": 123
  },
  {
   "metadata": {
    "ExecuteTime": {
     "end_time": "2024-06-17T01:40:58.180431Z",
     "start_time": "2024-06-17T01:40:58.170279Z"
    }
   },
   "cell_type": "code",
   "source": "ts.index.tz_localize(\"Asia/Shanghai\")",
   "id": "2fbba6740e92150a",
   "outputs": [
    {
     "data": {
      "text/plain": [
       "DatetimeIndex(['2012-03-09 09:30:00+08:00', '2012-03-10 09:30:00+08:00',\n",
       "               '2012-03-11 09:30:00+08:00', '2012-03-12 09:30:00+08:00',\n",
       "               '2012-03-13 09:30:00+08:00', '2012-03-14 09:30:00+08:00'],\n",
       "              dtype='datetime64[ns, Asia/Shanghai]', freq=None)"
      ]
     },
     "execution_count": 124,
     "metadata": {},
     "output_type": "execute_result"
    }
   ],
   "execution_count": 124
  },
  {
   "metadata": {
    "ExecuteTime": {
     "end_time": "2024-06-17T01:41:48.863563Z",
     "start_time": "2024-06-17T01:41:48.858434Z"
    }
   },
   "cell_type": "code",
   "source": "stamp = pd.Timestamp(\"2011-03-12 04:00\")",
   "id": "7a71805f811bc0c2",
   "outputs": [],
   "execution_count": 125
  },
  {
   "metadata": {
    "ExecuteTime": {
     "end_time": "2024-06-17T01:42:03.239502Z",
     "start_time": "2024-06-17T01:42:03.235320Z"
    }
   },
   "cell_type": "code",
   "source": "stamp_utc = stamp.tz_localize(\"utc\")",
   "id": "c556d3a64cbb75b3",
   "outputs": [],
   "execution_count": 126
  },
  {
   "metadata": {
    "ExecuteTime": {
     "end_time": "2024-06-17T01:55:11.345668Z",
     "start_time": "2024-06-17T01:55:11.331529Z"
    }
   },
   "cell_type": "code",
   "source": "stamp_utc.tz_convert(\"America/New_York\")",
   "id": "ea60bfeeb8fd6e72",
   "outputs": [
    {
     "data": {
      "text/plain": [
       "Timestamp('2011-03-11 23:00:00-0500', tz='America/New_York')"
      ]
     },
     "execution_count": 131,
     "metadata": {},
     "output_type": "execute_result"
    }
   ],
   "execution_count": 131
  },
  {
   "metadata": {
    "ExecuteTime": {
     "end_time": "2024-06-17T01:55:16.532806Z",
     "start_time": "2024-06-17T01:55:16.530736Z"
    }
   },
   "cell_type": "code",
   "source": "stamp_moscow = pd.Timestamp(\"2011-03-12 04:00\", tz=\"Europe/Moscow\")",
   "id": "5dda2d692f240132",
   "outputs": [],
   "execution_count": 132
  },
  {
   "metadata": {
    "ExecuteTime": {
     "end_time": "2024-06-17T01:54:48.724642Z",
     "start_time": "2024-06-17T01:54:48.721443Z"
    }
   },
   "cell_type": "code",
   "source": "stamp_moscow",
   "id": "1e6810edef727ee4",
   "outputs": [
    {
     "data": {
      "text/plain": [
       "Timestamp('2011-03-12 04:00:00+0300', tz='Europe/Moscow')"
      ]
     },
     "execution_count": 129,
     "metadata": {},
     "output_type": "execute_result"
    }
   ],
   "execution_count": 129
  },
  {
   "metadata": {
    "ExecuteTime": {
     "end_time": "2024-06-17T01:55:35.484308Z",
     "start_time": "2024-06-17T01:55:35.479234Z"
    }
   },
   "cell_type": "code",
   "source": "stamp_utc.value",
   "id": "1ba4b3b6df21f8f8",
   "outputs": [
    {
     "data": {
      "text/plain": [
       "1299902400000000000"
      ]
     },
     "execution_count": 133,
     "metadata": {},
     "output_type": "execute_result"
    }
   ],
   "execution_count": 133
  },
  {
   "metadata": {
    "ExecuteTime": {
     "end_time": "2024-06-17T04:58:49.674555Z",
     "start_time": "2024-06-17T04:58:49.621497Z"
    }
   },
   "cell_type": "code",
   "source": "stamp = pd.Timestamp(\"2012-03-11 01:30\", tz=\"US/Eastern\")",
   "id": "79d14363c3bc3b70",
   "outputs": [],
   "execution_count": 134
  },
  {
   "metadata": {
    "ExecuteTime": {
     "end_time": "2024-06-17T04:59:03.051188Z",
     "start_time": "2024-06-17T04:59:03.044780Z"
    }
   },
   "cell_type": "code",
   "source": "stamp",
   "id": "26d3ada71c30abf4",
   "outputs": [
    {
     "data": {
      "text/plain": [
       "Timestamp('2012-03-11 01:30:00-0500', tz='US/Eastern')"
      ]
     },
     "execution_count": 135,
     "metadata": {},
     "output_type": "execute_result"
    }
   ],
   "execution_count": 135
  },
  {
   "metadata": {
    "ExecuteTime": {
     "end_time": "2024-06-17T04:59:20.547513Z",
     "start_time": "2024-06-17T04:59:20.538353Z"
    }
   },
   "cell_type": "code",
   "source": "stamp + Hour()",
   "id": "76e345beb10248f4",
   "outputs": [
    {
     "data": {
      "text/plain": [
       "Timestamp('2012-03-11 03:30:00-0400', tz='US/Eastern')"
      ]
     },
     "execution_count": 136,
     "metadata": {},
     "output_type": "execute_result"
    }
   ],
   "execution_count": 136
  },
  {
   "metadata": {
    "ExecuteTime": {
     "end_time": "2024-06-17T04:59:57.676515Z",
     "start_time": "2024-06-17T04:59:57.668379Z"
    }
   },
   "cell_type": "code",
   "source": "stamp = pd.Timestamp(\"2012-11-04 00:30\", tz=\"US/Eastern\")",
   "id": "f25e9ae1e073660d",
   "outputs": [],
   "execution_count": 137
  },
  {
   "metadata": {
    "ExecuteTime": {
     "end_time": "2024-06-17T05:00:01.198983Z",
     "start_time": "2024-06-17T05:00:01.195830Z"
    }
   },
   "cell_type": "code",
   "source": "stamp",
   "id": "1b4aaddb08563538",
   "outputs": [
    {
     "data": {
      "text/plain": [
       "Timestamp('2012-11-04 00:30:00-0400', tz='US/Eastern')"
      ]
     },
     "execution_count": 138,
     "metadata": {},
     "output_type": "execute_result"
    }
   ],
   "execution_count": 138
  },
  {
   "metadata": {
    "ExecuteTime": {
     "end_time": "2024-06-17T05:00:24.806881Z",
     "start_time": "2024-06-17T05:00:24.790877Z"
    }
   },
   "cell_type": "code",
   "source": "stamp + 2 * Hour()",
   "id": "d54a87f9a1c4bdc3",
   "outputs": [
    {
     "data": {
      "text/plain": [
       "Timestamp('2012-11-04 01:30:00-0500', tz='US/Eastern')"
      ]
     },
     "execution_count": 139,
     "metadata": {},
     "output_type": "execute_result"
    }
   ],
   "execution_count": 139
  },
  {
   "metadata": {
    "ExecuteTime": {
     "end_time": "2024-06-17T05:01:25.692263Z",
     "start_time": "2024-06-17T05:01:25.662252Z"
    }
   },
   "cell_type": "code",
   "source": "dates = pd.date_range(\"2012-03-07 09:30\", periods=10, freq=\"B\")",
   "id": "b62e81218a2da5e0",
   "outputs": [],
   "execution_count": 140
  },
  {
   "metadata": {
    "ExecuteTime": {
     "end_time": "2024-06-17T05:01:52.802800Z",
     "start_time": "2024-06-17T05:01:52.794083Z"
    }
   },
   "cell_type": "code",
   "source": "ts = pd.Series(np.random.standard_normal(len(dates)), index=dates)",
   "id": "a980fff6cc28fc66",
   "outputs": [],
   "execution_count": 141
  },
  {
   "metadata": {
    "ExecuteTime": {
     "end_time": "2024-06-17T05:01:54.900563Z",
     "start_time": "2024-06-17T05:01:54.893309Z"
    }
   },
   "cell_type": "code",
   "source": "ts",
   "id": "99a9b602927f676e",
   "outputs": [
    {
     "data": {
      "text/plain": [
       "2012-03-07 09:30:00   -0.767420\n",
       "2012-03-08 09:30:00   -1.004859\n",
       "2012-03-09 09:30:00   -0.284167\n",
       "2012-03-12 09:30:00   -0.806479\n",
       "2012-03-13 09:30:00    0.158925\n",
       "2012-03-14 09:30:00    0.862196\n",
       "2012-03-15 09:30:00    0.566430\n",
       "2012-03-16 09:30:00    0.914087\n",
       "2012-03-19 09:30:00   -0.102689\n",
       "2012-03-20 09:30:00    0.116028\n",
       "Freq: B, dtype: float64"
      ]
     },
     "execution_count": 142,
     "metadata": {},
     "output_type": "execute_result"
    }
   ],
   "execution_count": 142
  },
  {
   "metadata": {
    "ExecuteTime": {
     "end_time": "2024-06-17T05:02:56.907346Z",
     "start_time": "2024-06-17T05:02:56.897853Z"
    }
   },
   "cell_type": "code",
   "source": "ts1 = ts[:7].tz_localize(\"Europe/London\")",
   "id": "ed250b4a29f36995",
   "outputs": [],
   "execution_count": 143
  },
  {
   "metadata": {
    "ExecuteTime": {
     "end_time": "2024-06-17T05:03:44.546229Z",
     "start_time": "2024-06-17T05:03:44.538128Z"
    }
   },
   "cell_type": "code",
   "source": "ts2 = ts1[2:].tz_convert(\"Europe/Moscow\")",
   "id": "b325beefc0a84a64",
   "outputs": [],
   "execution_count": 145
  },
  {
   "metadata": {
    "ExecuteTime": {
     "end_time": "2024-06-17T05:03:54.816510Z",
     "start_time": "2024-06-17T05:03:54.809197Z"
    }
   },
   "cell_type": "code",
   "source": "ts1",
   "id": "563c33c62497b00d",
   "outputs": [
    {
     "data": {
      "text/plain": [
       "2012-03-07 09:30:00+00:00   -0.767420\n",
       "2012-03-08 09:30:00+00:00   -1.004859\n",
       "2012-03-09 09:30:00+00:00   -0.284167\n",
       "2012-03-12 09:30:00+00:00   -0.806479\n",
       "2012-03-13 09:30:00+00:00    0.158925\n",
       "2012-03-14 09:30:00+00:00    0.862196\n",
       "2012-03-15 09:30:00+00:00    0.566430\n",
       "dtype: float64"
      ]
     },
     "execution_count": 146,
     "metadata": {},
     "output_type": "execute_result"
    }
   ],
   "execution_count": 146
  },
  {
   "metadata": {
    "ExecuteTime": {
     "end_time": "2024-06-17T05:03:57.486999Z",
     "start_time": "2024-06-17T05:03:57.483729Z"
    }
   },
   "cell_type": "code",
   "source": "ts2",
   "id": "dd13f4c1e2ab73a2",
   "outputs": [
    {
     "data": {
      "text/plain": [
       "2012-03-09 13:30:00+04:00   -0.284167\n",
       "2012-03-12 13:30:00+04:00   -0.806479\n",
       "2012-03-13 13:30:00+04:00    0.158925\n",
       "2012-03-14 13:30:00+04:00    0.862196\n",
       "2012-03-15 13:30:00+04:00    0.566430\n",
       "dtype: float64"
      ]
     },
     "execution_count": 147,
     "metadata": {},
     "output_type": "execute_result"
    }
   ],
   "execution_count": 147
  },
  {
   "metadata": {
    "ExecuteTime": {
     "end_time": "2024-06-17T05:04:34.881780Z",
     "start_time": "2024-06-17T05:04:34.872089Z"
    }
   },
   "cell_type": "code",
   "source": "result = ts1 + ts2",
   "id": "667537a42b450284",
   "outputs": [],
   "execution_count": 148
  },
  {
   "metadata": {
    "ExecuteTime": {
     "end_time": "2024-06-17T05:04:42.487528Z",
     "start_time": "2024-06-17T05:04:42.478821Z"
    }
   },
   "cell_type": "code",
   "source": "result.index",
   "id": "d05dd9f6bd35e924",
   "outputs": [
    {
     "data": {
      "text/plain": [
       "DatetimeIndex(['2012-03-07 09:30:00+00:00', '2012-03-08 09:30:00+00:00',\n",
       "               '2012-03-09 09:30:00+00:00', '2012-03-12 09:30:00+00:00',\n",
       "               '2012-03-13 09:30:00+00:00', '2012-03-14 09:30:00+00:00',\n",
       "               '2012-03-15 09:30:00+00:00'],\n",
       "              dtype='datetime64[ns, UTC]', freq=None)"
      ]
     },
     "execution_count": 149,
     "metadata": {},
     "output_type": "execute_result"
    }
   ],
   "execution_count": 149
  },
  {
   "metadata": {
    "ExecuteTime": {
     "end_time": "2024-06-17T05:05:40.494997Z",
     "start_time": "2024-06-17T05:05:40.492916Z"
    }
   },
   "cell_type": "code",
   "source": "p = pd.Period(\"2011\", freq=\"Y-DEC\")",
   "id": "c057d0f2eff759f0",
   "outputs": [],
   "execution_count": 151
  },
  {
   "metadata": {
    "ExecuteTime": {
     "end_time": "2024-06-17T05:05:43.579202Z",
     "start_time": "2024-06-17T05:05:43.571433Z"
    }
   },
   "cell_type": "code",
   "source": "p",
   "id": "d642bd9891023c2f",
   "outputs": [
    {
     "data": {
      "text/plain": [
       "Period('2011', 'Y-DEC')"
      ]
     },
     "execution_count": 152,
     "metadata": {},
     "output_type": "execute_result"
    }
   ],
   "execution_count": 152
  },
  {
   "metadata": {
    "ExecuteTime": {
     "end_time": "2024-06-17T05:05:53.210824Z",
     "start_time": "2024-06-17T05:05:53.195143Z"
    }
   },
   "cell_type": "code",
   "source": "p + 5",
   "id": "c39612ad3e7ca5cc",
   "outputs": [
    {
     "data": {
      "text/plain": [
       "Period('2016', 'Y-DEC')"
      ]
     },
     "execution_count": 153,
     "metadata": {},
     "output_type": "execute_result"
    }
   ],
   "execution_count": 153
  },
  {
   "metadata": {
    "ExecuteTime": {
     "end_time": "2024-06-17T05:06:10.715557Z",
     "start_time": "2024-06-17T05:06:10.710392Z"
    }
   },
   "cell_type": "code",
   "source": "p - 2",
   "id": "875c366b2ba95ae0",
   "outputs": [
    {
     "data": {
      "text/plain": [
       "Period('2009', 'Y-DEC')"
      ]
     },
     "execution_count": 154,
     "metadata": {},
     "output_type": "execute_result"
    }
   ],
   "execution_count": 154
  },
  {
   "metadata": {
    "ExecuteTime": {
     "end_time": "2024-06-17T05:06:30.220425Z",
     "start_time": "2024-06-17T05:06:30.213257Z"
    }
   },
   "cell_type": "code",
   "source": "pd.Period(\"2014\", freq=\"Y-DEC\") - p",
   "id": "d398dc588ca22086",
   "outputs": [
    {
     "data": {
      "text/plain": [
       "<3 * YearEnds: month=12>"
      ]
     },
     "execution_count": 155,
     "metadata": {},
     "output_type": "execute_result"
    }
   ],
   "execution_count": 155
  },
  {
   "metadata": {
    "ExecuteTime": {
     "end_time": "2024-06-17T05:07:11.630095Z",
     "start_time": "2024-06-17T05:07:11.622076Z"
    }
   },
   "cell_type": "code",
   "source": "periods = pd.period_range(\"2000-01-01\", \"2000-06-30\", freq=\"M\")",
   "id": "a6fda8f12695be16",
   "outputs": [],
   "execution_count": 156
  },
  {
   "metadata": {
    "ExecuteTime": {
     "end_time": "2024-06-17T05:07:19.945588Z",
     "start_time": "2024-06-17T05:07:19.941295Z"
    }
   },
   "cell_type": "code",
   "source": "periods",
   "id": "40abb4dc15672533",
   "outputs": [
    {
     "data": {
      "text/plain": [
       "PeriodIndex(['2000-01', '2000-02', '2000-03', '2000-04', '2000-05', '2000-06'], dtype='period[M]')"
      ]
     },
     "execution_count": 157,
     "metadata": {},
     "output_type": "execute_result"
    }
   ],
   "execution_count": 157
  },
  {
   "metadata": {
    "ExecuteTime": {
     "end_time": "2024-06-17T05:08:36.257152Z",
     "start_time": "2024-06-17T05:08:36.246417Z"
    }
   },
   "cell_type": "code",
   "source": "pd.Series(np.random.standard_normal(6), index=periods)",
   "id": "334a0a0b3b0f059",
   "outputs": [
    {
     "data": {
      "text/plain": [
       "2000-01   -0.221713\n",
       "2000-02   -1.992620\n",
       "2000-03   -0.485058\n",
       "2000-04    0.646994\n",
       "2000-05    0.443412\n",
       "2000-06   -0.407645\n",
       "Freq: M, dtype: float64"
      ]
     },
     "execution_count": 158,
     "metadata": {},
     "output_type": "execute_result"
    }
   ],
   "execution_count": 158
  },
  {
   "metadata": {
    "ExecuteTime": {
     "end_time": "2024-06-17T05:09:07.286449Z",
     "start_time": "2024-06-17T05:09:07.282742Z"
    }
   },
   "cell_type": "code",
   "source": "values = [\"2001Q3\", \"2002Q2\", \"2003Q1\"]",
   "id": "c154f713589aa72f",
   "outputs": [],
   "execution_count": 159
  },
  {
   "metadata": {
    "ExecuteTime": {
     "end_time": "2024-06-17T05:09:33.202473Z",
     "start_time": "2024-06-17T05:09:33.195775Z"
    }
   },
   "cell_type": "code",
   "source": "index = pd.PeriodIndex(values, freq=\"Q-DEC\")",
   "id": "a2ea7f0dcf2b5b32",
   "outputs": [],
   "execution_count": 160
  },
  {
   "metadata": {
    "ExecuteTime": {
     "end_time": "2024-06-17T05:09:37.049443Z",
     "start_time": "2024-06-17T05:09:37.045322Z"
    }
   },
   "cell_type": "code",
   "source": "index",
   "id": "50f74b003699aa51",
   "outputs": [
    {
     "data": {
      "text/plain": [
       "PeriodIndex(['2001Q3', '2002Q2', '2003Q1'], dtype='period[Q-DEC]')"
      ]
     },
     "execution_count": 161,
     "metadata": {},
     "output_type": "execute_result"
    }
   ],
   "execution_count": 161
  },
  {
   "metadata": {
    "ExecuteTime": {
     "end_time": "2024-06-17T05:10:49.385492Z",
     "start_time": "2024-06-17T05:10:49.380274Z"
    }
   },
   "cell_type": "code",
   "source": "p = pd.Period(\"2011\", freq=\"Y-DEC\")",
   "id": "f939295632feaf19",
   "outputs": [],
   "execution_count": 162
  },
  {
   "metadata": {
    "ExecuteTime": {
     "end_time": "2024-06-17T05:10:51.321566Z",
     "start_time": "2024-06-17T05:10:51.318762Z"
    }
   },
   "cell_type": "code",
   "source": "p",
   "id": "ab16229813001044",
   "outputs": [
    {
     "data": {
      "text/plain": [
       "Period('2011', 'Y-DEC')"
      ]
     },
     "execution_count": 163,
     "metadata": {},
     "output_type": "execute_result"
    }
   ],
   "execution_count": 163
  },
  {
   "metadata": {
    "ExecuteTime": {
     "end_time": "2024-06-17T05:11:09.948268Z",
     "start_time": "2024-06-17T05:11:09.942457Z"
    }
   },
   "cell_type": "code",
   "source": "p.asfreq(\"M\", how=\"start\")",
   "id": "b8336f7a29969a",
   "outputs": [
    {
     "data": {
      "text/plain": [
       "Period('2011-01', 'M')"
      ]
     },
     "execution_count": 164,
     "metadata": {},
     "output_type": "execute_result"
    }
   ],
   "execution_count": 164
  },
  {
   "metadata": {
    "ExecuteTime": {
     "end_time": "2024-06-17T05:41:41.995248Z",
     "start_time": "2024-06-17T05:41:41.968240Z"
    }
   },
   "cell_type": "code",
   "source": "p.asfreq(\"M\", how=\"end\")",
   "id": "2e83306ee8676b9d",
   "outputs": [
    {
     "data": {
      "text/plain": [
       "Period('2011-12', 'M')"
      ]
     },
     "execution_count": 165,
     "metadata": {},
     "output_type": "execute_result"
    }
   ],
   "execution_count": 165
  },
  {
   "metadata": {
    "ExecuteTime": {
     "end_time": "2024-06-17T05:42:01.518389Z",
     "start_time": "2024-06-17T05:42:01.509810Z"
    }
   },
   "cell_type": "code",
   "source": "p.asfreq(\"M\")",
   "id": "28a630686ff1972",
   "outputs": [
    {
     "data": {
      "text/plain": [
       "Period('2011-12', 'M')"
      ]
     },
     "execution_count": 166,
     "metadata": {},
     "output_type": "execute_result"
    }
   ],
   "execution_count": 166
  },
  {
   "metadata": {
    "ExecuteTime": {
     "end_time": "2024-06-17T05:42:30.374762Z",
     "start_time": "2024-06-17T05:42:30.372257Z"
    }
   },
   "cell_type": "code",
   "source": "p = pd.Period(\"2011\", freq=\"Y-JUN\")",
   "id": "dc73659fd774d2d7",
   "outputs": [],
   "execution_count": 168
  },
  {
   "metadata": {
    "ExecuteTime": {
     "end_time": "2024-06-17T05:42:33.109781Z",
     "start_time": "2024-06-17T05:42:33.106449Z"
    }
   },
   "cell_type": "code",
   "source": "p",
   "id": "e04cc8262b4ade74",
   "outputs": [
    {
     "data": {
      "text/plain": [
       "Period('2011', 'Y-JUN')"
      ]
     },
     "execution_count": 169,
     "metadata": {},
     "output_type": "execute_result"
    }
   ],
   "execution_count": 169
  },
  {
   "metadata": {
    "ExecuteTime": {
     "end_time": "2024-06-17T05:42:50.970859Z",
     "start_time": "2024-06-17T05:42:50.964930Z"
    }
   },
   "cell_type": "code",
   "source": "p.asfreq(\"M\", how=\"start\")",
   "id": "c4721f025dabbb19",
   "outputs": [
    {
     "data": {
      "text/plain": [
       "Period('2010-07', 'M')"
      ]
     },
     "execution_count": 170,
     "metadata": {},
     "output_type": "execute_result"
    }
   ],
   "execution_count": 170
  },
  {
   "metadata": {
    "ExecuteTime": {
     "end_time": "2024-06-17T05:43:03.186107Z",
     "start_time": "2024-06-17T05:43:03.180406Z"
    }
   },
   "cell_type": "code",
   "source": "p.asfreq(\"M\", how=\"end\")",
   "id": "523032faaee95a1f",
   "outputs": [
    {
     "data": {
      "text/plain": [
       "Period('2011-06', 'M')"
      ]
     },
     "execution_count": 171,
     "metadata": {},
     "output_type": "execute_result"
    }
   ],
   "execution_count": 171
  },
  {
   "metadata": {
    "ExecuteTime": {
     "end_time": "2024-06-17T05:44:04.742661Z",
     "start_time": "2024-06-17T05:44:04.737168Z"
    }
   },
   "cell_type": "code",
   "source": "p = pd.Period(\"Aug-2011\", \"M\")",
   "id": "2628971995b49f4e",
   "outputs": [],
   "execution_count": 172
  },
  {
   "metadata": {
    "ExecuteTime": {
     "end_time": "2024-06-17T05:44:18.619612Z",
     "start_time": "2024-06-17T05:44:18.616854Z"
    }
   },
   "cell_type": "code",
   "source": "p.asfreq(\"Y-JUN\")",
   "id": "3e3142811b50e064",
   "outputs": [
    {
     "data": {
      "text/plain": [
       "Period('2012', 'Y-JUN')"
      ]
     },
     "execution_count": 174,
     "metadata": {},
     "output_type": "execute_result"
    }
   ],
   "execution_count": 174
  },
  {
   "metadata": {
    "ExecuteTime": {
     "end_time": "2024-06-17T05:44:54.570084Z",
     "start_time": "2024-06-17T05:44:54.563633Z"
    }
   },
   "cell_type": "code",
   "source": "periods = pd.period_range(\"2006\", \"2009\", freq=\"Y-DEC\")",
   "id": "70deb0ea91a509f",
   "outputs": [],
   "execution_count": 175
  },
  {
   "metadata": {
    "ExecuteTime": {
     "end_time": "2024-06-17T05:45:19.391719Z",
     "start_time": "2024-06-17T05:45:19.385055Z"
    }
   },
   "cell_type": "code",
   "source": "ts = pd.Series(np.random.standard_normal(len(periods)), index=periods)",
   "id": "7f56d0dfbac9c0c0",
   "outputs": [],
   "execution_count": 176
  },
  {
   "metadata": {
    "ExecuteTime": {
     "end_time": "2024-06-17T05:45:31.031247Z",
     "start_time": "2024-06-17T05:45:31.022881Z"
    }
   },
   "cell_type": "code",
   "source": "ts",
   "id": "554328388049da14",
   "outputs": [
    {
     "data": {
      "text/plain": [
       "2006   -1.605132\n",
       "2007   -1.064183\n",
       "2008   -0.572629\n",
       "2009   -1.612422\n",
       "Freq: Y-DEC, dtype: float64"
      ]
     },
     "execution_count": 177,
     "metadata": {},
     "output_type": "execute_result"
    }
   ],
   "execution_count": 177
  },
  {
   "metadata": {
    "ExecuteTime": {
     "end_time": "2024-06-17T05:45:43.777662Z",
     "start_time": "2024-06-17T05:45:43.774332Z"
    }
   },
   "cell_type": "code",
   "source": "periods",
   "id": "200cc9c9ba0ea4b2",
   "outputs": [
    {
     "data": {
      "text/plain": [
       "PeriodIndex(['2006', '2007', '2008', '2009'], dtype='period[Y-DEC]')"
      ]
     },
     "execution_count": 178,
     "metadata": {},
     "output_type": "execute_result"
    }
   ],
   "execution_count": 178
  },
  {
   "metadata": {
    "ExecuteTime": {
     "end_time": "2024-06-17T05:46:20.963610Z",
     "start_time": "2024-06-17T05:46:20.939845Z"
    }
   },
   "cell_type": "code",
   "source": "ts.asfreq(\"M\", how=\"start\")",
   "id": "3b9ea946ed8d64f1",
   "outputs": [
    {
     "data": {
      "text/plain": [
       "2006-01   -1.605132\n",
       "2007-01   -1.064183\n",
       "2008-01   -0.572629\n",
       "2009-01   -1.612422\n",
       "Freq: M, dtype: float64"
      ]
     },
     "execution_count": 179,
     "metadata": {},
     "output_type": "execute_result"
    }
   ],
   "execution_count": 179
  },
  {
   "metadata": {
    "ExecuteTime": {
     "end_time": "2024-06-17T05:46:27.871923Z",
     "start_time": "2024-06-17T05:46:27.868245Z"
    }
   },
   "cell_type": "code",
   "source": "ts",
   "id": "35251b867bac10dd",
   "outputs": [
    {
     "data": {
      "text/plain": [
       "2006   -1.605132\n",
       "2007   -1.064183\n",
       "2008   -0.572629\n",
       "2009   -1.612422\n",
       "Freq: Y-DEC, dtype: float64"
      ]
     },
     "execution_count": 180,
     "metadata": {},
     "output_type": "execute_result"
    }
   ],
   "execution_count": 180
  },
  {
   "metadata": {
    "ExecuteTime": {
     "end_time": "2024-06-17T05:46:48.018689Z",
     "start_time": "2024-06-17T05:46:47.989844Z"
    }
   },
   "cell_type": "code",
   "source": "ts.asfreq(\"B\", how=\"end\")",
   "id": "f96be40b374b0ef5",
   "outputs": [
    {
     "name": "stderr",
     "output_type": "stream",
     "text": [
      "/var/folders/ny/q654wcmn7fq3766flqv2rdv80000gn/T/ipykernel_13066/4027311139.py:1: FutureWarning: PeriodDtype[B] is deprecated and will be removed in a future version. Use a DatetimeIndex with freq='B' instead\n",
      "  ts.asfreq(\"B\", how=\"end\")\n"
     ]
    },
    {
     "data": {
      "text/plain": [
       "2006-12-29   -1.605132\n",
       "2007-12-31   -1.064183\n",
       "2008-12-31   -0.572629\n",
       "2009-12-31   -1.612422\n",
       "Freq: B, dtype: float64"
      ]
     },
     "execution_count": 181,
     "metadata": {},
     "output_type": "execute_result"
    }
   ],
   "execution_count": 181
  },
  {
   "metadata": {
    "ExecuteTime": {
     "end_time": "2024-06-17T05:47:34.113763Z",
     "start_time": "2024-06-17T05:47:34.108557Z"
    }
   },
   "cell_type": "code",
   "source": "p = pd.Period(\"2012Q4\", freq=\"Q-JAN\")",
   "id": "82696d83750a65b7",
   "outputs": [],
   "execution_count": 182
  },
  {
   "metadata": {
    "ExecuteTime": {
     "end_time": "2024-06-17T05:47:36.846500Z",
     "start_time": "2024-06-17T05:47:36.842092Z"
    }
   },
   "cell_type": "code",
   "source": "p",
   "id": "edd0a8d4dfb5c1df",
   "outputs": [
    {
     "data": {
      "text/plain": [
       "Period('2012Q4', 'Q-JAN')"
      ]
     },
     "execution_count": 183,
     "metadata": {},
     "output_type": "execute_result"
    }
   ],
   "execution_count": 183
  },
  {
   "metadata": {
    "ExecuteTime": {
     "end_time": "2024-06-17T05:47:53.101055Z",
     "start_time": "2024-06-17T05:47:53.092921Z"
    }
   },
   "cell_type": "code",
   "source": "p.asfreq(\"D\", how=\"start\")",
   "id": "48fd54f495fe7804",
   "outputs": [
    {
     "data": {
      "text/plain": [
       "Period('2011-11-01', 'D')"
      ]
     },
     "execution_count": 184,
     "metadata": {},
     "output_type": "execute_result"
    }
   ],
   "execution_count": 184
  },
  {
   "metadata": {
    "ExecuteTime": {
     "end_time": "2024-06-17T05:50:13.043737Z",
     "start_time": "2024-06-17T05:50:13.025693Z"
    }
   },
   "cell_type": "code",
   "source": "p4pm = (p.asfreq(\"B\", how=\"end\") - 1).asfreq(\"T\", how=\"start\") + 16 * 60",
   "id": "fc84de525649985a",
   "outputs": [
    {
     "name": "stderr",
     "output_type": "stream",
     "text": [
      "/var/folders/ny/q654wcmn7fq3766flqv2rdv80000gn/T/ipykernel_13066/3453261776.py:1: FutureWarning: Period with BDay freq is deprecated and will be removed in a future version. Use a DatetimeIndex with BDay freq instead.\n",
      "  p4pm = (p.asfreq(\"B\", how=\"end\") - 1).asfreq(\"T\", how=\"start\") + 16 * 60\n",
      "/var/folders/ny/q654wcmn7fq3766flqv2rdv80000gn/T/ipykernel_13066/3453261776.py:1: FutureWarning: 'T' is deprecated and will be removed in a future version, please use 'min' instead.\n",
      "  p4pm = (p.asfreq(\"B\", how=\"end\") - 1).asfreq(\"T\", how=\"start\") + 16 * 60\n"
     ]
    }
   ],
   "execution_count": 185
  },
  {
   "metadata": {
    "ExecuteTime": {
     "end_time": "2024-06-17T05:50:33.331475Z",
     "start_time": "2024-06-17T05:50:33.326660Z"
    }
   },
   "cell_type": "code",
   "source": "p4pm",
   "id": "11558cedb28bca0e",
   "outputs": [
    {
     "data": {
      "text/plain": [
       "Period('2012-01-30 16:00', 'min')"
      ]
     },
     "execution_count": 186,
     "metadata": {},
     "output_type": "execute_result"
    }
   ],
   "execution_count": 186
  },
  {
   "metadata": {
    "ExecuteTime": {
     "end_time": "2024-06-17T05:52:28.847900Z",
     "start_time": "2024-06-17T05:52:28.842329Z"
    }
   },
   "cell_type": "code",
   "source": "p4pm.to_timestamp()",
   "id": "16c438a97bdf95b9",
   "outputs": [
    {
     "data": {
      "text/plain": [
       "Timestamp('2012-01-30 16:00:00')"
      ]
     },
     "execution_count": 187,
     "metadata": {},
     "output_type": "execute_result"
    }
   ],
   "execution_count": 187
  },
  {
   "metadata": {
    "ExecuteTime": {
     "end_time": "2024-06-17T05:52:59.967527Z",
     "start_time": "2024-06-17T05:52:59.962189Z"
    }
   },
   "cell_type": "code",
   "source": "periods = pd.period_range(\"2011Q3\", \"2012Q4\", freq=\"Q-JAN\")",
   "id": "3cdba29439976e01",
   "outputs": [],
   "execution_count": 188
  },
  {
   "metadata": {
    "ExecuteTime": {
     "end_time": "2024-06-17T05:53:07.777242Z",
     "start_time": "2024-06-17T05:53:07.773104Z"
    }
   },
   "cell_type": "code",
   "source": "periods",
   "id": "239733cefe64b016",
   "outputs": [
    {
     "data": {
      "text/plain": [
       "PeriodIndex(['2011Q3', '2011Q4', '2012Q1', '2012Q2', '2012Q3', '2012Q4'], dtype='period[Q-JAN]')"
      ]
     },
     "execution_count": 189,
     "metadata": {},
     "output_type": "execute_result"
    }
   ],
   "execution_count": 189
  },
  {
   "metadata": {
    "ExecuteTime": {
     "end_time": "2024-06-17T05:53:32.361088Z",
     "start_time": "2024-06-17T05:53:32.342187Z"
    }
   },
   "cell_type": "code",
   "source": "ts = pd.Series(np.arange(len(periods)), index=periods)",
   "id": "69e4f4c5e856a192",
   "outputs": [],
   "execution_count": 190
  },
  {
   "metadata": {
    "ExecuteTime": {
     "end_time": "2024-06-17T05:53:34.343222Z",
     "start_time": "2024-06-17T05:53:34.339529Z"
    }
   },
   "cell_type": "code",
   "source": "ts",
   "id": "4c46067d3e8f5ae7",
   "outputs": [
    {
     "data": {
      "text/plain": [
       "2011Q3    0\n",
       "2011Q4    1\n",
       "2012Q1    2\n",
       "2012Q2    3\n",
       "2012Q3    4\n",
       "2012Q4    5\n",
       "Freq: Q-JAN, dtype: int64"
      ]
     },
     "execution_count": 191,
     "metadata": {},
     "output_type": "execute_result"
    }
   ],
   "execution_count": 191
  },
  {
   "metadata": {
    "ExecuteTime": {
     "end_time": "2024-06-17T05:54:56.878361Z",
     "start_time": "2024-06-17T05:54:56.857841Z"
    }
   },
   "cell_type": "code",
   "source": "new_periods = (periods.asfreq(\"B\", \"end\") -1).asfreq(\"h\", \"start\") + 16",
   "id": "ffa907eca750cbf4",
   "outputs": [
    {
     "name": "stderr",
     "output_type": "stream",
     "text": [
      "/var/folders/ny/q654wcmn7fq3766flqv2rdv80000gn/T/ipykernel_13066/929488977.py:1: FutureWarning: PeriodDtype[B] is deprecated and will be removed in a future version. Use a DatetimeIndex with freq='B' instead\n",
      "  new_periods = (periods.asfreq(\"B\", \"end\") -1).asfreq(\"h\", \"start\") + 16\n"
     ]
    }
   ],
   "execution_count": 193
  },
  {
   "metadata": {
    "ExecuteTime": {
     "end_time": "2024-06-17T05:55:22.002332Z",
     "start_time": "2024-06-17T05:55:21.983556Z"
    }
   },
   "cell_type": "code",
   "source": "ts.index = new_periods.to_timestamp()",
   "id": "b3deeff51506055b",
   "outputs": [],
   "execution_count": 194
  },
  {
   "metadata": {
    "ExecuteTime": {
     "end_time": "2024-06-17T05:55:24.556339Z",
     "start_time": "2024-06-17T05:55:24.553005Z"
    }
   },
   "cell_type": "code",
   "source": "ts",
   "id": "28294424f8c930b6",
   "outputs": [
    {
     "data": {
      "text/plain": [
       "2010-10-28 16:00:00    0\n",
       "2011-01-28 16:00:00    1\n",
       "2011-04-28 16:00:00    2\n",
       "2011-07-28 16:00:00    3\n",
       "2011-10-28 16:00:00    4\n",
       "2012-01-30 16:00:00    5\n",
       "dtype: int64"
      ]
     },
     "execution_count": 195,
     "metadata": {},
     "output_type": "execute_result"
    }
   ],
   "execution_count": 195
  },
  {
   "metadata": {
    "ExecuteTime": {
     "end_time": "2024-06-17T05:56:44.948924Z",
     "start_time": "2024-06-17T05:56:44.946878Z"
    }
   },
   "cell_type": "code",
   "source": "dates = pd.date_range(\"2000-01-01\", periods=3, freq=\"ME\")",
   "id": "89b9fca8a49cc90b",
   "outputs": [],
   "execution_count": 197
  },
  {
   "metadata": {
    "ExecuteTime": {
     "end_time": "2024-06-17T05:56:51.313908Z",
     "start_time": "2024-06-17T05:56:51.295994Z"
    }
   },
   "cell_type": "code",
   "source": "dates",
   "id": "ed1f7640a6319746",
   "outputs": [
    {
     "data": {
      "text/plain": [
       "DatetimeIndex(['2000-01-31', '2000-02-29', '2000-03-31'], dtype='datetime64[ns]', freq='ME')"
      ]
     },
     "execution_count": 198,
     "metadata": {},
     "output_type": "execute_result"
    }
   ],
   "execution_count": 198
  },
  {
   "metadata": {
    "ExecuteTime": {
     "end_time": "2024-06-17T05:58:19.049344Z",
     "start_time": "2024-06-17T05:58:19.043368Z"
    }
   },
   "cell_type": "code",
   "source": "ts = pd.Series(np.random.standard_normal(3), index=dates)",
   "id": "419326940412ad44",
   "outputs": [],
   "execution_count": 199
  },
  {
   "metadata": {
    "ExecuteTime": {
     "end_time": "2024-06-17T05:58:20.221835Z",
     "start_time": "2024-06-17T05:58:20.216540Z"
    }
   },
   "cell_type": "code",
   "source": "ts",
   "id": "4ff737272ef8cae2",
   "outputs": [
    {
     "data": {
      "text/plain": [
       "2000-01-31    0.589031\n",
       "2000-02-29    1.126695\n",
       "2000-03-31    0.772884\n",
       "Freq: ME, dtype: float64"
      ]
     },
     "execution_count": 200,
     "metadata": {},
     "output_type": "execute_result"
    }
   ],
   "execution_count": 200
  },
  {
   "metadata": {
    "ExecuteTime": {
     "end_time": "2024-06-17T05:58:51.339384Z",
     "start_time": "2024-06-17T05:58:51.322295Z"
    }
   },
   "cell_type": "code",
   "source": "pts = ts.to_period()",
   "id": "4d7bf44655a9a669",
   "outputs": [],
   "execution_count": 201
  },
  {
   "metadata": {
    "ExecuteTime": {
     "end_time": "2024-06-17T05:58:53.729036Z",
     "start_time": "2024-06-17T05:58:53.723135Z"
    }
   },
   "cell_type": "code",
   "source": "pts",
   "id": "f3ba1a65aaf0c898",
   "outputs": [
    {
     "data": {
      "text/plain": [
       "2000-01    0.589031\n",
       "2000-02    1.126695\n",
       "2000-03    0.772884\n",
       "Freq: M, dtype: float64"
      ]
     },
     "execution_count": 202,
     "metadata": {},
     "output_type": "execute_result"
    }
   ],
   "execution_count": 202
  },
  {
   "metadata": {
    "ExecuteTime": {
     "end_time": "2024-06-17T05:59:39.714277Z",
     "start_time": "2024-06-17T05:59:39.706617Z"
    }
   },
   "cell_type": "code",
   "source": "dates = pd.date_range(\"2000-01-29\", periods=6)",
   "id": "a51f9e6b005584cc",
   "outputs": [],
   "execution_count": 203
  },
  {
   "metadata": {
    "ExecuteTime": {
     "end_time": "2024-06-17T05:59:59.984337Z",
     "start_time": "2024-06-17T05:59:59.976369Z"
    }
   },
   "cell_type": "code",
   "source": "ts2 = pd.Series(np.random.standard_normal(6), index=dates)",
   "id": "45f2e48ac257759f",
   "outputs": [],
   "execution_count": 204
  },
  {
   "metadata": {
    "ExecuteTime": {
     "end_time": "2024-06-17T06:00:03.403558Z",
     "start_time": "2024-06-17T06:00:03.399210Z"
    }
   },
   "cell_type": "code",
   "source": "ts2",
   "id": "620040acfd27691b",
   "outputs": [
    {
     "data": {
      "text/plain": [
       "2000-01-29    1.078172\n",
       "2000-01-30    2.057146\n",
       "2000-01-31    0.121561\n",
       "2000-02-01    0.304261\n",
       "2000-02-02    1.317126\n",
       "2000-02-03   -0.175539\n",
       "Freq: D, dtype: float64"
      ]
     },
     "execution_count": 205,
     "metadata": {},
     "output_type": "execute_result"
    }
   ],
   "execution_count": 205
  },
  {
   "metadata": {
    "ExecuteTime": {
     "end_time": "2024-06-17T06:00:26.066804Z",
     "start_time": "2024-06-17T06:00:26.058991Z"
    }
   },
   "cell_type": "code",
   "source": "ts2.to_period(\"M\")",
   "id": "63499de52edfe82b",
   "outputs": [
    {
     "data": {
      "text/plain": [
       "2000-01    1.078172\n",
       "2000-01    2.057146\n",
       "2000-01    0.121561\n",
       "2000-02    0.304261\n",
       "2000-02    1.317126\n",
       "2000-02   -0.175539\n",
       "Freq: M, dtype: float64"
      ]
     },
     "execution_count": 206,
     "metadata": {},
     "output_type": "execute_result"
    }
   ],
   "execution_count": 206
  },
  {
   "metadata": {
    "ExecuteTime": {
     "end_time": "2024-06-17T06:00:48.054708Z",
     "start_time": "2024-06-17T06:00:48.048498Z"
    }
   },
   "cell_type": "code",
   "source": "pts = ts2.to_period()",
   "id": "bcedb467e8a38a99",
   "outputs": [],
   "execution_count": 207
  },
  {
   "metadata": {
    "ExecuteTime": {
     "end_time": "2024-06-17T06:00:51.260546Z",
     "start_time": "2024-06-17T06:00:51.256868Z"
    }
   },
   "cell_type": "code",
   "source": "pts",
   "id": "20dfbf986c59f716",
   "outputs": [
    {
     "data": {
      "text/plain": [
       "2000-01-29    1.078172\n",
       "2000-01-30    2.057146\n",
       "2000-01-31    0.121561\n",
       "2000-02-01    0.304261\n",
       "2000-02-02    1.317126\n",
       "2000-02-03   -0.175539\n",
       "Freq: D, dtype: float64"
      ]
     },
     "execution_count": 208,
     "metadata": {},
     "output_type": "execute_result"
    }
   ],
   "execution_count": 208
  },
  {
   "metadata": {
    "ExecuteTime": {
     "end_time": "2024-06-17T06:02:45.262484Z",
     "start_time": "2024-06-17T06:02:45.249010Z"
    }
   },
   "cell_type": "code",
   "source": "pts.to_timestamp(how=\"end\")",
   "id": "ad8c5866a8b394b2",
   "outputs": [
    {
     "data": {
      "text/plain": [
       "2000-01-29 23:59:59.999999999    1.078172\n",
       "2000-01-30 23:59:59.999999999    2.057146\n",
       "2000-01-31 23:59:59.999999999    0.121561\n",
       "2000-02-01 23:59:59.999999999    0.304261\n",
       "2000-02-02 23:59:59.999999999    1.317126\n",
       "2000-02-03 23:59:59.999999999   -0.175539\n",
       "Freq: D, dtype: float64"
      ]
     },
     "execution_count": 209,
     "metadata": {},
     "output_type": "execute_result"
    }
   ],
   "execution_count": 209
  },
  {
   "metadata": {
    "ExecuteTime": {
     "end_time": "2024-06-17T06:08:07.238041Z",
     "start_time": "2024-06-17T06:08:07.222427Z"
    }
   },
   "cell_type": "code",
   "source": "data = pd.read_csv(\"examples/macrodata.csv\")",
   "id": "39d5d9685821fea1",
   "outputs": [],
   "execution_count": 210
  },
  {
   "metadata": {
    "ExecuteTime": {
     "end_time": "2024-06-17T06:08:10.599815Z",
     "start_time": "2024-06-17T06:08:10.591740Z"
    }
   },
   "cell_type": "code",
   "source": "data.head()",
   "id": "35c7d25392cfb904",
   "outputs": [
    {
     "data": {
      "text/plain": [
       "   year  quarter   realgdp  realcons  realinv  realgovt  realdpi    cpi  \\\n",
       "0  1959        1  2710.349    1707.4  286.898   470.045   1886.9  28.98   \n",
       "1  1959        2  2778.801    1733.7  310.859   481.301   1919.7  29.15   \n",
       "2  1959        3  2775.488    1751.8  289.226   491.260   1916.4  29.35   \n",
       "3  1959        4  2785.204    1753.7  299.356   484.052   1931.3  29.37   \n",
       "4  1960        1  2847.699    1770.5  331.722   462.199   1955.5  29.54   \n",
       "\n",
       "      m1  tbilrate  unemp      pop  infl  realint  \n",
       "0  139.7      2.82    5.8  177.146  0.00     0.00  \n",
       "1  141.7      3.08    5.1  177.830  2.34     0.74  \n",
       "2  140.5      3.82    5.3  178.657  2.74     1.09  \n",
       "3  140.0      4.33    5.6  179.386  0.27     4.06  \n",
       "4  139.6      3.50    5.2  180.007  2.31     1.19  "
      ],
      "text/html": [
       "<div>\n",
       "<style scoped>\n",
       "    .dataframe tbody tr th:only-of-type {\n",
       "        vertical-align: middle;\n",
       "    }\n",
       "\n",
       "    .dataframe tbody tr th {\n",
       "        vertical-align: top;\n",
       "    }\n",
       "\n",
       "    .dataframe thead th {\n",
       "        text-align: right;\n",
       "    }\n",
       "</style>\n",
       "<table border=\"1\" class=\"dataframe\">\n",
       "  <thead>\n",
       "    <tr style=\"text-align: right;\">\n",
       "      <th></th>\n",
       "      <th>year</th>\n",
       "      <th>quarter</th>\n",
       "      <th>realgdp</th>\n",
       "      <th>realcons</th>\n",
       "      <th>realinv</th>\n",
       "      <th>realgovt</th>\n",
       "      <th>realdpi</th>\n",
       "      <th>cpi</th>\n",
       "      <th>m1</th>\n",
       "      <th>tbilrate</th>\n",
       "      <th>unemp</th>\n",
       "      <th>pop</th>\n",
       "      <th>infl</th>\n",
       "      <th>realint</th>\n",
       "    </tr>\n",
       "  </thead>\n",
       "  <tbody>\n",
       "    <tr>\n",
       "      <th>0</th>\n",
       "      <td>1959</td>\n",
       "      <td>1</td>\n",
       "      <td>2710.349</td>\n",
       "      <td>1707.4</td>\n",
       "      <td>286.898</td>\n",
       "      <td>470.045</td>\n",
       "      <td>1886.9</td>\n",
       "      <td>28.98</td>\n",
       "      <td>139.7</td>\n",
       "      <td>2.82</td>\n",
       "      <td>5.8</td>\n",
       "      <td>177.146</td>\n",
       "      <td>0.00</td>\n",
       "      <td>0.00</td>\n",
       "    </tr>\n",
       "    <tr>\n",
       "      <th>1</th>\n",
       "      <td>1959</td>\n",
       "      <td>2</td>\n",
       "      <td>2778.801</td>\n",
       "      <td>1733.7</td>\n",
       "      <td>310.859</td>\n",
       "      <td>481.301</td>\n",
       "      <td>1919.7</td>\n",
       "      <td>29.15</td>\n",
       "      <td>141.7</td>\n",
       "      <td>3.08</td>\n",
       "      <td>5.1</td>\n",
       "      <td>177.830</td>\n",
       "      <td>2.34</td>\n",
       "      <td>0.74</td>\n",
       "    </tr>\n",
       "    <tr>\n",
       "      <th>2</th>\n",
       "      <td>1959</td>\n",
       "      <td>3</td>\n",
       "      <td>2775.488</td>\n",
       "      <td>1751.8</td>\n",
       "      <td>289.226</td>\n",
       "      <td>491.260</td>\n",
       "      <td>1916.4</td>\n",
       "      <td>29.35</td>\n",
       "      <td>140.5</td>\n",
       "      <td>3.82</td>\n",
       "      <td>5.3</td>\n",
       "      <td>178.657</td>\n",
       "      <td>2.74</td>\n",
       "      <td>1.09</td>\n",
       "    </tr>\n",
       "    <tr>\n",
       "      <th>3</th>\n",
       "      <td>1959</td>\n",
       "      <td>4</td>\n",
       "      <td>2785.204</td>\n",
       "      <td>1753.7</td>\n",
       "      <td>299.356</td>\n",
       "      <td>484.052</td>\n",
       "      <td>1931.3</td>\n",
       "      <td>29.37</td>\n",
       "      <td>140.0</td>\n",
       "      <td>4.33</td>\n",
       "      <td>5.6</td>\n",
       "      <td>179.386</td>\n",
       "      <td>0.27</td>\n",
       "      <td>4.06</td>\n",
       "    </tr>\n",
       "    <tr>\n",
       "      <th>4</th>\n",
       "      <td>1960</td>\n",
       "      <td>1</td>\n",
       "      <td>2847.699</td>\n",
       "      <td>1770.5</td>\n",
       "      <td>331.722</td>\n",
       "      <td>462.199</td>\n",
       "      <td>1955.5</td>\n",
       "      <td>29.54</td>\n",
       "      <td>139.6</td>\n",
       "      <td>3.50</td>\n",
       "      <td>5.2</td>\n",
       "      <td>180.007</td>\n",
       "      <td>2.31</td>\n",
       "      <td>1.19</td>\n",
       "    </tr>\n",
       "  </tbody>\n",
       "</table>\n",
       "</div>"
      ]
     },
     "execution_count": 211,
     "metadata": {},
     "output_type": "execute_result"
    }
   ],
   "execution_count": 211
  },
  {
   "metadata": {
    "ExecuteTime": {
     "end_time": "2024-06-17T06:08:35.859574Z",
     "start_time": "2024-06-17T06:08:35.847450Z"
    }
   },
   "cell_type": "code",
   "source": "data[\"year\"]",
   "id": "a9a982ff65b04c68",
   "outputs": [
    {
     "data": {
      "text/plain": [
       "0      1959\n",
       "1      1959\n",
       "2      1959\n",
       "3      1959\n",
       "4      1960\n",
       "       ... \n",
       "198    2008\n",
       "199    2008\n",
       "200    2009\n",
       "201    2009\n",
       "202    2009\n",
       "Name: year, Length: 203, dtype: int64"
      ]
     },
     "execution_count": 212,
     "metadata": {},
     "output_type": "execute_result"
    }
   ],
   "execution_count": 212
  },
  {
   "metadata": {
    "ExecuteTime": {
     "end_time": "2024-06-17T06:08:51.068051Z",
     "start_time": "2024-06-17T06:08:51.034546Z"
    }
   },
   "cell_type": "code",
   "source": "data[\"quarter\"]",
   "id": "26a59b62f62db633",
   "outputs": [
    {
     "data": {
      "text/plain": [
       "0      1\n",
       "1      2\n",
       "2      3\n",
       "3      4\n",
       "4      1\n",
       "      ..\n",
       "198    3\n",
       "199    4\n",
       "200    1\n",
       "201    2\n",
       "202    3\n",
       "Name: quarter, Length: 203, dtype: int64"
      ]
     },
     "execution_count": 213,
     "metadata": {},
     "output_type": "execute_result"
    }
   ],
   "execution_count": 213
  },
  {
   "metadata": {
    "ExecuteTime": {
     "end_time": "2024-06-17T06:09:49.903956Z",
     "start_time": "2024-06-17T06:09:49.894613Z"
    }
   },
   "cell_type": "code",
   "source": "index = pd.PeriodIndex.from_fields(year=data[\"year\"], quarter=data[\"quarter\"],freq=\"Q-DEC\")",
   "id": "a0030c1ce7137ce3",
   "outputs": [],
   "execution_count": 215
  },
  {
   "metadata": {
    "ExecuteTime": {
     "end_time": "2024-06-17T06:09:57.661974Z",
     "start_time": "2024-06-17T06:09:57.657584Z"
    }
   },
   "cell_type": "code",
   "source": "index",
   "id": "334fa7a620250e52",
   "outputs": [
    {
     "data": {
      "text/plain": [
       "PeriodIndex(['1959Q1', '1959Q2', '1959Q3', '1959Q4', '1960Q1', '1960Q2',\n",
       "             '1960Q3', '1960Q4', '1961Q1', '1961Q2',\n",
       "             ...\n",
       "             '2007Q2', '2007Q3', '2007Q4', '2008Q1', '2008Q2', '2008Q3',\n",
       "             '2008Q4', '2009Q1', '2009Q2', '2009Q3'],\n",
       "            dtype='period[Q-DEC]', length=203)"
      ]
     },
     "execution_count": 216,
     "metadata": {},
     "output_type": "execute_result"
    }
   ],
   "execution_count": 216
  },
  {
   "metadata": {
    "ExecuteTime": {
     "end_time": "2024-06-17T06:10:33.753440Z",
     "start_time": "2024-06-17T06:10:33.748156Z"
    }
   },
   "cell_type": "code",
   "source": "data.index = index",
   "id": "7fe3ae386c3d2ffa",
   "outputs": [],
   "execution_count": 217
  },
  {
   "metadata": {
    "ExecuteTime": {
     "end_time": "2024-06-17T06:10:39.695593Z",
     "start_time": "2024-06-17T06:10:39.686302Z"
    }
   },
   "cell_type": "code",
   "source": "data[\"infl\"]",
   "id": "679f47b727ccfc81",
   "outputs": [
    {
     "data": {
      "text/plain": [
       "1959Q1    0.00\n",
       "1959Q2    2.34\n",
       "1959Q3    2.74\n",
       "1959Q4    0.27\n",
       "1960Q1    2.31\n",
       "          ... \n",
       "2008Q3   -3.16\n",
       "2008Q4   -8.79\n",
       "2009Q1    0.94\n",
       "2009Q2    3.37\n",
       "2009Q3    3.56\n",
       "Freq: Q-DEC, Name: infl, Length: 203, dtype: float64"
      ]
     },
     "execution_count": 218,
     "metadata": {},
     "output_type": "execute_result"
    }
   ],
   "execution_count": 218
  },
  {
   "metadata": {
    "ExecuteTime": {
     "end_time": "2024-06-17T06:17:29.516407Z",
     "start_time": "2024-06-17T06:17:29.509619Z"
    }
   },
   "cell_type": "code",
   "source": "dates = pd.date_range(\"2000-01-01\", periods=100)",
   "id": "ecdfd69086b59c59",
   "outputs": [],
   "execution_count": 219
  },
  {
   "metadata": {
    "ExecuteTime": {
     "end_time": "2024-06-17T06:17:52.204953Z",
     "start_time": "2024-06-17T06:17:52.186929Z"
    }
   },
   "cell_type": "code",
   "source": "ts = pd.Series(np.random.standard_normal(len(dates)), index=dates)",
   "id": "bffe68f4254493b7",
   "outputs": [],
   "execution_count": 220
  },
  {
   "metadata": {
    "ExecuteTime": {
     "end_time": "2024-06-17T06:17:53.635556Z",
     "start_time": "2024-06-17T06:17:53.628538Z"
    }
   },
   "cell_type": "code",
   "source": "ts",
   "id": "6595b2ee27fb973f",
   "outputs": [
    {
     "data": {
      "text/plain": [
       "2000-01-01   -0.537890\n",
       "2000-01-02   -0.987751\n",
       "2000-01-03   -0.031024\n",
       "2000-01-04    0.588280\n",
       "2000-01-05    0.773791\n",
       "                ...   \n",
       "2000-04-05    0.244278\n",
       "2000-04-06   -0.412803\n",
       "2000-04-07   -0.239620\n",
       "2000-04-08   -1.231255\n",
       "2000-04-09   -0.505668\n",
       "Freq: D, Length: 100, dtype: float64"
      ]
     },
     "execution_count": 221,
     "metadata": {},
     "output_type": "execute_result"
    }
   ],
   "execution_count": 221
  },
  {
   "metadata": {
    "ExecuteTime": {
     "end_time": "2024-06-17T06:18:16.408921Z",
     "start_time": "2024-06-17T06:18:16.405214Z"
    }
   },
   "cell_type": "code",
   "source": "ts.resample(\"ME\").mean()",
   "id": "1218a68d70a04413",
   "outputs": [
    {
     "data": {
      "text/plain": [
       "2000-01-31   -0.188846\n",
       "2000-02-29    0.082894\n",
       "2000-03-31   -0.044675\n",
       "2000-04-30   -0.455924\n",
       "Freq: ME, dtype: float64"
      ]
     },
     "execution_count": 223,
     "metadata": {},
     "output_type": "execute_result"
    }
   ],
   "execution_count": 223
  },
  {
   "metadata": {
    "ExecuteTime": {
     "end_time": "2024-06-17T06:19:06.144779Z",
     "start_time": "2024-06-17T06:19:06.139991Z"
    }
   },
   "cell_type": "code",
   "source": "ts.resample(\"ME\", kind=\"period\").mean()",
   "id": "aaea552e86622253",
   "outputs": [
    {
     "name": "stderr",
     "output_type": "stream",
     "text": [
      "/var/folders/ny/q654wcmn7fq3766flqv2rdv80000gn/T/ipykernel_13066/1090574099.py:1: FutureWarning: The 'kind' keyword in Series.resample is deprecated and will be removed in a future version. Explicitly cast the index to the desired type instead\n",
      "  ts.resample(\"ME\", kind=\"period\").mean()\n"
     ]
    },
    {
     "data": {
      "text/plain": [
       "2000-01   -0.188846\n",
       "2000-02    0.082894\n",
       "2000-03   -0.044675\n",
       "2000-04   -0.455924\n",
       "Freq: M, dtype: float64"
      ]
     },
     "execution_count": 225,
     "metadata": {},
     "output_type": "execute_result"
    }
   ],
   "execution_count": 225
  },
  {
   "metadata": {
    "ExecuteTime": {
     "end_time": "2024-06-17T06:20:21.196883Z",
     "start_time": "2024-06-17T06:20:21.190648Z"
    }
   },
   "cell_type": "code",
   "source": "date = pd.date_range(\"2000-01-01\", periods=12, freq=\"T\")",
   "id": "142d339764c1abd5",
   "outputs": [
    {
     "name": "stderr",
     "output_type": "stream",
     "text": [
      "/var/folders/ny/q654wcmn7fq3766flqv2rdv80000gn/T/ipykernel_13066/1069737778.py:1: FutureWarning: 'T' is deprecated and will be removed in a future version, please use 'min' instead.\n",
      "  date = pd.date_range(\"2000-01-01\", periods=12, freq=\"T\")\n"
     ]
    }
   ],
   "execution_count": 226
  },
  {
   "metadata": {
    "ExecuteTime": {
     "end_time": "2024-06-17T06:20:47.432995Z",
     "start_time": "2024-06-17T06:20:47.421055Z"
    }
   },
   "cell_type": "code",
   "source": "ts = pd.Series(np.arange(len(dates)), index=dates)",
   "id": "21623d1ef3304459",
   "outputs": [],
   "execution_count": 227
  },
  {
   "metadata": {
    "ExecuteTime": {
     "end_time": "2024-06-17T06:20:49.269544Z",
     "start_time": "2024-06-17T06:20:49.266004Z"
    }
   },
   "cell_type": "code",
   "source": "ts",
   "id": "b8c8fc56e72a815e",
   "outputs": [
    {
     "data": {
      "text/plain": [
       "2000-01-01     0\n",
       "2000-01-02     1\n",
       "2000-01-03     2\n",
       "2000-01-04     3\n",
       "2000-01-05     4\n",
       "              ..\n",
       "2000-04-05    95\n",
       "2000-04-06    96\n",
       "2000-04-07    97\n",
       "2000-04-08    98\n",
       "2000-04-09    99\n",
       "Freq: D, Length: 100, dtype: int64"
      ]
     },
     "execution_count": 228,
     "metadata": {},
     "output_type": "execute_result"
    }
   ],
   "execution_count": 228
  },
  {
   "metadata": {
    "ExecuteTime": {
     "end_time": "2024-06-17T06:21:29.747999Z",
     "start_time": "2024-06-17T06:21:29.711937Z"
    }
   },
   "cell_type": "code",
   "source": "ts.resample(\"5min\").sum()",
   "id": "6968c3d3af950083",
   "outputs": [
    {
     "data": {
      "text/plain": [
       "2000-01-01 00:00:00     0\n",
       "2000-01-01 00:05:00     0\n",
       "2000-01-01 00:10:00     0\n",
       "2000-01-01 00:15:00     0\n",
       "2000-01-01 00:20:00     0\n",
       "                       ..\n",
       "2000-04-08 23:40:00     0\n",
       "2000-04-08 23:45:00     0\n",
       "2000-04-08 23:50:00     0\n",
       "2000-04-08 23:55:00     0\n",
       "2000-04-09 00:00:00    99\n",
       "Freq: 5min, Length: 28513, dtype: int64"
      ]
     },
     "execution_count": 229,
     "metadata": {},
     "output_type": "execute_result"
    }
   ],
   "execution_count": 229
  },
  {
   "metadata": {
    "ExecuteTime": {
     "end_time": "2024-06-17T06:22:04.194256Z",
     "start_time": "2024-06-17T06:22:04.183747Z"
    }
   },
   "cell_type": "code",
   "source": "ts.resample(\"5min\",closed=\"right\").sum()",
   "id": "80c4306d00bb883d",
   "outputs": [
    {
     "data": {
      "text/plain": [
       "1999-12-31 23:55:00     0\n",
       "2000-01-01 00:00:00     0\n",
       "2000-01-01 00:05:00     0\n",
       "2000-01-01 00:10:00     0\n",
       "2000-01-01 00:15:00     0\n",
       "                       ..\n",
       "2000-04-08 23:35:00     0\n",
       "2000-04-08 23:40:00     0\n",
       "2000-04-08 23:45:00     0\n",
       "2000-04-08 23:50:00     0\n",
       "2000-04-08 23:55:00    99\n",
       "Freq: 5min, Length: 28513, dtype: int64"
      ]
     },
     "execution_count": 230,
     "metadata": {},
     "output_type": "execute_result"
    }
   ],
   "execution_count": 230
  },
  {
   "metadata": {
    "ExecuteTime": {
     "end_time": "2024-06-17T06:32:32.205694Z",
     "start_time": "2024-06-17T06:32:32.194200Z"
    }
   },
   "cell_type": "code",
   "source": "ts.resample(\"5min\", closed=\"right\", label=\"right\").sum()",
   "id": "d1471d5e82a85eef",
   "outputs": [
    {
     "data": {
      "text/plain": [
       "2000-01-01 00:00:00     0\n",
       "2000-01-01 00:05:00     0\n",
       "2000-01-01 00:10:00     0\n",
       "2000-01-01 00:15:00     0\n",
       "2000-01-01 00:20:00     0\n",
       "                       ..\n",
       "2000-04-08 23:40:00     0\n",
       "2000-04-08 23:45:00     0\n",
       "2000-04-08 23:50:00     0\n",
       "2000-04-08 23:55:00     0\n",
       "2000-04-09 00:00:00    99\n",
       "Freq: 5min, Length: 28513, dtype: int64"
      ]
     },
     "execution_count": 231,
     "metadata": {},
     "output_type": "execute_result"
    }
   ],
   "execution_count": 231
  },
  {
   "metadata": {
    "ExecuteTime": {
     "end_time": "2024-06-17T06:33:25.150264Z",
     "start_time": "2024-06-17T06:33:25.142428Z"
    }
   },
   "cell_type": "code",
   "source": "from pandas.tseries.frequencies import to_offset",
   "id": "8583f8ec28df3259",
   "outputs": [],
   "execution_count": 232
  },
  {
   "metadata": {
    "ExecuteTime": {
     "end_time": "2024-06-17T06:33:52.920202Z",
     "start_time": "2024-06-17T06:33:52.910157Z"
    }
   },
   "cell_type": "code",
   "source": "result = ts.resample(\"5min\", closed=\"right\", label=\"right\").sum()",
   "id": "a65f605334c87565",
   "outputs": [],
   "execution_count": 233
  },
  {
   "metadata": {
    "ExecuteTime": {
     "end_time": "2024-06-17T06:34:12.684417Z",
     "start_time": "2024-06-17T06:34:12.674960Z"
    }
   },
   "cell_type": "code",
   "source": "result.index = result.index + to_offset(\"-1s\")",
   "id": "5b393a4ab0c98a77",
   "outputs": [],
   "execution_count": 234
  },
  {
   "metadata": {
    "ExecuteTime": {
     "end_time": "2024-06-17T06:34:14.288108Z",
     "start_time": "2024-06-17T06:34:14.284631Z"
    }
   },
   "cell_type": "code",
   "source": "result",
   "id": "7a0beef8dc95e47d",
   "outputs": [
    {
     "data": {
      "text/plain": [
       "1999-12-31 23:59:59     0\n",
       "2000-01-01 00:04:59     0\n",
       "2000-01-01 00:09:59     0\n",
       "2000-01-01 00:14:59     0\n",
       "2000-01-01 00:19:59     0\n",
       "                       ..\n",
       "2000-04-08 23:39:59     0\n",
       "2000-04-08 23:44:59     0\n",
       "2000-04-08 23:49:59     0\n",
       "2000-04-08 23:54:59     0\n",
       "2000-04-08 23:59:59    99\n",
       "Freq: 5min, Length: 28513, dtype: int64"
      ]
     },
     "execution_count": 235,
     "metadata": {},
     "output_type": "execute_result"
    }
   ],
   "execution_count": 235
  },
  {
   "metadata": {
    "ExecuteTime": {
     "end_time": "2024-06-17T07:36:49.229486Z",
     "start_time": "2024-06-17T07:36:49.126841Z"
    }
   },
   "cell_type": "code",
   "source": "ts = pd.Series(np.random.permutation(np.arange(len(dates))), index=dates)",
   "id": "4252254eae4d6a7d",
   "outputs": [],
   "execution_count": 236
  },
  {
   "metadata": {
    "ExecuteTime": {
     "end_time": "2024-06-17T07:37:03.711546Z",
     "start_time": "2024-06-17T07:37:03.679536Z"
    }
   },
   "cell_type": "code",
   "source": "ts.resample(\"5min\").ohlc()",
   "id": "7cdf3a4acad8e26",
   "outputs": [
    {
     "data": {
      "text/plain": [
       "                     open  high   low  close\n",
       "2000-01-01 00:00:00  39.0  39.0  39.0   39.0\n",
       "2000-01-01 00:05:00   NaN   NaN   NaN    NaN\n",
       "2000-01-01 00:10:00   NaN   NaN   NaN    NaN\n",
       "2000-01-01 00:15:00   NaN   NaN   NaN    NaN\n",
       "2000-01-01 00:20:00   NaN   NaN   NaN    NaN\n",
       "...                   ...   ...   ...    ...\n",
       "2000-04-08 23:40:00   NaN   NaN   NaN    NaN\n",
       "2000-04-08 23:45:00   NaN   NaN   NaN    NaN\n",
       "2000-04-08 23:50:00   NaN   NaN   NaN    NaN\n",
       "2000-04-08 23:55:00   NaN   NaN   NaN    NaN\n",
       "2000-04-09 00:00:00  18.0  18.0  18.0   18.0\n",
       "\n",
       "[28513 rows x 4 columns]"
      ],
      "text/html": [
       "<div>\n",
       "<style scoped>\n",
       "    .dataframe tbody tr th:only-of-type {\n",
       "        vertical-align: middle;\n",
       "    }\n",
       "\n",
       "    .dataframe tbody tr th {\n",
       "        vertical-align: top;\n",
       "    }\n",
       "\n",
       "    .dataframe thead th {\n",
       "        text-align: right;\n",
       "    }\n",
       "</style>\n",
       "<table border=\"1\" class=\"dataframe\">\n",
       "  <thead>\n",
       "    <tr style=\"text-align: right;\">\n",
       "      <th></th>\n",
       "      <th>open</th>\n",
       "      <th>high</th>\n",
       "      <th>low</th>\n",
       "      <th>close</th>\n",
       "    </tr>\n",
       "  </thead>\n",
       "  <tbody>\n",
       "    <tr>\n",
       "      <th>2000-01-01 00:00:00</th>\n",
       "      <td>39.0</td>\n",
       "      <td>39.0</td>\n",
       "      <td>39.0</td>\n",
       "      <td>39.0</td>\n",
       "    </tr>\n",
       "    <tr>\n",
       "      <th>2000-01-01 00:05:00</th>\n",
       "      <td>NaN</td>\n",
       "      <td>NaN</td>\n",
       "      <td>NaN</td>\n",
       "      <td>NaN</td>\n",
       "    </tr>\n",
       "    <tr>\n",
       "      <th>2000-01-01 00:10:00</th>\n",
       "      <td>NaN</td>\n",
       "      <td>NaN</td>\n",
       "      <td>NaN</td>\n",
       "      <td>NaN</td>\n",
       "    </tr>\n",
       "    <tr>\n",
       "      <th>2000-01-01 00:15:00</th>\n",
       "      <td>NaN</td>\n",
       "      <td>NaN</td>\n",
       "      <td>NaN</td>\n",
       "      <td>NaN</td>\n",
       "    </tr>\n",
       "    <tr>\n",
       "      <th>2000-01-01 00:20:00</th>\n",
       "      <td>NaN</td>\n",
       "      <td>NaN</td>\n",
       "      <td>NaN</td>\n",
       "      <td>NaN</td>\n",
       "    </tr>\n",
       "    <tr>\n",
       "      <th>...</th>\n",
       "      <td>...</td>\n",
       "      <td>...</td>\n",
       "      <td>...</td>\n",
       "      <td>...</td>\n",
       "    </tr>\n",
       "    <tr>\n",
       "      <th>2000-04-08 23:40:00</th>\n",
       "      <td>NaN</td>\n",
       "      <td>NaN</td>\n",
       "      <td>NaN</td>\n",
       "      <td>NaN</td>\n",
       "    </tr>\n",
       "    <tr>\n",
       "      <th>2000-04-08 23:45:00</th>\n",
       "      <td>NaN</td>\n",
       "      <td>NaN</td>\n",
       "      <td>NaN</td>\n",
       "      <td>NaN</td>\n",
       "    </tr>\n",
       "    <tr>\n",
       "      <th>2000-04-08 23:50:00</th>\n",
       "      <td>NaN</td>\n",
       "      <td>NaN</td>\n",
       "      <td>NaN</td>\n",
       "      <td>NaN</td>\n",
       "    </tr>\n",
       "    <tr>\n",
       "      <th>2000-04-08 23:55:00</th>\n",
       "      <td>NaN</td>\n",
       "      <td>NaN</td>\n",
       "      <td>NaN</td>\n",
       "      <td>NaN</td>\n",
       "    </tr>\n",
       "    <tr>\n",
       "      <th>2000-04-09 00:00:00</th>\n",
       "      <td>18.0</td>\n",
       "      <td>18.0</td>\n",
       "      <td>18.0</td>\n",
       "      <td>18.0</td>\n",
       "    </tr>\n",
       "  </tbody>\n",
       "</table>\n",
       "<p>28513 rows × 4 columns</p>\n",
       "</div>"
      ]
     },
     "execution_count": 237,
     "metadata": {},
     "output_type": "execute_result"
    }
   ],
   "execution_count": 237
  },
  {
   "metadata": {
    "ExecuteTime": {
     "end_time": "2024-06-17T07:39:24.946762Z",
     "start_time": "2024-06-17T07:39:24.931631Z"
    }
   },
   "cell_type": "code",
   "source": [
    "frame = pd.DataFrame(np.random.standard_normal((2,4)),\n",
    "                     index=pd.date_range(\"2000-01-01\", periods=2,freq=\"W-WED\"),\n",
    "                     columns=[\"Colorado\", \"Texas\",\"New York\", \"Ohio\"])"
   ],
   "id": "108c75bd1ac91e5b",
   "outputs": [],
   "execution_count": 238
  },
  {
   "metadata": {
    "ExecuteTime": {
     "end_time": "2024-06-17T07:39:28.473871Z",
     "start_time": "2024-06-17T07:39:28.463160Z"
    }
   },
   "cell_type": "code",
   "source": "frame",
   "id": "ab75dd79792b2b69",
   "outputs": [
    {
     "data": {
      "text/plain": [
       "            Colorado     Texas  New York      Ohio\n",
       "2000-01-05  0.441177 -1.417768  1.048003  1.415270\n",
       "2000-01-12 -0.767882 -0.563736  1.104286  0.310523"
      ],
      "text/html": [
       "<div>\n",
       "<style scoped>\n",
       "    .dataframe tbody tr th:only-of-type {\n",
       "        vertical-align: middle;\n",
       "    }\n",
       "\n",
       "    .dataframe tbody tr th {\n",
       "        vertical-align: top;\n",
       "    }\n",
       "\n",
       "    .dataframe thead th {\n",
       "        text-align: right;\n",
       "    }\n",
       "</style>\n",
       "<table border=\"1\" class=\"dataframe\">\n",
       "  <thead>\n",
       "    <tr style=\"text-align: right;\">\n",
       "      <th></th>\n",
       "      <th>Colorado</th>\n",
       "      <th>Texas</th>\n",
       "      <th>New York</th>\n",
       "      <th>Ohio</th>\n",
       "    </tr>\n",
       "  </thead>\n",
       "  <tbody>\n",
       "    <tr>\n",
       "      <th>2000-01-05</th>\n",
       "      <td>0.441177</td>\n",
       "      <td>-1.417768</td>\n",
       "      <td>1.048003</td>\n",
       "      <td>1.415270</td>\n",
       "    </tr>\n",
       "    <tr>\n",
       "      <th>2000-01-12</th>\n",
       "      <td>-0.767882</td>\n",
       "      <td>-0.563736</td>\n",
       "      <td>1.104286</td>\n",
       "      <td>0.310523</td>\n",
       "    </tr>\n",
       "  </tbody>\n",
       "</table>\n",
       "</div>"
      ]
     },
     "execution_count": 239,
     "metadata": {},
     "output_type": "execute_result"
    }
   ],
   "execution_count": 239
  },
  {
   "metadata": {
    "ExecuteTime": {
     "end_time": "2024-06-17T07:40:13.109745Z",
     "start_time": "2024-06-17T07:40:13.088529Z"
    }
   },
   "cell_type": "code",
   "source": "df_daily = frame.resample(\"D\").asfreq()",
   "id": "2cf7e91cfacee541",
   "outputs": [],
   "execution_count": 240
  },
  {
   "metadata": {
    "ExecuteTime": {
     "end_time": "2024-06-17T07:40:15.577267Z",
     "start_time": "2024-06-17T07:40:15.569905Z"
    }
   },
   "cell_type": "code",
   "source": "df_daily",
   "id": "1c1e72133e53cf25",
   "outputs": [
    {
     "data": {
      "text/plain": [
       "            Colorado     Texas  New York      Ohio\n",
       "2000-01-05  0.441177 -1.417768  1.048003  1.415270\n",
       "2000-01-06       NaN       NaN       NaN       NaN\n",
       "2000-01-07       NaN       NaN       NaN       NaN\n",
       "2000-01-08       NaN       NaN       NaN       NaN\n",
       "2000-01-09       NaN       NaN       NaN       NaN\n",
       "2000-01-10       NaN       NaN       NaN       NaN\n",
       "2000-01-11       NaN       NaN       NaN       NaN\n",
       "2000-01-12 -0.767882 -0.563736  1.104286  0.310523"
      ],
      "text/html": [
       "<div>\n",
       "<style scoped>\n",
       "    .dataframe tbody tr th:only-of-type {\n",
       "        vertical-align: middle;\n",
       "    }\n",
       "\n",
       "    .dataframe tbody tr th {\n",
       "        vertical-align: top;\n",
       "    }\n",
       "\n",
       "    .dataframe thead th {\n",
       "        text-align: right;\n",
       "    }\n",
       "</style>\n",
       "<table border=\"1\" class=\"dataframe\">\n",
       "  <thead>\n",
       "    <tr style=\"text-align: right;\">\n",
       "      <th></th>\n",
       "      <th>Colorado</th>\n",
       "      <th>Texas</th>\n",
       "      <th>New York</th>\n",
       "      <th>Ohio</th>\n",
       "    </tr>\n",
       "  </thead>\n",
       "  <tbody>\n",
       "    <tr>\n",
       "      <th>2000-01-05</th>\n",
       "      <td>0.441177</td>\n",
       "      <td>-1.417768</td>\n",
       "      <td>1.048003</td>\n",
       "      <td>1.415270</td>\n",
       "    </tr>\n",
       "    <tr>\n",
       "      <th>2000-01-06</th>\n",
       "      <td>NaN</td>\n",
       "      <td>NaN</td>\n",
       "      <td>NaN</td>\n",
       "      <td>NaN</td>\n",
       "    </tr>\n",
       "    <tr>\n",
       "      <th>2000-01-07</th>\n",
       "      <td>NaN</td>\n",
       "      <td>NaN</td>\n",
       "      <td>NaN</td>\n",
       "      <td>NaN</td>\n",
       "    </tr>\n",
       "    <tr>\n",
       "      <th>2000-01-08</th>\n",
       "      <td>NaN</td>\n",
       "      <td>NaN</td>\n",
       "      <td>NaN</td>\n",
       "      <td>NaN</td>\n",
       "    </tr>\n",
       "    <tr>\n",
       "      <th>2000-01-09</th>\n",
       "      <td>NaN</td>\n",
       "      <td>NaN</td>\n",
       "      <td>NaN</td>\n",
       "      <td>NaN</td>\n",
       "    </tr>\n",
       "    <tr>\n",
       "      <th>2000-01-10</th>\n",
       "      <td>NaN</td>\n",
       "      <td>NaN</td>\n",
       "      <td>NaN</td>\n",
       "      <td>NaN</td>\n",
       "    </tr>\n",
       "    <tr>\n",
       "      <th>2000-01-11</th>\n",
       "      <td>NaN</td>\n",
       "      <td>NaN</td>\n",
       "      <td>NaN</td>\n",
       "      <td>NaN</td>\n",
       "    </tr>\n",
       "    <tr>\n",
       "      <th>2000-01-12</th>\n",
       "      <td>-0.767882</td>\n",
       "      <td>-0.563736</td>\n",
       "      <td>1.104286</td>\n",
       "      <td>0.310523</td>\n",
       "    </tr>\n",
       "  </tbody>\n",
       "</table>\n",
       "</div>"
      ]
     },
     "execution_count": 241,
     "metadata": {},
     "output_type": "execute_result"
    }
   ],
   "execution_count": 241
  },
  {
   "metadata": {
    "ExecuteTime": {
     "end_time": "2024-06-17T07:40:42.216889Z",
     "start_time": "2024-06-17T07:40:42.188755Z"
    }
   },
   "cell_type": "code",
   "source": "frame.resample(\"D\").ffill()",
   "id": "9bde91ce47d626f4",
   "outputs": [
    {
     "data": {
      "text/plain": [
       "            Colorado     Texas  New York      Ohio\n",
       "2000-01-05  0.441177 -1.417768  1.048003  1.415270\n",
       "2000-01-06  0.441177 -1.417768  1.048003  1.415270\n",
       "2000-01-07  0.441177 -1.417768  1.048003  1.415270\n",
       "2000-01-08  0.441177 -1.417768  1.048003  1.415270\n",
       "2000-01-09  0.441177 -1.417768  1.048003  1.415270\n",
       "2000-01-10  0.441177 -1.417768  1.048003  1.415270\n",
       "2000-01-11  0.441177 -1.417768  1.048003  1.415270\n",
       "2000-01-12 -0.767882 -0.563736  1.104286  0.310523"
      ],
      "text/html": [
       "<div>\n",
       "<style scoped>\n",
       "    .dataframe tbody tr th:only-of-type {\n",
       "        vertical-align: middle;\n",
       "    }\n",
       "\n",
       "    .dataframe tbody tr th {\n",
       "        vertical-align: top;\n",
       "    }\n",
       "\n",
       "    .dataframe thead th {\n",
       "        text-align: right;\n",
       "    }\n",
       "</style>\n",
       "<table border=\"1\" class=\"dataframe\">\n",
       "  <thead>\n",
       "    <tr style=\"text-align: right;\">\n",
       "      <th></th>\n",
       "      <th>Colorado</th>\n",
       "      <th>Texas</th>\n",
       "      <th>New York</th>\n",
       "      <th>Ohio</th>\n",
       "    </tr>\n",
       "  </thead>\n",
       "  <tbody>\n",
       "    <tr>\n",
       "      <th>2000-01-05</th>\n",
       "      <td>0.441177</td>\n",
       "      <td>-1.417768</td>\n",
       "      <td>1.048003</td>\n",
       "      <td>1.415270</td>\n",
       "    </tr>\n",
       "    <tr>\n",
       "      <th>2000-01-06</th>\n",
       "      <td>0.441177</td>\n",
       "      <td>-1.417768</td>\n",
       "      <td>1.048003</td>\n",
       "      <td>1.415270</td>\n",
       "    </tr>\n",
       "    <tr>\n",
       "      <th>2000-01-07</th>\n",
       "      <td>0.441177</td>\n",
       "      <td>-1.417768</td>\n",
       "      <td>1.048003</td>\n",
       "      <td>1.415270</td>\n",
       "    </tr>\n",
       "    <tr>\n",
       "      <th>2000-01-08</th>\n",
       "      <td>0.441177</td>\n",
       "      <td>-1.417768</td>\n",
       "      <td>1.048003</td>\n",
       "      <td>1.415270</td>\n",
       "    </tr>\n",
       "    <tr>\n",
       "      <th>2000-01-09</th>\n",
       "      <td>0.441177</td>\n",
       "      <td>-1.417768</td>\n",
       "      <td>1.048003</td>\n",
       "      <td>1.415270</td>\n",
       "    </tr>\n",
       "    <tr>\n",
       "      <th>2000-01-10</th>\n",
       "      <td>0.441177</td>\n",
       "      <td>-1.417768</td>\n",
       "      <td>1.048003</td>\n",
       "      <td>1.415270</td>\n",
       "    </tr>\n",
       "    <tr>\n",
       "      <th>2000-01-11</th>\n",
       "      <td>0.441177</td>\n",
       "      <td>-1.417768</td>\n",
       "      <td>1.048003</td>\n",
       "      <td>1.415270</td>\n",
       "    </tr>\n",
       "    <tr>\n",
       "      <th>2000-01-12</th>\n",
       "      <td>-0.767882</td>\n",
       "      <td>-0.563736</td>\n",
       "      <td>1.104286</td>\n",
       "      <td>0.310523</td>\n",
       "    </tr>\n",
       "  </tbody>\n",
       "</table>\n",
       "</div>"
      ]
     },
     "execution_count": 242,
     "metadata": {},
     "output_type": "execute_result"
    }
   ],
   "execution_count": 242
  },
  {
   "metadata": {
    "ExecuteTime": {
     "end_time": "2024-06-17T07:41:10.328192Z",
     "start_time": "2024-06-17T07:41:10.315289Z"
    }
   },
   "cell_type": "code",
   "source": "frame.resample(\"D\").ffill(limit=2)",
   "id": "99b4110170b5b914",
   "outputs": [
    {
     "data": {
      "text/plain": [
       "            Colorado     Texas  New York      Ohio\n",
       "2000-01-05  0.441177 -1.417768  1.048003  1.415270\n",
       "2000-01-06  0.441177 -1.417768  1.048003  1.415270\n",
       "2000-01-07  0.441177 -1.417768  1.048003  1.415270\n",
       "2000-01-08       NaN       NaN       NaN       NaN\n",
       "2000-01-09       NaN       NaN       NaN       NaN\n",
       "2000-01-10       NaN       NaN       NaN       NaN\n",
       "2000-01-11       NaN       NaN       NaN       NaN\n",
       "2000-01-12 -0.767882 -0.563736  1.104286  0.310523"
      ],
      "text/html": [
       "<div>\n",
       "<style scoped>\n",
       "    .dataframe tbody tr th:only-of-type {\n",
       "        vertical-align: middle;\n",
       "    }\n",
       "\n",
       "    .dataframe tbody tr th {\n",
       "        vertical-align: top;\n",
       "    }\n",
       "\n",
       "    .dataframe thead th {\n",
       "        text-align: right;\n",
       "    }\n",
       "</style>\n",
       "<table border=\"1\" class=\"dataframe\">\n",
       "  <thead>\n",
       "    <tr style=\"text-align: right;\">\n",
       "      <th></th>\n",
       "      <th>Colorado</th>\n",
       "      <th>Texas</th>\n",
       "      <th>New York</th>\n",
       "      <th>Ohio</th>\n",
       "    </tr>\n",
       "  </thead>\n",
       "  <tbody>\n",
       "    <tr>\n",
       "      <th>2000-01-05</th>\n",
       "      <td>0.441177</td>\n",
       "      <td>-1.417768</td>\n",
       "      <td>1.048003</td>\n",
       "      <td>1.415270</td>\n",
       "    </tr>\n",
       "    <tr>\n",
       "      <th>2000-01-06</th>\n",
       "      <td>0.441177</td>\n",
       "      <td>-1.417768</td>\n",
       "      <td>1.048003</td>\n",
       "      <td>1.415270</td>\n",
       "    </tr>\n",
       "    <tr>\n",
       "      <th>2000-01-07</th>\n",
       "      <td>0.441177</td>\n",
       "      <td>-1.417768</td>\n",
       "      <td>1.048003</td>\n",
       "      <td>1.415270</td>\n",
       "    </tr>\n",
       "    <tr>\n",
       "      <th>2000-01-08</th>\n",
       "      <td>NaN</td>\n",
       "      <td>NaN</td>\n",
       "      <td>NaN</td>\n",
       "      <td>NaN</td>\n",
       "    </tr>\n",
       "    <tr>\n",
       "      <th>2000-01-09</th>\n",
       "      <td>NaN</td>\n",
       "      <td>NaN</td>\n",
       "      <td>NaN</td>\n",
       "      <td>NaN</td>\n",
       "    </tr>\n",
       "    <tr>\n",
       "      <th>2000-01-10</th>\n",
       "      <td>NaN</td>\n",
       "      <td>NaN</td>\n",
       "      <td>NaN</td>\n",
       "      <td>NaN</td>\n",
       "    </tr>\n",
       "    <tr>\n",
       "      <th>2000-01-11</th>\n",
       "      <td>NaN</td>\n",
       "      <td>NaN</td>\n",
       "      <td>NaN</td>\n",
       "      <td>NaN</td>\n",
       "    </tr>\n",
       "    <tr>\n",
       "      <th>2000-01-12</th>\n",
       "      <td>-0.767882</td>\n",
       "      <td>-0.563736</td>\n",
       "      <td>1.104286</td>\n",
       "      <td>0.310523</td>\n",
       "    </tr>\n",
       "  </tbody>\n",
       "</table>\n",
       "</div>"
      ]
     },
     "execution_count": 243,
     "metadata": {},
     "output_type": "execute_result"
    }
   ],
   "execution_count": 243
  },
  {
   "metadata": {
    "ExecuteTime": {
     "end_time": "2024-06-17T07:41:33.973120Z",
     "start_time": "2024-06-17T07:41:33.942416Z"
    }
   },
   "cell_type": "code",
   "source": "frame.resample(\"W-THU\").ffill()",
   "id": "8166534ab51bb3a0",
   "outputs": [
    {
     "data": {
      "text/plain": [
       "            Colorado     Texas  New York      Ohio\n",
       "2000-01-06  0.441177 -1.417768  1.048003  1.415270\n",
       "2000-01-13 -0.767882 -0.563736  1.104286  0.310523"
      ],
      "text/html": [
       "<div>\n",
       "<style scoped>\n",
       "    .dataframe tbody tr th:only-of-type {\n",
       "        vertical-align: middle;\n",
       "    }\n",
       "\n",
       "    .dataframe tbody tr th {\n",
       "        vertical-align: top;\n",
       "    }\n",
       "\n",
       "    .dataframe thead th {\n",
       "        text-align: right;\n",
       "    }\n",
       "</style>\n",
       "<table border=\"1\" class=\"dataframe\">\n",
       "  <thead>\n",
       "    <tr style=\"text-align: right;\">\n",
       "      <th></th>\n",
       "      <th>Colorado</th>\n",
       "      <th>Texas</th>\n",
       "      <th>New York</th>\n",
       "      <th>Ohio</th>\n",
       "    </tr>\n",
       "  </thead>\n",
       "  <tbody>\n",
       "    <tr>\n",
       "      <th>2000-01-06</th>\n",
       "      <td>0.441177</td>\n",
       "      <td>-1.417768</td>\n",
       "      <td>1.048003</td>\n",
       "      <td>1.415270</td>\n",
       "    </tr>\n",
       "    <tr>\n",
       "      <th>2000-01-13</th>\n",
       "      <td>-0.767882</td>\n",
       "      <td>-0.563736</td>\n",
       "      <td>1.104286</td>\n",
       "      <td>0.310523</td>\n",
       "    </tr>\n",
       "  </tbody>\n",
       "</table>\n",
       "</div>"
      ]
     },
     "execution_count": 244,
     "metadata": {},
     "output_type": "execute_result"
    }
   ],
   "execution_count": 244
  },
  {
   "metadata": {
    "ExecuteTime": {
     "end_time": "2024-06-17T07:44:30.919782Z",
     "start_time": "2024-06-17T07:44:30.909965Z"
    }
   },
   "cell_type": "code",
   "source": [
    "frame = pd.DataFrame(np.random.standard_normal((24,4)),\n",
    "                     index=pd.period_range(\"1-2000\", \"12-2001\",freq=\"M\"),\n",
    "                     columns=[\"Colorado\", \"Texas\",\"New York\", \"Ohio\"])"
   ],
   "id": "36cd176874ee09e",
   "outputs": [],
   "execution_count": 245
  },
  {
   "metadata": {
    "ExecuteTime": {
     "end_time": "2024-06-17T07:44:35.374755Z",
     "start_time": "2024-06-17T07:44:35.367303Z"
    }
   },
   "cell_type": "code",
   "source": "frame.head()",
   "id": "14ff4dd6caf0fa98",
   "outputs": [
    {
     "data": {
      "text/plain": [
       "         Colorado     Texas  New York      Ohio\n",
       "2000-01  0.856727 -0.045266  1.340474 -2.824627\n",
       "2000-02 -1.352143  0.578838  0.581204 -0.305167\n",
       "2000-03  0.420323 -0.580096 -0.257355  0.485139\n",
       "2000-04 -0.426252 -0.552132 -0.627569  0.152467\n",
       "2000-05  0.480377  0.916204 -0.263327 -1.215554"
      ],
      "text/html": [
       "<div>\n",
       "<style scoped>\n",
       "    .dataframe tbody tr th:only-of-type {\n",
       "        vertical-align: middle;\n",
       "    }\n",
       "\n",
       "    .dataframe tbody tr th {\n",
       "        vertical-align: top;\n",
       "    }\n",
       "\n",
       "    .dataframe thead th {\n",
       "        text-align: right;\n",
       "    }\n",
       "</style>\n",
       "<table border=\"1\" class=\"dataframe\">\n",
       "  <thead>\n",
       "    <tr style=\"text-align: right;\">\n",
       "      <th></th>\n",
       "      <th>Colorado</th>\n",
       "      <th>Texas</th>\n",
       "      <th>New York</th>\n",
       "      <th>Ohio</th>\n",
       "    </tr>\n",
       "  </thead>\n",
       "  <tbody>\n",
       "    <tr>\n",
       "      <th>2000-01</th>\n",
       "      <td>0.856727</td>\n",
       "      <td>-0.045266</td>\n",
       "      <td>1.340474</td>\n",
       "      <td>-2.824627</td>\n",
       "    </tr>\n",
       "    <tr>\n",
       "      <th>2000-02</th>\n",
       "      <td>-1.352143</td>\n",
       "      <td>0.578838</td>\n",
       "      <td>0.581204</td>\n",
       "      <td>-0.305167</td>\n",
       "    </tr>\n",
       "    <tr>\n",
       "      <th>2000-03</th>\n",
       "      <td>0.420323</td>\n",
       "      <td>-0.580096</td>\n",
       "      <td>-0.257355</td>\n",
       "      <td>0.485139</td>\n",
       "    </tr>\n",
       "    <tr>\n",
       "      <th>2000-04</th>\n",
       "      <td>-0.426252</td>\n",
       "      <td>-0.552132</td>\n",
       "      <td>-0.627569</td>\n",
       "      <td>0.152467</td>\n",
       "    </tr>\n",
       "    <tr>\n",
       "      <th>2000-05</th>\n",
       "      <td>0.480377</td>\n",
       "      <td>0.916204</td>\n",
       "      <td>-0.263327</td>\n",
       "      <td>-1.215554</td>\n",
       "    </tr>\n",
       "  </tbody>\n",
       "</table>\n",
       "</div>"
      ]
     },
     "execution_count": 246,
     "metadata": {},
     "output_type": "execute_result"
    }
   ],
   "execution_count": 246
  },
  {
   "metadata": {
    "ExecuteTime": {
     "end_time": "2024-06-17T07:46:54.688995Z",
     "start_time": "2024-06-17T07:46:54.657164Z"
    }
   },
   "cell_type": "code",
   "source": "annual_frame = frame.resample(\"Y-DEC\").mean()",
   "id": "b86964fc8dbdcbe",
   "outputs": [
    {
     "name": "stderr",
     "output_type": "stream",
     "text": [
      "/var/folders/ny/q654wcmn7fq3766flqv2rdv80000gn/T/ipykernel_13066/37684407.py:1: FutureWarning: Resampling with a PeriodIndex is deprecated. Cast index to DatetimeIndex before resampling instead.\n",
      "  annual_frame = frame.resample(\"Y-DEC\").mean()\n"
     ]
    }
   ],
   "execution_count": 247
  },
  {
   "metadata": {
    "ExecuteTime": {
     "end_time": "2024-06-17T07:47:01.760724Z",
     "start_time": "2024-06-17T07:47:01.754801Z"
    }
   },
   "cell_type": "code",
   "source": "annual_frame",
   "id": "6e9f2a014de879de",
   "outputs": [
    {
     "data": {
      "text/plain": [
       "      Colorado     Texas  New York      Ohio\n",
       "2000 -0.168942  0.039394  0.416929 -0.128408\n",
       "2001 -0.467398  0.385707 -0.353853  0.102010"
      ],
      "text/html": [
       "<div>\n",
       "<style scoped>\n",
       "    .dataframe tbody tr th:only-of-type {\n",
       "        vertical-align: middle;\n",
       "    }\n",
       "\n",
       "    .dataframe tbody tr th {\n",
       "        vertical-align: top;\n",
       "    }\n",
       "\n",
       "    .dataframe thead th {\n",
       "        text-align: right;\n",
       "    }\n",
       "</style>\n",
       "<table border=\"1\" class=\"dataframe\">\n",
       "  <thead>\n",
       "    <tr style=\"text-align: right;\">\n",
       "      <th></th>\n",
       "      <th>Colorado</th>\n",
       "      <th>Texas</th>\n",
       "      <th>New York</th>\n",
       "      <th>Ohio</th>\n",
       "    </tr>\n",
       "  </thead>\n",
       "  <tbody>\n",
       "    <tr>\n",
       "      <th>2000</th>\n",
       "      <td>-0.168942</td>\n",
       "      <td>0.039394</td>\n",
       "      <td>0.416929</td>\n",
       "      <td>-0.128408</td>\n",
       "    </tr>\n",
       "    <tr>\n",
       "      <th>2001</th>\n",
       "      <td>-0.467398</td>\n",
       "      <td>0.385707</td>\n",
       "      <td>-0.353853</td>\n",
       "      <td>0.102010</td>\n",
       "    </tr>\n",
       "  </tbody>\n",
       "</table>\n",
       "</div>"
      ]
     },
     "execution_count": 248,
     "metadata": {},
     "output_type": "execute_result"
    }
   ],
   "execution_count": 248
  },
  {
   "metadata": {
    "ExecuteTime": {
     "end_time": "2024-06-17T07:48:06.209431Z",
     "start_time": "2024-06-17T07:48:06.196720Z"
    }
   },
   "cell_type": "code",
   "source": "annual_frame.resample(\"Q-DEC\").ffill()",
   "id": "1ae147175b793ab4",
   "outputs": [
    {
     "name": "stderr",
     "output_type": "stream",
     "text": [
      "/var/folders/ny/q654wcmn7fq3766flqv2rdv80000gn/T/ipykernel_13066/4030814507.py:1: FutureWarning: Resampling with a PeriodIndex is deprecated. Cast index to DatetimeIndex before resampling instead.\n",
      "  annual_frame.resample(\"Q-DEC\").ffill()\n"
     ]
    },
    {
     "data": {
      "text/plain": [
       "        Colorado     Texas  New York      Ohio\n",
       "2000Q1 -0.168942  0.039394  0.416929 -0.128408\n",
       "2000Q2 -0.168942  0.039394  0.416929 -0.128408\n",
       "2000Q3 -0.168942  0.039394  0.416929 -0.128408\n",
       "2000Q4 -0.168942  0.039394  0.416929 -0.128408\n",
       "2001Q1 -0.467398  0.385707 -0.353853  0.102010\n",
       "2001Q2 -0.467398  0.385707 -0.353853  0.102010\n",
       "2001Q3 -0.467398  0.385707 -0.353853  0.102010\n",
       "2001Q4 -0.467398  0.385707 -0.353853  0.102010"
      ],
      "text/html": [
       "<div>\n",
       "<style scoped>\n",
       "    .dataframe tbody tr th:only-of-type {\n",
       "        vertical-align: middle;\n",
       "    }\n",
       "\n",
       "    .dataframe tbody tr th {\n",
       "        vertical-align: top;\n",
       "    }\n",
       "\n",
       "    .dataframe thead th {\n",
       "        text-align: right;\n",
       "    }\n",
       "</style>\n",
       "<table border=\"1\" class=\"dataframe\">\n",
       "  <thead>\n",
       "    <tr style=\"text-align: right;\">\n",
       "      <th></th>\n",
       "      <th>Colorado</th>\n",
       "      <th>Texas</th>\n",
       "      <th>New York</th>\n",
       "      <th>Ohio</th>\n",
       "    </tr>\n",
       "  </thead>\n",
       "  <tbody>\n",
       "    <tr>\n",
       "      <th>2000Q1</th>\n",
       "      <td>-0.168942</td>\n",
       "      <td>0.039394</td>\n",
       "      <td>0.416929</td>\n",
       "      <td>-0.128408</td>\n",
       "    </tr>\n",
       "    <tr>\n",
       "      <th>2000Q2</th>\n",
       "      <td>-0.168942</td>\n",
       "      <td>0.039394</td>\n",
       "      <td>0.416929</td>\n",
       "      <td>-0.128408</td>\n",
       "    </tr>\n",
       "    <tr>\n",
       "      <th>2000Q3</th>\n",
       "      <td>-0.168942</td>\n",
       "      <td>0.039394</td>\n",
       "      <td>0.416929</td>\n",
       "      <td>-0.128408</td>\n",
       "    </tr>\n",
       "    <tr>\n",
       "      <th>2000Q4</th>\n",
       "      <td>-0.168942</td>\n",
       "      <td>0.039394</td>\n",
       "      <td>0.416929</td>\n",
       "      <td>-0.128408</td>\n",
       "    </tr>\n",
       "    <tr>\n",
       "      <th>2001Q1</th>\n",
       "      <td>-0.467398</td>\n",
       "      <td>0.385707</td>\n",
       "      <td>-0.353853</td>\n",
       "      <td>0.102010</td>\n",
       "    </tr>\n",
       "    <tr>\n",
       "      <th>2001Q2</th>\n",
       "      <td>-0.467398</td>\n",
       "      <td>0.385707</td>\n",
       "      <td>-0.353853</td>\n",
       "      <td>0.102010</td>\n",
       "    </tr>\n",
       "    <tr>\n",
       "      <th>2001Q3</th>\n",
       "      <td>-0.467398</td>\n",
       "      <td>0.385707</td>\n",
       "      <td>-0.353853</td>\n",
       "      <td>0.102010</td>\n",
       "    </tr>\n",
       "    <tr>\n",
       "      <th>2001Q4</th>\n",
       "      <td>-0.467398</td>\n",
       "      <td>0.385707</td>\n",
       "      <td>-0.353853</td>\n",
       "      <td>0.102010</td>\n",
       "    </tr>\n",
       "  </tbody>\n",
       "</table>\n",
       "</div>"
      ]
     },
     "execution_count": 249,
     "metadata": {},
     "output_type": "execute_result"
    }
   ],
   "execution_count": 249
  },
  {
   "metadata": {
    "ExecuteTime": {
     "end_time": "2024-06-17T07:50:53.116525Z",
     "start_time": "2024-06-17T07:50:53.105409Z"
    }
   },
   "cell_type": "code",
   "source": "annual_frame.resample(\"Q-DEC\", convention=\"end\").asfreq()",
   "id": "788a2c60909b84f3",
   "outputs": [
    {
     "name": "stderr",
     "output_type": "stream",
     "text": [
      "/var/folders/ny/q654wcmn7fq3766flqv2rdv80000gn/T/ipykernel_13066/1067917637.py:1: FutureWarning: The 'convention' keyword in DataFrame.resample is deprecated and will be removed in a future version. Explicitly cast PeriodIndex to DatetimeIndex before resampling instead.\n",
      "  annual_frame.resample(\"Q-DEC\", convention=\"end\").asfreq()\n",
      "/var/folders/ny/q654wcmn7fq3766flqv2rdv80000gn/T/ipykernel_13066/1067917637.py:1: FutureWarning: Resampling with a PeriodIndex is deprecated. Cast index to DatetimeIndex before resampling instead.\n",
      "  annual_frame.resample(\"Q-DEC\", convention=\"end\").asfreq()\n"
     ]
    },
    {
     "data": {
      "text/plain": [
       "        Colorado     Texas  New York      Ohio\n",
       "2000Q4 -0.168942  0.039394  0.416929 -0.128408\n",
       "2001Q1       NaN       NaN       NaN       NaN\n",
       "2001Q2       NaN       NaN       NaN       NaN\n",
       "2001Q3       NaN       NaN       NaN       NaN\n",
       "2001Q4 -0.467398  0.385707 -0.353853  0.102010"
      ],
      "text/html": [
       "<div>\n",
       "<style scoped>\n",
       "    .dataframe tbody tr th:only-of-type {\n",
       "        vertical-align: middle;\n",
       "    }\n",
       "\n",
       "    .dataframe tbody tr th {\n",
       "        vertical-align: top;\n",
       "    }\n",
       "\n",
       "    .dataframe thead th {\n",
       "        text-align: right;\n",
       "    }\n",
       "</style>\n",
       "<table border=\"1\" class=\"dataframe\">\n",
       "  <thead>\n",
       "    <tr style=\"text-align: right;\">\n",
       "      <th></th>\n",
       "      <th>Colorado</th>\n",
       "      <th>Texas</th>\n",
       "      <th>New York</th>\n",
       "      <th>Ohio</th>\n",
       "    </tr>\n",
       "  </thead>\n",
       "  <tbody>\n",
       "    <tr>\n",
       "      <th>2000Q4</th>\n",
       "      <td>-0.168942</td>\n",
       "      <td>0.039394</td>\n",
       "      <td>0.416929</td>\n",
       "      <td>-0.128408</td>\n",
       "    </tr>\n",
       "    <tr>\n",
       "      <th>2001Q1</th>\n",
       "      <td>NaN</td>\n",
       "      <td>NaN</td>\n",
       "      <td>NaN</td>\n",
       "      <td>NaN</td>\n",
       "    </tr>\n",
       "    <tr>\n",
       "      <th>2001Q2</th>\n",
       "      <td>NaN</td>\n",
       "      <td>NaN</td>\n",
       "      <td>NaN</td>\n",
       "      <td>NaN</td>\n",
       "    </tr>\n",
       "    <tr>\n",
       "      <th>2001Q3</th>\n",
       "      <td>NaN</td>\n",
       "      <td>NaN</td>\n",
       "      <td>NaN</td>\n",
       "      <td>NaN</td>\n",
       "    </tr>\n",
       "    <tr>\n",
       "      <th>2001Q4</th>\n",
       "      <td>-0.467398</td>\n",
       "      <td>0.385707</td>\n",
       "      <td>-0.353853</td>\n",
       "      <td>0.102010</td>\n",
       "    </tr>\n",
       "  </tbody>\n",
       "</table>\n",
       "</div>"
      ]
     },
     "execution_count": 250,
     "metadata": {},
     "output_type": "execute_result"
    }
   ],
   "execution_count": 250
  },
  {
   "metadata": {
    "ExecuteTime": {
     "end_time": "2024-06-17T07:51:46.137451Z",
     "start_time": "2024-06-17T07:51:46.114504Z"
    }
   },
   "cell_type": "code",
   "source": "annual_frame.resample(\"Q-MAR\").ffill()",
   "id": "83231595f8100d7f",
   "outputs": [
    {
     "name": "stderr",
     "output_type": "stream",
     "text": [
      "/var/folders/ny/q654wcmn7fq3766flqv2rdv80000gn/T/ipykernel_13066/3424102053.py:1: FutureWarning: Resampling with a PeriodIndex is deprecated. Cast index to DatetimeIndex before resampling instead.\n",
      "  annual_frame.resample(\"Q-MAR\").ffill()\n"
     ]
    },
    {
     "data": {
      "text/plain": [
       "        Colorado     Texas  New York      Ohio\n",
       "2000Q4 -0.168942  0.039394  0.416929 -0.128408\n",
       "2001Q1 -0.168942  0.039394  0.416929 -0.128408\n",
       "2001Q2 -0.168942  0.039394  0.416929 -0.128408\n",
       "2001Q3 -0.168942  0.039394  0.416929 -0.128408\n",
       "2001Q4 -0.467398  0.385707 -0.353853  0.102010\n",
       "2002Q1 -0.467398  0.385707 -0.353853  0.102010\n",
       "2002Q2 -0.467398  0.385707 -0.353853  0.102010\n",
       "2002Q3 -0.467398  0.385707 -0.353853  0.102010"
      ],
      "text/html": [
       "<div>\n",
       "<style scoped>\n",
       "    .dataframe tbody tr th:only-of-type {\n",
       "        vertical-align: middle;\n",
       "    }\n",
       "\n",
       "    .dataframe tbody tr th {\n",
       "        vertical-align: top;\n",
       "    }\n",
       "\n",
       "    .dataframe thead th {\n",
       "        text-align: right;\n",
       "    }\n",
       "</style>\n",
       "<table border=\"1\" class=\"dataframe\">\n",
       "  <thead>\n",
       "    <tr style=\"text-align: right;\">\n",
       "      <th></th>\n",
       "      <th>Colorado</th>\n",
       "      <th>Texas</th>\n",
       "      <th>New York</th>\n",
       "      <th>Ohio</th>\n",
       "    </tr>\n",
       "  </thead>\n",
       "  <tbody>\n",
       "    <tr>\n",
       "      <th>2000Q4</th>\n",
       "      <td>-0.168942</td>\n",
       "      <td>0.039394</td>\n",
       "      <td>0.416929</td>\n",
       "      <td>-0.128408</td>\n",
       "    </tr>\n",
       "    <tr>\n",
       "      <th>2001Q1</th>\n",
       "      <td>-0.168942</td>\n",
       "      <td>0.039394</td>\n",
       "      <td>0.416929</td>\n",
       "      <td>-0.128408</td>\n",
       "    </tr>\n",
       "    <tr>\n",
       "      <th>2001Q2</th>\n",
       "      <td>-0.168942</td>\n",
       "      <td>0.039394</td>\n",
       "      <td>0.416929</td>\n",
       "      <td>-0.128408</td>\n",
       "    </tr>\n",
       "    <tr>\n",
       "      <th>2001Q3</th>\n",
       "      <td>-0.168942</td>\n",
       "      <td>0.039394</td>\n",
       "      <td>0.416929</td>\n",
       "      <td>-0.128408</td>\n",
       "    </tr>\n",
       "    <tr>\n",
       "      <th>2001Q4</th>\n",
       "      <td>-0.467398</td>\n",
       "      <td>0.385707</td>\n",
       "      <td>-0.353853</td>\n",
       "      <td>0.102010</td>\n",
       "    </tr>\n",
       "    <tr>\n",
       "      <th>2002Q1</th>\n",
       "      <td>-0.467398</td>\n",
       "      <td>0.385707</td>\n",
       "      <td>-0.353853</td>\n",
       "      <td>0.102010</td>\n",
       "    </tr>\n",
       "    <tr>\n",
       "      <th>2002Q2</th>\n",
       "      <td>-0.467398</td>\n",
       "      <td>0.385707</td>\n",
       "      <td>-0.353853</td>\n",
       "      <td>0.102010</td>\n",
       "    </tr>\n",
       "    <tr>\n",
       "      <th>2002Q3</th>\n",
       "      <td>-0.467398</td>\n",
       "      <td>0.385707</td>\n",
       "      <td>-0.353853</td>\n",
       "      <td>0.102010</td>\n",
       "    </tr>\n",
       "  </tbody>\n",
       "</table>\n",
       "</div>"
      ]
     },
     "execution_count": 251,
     "metadata": {},
     "output_type": "execute_result"
    }
   ],
   "execution_count": 251
  },
  {
   "metadata": {
    "ExecuteTime": {
     "end_time": "2024-06-17T07:52:14.781174Z",
     "start_time": "2024-06-17T07:52:14.776467Z"
    }
   },
   "cell_type": "code",
   "source": "N = 15",
   "id": "e6413da98437e5a0",
   "outputs": [],
   "execution_count": 252
  },
  {
   "metadata": {
    "ExecuteTime": {
     "end_time": "2024-06-17T07:52:51.941785Z",
     "start_time": "2024-06-17T07:52:51.934116Z"
    }
   },
   "cell_type": "code",
   "source": "times = pd.date_range(\"2017-05-20 00:00\", freq=\"1min\", periods=N)",
   "id": "514ef98896b6ad54",
   "outputs": [],
   "execution_count": 253
  },
  {
   "metadata": {
    "ExecuteTime": {
     "end_time": "2024-06-17T07:53:20.384508Z",
     "start_time": "2024-06-17T07:53:20.377774Z"
    }
   },
   "cell_type": "code",
   "source": "df = pd.DataFrame({\"time\": times, \"value\": np.arange(N)})",
   "id": "35dcf0c40bf2cba9",
   "outputs": [],
   "execution_count": 254
  },
  {
   "metadata": {
    "ExecuteTime": {
     "end_time": "2024-06-17T07:53:22.466790Z",
     "start_time": "2024-06-17T07:53:22.460898Z"
    }
   },
   "cell_type": "code",
   "source": "df",
   "id": "adf42b71915016b8",
   "outputs": [
    {
     "data": {
      "text/plain": [
       "                  time  value\n",
       "0  2017-05-20 00:00:00      0\n",
       "1  2017-05-20 00:01:00      1\n",
       "2  2017-05-20 00:02:00      2\n",
       "3  2017-05-20 00:03:00      3\n",
       "4  2017-05-20 00:04:00      4\n",
       "5  2017-05-20 00:05:00      5\n",
       "6  2017-05-20 00:06:00      6\n",
       "7  2017-05-20 00:07:00      7\n",
       "8  2017-05-20 00:08:00      8\n",
       "9  2017-05-20 00:09:00      9\n",
       "10 2017-05-20 00:10:00     10\n",
       "11 2017-05-20 00:11:00     11\n",
       "12 2017-05-20 00:12:00     12\n",
       "13 2017-05-20 00:13:00     13\n",
       "14 2017-05-20 00:14:00     14"
      ],
      "text/html": [
       "<div>\n",
       "<style scoped>\n",
       "    .dataframe tbody tr th:only-of-type {\n",
       "        vertical-align: middle;\n",
       "    }\n",
       "\n",
       "    .dataframe tbody tr th {\n",
       "        vertical-align: top;\n",
       "    }\n",
       "\n",
       "    .dataframe thead th {\n",
       "        text-align: right;\n",
       "    }\n",
       "</style>\n",
       "<table border=\"1\" class=\"dataframe\">\n",
       "  <thead>\n",
       "    <tr style=\"text-align: right;\">\n",
       "      <th></th>\n",
       "      <th>time</th>\n",
       "      <th>value</th>\n",
       "    </tr>\n",
       "  </thead>\n",
       "  <tbody>\n",
       "    <tr>\n",
       "      <th>0</th>\n",
       "      <td>2017-05-20 00:00:00</td>\n",
       "      <td>0</td>\n",
       "    </tr>\n",
       "    <tr>\n",
       "      <th>1</th>\n",
       "      <td>2017-05-20 00:01:00</td>\n",
       "      <td>1</td>\n",
       "    </tr>\n",
       "    <tr>\n",
       "      <th>2</th>\n",
       "      <td>2017-05-20 00:02:00</td>\n",
       "      <td>2</td>\n",
       "    </tr>\n",
       "    <tr>\n",
       "      <th>3</th>\n",
       "      <td>2017-05-20 00:03:00</td>\n",
       "      <td>3</td>\n",
       "    </tr>\n",
       "    <tr>\n",
       "      <th>4</th>\n",
       "      <td>2017-05-20 00:04:00</td>\n",
       "      <td>4</td>\n",
       "    </tr>\n",
       "    <tr>\n",
       "      <th>5</th>\n",
       "      <td>2017-05-20 00:05:00</td>\n",
       "      <td>5</td>\n",
       "    </tr>\n",
       "    <tr>\n",
       "      <th>6</th>\n",
       "      <td>2017-05-20 00:06:00</td>\n",
       "      <td>6</td>\n",
       "    </tr>\n",
       "    <tr>\n",
       "      <th>7</th>\n",
       "      <td>2017-05-20 00:07:00</td>\n",
       "      <td>7</td>\n",
       "    </tr>\n",
       "    <tr>\n",
       "      <th>8</th>\n",
       "      <td>2017-05-20 00:08:00</td>\n",
       "      <td>8</td>\n",
       "    </tr>\n",
       "    <tr>\n",
       "      <th>9</th>\n",
       "      <td>2017-05-20 00:09:00</td>\n",
       "      <td>9</td>\n",
       "    </tr>\n",
       "    <tr>\n",
       "      <th>10</th>\n",
       "      <td>2017-05-20 00:10:00</td>\n",
       "      <td>10</td>\n",
       "    </tr>\n",
       "    <tr>\n",
       "      <th>11</th>\n",
       "      <td>2017-05-20 00:11:00</td>\n",
       "      <td>11</td>\n",
       "    </tr>\n",
       "    <tr>\n",
       "      <th>12</th>\n",
       "      <td>2017-05-20 00:12:00</td>\n",
       "      <td>12</td>\n",
       "    </tr>\n",
       "    <tr>\n",
       "      <th>13</th>\n",
       "      <td>2017-05-20 00:13:00</td>\n",
       "      <td>13</td>\n",
       "    </tr>\n",
       "    <tr>\n",
       "      <th>14</th>\n",
       "      <td>2017-05-20 00:14:00</td>\n",
       "      <td>14</td>\n",
       "    </tr>\n",
       "  </tbody>\n",
       "</table>\n",
       "</div>"
      ]
     },
     "execution_count": 255,
     "metadata": {},
     "output_type": "execute_result"
    }
   ],
   "execution_count": 255
  },
  {
   "metadata": {
    "ExecuteTime": {
     "end_time": "2024-06-17T07:55:40.330823Z",
     "start_time": "2024-06-17T07:55:40.314610Z"
    }
   },
   "cell_type": "code",
   "source": "df.set_index(\"time\").resample(\"5min\").count()",
   "id": "62ecc308fb6bb8eb",
   "outputs": [
    {
     "data": {
      "text/plain": [
       "                     value\n",
       "time                      \n",
       "2017-05-20 00:00:00      5\n",
       "2017-05-20 00:05:00      5\n",
       "2017-05-20 00:10:00      5"
      ],
      "text/html": [
       "<div>\n",
       "<style scoped>\n",
       "    .dataframe tbody tr th:only-of-type {\n",
       "        vertical-align: middle;\n",
       "    }\n",
       "\n",
       "    .dataframe tbody tr th {\n",
       "        vertical-align: top;\n",
       "    }\n",
       "\n",
       "    .dataframe thead th {\n",
       "        text-align: right;\n",
       "    }\n",
       "</style>\n",
       "<table border=\"1\" class=\"dataframe\">\n",
       "  <thead>\n",
       "    <tr style=\"text-align: right;\">\n",
       "      <th></th>\n",
       "      <th>value</th>\n",
       "    </tr>\n",
       "    <tr>\n",
       "      <th>time</th>\n",
       "      <th></th>\n",
       "    </tr>\n",
       "  </thead>\n",
       "  <tbody>\n",
       "    <tr>\n",
       "      <th>2017-05-20 00:00:00</th>\n",
       "      <td>5</td>\n",
       "    </tr>\n",
       "    <tr>\n",
       "      <th>2017-05-20 00:05:00</th>\n",
       "      <td>5</td>\n",
       "    </tr>\n",
       "    <tr>\n",
       "      <th>2017-05-20 00:10:00</th>\n",
       "      <td>5</td>\n",
       "    </tr>\n",
       "  </tbody>\n",
       "</table>\n",
       "</div>"
      ]
     },
     "execution_count": 256,
     "metadata": {},
     "output_type": "execute_result"
    }
   ],
   "execution_count": 256
  },
  {
   "metadata": {
    "ExecuteTime": {
     "end_time": "2024-06-17T07:56:47.773736Z",
     "start_time": "2024-06-17T07:56:47.764935Z"
    }
   },
   "cell_type": "code",
   "source": [
    "df2 = pd.DataFrame({\"time\": times.repeat(3), \"key\": np.tile([\"a\", \"b\", \"c\"], N),\n",
    "                    \"value\": np.arange(N * 3.)})"
   ],
   "id": "a8333b90f1098763",
   "outputs": [],
   "execution_count": 257
  },
  {
   "metadata": {
    "ExecuteTime": {
     "end_time": "2024-06-17T07:56:52.119434Z",
     "start_time": "2024-06-17T07:56:52.110721Z"
    }
   },
   "cell_type": "code",
   "source": "df.head(7)",
   "id": "5ca7b56e368bc241",
   "outputs": [
    {
     "data": {
      "text/plain": [
       "                 time  value\n",
       "0 2017-05-20 00:00:00      0\n",
       "1 2017-05-20 00:01:00      1\n",
       "2 2017-05-20 00:02:00      2\n",
       "3 2017-05-20 00:03:00      3\n",
       "4 2017-05-20 00:04:00      4\n",
       "5 2017-05-20 00:05:00      5\n",
       "6 2017-05-20 00:06:00      6"
      ],
      "text/html": [
       "<div>\n",
       "<style scoped>\n",
       "    .dataframe tbody tr th:only-of-type {\n",
       "        vertical-align: middle;\n",
       "    }\n",
       "\n",
       "    .dataframe tbody tr th {\n",
       "        vertical-align: top;\n",
       "    }\n",
       "\n",
       "    .dataframe thead th {\n",
       "        text-align: right;\n",
       "    }\n",
       "</style>\n",
       "<table border=\"1\" class=\"dataframe\">\n",
       "  <thead>\n",
       "    <tr style=\"text-align: right;\">\n",
       "      <th></th>\n",
       "      <th>time</th>\n",
       "      <th>value</th>\n",
       "    </tr>\n",
       "  </thead>\n",
       "  <tbody>\n",
       "    <tr>\n",
       "      <th>0</th>\n",
       "      <td>2017-05-20 00:00:00</td>\n",
       "      <td>0</td>\n",
       "    </tr>\n",
       "    <tr>\n",
       "      <th>1</th>\n",
       "      <td>2017-05-20 00:01:00</td>\n",
       "      <td>1</td>\n",
       "    </tr>\n",
       "    <tr>\n",
       "      <th>2</th>\n",
       "      <td>2017-05-20 00:02:00</td>\n",
       "      <td>2</td>\n",
       "    </tr>\n",
       "    <tr>\n",
       "      <th>3</th>\n",
       "      <td>2017-05-20 00:03:00</td>\n",
       "      <td>3</td>\n",
       "    </tr>\n",
       "    <tr>\n",
       "      <th>4</th>\n",
       "      <td>2017-05-20 00:04:00</td>\n",
       "      <td>4</td>\n",
       "    </tr>\n",
       "    <tr>\n",
       "      <th>5</th>\n",
       "      <td>2017-05-20 00:05:00</td>\n",
       "      <td>5</td>\n",
       "    </tr>\n",
       "    <tr>\n",
       "      <th>6</th>\n",
       "      <td>2017-05-20 00:06:00</td>\n",
       "      <td>6</td>\n",
       "    </tr>\n",
       "  </tbody>\n",
       "</table>\n",
       "</div>"
      ]
     },
     "execution_count": 258,
     "metadata": {},
     "output_type": "execute_result"
    }
   ],
   "execution_count": 258
  },
  {
   "metadata": {
    "ExecuteTime": {
     "end_time": "2024-06-17T07:57:54.464766Z",
     "start_time": "2024-06-17T07:57:54.455926Z"
    }
   },
   "cell_type": "code",
   "source": "time_key = pd.Grouper(freq=\"5min\")",
   "id": "d4f5ecce412f3b7a",
   "outputs": [],
   "execution_count": 259
  },
  {
   "metadata": {
    "ExecuteTime": {
     "end_time": "2024-06-17T07:58:34.663875Z",
     "start_time": "2024-06-17T07:58:34.623495Z"
    }
   },
   "cell_type": "code",
   "source": "resampler = (df2.set_index(\"time\").groupby([\"key\", time_key]).sum())",
   "id": "e8e9431952342458",
   "outputs": [],
   "execution_count": 260
  },
  {
   "metadata": {
    "ExecuteTime": {
     "end_time": "2024-06-17T07:58:36.560332Z",
     "start_time": "2024-06-17T07:58:36.555574Z"
    }
   },
   "cell_type": "code",
   "source": "resampler",
   "id": "567d4c96823ef175",
   "outputs": [
    {
     "data": {
      "text/plain": [
       "                         value\n",
       "key time                      \n",
       "a   2017-05-20 00:00:00   30.0\n",
       "    2017-05-20 00:05:00  105.0\n",
       "    2017-05-20 00:10:00  180.0\n",
       "b   2017-05-20 00:00:00   35.0\n",
       "    2017-05-20 00:05:00  110.0\n",
       "    2017-05-20 00:10:00  185.0\n",
       "c   2017-05-20 00:00:00   40.0\n",
       "    2017-05-20 00:05:00  115.0\n",
       "    2017-05-20 00:10:00  190.0"
      ],
      "text/html": [
       "<div>\n",
       "<style scoped>\n",
       "    .dataframe tbody tr th:only-of-type {\n",
       "        vertical-align: middle;\n",
       "    }\n",
       "\n",
       "    .dataframe tbody tr th {\n",
       "        vertical-align: top;\n",
       "    }\n",
       "\n",
       "    .dataframe thead th {\n",
       "        text-align: right;\n",
       "    }\n",
       "</style>\n",
       "<table border=\"1\" class=\"dataframe\">\n",
       "  <thead>\n",
       "    <tr style=\"text-align: right;\">\n",
       "      <th></th>\n",
       "      <th></th>\n",
       "      <th>value</th>\n",
       "    </tr>\n",
       "    <tr>\n",
       "      <th>key</th>\n",
       "      <th>time</th>\n",
       "      <th></th>\n",
       "    </tr>\n",
       "  </thead>\n",
       "  <tbody>\n",
       "    <tr>\n",
       "      <th rowspan=\"3\" valign=\"top\">a</th>\n",
       "      <th>2017-05-20 00:00:00</th>\n",
       "      <td>30.0</td>\n",
       "    </tr>\n",
       "    <tr>\n",
       "      <th>2017-05-20 00:05:00</th>\n",
       "      <td>105.0</td>\n",
       "    </tr>\n",
       "    <tr>\n",
       "      <th>2017-05-20 00:10:00</th>\n",
       "      <td>180.0</td>\n",
       "    </tr>\n",
       "    <tr>\n",
       "      <th rowspan=\"3\" valign=\"top\">b</th>\n",
       "      <th>2017-05-20 00:00:00</th>\n",
       "      <td>35.0</td>\n",
       "    </tr>\n",
       "    <tr>\n",
       "      <th>2017-05-20 00:05:00</th>\n",
       "      <td>110.0</td>\n",
       "    </tr>\n",
       "    <tr>\n",
       "      <th>2017-05-20 00:10:00</th>\n",
       "      <td>185.0</td>\n",
       "    </tr>\n",
       "    <tr>\n",
       "      <th rowspan=\"3\" valign=\"top\">c</th>\n",
       "      <th>2017-05-20 00:00:00</th>\n",
       "      <td>40.0</td>\n",
       "    </tr>\n",
       "    <tr>\n",
       "      <th>2017-05-20 00:05:00</th>\n",
       "      <td>115.0</td>\n",
       "    </tr>\n",
       "    <tr>\n",
       "      <th>2017-05-20 00:10:00</th>\n",
       "      <td>190.0</td>\n",
       "    </tr>\n",
       "  </tbody>\n",
       "</table>\n",
       "</div>"
      ]
     },
     "execution_count": 261,
     "metadata": {},
     "output_type": "execute_result"
    }
   ],
   "execution_count": 261
  },
  {
   "metadata": {
    "ExecuteTime": {
     "end_time": "2024-06-17T07:59:08.578143Z",
     "start_time": "2024-06-17T07:59:08.563838Z"
    }
   },
   "cell_type": "code",
   "source": "times",
   "id": "bb9aaf4f8ff9a768",
   "outputs": [
    {
     "data": {
      "text/plain": [
       "DatetimeIndex(['2017-05-20 00:00:00', '2017-05-20 00:01:00',\n",
       "               '2017-05-20 00:02:00', '2017-05-20 00:03:00',\n",
       "               '2017-05-20 00:04:00', '2017-05-20 00:05:00',\n",
       "               '2017-05-20 00:06:00', '2017-05-20 00:07:00',\n",
       "               '2017-05-20 00:08:00', '2017-05-20 00:09:00',\n",
       "               '2017-05-20 00:10:00', '2017-05-20 00:11:00',\n",
       "               '2017-05-20 00:12:00', '2017-05-20 00:13:00',\n",
       "               '2017-05-20 00:14:00'],\n",
       "              dtype='datetime64[ns]', freq='min')"
      ]
     },
     "execution_count": 262,
     "metadata": {},
     "output_type": "execute_result"
    }
   ],
   "execution_count": 262
  },
  {
   "metadata": {
    "ExecuteTime": {
     "end_time": "2024-06-17T07:59:39.566798Z",
     "start_time": "2024-06-17T07:59:39.544348Z"
    }
   },
   "cell_type": "code",
   "source": "resampler.reset_index()",
   "id": "a11167cb0b74d8da",
   "outputs": [
    {
     "data": {
      "text/plain": [
       "  key                time  value\n",
       "0   a 2017-05-20 00:00:00   30.0\n",
       "1   a 2017-05-20 00:05:00  105.0\n",
       "2   a 2017-05-20 00:10:00  180.0\n",
       "3   b 2017-05-20 00:00:00   35.0\n",
       "4   b 2017-05-20 00:05:00  110.0\n",
       "5   b 2017-05-20 00:10:00  185.0\n",
       "6   c 2017-05-20 00:00:00   40.0\n",
       "7   c 2017-05-20 00:05:00  115.0\n",
       "8   c 2017-05-20 00:10:00  190.0"
      ],
      "text/html": [
       "<div>\n",
       "<style scoped>\n",
       "    .dataframe tbody tr th:only-of-type {\n",
       "        vertical-align: middle;\n",
       "    }\n",
       "\n",
       "    .dataframe tbody tr th {\n",
       "        vertical-align: top;\n",
       "    }\n",
       "\n",
       "    .dataframe thead th {\n",
       "        text-align: right;\n",
       "    }\n",
       "</style>\n",
       "<table border=\"1\" class=\"dataframe\">\n",
       "  <thead>\n",
       "    <tr style=\"text-align: right;\">\n",
       "      <th></th>\n",
       "      <th>key</th>\n",
       "      <th>time</th>\n",
       "      <th>value</th>\n",
       "    </tr>\n",
       "  </thead>\n",
       "  <tbody>\n",
       "    <tr>\n",
       "      <th>0</th>\n",
       "      <td>a</td>\n",
       "      <td>2017-05-20 00:00:00</td>\n",
       "      <td>30.0</td>\n",
       "    </tr>\n",
       "    <tr>\n",
       "      <th>1</th>\n",
       "      <td>a</td>\n",
       "      <td>2017-05-20 00:05:00</td>\n",
       "      <td>105.0</td>\n",
       "    </tr>\n",
       "    <tr>\n",
       "      <th>2</th>\n",
       "      <td>a</td>\n",
       "      <td>2017-05-20 00:10:00</td>\n",
       "      <td>180.0</td>\n",
       "    </tr>\n",
       "    <tr>\n",
       "      <th>3</th>\n",
       "      <td>b</td>\n",
       "      <td>2017-05-20 00:00:00</td>\n",
       "      <td>35.0</td>\n",
       "    </tr>\n",
       "    <tr>\n",
       "      <th>4</th>\n",
       "      <td>b</td>\n",
       "      <td>2017-05-20 00:05:00</td>\n",
       "      <td>110.0</td>\n",
       "    </tr>\n",
       "    <tr>\n",
       "      <th>5</th>\n",
       "      <td>b</td>\n",
       "      <td>2017-05-20 00:10:00</td>\n",
       "      <td>185.0</td>\n",
       "    </tr>\n",
       "    <tr>\n",
       "      <th>6</th>\n",
       "      <td>c</td>\n",
       "      <td>2017-05-20 00:00:00</td>\n",
       "      <td>40.0</td>\n",
       "    </tr>\n",
       "    <tr>\n",
       "      <th>7</th>\n",
       "      <td>c</td>\n",
       "      <td>2017-05-20 00:05:00</td>\n",
       "      <td>115.0</td>\n",
       "    </tr>\n",
       "    <tr>\n",
       "      <th>8</th>\n",
       "      <td>c</td>\n",
       "      <td>2017-05-20 00:10:00</td>\n",
       "      <td>190.0</td>\n",
       "    </tr>\n",
       "  </tbody>\n",
       "</table>\n",
       "</div>"
      ]
     },
     "execution_count": 263,
     "metadata": {},
     "output_type": "execute_result"
    }
   ],
   "execution_count": 263
  },
  {
   "metadata": {
    "ExecuteTime": {
     "end_time": "2024-06-17T08:01:31.314594Z",
     "start_time": "2024-06-17T08:01:31.271600Z"
    }
   },
   "cell_type": "code",
   "source": "close_px_all = pd.read_csv(\"examples/stock_px.csv\",parse_dates=True, index_col=0)",
   "id": "c1ea4cbf6bee83c7",
   "outputs": [],
   "execution_count": 264
  },
  {
   "metadata": {
    "ExecuteTime": {
     "end_time": "2024-06-17T08:02:03.605703Z",
     "start_time": "2024-06-17T08:02:03.593161Z"
    }
   },
   "cell_type": "code",
   "source": "close_px = close_px_all[[\"AAPL\", \"MSFT\", \"XOM\"]]",
   "id": "23500c67203b8f63",
   "outputs": [],
   "execution_count": 265
  },
  {
   "metadata": {
    "ExecuteTime": {
     "end_time": "2024-06-17T08:02:23.288347Z",
     "start_time": "2024-06-17T08:02:23.254831Z"
    }
   },
   "cell_type": "code",
   "source": "close_px = close_px.resample(\"B\").ffill()",
   "id": "d8850e212ba0a618",
   "outputs": [],
   "execution_count": 266
  },
  {
   "metadata": {
    "ExecuteTime": {
     "end_time": "2024-06-17T08:02:45.743486Z",
     "start_time": "2024-06-17T08:02:44.752539Z"
    }
   },
   "cell_type": "code",
   "source": "close_px[\"AAPL\"].plot()",
   "id": "1967882563a67668",
   "outputs": [
    {
     "data": {
      "text/plain": [
       "<Axes: >"
      ]
     },
     "execution_count": 267,
     "metadata": {},
     "output_type": "execute_result"
    },
    {
     "data": {
      "text/plain": [
       "<Figure size 640x480 with 1 Axes>"
      ],
      "image/png": "[encoded data removed]"
     },
     "metadata": {},
     "output_type": "display_data"
    }
   ],
   "execution_count": 267
  },
  {
   "metadata": {
    "ExecuteTime": {
     "end_time": "2024-06-17T08:03:47.649601Z",
     "start_time": "2024-06-17T08:03:47.430452Z"
    }
   },
   "cell_type": "code",
   "source": "close_px[\"AAPL\"].rolling(250).mean().plot()",
   "id": "ea6a1ed4ad99aa58",
   "outputs": [
    {
     "data": {
      "text/plain": [
       "<Axes: >"
      ]
     },
     "execution_count": 268,
     "metadata": {},
     "output_type": "execute_result"
    },
    {
     "data": {
      "text/plain": [
       "<Figure size 640x480 with 1 Axes>"
      ],
      "image/png": "[encoded data removed]"
     },
     "metadata": {},
     "output_type": "display_data"
    }
   ],
   "execution_count": 268
  },
  {
   "metadata": {
    "ExecuteTime": {
     "end_time": "2024-06-17T08:05:44.176352Z",
     "start_time": "2024-06-17T08:05:44.163575Z"
    }
   },
   "cell_type": "code",
   "source": [
    "import matplotlib.pyplot as plt\n",
    "plt.figure()"
   ],
   "id": "771f9e20b12643a",
   "outputs": [
    {
     "data": {
      "text/plain": [
       "<Figure size 640x480 with 0 Axes>"
      ]
     },
     "execution_count": 270,
     "metadata": {},
     "output_type": "execute_result"
    },
    {
     "data": {
      "text/plain": [
       "<Figure size 640x480 with 0 Axes>"
      ]
     },
     "metadata": {},
     "output_type": "display_data"
    }
   ],
   "execution_count": 270
  },
  {
   "metadata": {
    "ExecuteTime": {
     "end_time": "2024-06-17T08:07:38.863978Z",
     "start_time": "2024-06-17T08:07:38.832067Z"
    }
   },
   "cell_type": "code",
   "source": "std250 = close_px[\"AAPL\"].pct_change().rolling(250, min_periods=10).std()",
   "id": "97fd46787898720b",
   "outputs": [],
   "execution_count": 271
  },
  {
   "metadata": {
    "ExecuteTime": {
     "end_time": "2024-06-17T08:07:51.443825Z",
     "start_time": "2024-06-17T08:07:51.435347Z"
    }
   },
   "cell_type": "code",
   "source": "std250[5:12]",
   "id": "891384b8bc27b54d",
   "outputs": [
    {
     "data": {
      "text/plain": [
       "2003-01-09         NaN\n",
       "2003-01-10         NaN\n",
       "2003-01-13         NaN\n",
       "2003-01-14         NaN\n",
       "2003-01-15         NaN\n",
       "2003-01-16    0.009628\n",
       "2003-01-17    0.013818\n",
       "Freq: B, Name: AAPL, dtype: float64"
      ]
     },
     "execution_count": 272,
     "metadata": {},
     "output_type": "execute_result"
    }
   ],
   "execution_count": 272
  },
  {
   "metadata": {
    "ExecuteTime": {
     "end_time": "2024-06-17T08:09:06.072799Z",
     "start_time": "2024-06-17T08:09:05.870833Z"
    }
   },
   "cell_type": "code",
   "source": "std250.plot()",
   "id": "254dac801df794b0",
   "outputs": [
    {
     "data": {
      "text/plain": [
       "<Axes: >"
      ]
     },
     "execution_count": 273,
     "metadata": {},
     "output_type": "execute_result"
    },
    {
     "data": {
      "text/plain": [
       "<Figure size 640x480 with 1 Axes>"
      ],
      "image/png": "[encoded data removed]"
     },
     "metadata": {},
     "output_type": "display_data"
    }
   ],
   "execution_count": 273
  },
  {
   "metadata": {
    "ExecuteTime": {
     "end_time": "2024-06-17T08:09:55.363968Z",
     "start_time": "2024-06-17T08:09:55.347638Z"
    }
   },
   "cell_type": "code",
   "source": "expanding_mean = std250.expanding().mean()",
   "id": "603e25e261c0a569",
   "outputs": [],
   "execution_count": 274
  },
  {
   "metadata": {
    "ExecuteTime": {
     "end_time": "2024-06-17T08:10:17.384917Z",
     "start_time": "2024-06-17T08:10:17.379395Z"
    }
   },
   "cell_type": "code",
   "source": "plt.style.use('grayscale')",
   "id": "a030a487e8b6ddea",
   "outputs": [],
   "execution_count": 275
  },
  {
   "metadata": {
    "ExecuteTime": {
     "end_time": "2024-06-17T08:14:15.147314Z",
     "start_time": "2024-06-17T08:14:14.699524Z"
    }
   },
   "cell_type": "code",
   "source": "close_px.rolling(60).mean().plot(logy=True)",
   "id": "e37cecea6c487bcf",
   "outputs": [
    {
     "data": {
      "text/plain": [
       "<Axes: >"
      ]
     },
     "execution_count": 276,
     "metadata": {},
     "output_type": "execute_result"
    },
    {
     "data": {
      "text/plain": [
       "<Figure size 640x480 with 1 Axes>"
      ],
      "image/png": "[encoded data removed]"
     },
     "metadata": {},
     "output_type": "display_data"
    }
   ],
   "execution_count": 276
  },
  {
   "metadata": {
    "ExecuteTime": {
     "end_time": "2024-06-17T08:14:46.338038Z",
     "start_time": "2024-06-17T08:14:46.309812Z"
    }
   },
   "cell_type": "code",
   "source": "close_px.rolling(\"20D\").mean()",
   "id": "60d95131a1a4f15a",
   "outputs": [
    {
     "data": {
      "text/plain": [
       "                  AAPL       MSFT        XOM\n",
       "2003-01-02    7.400000  21.110000  29.220000\n",
       "2003-01-03    7.425000  21.125000  29.230000\n",
       "2003-01-06    7.433333  21.256667  29.473333\n",
       "2003-01-07    7.432500  21.425000  29.342500\n",
       "2003-01-08    7.402000  21.402000  29.240000\n",
       "...                ...        ...        ...\n",
       "2011-10-10  389.351429  25.602143  72.527857\n",
       "2011-10-11  388.505000  25.674286  72.835000\n",
       "2011-10-12  388.531429  25.810000  73.400714\n",
       "2011-10-13  388.826429  25.961429  73.905000\n",
       "2011-10-14  391.038000  26.048667  74.185333\n",
       "\n",
       "[2292 rows x 3 columns]"
      ],
      "text/html": [
       "<div>\n",
       "<style scoped>\n",
       "    .dataframe tbody tr th:only-of-type {\n",
       "        vertical-align: middle;\n",
       "    }\n",
       "\n",
       "    .dataframe tbody tr th {\n",
       "        vertical-align: top;\n",
       "    }\n",
       "\n",
       "    .dataframe thead th {\n",
       "        text-align: right;\n",
       "    }\n",
       "</style>\n",
       "<table border=\"1\" class=\"dataframe\">\n",
       "  <thead>\n",
       "    <tr style=\"text-align: right;\">\n",
       "      <th></th>\n",
       "      <th>AAPL</th>\n",
       "      <th>MSFT</th>\n",
       "      <th>XOM</th>\n",
       "    </tr>\n",
       "  </thead>\n",
       "  <tbody>\n",
       "    <tr>\n",
       "      <th>2003-01-02</th>\n",
       "      <td>7.400000</td>\n",
       "      <td>21.110000</td>\n",
       "      <td>29.220000</td>\n",
       "    </tr>\n",
       "    <tr>\n",
       "      <th>2003-01-03</th>\n",
       "      <td>7.425000</td>\n",
       "      <td>21.125000</td>\n",
       "      <td>29.230000</td>\n",
       "    </tr>\n",
       "    <tr>\n",
       "      <th>2003-01-06</th>\n",
       "      <td>7.433333</td>\n",
       "      <td>21.256667</td>\n",
       "      <td>29.473333</td>\n",
       "    </tr>\n",
       "    <tr>\n",
       "      <th>2003-01-07</th>\n",
       "      <td>7.432500</td>\n",
       "      <td>21.425000</td>\n",
       "      <td>29.342500</td>\n",
       "    </tr>\n",
       "    <tr>\n",
       "      <th>2003-01-08</th>\n",
       "      <td>7.402000</td>\n",
       "      <td>21.402000</td>\n",
       "      <td>29.240000</td>\n",
       "    </tr>\n",
       "    <tr>\n",
       "      <th>...</th>\n",
       "      <td>...</td>\n",
       "      <td>...</td>\n",
       "      <td>...</td>\n",
       "    </tr>\n",
       "    <tr>\n",
       "      <th>2011-10-10</th>\n",
       "      <td>389.351429</td>\n",
       "      <td>25.602143</td>\n",
       "      <td>72.527857</td>\n",
       "    </tr>\n",
       "    <tr>\n",
       "      <th>2011-10-11</th>\n",
       "      <td>388.505000</td>\n",
       "      <td>25.674286</td>\n",
       "      <td>72.835000</td>\n",
       "    </tr>\n",
       "    <tr>\n",
       "      <th>2011-10-12</th>\n",
       "      <td>388.531429</td>\n",
       "      <td>25.810000</td>\n",
       "      <td>73.400714</td>\n",
       "    </tr>\n",
       "    <tr>\n",
       "      <th>2011-10-13</th>\n",
       "      <td>388.826429</td>\n",
       "      <td>25.961429</td>\n",
       "      <td>73.905000</td>\n",
       "    </tr>\n",
       "    <tr>\n",
       "      <th>2011-10-14</th>\n",
       "      <td>391.038000</td>\n",
       "      <td>26.048667</td>\n",
       "      <td>74.185333</td>\n",
       "    </tr>\n",
       "  </tbody>\n",
       "</table>\n",
       "<p>2292 rows × 3 columns</p>\n",
       "</div>"
      ]
     },
     "execution_count": 277,
     "metadata": {},
     "output_type": "execute_result"
    }
   ],
   "execution_count": 277
  },
  {
   "metadata": {
    "ExecuteTime": {
     "end_time": "2024-06-17T08:16:00.648434Z",
     "start_time": "2024-06-17T08:16:00.630504Z"
    }
   },
   "cell_type": "code",
   "source": "aapl_px = close_px[\"AAPL\"][\"2006\":\"2007\"]",
   "id": "8783e8b8cfc42313",
   "outputs": [],
   "execution_count": 278
  },
  {
   "metadata": {
    "ExecuteTime": {
     "end_time": "2024-06-17T08:16:34.264174Z",
     "start_time": "2024-06-17T08:16:34.252277Z"
    }
   },
   "cell_type": "code",
   "source": "ma30 = aapl_px.rolling(30, min_periods=20).mean()",
   "id": "da866f8b3510c94c",
   "outputs": [],
   "execution_count": 279
  },
  {
   "metadata": {
    "ExecuteTime": {
     "end_time": "2024-06-17T08:17:22.543303Z",
     "start_time": "2024-06-17T08:17:22.528164Z"
    }
   },
   "cell_type": "code",
   "source": "ewma30 = aapl_px.ewm(span=30).mean()",
   "id": "23dcbcee88d5e05a",
   "outputs": [],
   "execution_count": 280
  },
  {
   "metadata": {
    "ExecuteTime": {
     "end_time": "2024-06-17T08:17:57.638041Z",
     "start_time": "2024-06-17T08:17:57.489528Z"
    }
   },
   "cell_type": "code",
   "source": "aapl_px.plot(style=\"k-\", label=\"Price\")",
   "id": "1c192c54c06cd052",
   "outputs": [
    {
     "data": {
      "text/plain": [
       "<Axes: >"
      ]
     },
     "execution_count": 281,
     "metadata": {},
     "output_type": "execute_result"
    },
    {
     "data": {
      "text/plain": [
       "<Figure size 640x480 with 1 Axes>"
      ],
      "image/png": "[encoded data removed]"
     },
     "metadata": {},
     "output_type": "display_data"
    }
   ],
   "execution_count": 281
  },
  {
   "metadata": {
    "ExecuteTime": {
     "end_time": "2024-06-17T08:19:13.245328Z",
     "start_time": "2024-06-17T08:19:13.074990Z"
    }
   },
   "cell_type": "code",
   "source": "ma30.plot(style=\"k--\",label=\"Simple Moving Avg\")",
   "id": "d879a90f6b5cea2a",
   "outputs": [
    {
     "data": {
      "text/plain": [
       "<Axes: >"
      ]
     },
     "execution_count": 282,
     "metadata": {},
     "output_type": "execute_result"
    },
    {
     "data": {
      "text/plain": [
       "<Figure size 640x480 with 1 Axes>"
      ],
      "image/png": "[encoded data removed]"
     },
     "metadata": {},
     "output_type": "display_data"
    }
   ],
   "execution_count": 282
  },
  {
   "metadata": {
    "ExecuteTime": {
     "end_time": "2024-06-17T08:20:03.326380Z",
     "start_time": "2024-06-17T08:20:03.176082Z"
    }
   },
   "cell_type": "code",
   "source": "ewma30.plot(style=\"k-\", label=\"EW MA\")",
   "id": "219e52f1f3da0cbc",
   "outputs": [
    {
     "data": {
      "text/plain": [
       "<Axes: >"
      ]
     },
     "execution_count": 283,
     "metadata": {},
     "output_type": "execute_result"
    },
    {
     "data": {
      "text/plain": [
       "<Figure size 640x480 with 1 Axes>"
      ],
      "image/png": "[encoded data removed]"
     },
     "metadata": {},
     "output_type": "display_data"
    }
   ],
   "execution_count": 283
  },
  {
   "metadata": {
    "ExecuteTime": {
     "end_time": "2024-06-17T08:20:30.854033Z",
     "start_time": "2024-06-17T08:20:30.844011Z"
    }
   },
   "cell_type": "code",
   "source": "plt.legend",
   "id": "d4eb8113a794b424",
   "outputs": [
    {
     "data": {
      "text/plain": [
       "<function matplotlib.pyplot.legend(*args, **kwargs) -> 'Legend'>"
      ]
     },
     "execution_count": 284,
     "metadata": {},
     "output_type": "execute_result"
    }
   ],
   "execution_count": 284
  },
  {
   "metadata": {
    "ExecuteTime": {
     "end_time": "2024-06-17T08:23:25.441561Z",
     "start_time": "2024-06-17T08:23:25.433482Z"
    }
   },
   "cell_type": "code",
   "source": "spx_px = close_px_all[\"SPX\"]",
   "id": "47e3bac2219ad163",
   "outputs": [],
   "execution_count": 285
  },
  {
   "metadata": {
    "ExecuteTime": {
     "end_time": "2024-06-17T08:23:42.163556Z",
     "start_time": "2024-06-17T08:23:42.154284Z"
    }
   },
   "cell_type": "code",
   "source": "spx_rets = spx_px.pct_change()",
   "id": "6ae9dcb9ac4ba795",
   "outputs": [],
   "execution_count": 286
  },
  {
   "metadata": {
    "ExecuteTime": {
     "end_time": "2024-06-17T08:23:57.598278Z",
     "start_time": "2024-06-17T08:23:57.567430Z"
    }
   },
   "cell_type": "code",
   "source": "returns = close_px.pct_change()",
   "id": "6587be8aa4610797",
   "outputs": [],
   "execution_count": 287
  },
  {
   "metadata": {
    "ExecuteTime": {
     "end_time": "2024-06-17T08:24:35.250601Z",
     "start_time": "2024-06-17T08:24:35.225953Z"
    }
   },
   "cell_type": "code",
   "source": "corr = returns[\"AAPL\"].rolling(125, min_periods=100).corr(spx_rets)",
   "id": "c3c62e8ba67b0357",
   "outputs": [],
   "execution_count": 289
  },
  {
   "metadata": {
    "ExecuteTime": {
     "end_time": "2024-06-17T08:24:41.225489Z",
     "start_time": "2024-06-17T08:24:41.025246Z"
    }
   },
   "cell_type": "code",
   "source": "corr.plot()",
   "id": "9c7826cd88e4ded2",
   "outputs": [
    {
     "data": {
      "text/plain": [
       "<Axes: >"
      ]
     },
     "execution_count": 290,
     "metadata": {},
     "output_type": "execute_result"
    },
    {
     "data": {
      "text/plain": [
       "<Figure size 640x480 with 1 Axes>"
      ],
      "image/png": "[encoded data removed]"
     },
     "metadata": {},
     "output_type": "display_data"
    }
   ],
   "execution_count": 290
  },
  {
   "metadata": {
    "ExecuteTime": {
     "end_time": "2024-06-17T08:26:24.214998Z",
     "start_time": "2024-06-17T08:26:24.194522Z"
    }
   },
   "cell_type": "code",
   "source": "corr = returns.rolling(125, min_periods=100).corr(spx_rets)",
   "id": "9e3b2bfe8dea5b67",
   "outputs": [],
   "execution_count": 291
  },
  {
   "metadata": {
    "ExecuteTime": {
     "end_time": "2024-06-17T08:26:31.479408Z",
     "start_time": "2024-06-17T08:26:31.208336Z"
    }
   },
   "cell_type": "code",
   "source": "corr.plot()",
   "id": "9e3ff64b1090332c",
   "outputs": [
    {
     "data": {
      "text/plain": [
       "<Axes: >"
      ]
     },
     "execution_count": 292,
     "metadata": {},
     "output_type": "execute_result"
    },
    {
     "data": {
      "text/plain": [
       "<Figure size 640x480 with 1 Axes>"
      ],
      "image/png": "[encoded data removed]"
     },
     "metadata": {},
     "output_type": "display_data"
    }
   ],
   "execution_count": 292
  },
  {
   "metadata": {
    "ExecuteTime": {
     "end_time": "2024-06-17T08:27:10.982010Z",
     "start_time": "2024-06-17T08:27:10.047660Z"
    }
   },
   "cell_type": "code",
   "source": "from scipy.stats import percentileofscore",
   "id": "e72866f2c92d4ee1",
   "outputs": [],
   "execution_count": 293
  },
  {
   "metadata": {
    "ExecuteTime": {
     "end_time": "2024-06-17T08:27:45.408946Z",
     "start_time": "2024-06-17T08:27:45.403838Z"
    }
   },
   "cell_type": "code",
   "source": [
    "def score_at_2percent(x):\n",
    "    return percentileofscore(x, 0.02)"
   ],
   "id": "37716f49740a79dd",
   "outputs": [],
   "execution_count": 294
  },
  {
   "metadata": {
    "ExecuteTime": {
     "end_time": "2024-06-17T08:29:04.746963Z",
     "start_time": "2024-06-17T08:29:04.655270Z"
    }
   },
   "cell_type": "code",
   "source": "result = returns[\"AAPL\"].rolling(250).apply(score_at_2percent)",
   "id": "78e8c336eeeb93d8",
   "outputs": [],
   "execution_count": 295
  },
  {
   "metadata": {
    "ExecuteTime": {
     "end_time": "2024-06-17T08:29:11.765568Z",
     "start_time": "2024-06-17T08:29:11.538340Z"
    }
   },
   "cell_type": "code",
   "source": "result.plot()",
   "id": "707d681cbd5526d2",
   "outputs": [
    {
     "data": {
      "text/plain": [
       "<Axes: >"
      ]
     },
     "execution_count": 296,
     "metadata": {},
     "output_type": "execute_result"
    },
    {
     "data": {
      "text/plain": [
       "<Figure size 640x480 with 1 Axes>"
      ],
      "image/png": "[encoded data removed]"
     },
     "metadata": {},
     "output_type": "display_data"
    }
   ],
   "execution_count": 296
  },
  {
   "metadata": {},
   "cell_type": "code",
   "outputs": [],
   "execution_count": null,
   "source": "",
   "id": "6900bbf116ba7d0c"
  }
 ],
 "metadata": {
  "kernelspec": {
   "display_name": "Python 3",
   "language": "python",
   "name": "python3"
  },
  "language_info": {
   "codemirror_mode": {
    "name": "ipython",
    "version": 2
   },
   "file_extension": ".py",
   "mimetype": "text/x-python",
   "name": "python",
   "nbconvert_exporter": "python",
   "pygments_lexer": "ipython2",
   "version": "2.7.6"
  }
 },
 "nbformat": 4,
 "nbformat_minor": 5
}
