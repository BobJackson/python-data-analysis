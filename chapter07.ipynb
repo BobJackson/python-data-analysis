{
 "cells": [
  {
   "cell_type": "code",
   "id": "initial_id",
   "metadata": {
    "collapsed": true,
    "ExecuteTime": {
     "end_time": "2024-06-13T08:08:13.303580Z",
     "start_time": "2024-06-13T08:08:12.537785Z"
    }
   },
   "source": [
    "import pandas as pd\n",
    "import numpy as np"
   ],
   "execution_count": 2,
   "outputs": []
  },
  {
   "metadata": {
    "ExecuteTime": {
     "end_time": "2024-06-12T09:55:52.630347Z",
     "start_time": "2024-06-12T09:55:52.627463Z"
    }
   },
   "cell_type": "code",
   "source": "float_data = pd.Series([1.2, -3.5, np.nan, 0])",
   "id": "6aa9445db41e4cf9",
   "execution_count": 2,
   "outputs": []
  },
  {
   "metadata": {
    "ExecuteTime": {
     "end_time": "2024-06-12T09:55:56.543744Z",
     "start_time": "2024-06-12T09:55:56.538495Z"
    }
   },
   "cell_type": "code",
   "source": "float_data",
   "id": "e06cf3e581bb116f",
   "execution_count": 3,
   "outputs": []
  },
  {
   "metadata": {
    "ExecuteTime": {
     "end_time": "2024-06-12T09:56:10.752781Z",
     "start_time": "2024-06-12T09:56:10.746332Z"
    }
   },
   "cell_type": "code",
   "source": "float_data.isna()",
   "id": "a666d0c3b51f3c1b",
   "execution_count": 5,
   "outputs": []
  },
  {
   "metadata": {
    "ExecuteTime": {
     "end_time": "2024-06-12T09:57:09.062956Z",
     "start_time": "2024-06-12T09:57:09.054345Z"
    }
   },
   "cell_type": "code",
   "source": "string_data = pd.Series(['aardvark', np.nan, None, 'avocado'])",
   "id": "9ae009156fb156e1",
   "execution_count": 6,
   "outputs": []
  },
  {
   "metadata": {
    "ExecuteTime": {
     "end_time": "2024-06-12T09:57:11.658068Z",
     "start_time": "2024-06-12T09:57:11.651206Z"
    }
   },
   "cell_type": "code",
   "source": "string_data",
   "id": "59fa7c456f4d46f2",
   "execution_count": 7,
   "outputs": []
  },
  {
   "metadata": {
    "ExecuteTime": {
     "end_time": "2024-06-12T09:57:30.807375Z",
     "start_time": "2024-06-12T09:57:30.800603Z"
    }
   },
   "cell_type": "code",
   "source": "string_data.isna()",
   "id": "6549ec0b9c8d0cd7",
   "execution_count": 8,
   "outputs": []
  },
  {
   "metadata": {
    "ExecuteTime": {
     "end_time": "2024-06-12T09:58:05.689503Z",
     "start_time": "2024-06-12T09:58:05.677213Z"
    }
   },
   "cell_type": "code",
   "source": "float_data = pd.Series([1, 2, None], dtype='float64')",
   "id": "f8899549716edbf5",
   "execution_count": 9,
   "outputs": []
  },
  {
   "metadata": {
    "ExecuteTime": {
     "end_time": "2024-06-12T09:58:08.440057Z",
     "start_time": "2024-06-12T09:58:08.434464Z"
    }
   },
   "cell_type": "code",
   "source": "float_data",
   "id": "4c52cf22d25f31e8",
   "execution_count": 10,
   "outputs": []
  },
  {
   "metadata": {
    "ExecuteTime": {
     "end_time": "2024-06-12T09:58:27.385241Z",
     "start_time": "2024-06-12T09:58:27.366950Z"
    }
   },
   "cell_type": "code",
   "source": "float_data.isna()",
   "id": "1713ede649d2ec28",
   "execution_count": 11,
   "outputs": []
  },
  {
   "metadata": {
    "ExecuteTime": {
     "end_time": "2024-06-12T09:59:09.047469Z",
     "start_time": "2024-06-12T09:59:09.040799Z"
    }
   },
   "cell_type": "code",
   "source": "data = pd.Series([1, np.nan, 3.5, np.nan, 7])",
   "id": "e3e4de7f0a43c8",
   "execution_count": 12,
   "outputs": []
  },
  {
   "metadata": {
    "ExecuteTime": {
     "end_time": "2024-06-12T09:59:16.287500Z",
     "start_time": "2024-06-12T09:59:16.281563Z"
    }
   },
   "cell_type": "code",
   "source": "data.dropna()",
   "id": "afce04a2701c7ed6",
   "execution_count": 13,
   "outputs": []
  },
  {
   "metadata": {
    "ExecuteTime": {
     "end_time": "2024-06-12T09:59:32.320954Z",
     "start_time": "2024-06-12T09:59:32.314030Z"
    }
   },
   "cell_type": "code",
   "source": "data[data.notna()]",
   "id": "e940425f8395874d",
   "execution_count": 14,
   "outputs": []
  },
  {
   "metadata": {
    "ExecuteTime": {
     "end_time": "2024-06-12T10:00:45.293764Z",
     "start_time": "2024-06-12T10:00:45.289664Z"
    }
   },
   "cell_type": "code",
   "source": [
    "data = pd.DataFrame([[1., 6.5, 3.], [1., np.nan, np.nan],\n",
    "                     [np.nan, np.nan, np.nan], [np.nan, 6.5, 3.]])"
   ],
   "id": "39724f19927df039",
   "execution_count": 16,
   "outputs": []
  },
  {
   "metadata": {
    "ExecuteTime": {
     "end_time": "2024-06-12T10:00:49.716814Z",
     "start_time": "2024-06-12T10:00:49.701505Z"
    }
   },
   "cell_type": "code",
   "source": "data",
   "id": "ad2338ecec25e64a",
   "execution_count": 17,
   "outputs": []
  },
  {
   "metadata": {
    "ExecuteTime": {
     "end_time": "2024-06-12T10:00:58.304395Z",
     "start_time": "2024-06-12T10:00:58.297848Z"
    }
   },
   "cell_type": "code",
   "source": "data.dropna()",
   "id": "4cd4726e9522c7a4",
   "execution_count": 18,
   "outputs": []
  },
  {
   "metadata": {
    "ExecuteTime": {
     "end_time": "2024-06-12T10:01:13.145154Z",
     "start_time": "2024-06-12T10:01:13.119088Z"
    }
   },
   "cell_type": "code",
   "source": "data.dropna(how=\"all\")",
   "id": "2d657c79b8466d4f",
   "execution_count": 19,
   "outputs": []
  },
  {
   "metadata": {
    "ExecuteTime": {
     "end_time": "2024-06-12T10:01:25.537460Z",
     "start_time": "2024-06-12T10:01:25.534662Z"
    }
   },
   "cell_type": "code",
   "source": "data[4] = np.nan",
   "id": "6883a63bacc928a3",
   "execution_count": 20,
   "outputs": []
  },
  {
   "metadata": {
    "ExecuteTime": {
     "end_time": "2024-06-12T10:01:29.422687Z",
     "start_time": "2024-06-12T10:01:29.417952Z"
    }
   },
   "cell_type": "code",
   "source": "data",
   "id": "e0568c1873a077e3",
   "execution_count": 21,
   "outputs": []
  },
  {
   "metadata": {
    "ExecuteTime": {
     "end_time": "2024-06-12T10:01:44.452333Z",
     "start_time": "2024-06-12T10:01:44.422502Z"
    }
   },
   "cell_type": "code",
   "source": "data.dropna(axis=\"columns\", how=\"all\")",
   "id": "5e5c17934ffdb6ae",
   "execution_count": 22,
   "outputs": []
  },
  {
   "metadata": {
    "ExecuteTime": {
     "end_time": "2024-06-13T07:18:44.410213Z",
     "start_time": "2024-06-13T07:18:44.404830Z"
    }
   },
   "cell_type": "code",
   "source": "df = pd.DataFrame(np.random.standard_normal((7, 3)))",
   "id": "a084037269a6ed2b",
   "execution_count": 6,
   "outputs": []
  },
  {
   "metadata": {
    "ExecuteTime": {
     "end_time": "2024-06-13T07:19:04.470623Z",
     "start_time": "2024-06-13T07:19:04.467099Z"
    }
   },
   "cell_type": "code",
   "source": "df.iloc[:4, 1] = np.nan",
   "id": "fcc15ef79dc1d94f",
   "execution_count": 8,
   "outputs": []
  },
  {
   "metadata": {
    "ExecuteTime": {
     "end_time": "2024-06-13T07:19:05.864148Z",
     "start_time": "2024-06-13T07:19:05.861164Z"
    }
   },
   "cell_type": "code",
   "source": "df.iloc[:2, 2] = np.nan",
   "id": "e1a007f14e1b07ea",
   "execution_count": 9,
   "outputs": []
  },
  {
   "metadata": {
    "ExecuteTime": {
     "end_time": "2024-06-13T07:19:06.886846Z",
     "start_time": "2024-06-13T07:19:06.881323Z"
    }
   },
   "cell_type": "code",
   "source": "df",
   "id": "365d62097292bcd2",
   "execution_count": 10,
   "outputs": []
  },
  {
   "metadata": {
    "ExecuteTime": {
     "end_time": "2024-06-13T07:19:09.948191Z",
     "start_time": "2024-06-13T07:19:09.941405Z"
    }
   },
   "cell_type": "code",
   "source": "df.dropna()",
   "id": "bf26be725e828d5c",
   "execution_count": 11,
   "outputs": []
  },
  {
   "metadata": {
    "ExecuteTime": {
     "end_time": "2024-06-13T07:19:11.845743Z",
     "start_time": "2024-06-13T07:19:11.839547Z"
    }
   },
   "cell_type": "code",
   "source": "df.dropna(thresh=2)",
   "id": "8375b1e7114adf99",
   "execution_count": 12,
   "outputs": []
  },
  {
   "metadata": {
    "ExecuteTime": {
     "end_time": "2024-06-13T07:19:13.369152Z",
     "start_time": "2024-06-13T07:19:13.362065Z"
    }
   },
   "cell_type": "code",
   "source": "df.fillna(0)",
   "id": "cddf8190c67a3709",
   "execution_count": 13,
   "outputs": []
  },
  {
   "metadata": {
    "ExecuteTime": {
     "end_time": "2024-06-13T07:19:38.638327Z",
     "start_time": "2024-06-13T07:19:38.599365Z"
    }
   },
   "cell_type": "code",
   "source": "df.fillna({1: 0.5, 2: 0})",
   "id": "8ef28b8c1a012b10",
   "execution_count": 14,
   "outputs": []
  },
  {
   "metadata": {
    "ExecuteTime": {
     "end_time": "2024-06-13T07:20:15.454Z",
     "start_time": "2024-06-13T07:20:15.448480Z"
    }
   },
   "cell_type": "code",
   "source": "df = pd.DataFrame(np.random.standard_normal((6, 3)))",
   "id": "61364e1eba71c9dd",
   "execution_count": 15,
   "outputs": []
  },
  {
   "metadata": {
    "ExecuteTime": {
     "end_time": "2024-06-13T07:20:29.475137Z",
     "start_time": "2024-06-13T07:20:29.471121Z"
    }
   },
   "cell_type": "code",
   "source": "df.iloc[2:, 1] = np.nan",
   "id": "135f6c1901f3c38e",
   "execution_count": 16,
   "outputs": []
  },
  {
   "metadata": {
    "ExecuteTime": {
     "end_time": "2024-06-13T07:20:39.896329Z",
     "start_time": "2024-06-13T07:20:39.893675Z"
    }
   },
   "cell_type": "code",
   "source": "df.iloc[4:, 2] = np.nan",
   "id": "93c75596cc990b5f",
   "execution_count": 17,
   "outputs": []
  },
  {
   "metadata": {
    "ExecuteTime": {
     "end_time": "2024-06-13T07:20:41.818084Z",
     "start_time": "2024-06-13T07:20:41.812919Z"
    }
   },
   "cell_type": "code",
   "source": "df",
   "id": "6e50ddcd5e18030b",
   "execution_count": 18,
   "outputs": []
  },
  {
   "metadata": {
    "ExecuteTime": {
     "end_time": "2024-06-13T07:21:23.603389Z",
     "start_time": "2024-06-13T07:21:23.580586Z"
    }
   },
   "cell_type": "code",
   "source": "df.fillna(method=\"ffill\")",
   "id": "8cbc61c8a2ff1e04",
   "execution_count": 19,
   "outputs": []
  },
  {
   "metadata": {
    "ExecuteTime": {
     "end_time": "2024-06-13T07:21:50.865697Z",
     "start_time": "2024-06-13T07:21:50.859340Z"
    }
   },
   "cell_type": "code",
   "source": "df.ffill()",
   "id": "77683849eddffcf9",
   "execution_count": 20,
   "outputs": []
  },
  {
   "metadata": {
    "ExecuteTime": {
     "end_time": "2024-06-13T07:22:19.573743Z",
     "start_time": "2024-06-13T07:22:19.562390Z"
    }
   },
   "cell_type": "code",
   "source": "df.bfill()",
   "id": "4675fb20c2cb7f23",
   "execution_count": 21,
   "outputs": []
  },
  {
   "metadata": {
    "ExecuteTime": {
     "end_time": "2024-06-13T07:22:37.666448Z",
     "start_time": "2024-06-13T07:22:37.654448Z"
    }
   },
   "cell_type": "code",
   "source": "df.ffill(limit=2)",
   "id": "acd591cde5e1757a",
   "execution_count": 22,
   "outputs": []
  },
  {
   "metadata": {
    "ExecuteTime": {
     "end_time": "2024-06-13T07:23:09.650318Z",
     "start_time": "2024-06-13T07:23:09.642904Z"
    }
   },
   "cell_type": "code",
   "source": "data = pd.Series([1., np.nan, 3.5, np.nan, 7])",
   "id": "258fe59657058b53",
   "execution_count": 23,
   "outputs": []
  },
  {
   "metadata": {
    "ExecuteTime": {
     "end_time": "2024-06-13T07:23:27.469522Z",
     "start_time": "2024-06-13T07:23:27.460246Z"
    }
   },
   "cell_type": "code",
   "source": "data.fillna(data.mean())",
   "id": "57a8605d0b2baed",
   "execution_count": 24,
   "outputs": []
  },
  {
   "metadata": {
    "ExecuteTime": {
     "end_time": "2024-06-13T07:29:36.849211Z",
     "start_time": "2024-06-13T07:29:36.844652Z"
    }
   },
   "cell_type": "code",
   "source": [
    "data = pd.DataFrame({\"k1\": [\"one\", \"two\"] * 3 + [\"two\"],\n",
    "                     \"k2\": [1, 1, 2, 3, 3, 4, 4]})"
   ],
   "id": "f9ca8df6fdda4a07",
   "execution_count": 28,
   "outputs": []
  },
  {
   "metadata": {
    "ExecuteTime": {
     "end_time": "2024-06-13T07:29:39.824495Z",
     "start_time": "2024-06-13T07:29:39.820102Z"
    }
   },
   "cell_type": "code",
   "source": "data",
   "id": "5b5b970d6e3aa49b",
   "execution_count": 29,
   "outputs": []
  },
  {
   "metadata": {
    "ExecuteTime": {
     "end_time": "2024-06-13T07:30:02.986774Z",
     "start_time": "2024-06-13T07:30:02.974813Z"
    }
   },
   "cell_type": "code",
   "source": "data.duplicated()",
   "id": "dbb5fa485500d12c",
   "execution_count": 30,
   "outputs": []
  },
  {
   "metadata": {
    "ExecuteTime": {
     "end_time": "2024-06-13T07:30:50.769535Z",
     "start_time": "2024-06-13T07:30:50.759858Z"
    }
   },
   "cell_type": "code",
   "source": "data.drop_duplicates()",
   "id": "109a5f9aa678014f",
   "execution_count": 31,
   "outputs": []
  },
  {
   "metadata": {
    "ExecuteTime": {
     "end_time": "2024-06-13T07:31:04.761660Z",
     "start_time": "2024-06-13T07:31:04.754044Z"
    }
   },
   "cell_type": "code",
   "source": "data[\"v1\"] = range(7)",
   "id": "270e3c7eeb43dcb2",
   "execution_count": 32,
   "outputs": []
  },
  {
   "metadata": {
    "ExecuteTime": {
     "end_time": "2024-06-13T07:31:06.045955Z",
     "start_time": "2024-06-13T07:31:06.041335Z"
    }
   },
   "cell_type": "code",
   "source": "data",
   "id": "400a276a8b796d95",
   "execution_count": 33,
   "outputs": []
  },
  {
   "metadata": {
    "ExecuteTime": {
     "end_time": "2024-06-13T07:31:31.195953Z",
     "start_time": "2024-06-13T07:31:31.184573Z"
    }
   },
   "cell_type": "code",
   "source": "data.drop_duplicates(subset=[\"k1\"])",
   "id": "13fb93b8eb8072be",
   "execution_count": 34,
   "outputs": []
  },
  {
   "metadata": {
    "ExecuteTime": {
     "end_time": "2024-06-13T07:32:12.283330Z",
     "start_time": "2024-06-13T07:32:12.270429Z"
    }
   },
   "cell_type": "code",
   "source": "data.drop_duplicates(subset=[\"k1\", \"k2\"], keep=\"last\")",
   "id": "8ae063ba2d9680aa",
   "execution_count": 35,
   "outputs": []
  },
  {
   "metadata": {
    "ExecuteTime": {
     "end_time": "2024-06-13T07:35:24.099814Z",
     "start_time": "2024-06-13T07:35:24.080410Z"
    }
   },
   "cell_type": "code",
   "source": [
    "data = pd.DataFrame(\n",
    "    {\n",
    "        \"food\": [\"bacon\", \"pulled pork\", \"bacon\", \"pastrami\", \"corned beef\",\n",
    "                 \"bacon\", \"pastrami\", \"honey ham\", \"nova lox\"],\n",
    "        \"ounces\": [4, 3, 12, 6, 7.5, 8, 3, 5, 6]\n",
    "    }\n",
    ")"
   ],
   "id": "f610149ac5d76df",
   "execution_count": 37,
   "outputs": []
  },
  {
   "metadata": {
    "ExecuteTime": {
     "end_time": "2024-06-13T07:35:28.333457Z",
     "start_time": "2024-06-13T07:35:28.321456Z"
    }
   },
   "cell_type": "code",
   "source": "data",
   "id": "d76579e0df5a3649",
   "execution_count": 38,
   "outputs": []
  },
  {
   "metadata": {
    "ExecuteTime": {
     "end_time": "2024-06-13T07:39:01.834244Z",
     "start_time": "2024-06-13T07:39:01.828718Z"
    }
   },
   "cell_type": "code",
   "source": [
    "meat_to_animal = {\n",
    "    \"bacon\": \"pig\",\n",
    "    \"pulled pork\": \"pig\",\n",
    "    \"pastrami\": \"cow\",\n",
    "    \"corned beef\": \"cow\",\n",
    "    \"honey ham\": \"pig\",\n",
    "    \"nova lox\": \"salmon\"\n",
    "}"
   ],
   "id": "356f0101211b6fbf",
   "execution_count": 44,
   "outputs": []
  },
  {
   "metadata": {
    "ExecuteTime": {
     "end_time": "2024-06-13T07:39:04.859711Z",
     "start_time": "2024-06-13T07:39:04.855869Z"
    }
   },
   "cell_type": "code",
   "source": "data[\"animal\"] = data[\"food\"].map(meat_to_animal)",
   "id": "7b7debfd0d8992e9",
   "execution_count": 45,
   "outputs": []
  },
  {
   "metadata": {
    "ExecuteTime": {
     "end_time": "2024-06-13T07:39:07.239475Z",
     "start_time": "2024-06-13T07:39:07.234413Z"
    }
   },
   "cell_type": "code",
   "source": "data",
   "id": "dd41b1a0214977f6",
   "execution_count": 46,
   "outputs": []
  },
  {
   "metadata": {
    "ExecuteTime": {
     "end_time": "2024-06-13T07:39:13.377077Z",
     "start_time": "2024-06-13T07:39:13.373250Z"
    }
   },
   "cell_type": "code",
   "source": [
    "def get_animal(x):\n",
    "    return meat_to_animal[x]"
   ],
   "id": "be9bf45562be187b",
   "execution_count": 47,
   "outputs": []
  },
  {
   "metadata": {
    "ExecuteTime": {
     "end_time": "2024-06-13T07:39:14.620650Z",
     "start_time": "2024-06-13T07:39:14.616194Z"
    }
   },
   "cell_type": "code",
   "source": "data[\"food\"].map(get_animal)",
   "id": "68280ab2a14f698c",
   "execution_count": 48,
   "outputs": []
  },
  {
   "metadata": {
    "ExecuteTime": {
     "end_time": "2024-06-13T07:39:29.160194Z",
     "start_time": "2024-06-13T07:39:29.152485Z"
    }
   },
   "cell_type": "code",
   "source": "data",
   "id": "e230e19256ea5e7a",
   "execution_count": 49,
   "outputs": []
  },
  {
   "metadata": {
    "ExecuteTime": {
     "end_time": "2024-06-13T07:40:58.266575Z",
     "start_time": "2024-06-13T07:40:58.247248Z"
    }
   },
   "cell_type": "code",
   "source": "data = pd.DataFrame([1., -999., 2., -999., -1000., 3.])",
   "id": "8e45ca34388f1cbe",
   "execution_count": 50,
   "outputs": []
  },
  {
   "metadata": {
    "ExecuteTime": {
     "end_time": "2024-06-13T07:40:59.817418Z",
     "start_time": "2024-06-13T07:40:59.812848Z"
    }
   },
   "cell_type": "code",
   "source": "data",
   "id": "7fc541776d4bbbee",
   "execution_count": 51,
   "outputs": []
  },
  {
   "metadata": {
    "ExecuteTime": {
     "end_time": "2024-06-13T07:41:36.244937Z",
     "start_time": "2024-06-13T07:41:36.235676Z"
    }
   },
   "cell_type": "code",
   "source": "data.replace([-999, -1000], np.nan)",
   "id": "1a67ac19762b6a3b",
   "execution_count": 52,
   "outputs": []
  },
  {
   "metadata": {
    "ExecuteTime": {
     "end_time": "2024-06-13T07:42:06.954490Z",
     "start_time": "2024-06-13T07:42:06.942031Z"
    }
   },
   "cell_type": "code",
   "source": "data.replace([-999, -1000], [np.nan, 0])",
   "id": "1b2372ae784622fc",
   "execution_count": 53,
   "outputs": []
  },
  {
   "metadata": {
    "ExecuteTime": {
     "end_time": "2024-06-13T07:42:18.727875Z",
     "start_time": "2024-06-13T07:42:18.722081Z"
    }
   },
   "cell_type": "code",
   "source": "data",
   "id": "7d9250e536f956a5",
   "execution_count": 54,
   "outputs": []
  },
  {
   "metadata": {
    "ExecuteTime": {
     "end_time": "2024-06-13T07:42:42.171326Z",
     "start_time": "2024-06-13T07:42:42.158679Z"
    }
   },
   "cell_type": "code",
   "source": "data.replace({-999: np.nan, -1000: 0})",
   "id": "ced402f76963c0d5",
   "execution_count": 55,
   "outputs": []
  },
  {
   "metadata": {
    "ExecuteTime": {
     "end_time": "2024-06-13T07:44:38.819302Z",
     "start_time": "2024-06-13T07:44:38.798978Z"
    }
   },
   "cell_type": "code",
   "source": [
    "data = pd.DataFrame(np.arange(12).reshape((3, 4)),\n",
    "                    index=[\"Ohio\", \"Colorado\", \"New York\"],\n",
    "                    columns=[\"one\", \"two\", \"three\", \"four\"])"
   ],
   "id": "6bbd385d2c014bd6",
   "execution_count": 56,
   "outputs": []
  },
  {
   "metadata": {
    "ExecuteTime": {
     "end_time": "2024-06-13T07:44:44.659377Z",
     "start_time": "2024-06-13T07:44:44.655129Z"
    }
   },
   "cell_type": "code",
   "source": "data",
   "id": "1683753e7e59f618",
   "execution_count": 57,
   "outputs": []
  },
  {
   "metadata": {
    "ExecuteTime": {
     "end_time": "2024-06-13T07:44:56.126975Z",
     "start_time": "2024-06-13T07:44:56.122021Z"
    }
   },
   "cell_type": "code",
   "source": "data.shape",
   "id": "fa741bd63cad36f",
   "execution_count": 58,
   "outputs": []
  },
  {
   "metadata": {
    "ExecuteTime": {
     "end_time": "2024-06-13T07:45:34.784967Z",
     "start_time": "2024-06-13T07:45:34.781268Z"
    }
   },
   "cell_type": "code",
   "source": [
    "def transform(x):\n",
    "    return x[:4].upper()"
   ],
   "id": "a1b8b7fb78f0615c",
   "execution_count": 59,
   "outputs": []
  },
  {
   "metadata": {
    "ExecuteTime": {
     "end_time": "2024-06-13T07:45:49.473736Z",
     "start_time": "2024-06-13T07:45:49.466468Z"
    }
   },
   "cell_type": "code",
   "source": "data.index.map(transform)",
   "id": "9db6960665ae8b9d",
   "execution_count": 60,
   "outputs": []
  },
  {
   "metadata": {
    "ExecuteTime": {
     "end_time": "2024-06-13T07:46:20.822056Z",
     "start_time": "2024-06-13T07:46:20.816166Z"
    }
   },
   "cell_type": "code",
   "source": "data.index = data.index.map(transform)",
   "id": "1b958c060316a59b",
   "execution_count": 61,
   "outputs": []
  },
  {
   "metadata": {
    "ExecuteTime": {
     "end_time": "2024-06-13T07:46:24.248049Z",
     "start_time": "2024-06-13T07:46:24.243300Z"
    }
   },
   "cell_type": "code",
   "source": "data",
   "id": "6e348b2d24d87f0a",
   "execution_count": 62,
   "outputs": []
  },
  {
   "metadata": {
    "ExecuteTime": {
     "end_time": "2024-06-13T07:47:28.365961Z",
     "start_time": "2024-06-13T07:47:28.358404Z"
    }
   },
   "cell_type": "code",
   "source": "data.rename(index=str.title, columns=str.upper)",
   "id": "296ed17e14b3341f",
   "execution_count": 64,
   "outputs": []
  },
  {
   "metadata": {
    "ExecuteTime": {
     "end_time": "2024-06-13T07:48:24.275448Z",
     "start_time": "2024-06-13T07:48:24.248937Z"
    }
   },
   "cell_type": "code",
   "source": "data.rename(index={\"OHIO\": \"INDIANA\"}, columns={\"three\": \"peekaboo\"})",
   "id": "f52936d75f187aee",
   "execution_count": 65,
   "outputs": []
  },
  {
   "metadata": {
    "ExecuteTime": {
     "end_time": "2024-06-13T08:09:06.423558Z",
     "start_time": "2024-06-13T08:09:06.421035Z"
    }
   },
   "cell_type": "code",
   "source": "ages = [20, 22, 25, 27, 21, 23, 37, 31, 61, 45, 41, 32]",
   "id": "6112fb4a233effeb",
   "execution_count": 5,
   "outputs": []
  },
  {
   "metadata": {
    "ExecuteTime": {
     "end_time": "2024-06-13T08:08:40.876614Z",
     "start_time": "2024-06-13T08:08:40.863072Z"
    }
   },
   "cell_type": "code",
   "source": "bins = [18, 25, 35, 60, 100]",
   "id": "f0b20bc1480ba966",
   "execution_count": 3,
   "outputs": []
  },
  {
   "metadata": {
    "ExecuteTime": {
     "end_time": "2024-06-13T08:09:08.184527Z",
     "start_time": "2024-06-13T08:09:08.170784Z"
    }
   },
   "cell_type": "code",
   "source": "age_categories = pd.cut(ages, bins)",
   "id": "a87e17c2b22da3b",
   "execution_count": 6,
   "outputs": []
  },
  {
   "metadata": {
    "ExecuteTime": {
     "end_time": "2024-06-13T08:09:17.701886Z",
     "start_time": "2024-06-13T08:09:17.689420Z"
    }
   },
   "cell_type": "code",
   "source": "age_categories",
   "id": "9dabc798a937061a",
   "execution_count": 7,
   "outputs": []
  },
  {
   "metadata": {
    "ExecuteTime": {
     "end_time": "2024-06-13T08:09:31.044910Z",
     "start_time": "2024-06-13T08:09:31.022862Z"
    }
   },
   "cell_type": "code",
   "source": "age_categories.codes",
   "id": "eb5304a49007e02d",
   "execution_count": 8,
   "outputs": []
  },
  {
   "metadata": {
    "ExecuteTime": {
     "end_time": "2024-06-13T08:10:14.457246Z",
     "start_time": "2024-06-13T08:10:14.450513Z"
    }
   },
   "cell_type": "code",
   "source": "age_categories.categories",
   "id": "582106ed3e982530",
   "execution_count": 9,
   "outputs": []
  },
  {
   "metadata": {
    "ExecuteTime": {
     "end_time": "2024-06-13T08:10:33.047003Z",
     "start_time": "2024-06-13T08:10:33.041950Z"
    }
   },
   "cell_type": "code",
   "source": "age_categories.categories[0]",
   "id": "e6af473c7d52fd70",
   "execution_count": 10,
   "outputs": []
  },
  {
   "metadata": {
    "ExecuteTime": {
     "end_time": "2024-06-13T08:11:16.021207Z",
     "start_time": "2024-06-13T08:11:16.014663Z"
    }
   },
   "cell_type": "code",
   "source": "pd.Series(age_categories).value_counts()",
   "id": "de8a4ab2f237bc0c",
   "execution_count": 12,
   "outputs": []
  },
  {
   "metadata": {
    "ExecuteTime": {
     "end_time": "2024-06-13T08:12:37.843363Z",
     "start_time": "2024-06-13T08:12:37.832999Z"
    }
   },
   "cell_type": "code",
   "source": "pd.cut(ages, bins, right=False)",
   "id": "d70c7ea7e06a3cf6",
   "execution_count": 13,
   "outputs": []
  },
  {
   "metadata": {
    "ExecuteTime": {
     "end_time": "2024-06-13T08:13:28.117601Z",
     "start_time": "2024-06-13T08:13:28.113948Z"
    }
   },
   "cell_type": "code",
   "source": "group_names = [\"Youth\", \"YouthAdult\", \"MiddleAged\", \"Senior\"]",
   "id": "18e7b775ea60913e",
   "execution_count": 14,
   "outputs": []
  },
  {
   "metadata": {
    "ExecuteTime": {
     "end_time": "2024-06-13T08:13:47.745090Z",
     "start_time": "2024-06-13T08:13:47.731318Z"
    }
   },
   "cell_type": "code",
   "source": "pd.cut(ages, bins, labels=group_names)",
   "id": "3de7c15dc2fc04f1",
   "execution_count": 15,
   "outputs": []
  },
  {
   "metadata": {
    "ExecuteTime": {
     "end_time": "2024-06-13T08:14:12.766946Z",
     "start_time": "2024-06-13T08:14:12.752368Z"
    }
   },
   "cell_type": "code",
   "source": "data = np.random.uniform(size=20)",
   "id": "f80c9519943ec2e3",
   "execution_count": 16,
   "outputs": []
  },
  {
   "metadata": {
    "ExecuteTime": {
     "end_time": "2024-06-13T08:14:23.197619Z",
     "start_time": "2024-06-13T08:14:23.189463Z"
    }
   },
   "cell_type": "code",
   "source": "pd.cut(data, 4, precision=2)",
   "id": "885d76d15d71e670",
   "execution_count": 17,
   "outputs": []
  },
  {
   "metadata": {
    "ExecuteTime": {
     "end_time": "2024-06-13T08:14:52.018356Z",
     "start_time": "2024-06-13T08:14:52.014380Z"
    }
   },
   "cell_type": "code",
   "source": "data = np.random.standard_normal(1000)",
   "id": "4405c94a349d1eba",
   "execution_count": 18,
   "outputs": []
  },
  {
   "metadata": {
    "ExecuteTime": {
     "end_time": "2024-06-13T08:14:54.554036Z",
     "start_time": "2024-06-13T08:14:54.546493Z"
    }
   },
   "cell_type": "code",
   "source": "data",
   "id": "339a5b8befc489f7",
   "execution_count": 19,
   "outputs": []
  },
  {
   "metadata": {
    "ExecuteTime": {
     "end_time": "2024-06-13T08:15:34.719885Z",
     "start_time": "2024-06-13T08:15:34.709761Z"
    }
   },
   "cell_type": "code",
   "source": "quartiles = pd.qcut(data, 4, precision=2)",
   "id": "2c26b81bd8f08826",
   "execution_count": 20,
   "outputs": []
  },
  {
   "metadata": {
    "ExecuteTime": {
     "end_time": "2024-06-13T08:15:36.769247Z",
     "start_time": "2024-06-13T08:15:36.765247Z"
    }
   },
   "cell_type": "code",
   "source": "quartiles",
   "id": "f83a9c734f5651cf",
   "execution_count": 21,
   "outputs": []
  },
  {
   "metadata": {
    "ExecuteTime": {
     "end_time": "2024-06-13T08:15:58.409659Z",
     "start_time": "2024-06-13T08:15:58.395101Z"
    }
   },
   "cell_type": "code",
   "source": "pd.Series(quartiles).value_counts()",
   "id": "c8a23f3fc3fd67a7",
   "execution_count": 22,
   "outputs": []
  },
  {
   "metadata": {
    "ExecuteTime": {
     "end_time": "2024-06-13T08:16:37.432361Z",
     "start_time": "2024-06-13T08:16:37.404783Z"
    }
   },
   "cell_type": "code",
   "source": "pd.qcut(data, [0, 0.1, 0.5, 0.9, 1.]).value_counts()",
   "id": "a4f5959e29729165",
   "execution_count": 23,
   "outputs": []
  },
  {
   "metadata": {
    "ExecuteTime": {
     "end_time": "2024-06-13T08:17:38.736330Z",
     "start_time": "2024-06-13T08:17:38.731280Z"
    }
   },
   "cell_type": "code",
   "source": "data = pd.DataFrame(np.random.standard_normal((1000, 4)))",
   "id": "d8f2bac33ae622c7",
   "execution_count": 24,
   "outputs": []
  },
  {
   "metadata": {
    "ExecuteTime": {
     "end_time": "2024-06-13T08:17:48.238964Z",
     "start_time": "2024-06-13T08:17:48.223852Z"
    }
   },
   "cell_type": "code",
   "source": "data.describe()",
   "id": "cd14a2b2ae9c3c1f",
   "execution_count": 25,
   "outputs": []
  },
  {
   "metadata": {
    "ExecuteTime": {
     "end_time": "2024-06-13T08:18:11.723050Z",
     "start_time": "2024-06-13T08:18:11.718105Z"
    }
   },
   "cell_type": "code",
   "source": "col = data[2]",
   "id": "f1c97c6eebce9f04",
   "execution_count": 26,
   "outputs": []
  },
  {
   "metadata": {
    "ExecuteTime": {
     "end_time": "2024-06-13T08:18:24.517148Z",
     "start_time": "2024-06-13T08:18:24.507686Z"
    }
   },
   "cell_type": "code",
   "source": "col[col.abs() > 3]",
   "id": "ffc83dcc7da9b867",
   "execution_count": 27,
   "outputs": []
  },
  {
   "metadata": {
    "ExecuteTime": {
     "end_time": "2024-06-13T08:19:31.327268Z",
     "start_time": "2024-06-13T08:19:31.314424Z"
    }
   },
   "cell_type": "code",
   "source": "data[(data.abs() > 3).any(axis=\"columns\")]",
   "id": "c24169d74809abbe",
   "execution_count": 28,
   "outputs": []
  },
  {
   "metadata": {
    "ExecuteTime": {
     "end_time": "2024-06-13T08:20:26.505868Z",
     "start_time": "2024-06-13T08:20:26.497185Z"
    }
   },
   "cell_type": "code",
   "source": "data[data.abs() > 3] = np.sign(data) * 3",
   "id": "73e4d1fa65aa3b5b",
   "execution_count": 29,
   "outputs": []
  },
  {
   "metadata": {
    "ExecuteTime": {
     "end_time": "2024-06-13T08:20:38.708827Z",
     "start_time": "2024-06-13T08:20:38.693400Z"
    }
   },
   "cell_type": "code",
   "source": "data.describe()",
   "id": "b3b30d94e5887e92",
   "execution_count": 30,
   "outputs": []
  },
  {
   "metadata": {
    "ExecuteTime": {
     "end_time": "2024-06-13T08:24:56.274906Z",
     "start_time": "2024-06-13T08:24:56.263481Z"
    }
   },
   "cell_type": "code",
   "source": "np.sign(data).head()",
   "id": "78f4fd60fb7c08f7",
   "execution_count": 31,
   "outputs": []
  },
  {
   "metadata": {
    "ExecuteTime": {
     "end_time": "2024-06-13T08:25:25.055891Z",
     "start_time": "2024-06-13T08:25:25.044896Z"
    }
   },
   "cell_type": "code",
   "source": "data",
   "id": "921ecd08700d1038",
   "execution_count": 32,
   "outputs": []
  },
  {
   "metadata": {
    "ExecuteTime": {
     "end_time": "2024-06-13T08:26:04.852135Z",
     "start_time": "2024-06-13T08:26:04.846525Z"
    }
   },
   "cell_type": "code",
   "source": "df = pd.DataFrame(np.arange(5 * 7).reshape((5, 7)))",
   "id": "db096a7b643d0a54",
   "execution_count": 33,
   "outputs": []
  },
  {
   "metadata": {
    "ExecuteTime": {
     "end_time": "2024-06-13T08:26:06.423207Z",
     "start_time": "2024-06-13T08:26:06.418848Z"
    }
   },
   "cell_type": "code",
   "source": "df",
   "id": "ef08290eeb8ea474",
   "execution_count": 34,
   "outputs": []
  },
  {
   "metadata": {
    "ExecuteTime": {
     "end_time": "2024-06-13T08:27:00.450862Z",
     "start_time": "2024-06-13T08:27:00.445621Z"
    }
   },
   "cell_type": "code",
   "source": "sampler = np.random.permutation(5)",
   "id": "552de0e1894e99ea",
   "execution_count": 35,
   "outputs": []
  },
  {
   "metadata": {
    "ExecuteTime": {
     "end_time": "2024-06-13T08:27:07.846871Z",
     "start_time": "2024-06-13T08:27:07.844079Z"
    }
   },
   "cell_type": "code",
   "source": "sampler",
   "id": "f93703e844bfc140",
   "execution_count": 36,
   "outputs": []
  },
  {
   "metadata": {
    "ExecuteTime": {
     "end_time": "2024-06-13T08:27:45.682900Z",
     "start_time": "2024-06-13T08:27:45.664321Z"
    }
   },
   "cell_type": "code",
   "source": "df.take(sampler)",
   "id": "a935e2eddded6e41",
   "execution_count": 37,
   "outputs": []
  },
  {
   "metadata": {
    "ExecuteTime": {
     "end_time": "2024-06-13T08:28:06.308357Z",
     "start_time": "2024-06-13T08:28:06.297872Z"
    }
   },
   "cell_type": "code",
   "source": "df.iloc[sampler]",
   "id": "2fbc0a5bacd658c4",
   "execution_count": 38,
   "outputs": []
  },
  {
   "metadata": {
    "ExecuteTime": {
     "end_time": "2024-06-13T08:28:38.582634Z",
     "start_time": "2024-06-13T08:28:38.578849Z"
    }
   },
   "cell_type": "code",
   "source": "column_sampler = np.random.permutation(7)",
   "id": "7a8bb7a2608baa91",
   "execution_count": 39,
   "outputs": []
  },
  {
   "metadata": {
    "ExecuteTime": {
     "end_time": "2024-06-13T08:28:42.153265Z",
     "start_time": "2024-06-13T08:28:42.150319Z"
    }
   },
   "cell_type": "code",
   "source": "column_sampler",
   "id": "55175893e85f5773",
   "execution_count": 40,
   "outputs": []
  },
  {
   "metadata": {
    "ExecuteTime": {
     "end_time": "2024-06-13T08:29:27.608270Z",
     "start_time": "2024-06-13T08:29:27.596290Z"
    }
   },
   "cell_type": "code",
   "source": "df.take(column_sampler, axis=\"columns\")",
   "id": "83fc1303017a3f7c",
   "execution_count": 41,
   "outputs": []
  },
  {
   "metadata": {
    "ExecuteTime": {
     "end_time": "2024-06-13T08:29:45.692936Z",
     "start_time": "2024-06-13T08:29:45.682017Z"
    }
   },
   "cell_type": "code",
   "source": "df.sample(n=3)",
   "id": "96277c799df5c93e",
   "execution_count": 42,
   "outputs": []
  },
  {
   "metadata": {
    "ExecuteTime": {
     "end_time": "2024-06-13T08:30:15.679468Z",
     "start_time": "2024-06-13T08:30:15.674620Z"
    }
   },
   "cell_type": "code",
   "source": "choice = pd.Series([5, 7, -1, 6, 4])",
   "id": "2d1e03583179df3",
   "execution_count": 43,
   "outputs": []
  },
  {
   "metadata": {
    "ExecuteTime": {
     "end_time": "2024-06-13T08:30:29.464540Z",
     "start_time": "2024-06-13T08:30:29.454418Z"
    }
   },
   "cell_type": "code",
   "source": "choice.sample(n=10, replace=True)",
   "id": "5b54b6243aa0bde5",
   "execution_count": 44,
   "outputs": []
  },
  {
   "metadata": {
    "ExecuteTime": {
     "end_time": "2024-06-13T08:31:22.314717Z",
     "start_time": "2024-06-13T08:31:22.305289Z"
    }
   },
   "cell_type": "code",
   "source": [
    "df = pd.DataFrame({\"key\": [\"b\", \"b\", \"a\", \"c\", \"a\", \"b\"],\n",
    "                   \"data1\": range(6)})"
   ],
   "id": "b9326dd0e304ec2d",
   "execution_count": 45,
   "outputs": []
  },
  {
   "metadata": {
    "ExecuteTime": {
     "end_time": "2024-06-13T08:31:23.470748Z",
     "start_time": "2024-06-13T08:31:23.466611Z"
    }
   },
   "cell_type": "code",
   "source": "df",
   "id": "c7a210b1d546282b",
   "execution_count": 46,
   "outputs": []
  },
  {
   "metadata": {
    "ExecuteTime": {
     "end_time": "2024-06-13T08:31:38.336068Z",
     "start_time": "2024-06-13T08:31:38.301553Z"
    }
   },
   "cell_type": "code",
   "source": "pd.get_dummies(df[\"key\"])",
   "id": "74ec15b30ad9b3a5",
   "execution_count": 47,
   "outputs": []
  },
  {
   "metadata": {
    "ExecuteTime": {
     "end_time": "2024-06-13T08:32:39.919251Z",
     "start_time": "2024-06-13T08:32:39.894775Z"
    }
   },
   "cell_type": "code",
   "source": "dummies = pd.get_dummies(df[\"key\"], prefix=\"key\")",
   "id": "d49a5078387c8741",
   "execution_count": 48,
   "outputs": []
  },
  {
   "metadata": {
    "ExecuteTime": {
     "end_time": "2024-06-13T08:33:03.132705Z",
     "start_time": "2024-06-13T08:33:03.090228Z"
    }
   },
   "cell_type": "code",
   "source": "df_with_dummy = df[[\"data1\"]].join(dummies)",
   "id": "2c18ea0f8b53b042",
   "execution_count": 49,
   "outputs": []
  },
  {
   "metadata": {
    "ExecuteTime": {
     "end_time": "2024-06-13T08:33:06.540249Z",
     "start_time": "2024-06-13T08:33:06.535425Z"
    }
   },
   "cell_type": "code",
   "source": "df_with_dummy",
   "id": "4c4eec81bb6d5fee",
   "execution_count": 50,
   "outputs": []
  },
  {
   "metadata": {
    "ExecuteTime": {
     "end_time": "2024-06-13T08:35:04.027002Z",
     "start_time": "2024-06-13T08:35:04.023200Z"
    }
   },
   "cell_type": "code",
   "source": "mnames = [\"movie_id\", \"title\", \"genres\"]",
   "id": "b3ea3fc8a6021508",
   "execution_count": 51,
   "outputs": []
  },
  {
   "metadata": {
    "ExecuteTime": {
     "end_time": "2024-06-13T08:36:05.942251Z",
     "start_time": "2024-06-13T08:36:05.907812Z"
    }
   },
   "cell_type": "code",
   "source": [
    "movies = pd.read_table(\"datasets/movielens/movies.dat\", sep=\"::\",\n",
    "                       header=None, names=mnames, engine=\"python\")"
   ],
   "id": "783991641e5e9d94",
   "execution_count": 52,
   "outputs": []
  },
  {
   "metadata": {
    "ExecuteTime": {
     "end_time": "2024-06-13T08:36:12.336803Z",
     "start_time": "2024-06-13T08:36:12.309498Z"
    }
   },
   "cell_type": "code",
   "source": "movies[:10]",
   "id": "cbb1e1d982e0602b",
   "execution_count": 53,
   "outputs": []
  },
  {
   "metadata": {
    "ExecuteTime": {
     "end_time": "2024-06-13T08:36:55.093669Z",
     "start_time": "2024-06-13T08:36:55.057547Z"
    }
   },
   "cell_type": "code",
   "source": "dummies = movies[\"genres\"].str.get_dummies(\"|\")",
   "id": "ef30662e49a5f643",
   "execution_count": 54,
   "outputs": []
  },
  {
   "metadata": {
    "ExecuteTime": {
     "end_time": "2024-06-13T08:37:10.834990Z",
     "start_time": "2024-06-13T08:37:10.825344Z"
    }
   },
   "cell_type": "code",
   "source": "dummies.iloc[:10, :6]",
   "id": "25de0fae86bef0ba",
   "execution_count": 55,
   "outputs": []
  },
  {
   "metadata": {
    "ExecuteTime": {
     "end_time": "2024-06-13T08:38:18.787266Z",
     "start_time": "2024-06-13T08:38:18.779662Z"
    }
   },
   "cell_type": "code",
   "source": "movies_windic = movies.join(dummies.add_prefix(\"Genre_\"))",
   "id": "7dda97fbb5a52c2f",
   "execution_count": 56,
   "outputs": []
  },
  {
   "metadata": {
    "ExecuteTime": {
     "end_time": "2024-06-13T08:38:28.268282Z",
     "start_time": "2024-06-13T08:38:28.260339Z"
    }
   },
   "cell_type": "code",
   "source": "movies_windic.iloc[0]",
   "id": "f60d31e818092fe9",
   "execution_count": 57,
   "outputs": []
  },
  {
   "metadata": {
    "ExecuteTime": {
     "end_time": "2024-06-13T08:39:31.757652Z",
     "start_time": "2024-06-13T08:39:31.753161Z"
    }
   },
   "cell_type": "code",
   "source": "np.random.seed(12345)",
   "id": "26fe0c53821f6956",
   "execution_count": 59,
   "outputs": []
  },
  {
   "metadata": {
    "ExecuteTime": {
     "end_time": "2024-06-13T08:39:46.803696Z",
     "start_time": "2024-06-13T08:39:46.798679Z"
    }
   },
   "cell_type": "code",
   "source": "values = np.random.uniform(size=10)",
   "id": "73377c48c4e49f88",
   "execution_count": 60,
   "outputs": []
  },
  {
   "metadata": {
    "ExecuteTime": {
     "end_time": "2024-06-13T08:39:50.188539Z",
     "start_time": "2024-06-13T08:39:50.185750Z"
    }
   },
   "cell_type": "code",
   "source": "values",
   "id": "4ef77cbb19d0b6de",
   "execution_count": 61,
   "outputs": []
  },
  {
   "metadata": {
    "ExecuteTime": {
     "end_time": "2024-06-13T08:40:10.568675Z",
     "start_time": "2024-06-13T08:40:10.563800Z"
    }
   },
   "cell_type": "code",
   "source": "bins = [0, 0.2, 0.4, 0.6, 0.8, 1.0]",
   "id": "8f964d86ed65bea5",
   "execution_count": 62,
   "outputs": []
  },
  {
   "metadata": {
    "ExecuteTime": {
     "end_time": "2024-06-13T08:40:21.000879Z",
     "start_time": "2024-06-13T08:40:20.986353Z"
    }
   },
   "cell_type": "code",
   "source": "pd.get_dummies(pd.cut(values, bins))",
   "id": "deda8bb914674f08",
   "execution_count": 63,
   "outputs": []
  },
  {
   "metadata": {
    "ExecuteTime": {
     "end_time": "2024-06-13T08:41:21.322621Z",
     "start_time": "2024-06-13T08:41:21.311586Z"
    }
   },
   "cell_type": "code",
   "source": "s = pd.Series([1, 2, 3, None])",
   "id": "4e47fe89fc44d343",
   "execution_count": 64,
   "outputs": []
  },
  {
   "metadata": {
    "ExecuteTime": {
     "end_time": "2024-06-13T08:41:22.398033Z",
     "start_time": "2024-06-13T08:41:22.394652Z"
    }
   },
   "cell_type": "code",
   "source": "s",
   "id": "fb1d0939ad6f3234",
   "execution_count": 65,
   "outputs": []
  },
  {
   "metadata": {
    "ExecuteTime": {
     "end_time": "2024-06-13T08:41:37.273704Z",
     "start_time": "2024-06-13T08:41:37.270347Z"
    }
   },
   "cell_type": "code",
   "source": "s.dtype",
   "id": "ebe324b0cf76bca2",
   "execution_count": 66,
   "outputs": []
  },
  {
   "metadata": {
    "ExecuteTime": {
     "end_time": "2024-06-13T08:42:05.411749Z",
     "start_time": "2024-06-13T08:42:05.406686Z"
    }
   },
   "cell_type": "code",
   "source": "s = pd.Series([1, 2, 3, None], dtype=pd.Int64Dtype())",
   "id": "6845fce82cb9c8a2",
   "execution_count": 67,
   "outputs": []
  },
  {
   "metadata": {
    "ExecuteTime": {
     "end_time": "2024-06-13T08:42:07.265387Z",
     "start_time": "2024-06-13T08:42:07.262344Z"
    }
   },
   "cell_type": "code",
   "source": "s",
   "id": "8b6c6b5632b3b46a",
   "execution_count": 68,
   "outputs": []
  },
  {
   "metadata": {
    "ExecuteTime": {
     "end_time": "2024-06-13T08:42:14.800113Z",
     "start_time": "2024-06-13T08:42:14.795641Z"
    }
   },
   "cell_type": "code",
   "source": "s.isna()",
   "id": "6b34d9024a08bb69",
   "execution_count": 69,
   "outputs": []
  },
  {
   "metadata": {
    "ExecuteTime": {
     "end_time": "2024-06-13T08:42:23.018068Z",
     "start_time": "2024-06-13T08:42:23.014958Z"
    }
   },
   "cell_type": "code",
   "source": "s.dtype",
   "id": "297be9679b3897eb",
   "execution_count": 70,
   "outputs": []
  },
  {
   "metadata": {
    "ExecuteTime": {
     "end_time": "2024-06-13T08:42:29.170716Z",
     "start_time": "2024-06-13T08:42:29.165277Z"
    }
   },
   "cell_type": "code",
   "source": "s[3]",
   "id": "ae4bc2f72cbf87f6",
   "execution_count": 71,
   "outputs": []
  },
  {
   "metadata": {
    "ExecuteTime": {
     "end_time": "2024-06-13T08:42:39.163543Z",
     "start_time": "2024-06-13T08:42:39.160159Z"
    }
   },
   "cell_type": "code",
   "source": "s[3] is pd.NA",
   "id": "b8ec5a75a01580d6",
   "execution_count": 72,
   "outputs": []
  },
  {
   "metadata": {
    "ExecuteTime": {
     "end_time": "2024-06-13T08:43:06.114849Z",
     "start_time": "2024-06-13T08:43:06.109246Z"
    }
   },
   "cell_type": "code",
   "source": "s = pd.Series([1, 2, 3, None], dtype=\"Int64\")",
   "id": "7a1429711c11d8c4",
   "execution_count": 73,
   "outputs": []
  },
  {
   "metadata": {
    "ExecuteTime": {
     "end_time": "2024-06-13T08:44:41.492528Z",
     "start_time": "2024-06-13T08:44:41.487157Z"
    }
   },
   "cell_type": "code",
   "source": "s = pd.Series([\"one\", \"two\", None, \"three\"], dtype=pd.StringDtype())",
   "id": "b0e23699aa15d63e",
   "execution_count": 77,
   "outputs": []
  },
  {
   "metadata": {
    "ExecuteTime": {
     "end_time": "2024-06-13T08:44:43.241956Z",
     "start_time": "2024-06-13T08:44:43.238727Z"
    }
   },
   "cell_type": "code",
   "source": "s",
   "id": "be2cbaa2e81b93ae",
   "execution_count": 78,
   "outputs": []
  },
  {
   "metadata": {
    "ExecuteTime": {
     "end_time": "2024-06-13T08:44:45.652657Z",
     "start_time": "2024-06-13T08:44:45.648909Z"
    }
   },
   "cell_type": "code",
   "source": "s.dtype",
   "id": "f5d4c2b092164f09",
   "execution_count": 79,
   "outputs": []
  },
  {
   "metadata": {
    "ExecuteTime": {
     "end_time": "2024-06-13T08:48:26.193083Z",
     "start_time": "2024-06-13T08:48:26.188014Z"
    }
   },
   "cell_type": "code",
   "source": [
    "df = pd.DataFrame({\"A\": [1, 2, None, 4],\n",
    "                   \"B\": [\"one\", \"two\", \"three\", None],\n",
    "                   \"C\": [False, None, False, True]})"
   ],
   "id": "c39fc5995d412f0f",
   "execution_count": 80,
   "outputs": []
  },
  {
   "metadata": {
    "ExecuteTime": {
     "end_time": "2024-06-13T08:48:28.131895Z",
     "start_time": "2024-06-13T08:48:28.127282Z"
    }
   },
   "cell_type": "code",
   "source": "df",
   "id": "61affa726de521ff",
   "execution_count": 81,
   "outputs": []
  },
  {
   "metadata": {
    "ExecuteTime": {
     "end_time": "2024-06-13T08:49:12.584091Z",
     "start_time": "2024-06-13T08:49:12.577047Z"
    }
   },
   "cell_type": "code",
   "source": "df[\"A\"] = df[\"A\"].astype(\"Int64\")",
   "id": "43a4aa2974b86ed2",
   "execution_count": 82,
   "outputs": []
  },
  {
   "metadata": {
    "ExecuteTime": {
     "end_time": "2024-06-13T08:50:50.864095Z",
     "start_time": "2024-06-13T08:50:50.853843Z"
    }
   },
   "cell_type": "code",
   "source": "df[\"B\"] = df[\"B\"].astype(\"string\")",
   "id": "9f1d749fb31a2a6e",
   "execution_count": 83,
   "outputs": []
  },
  {
   "metadata": {
    "ExecuteTime": {
     "end_time": "2024-06-13T08:52:00.396396Z",
     "start_time": "2024-06-13T08:52:00.383626Z"
    }
   },
   "cell_type": "code",
   "source": "df[\"C\"] = df[\"C\"].astype(\"boolean\")",
   "id": "179739fabc0c9912",
   "execution_count": 84,
   "outputs": []
  },
  {
   "metadata": {
    "ExecuteTime": {
     "end_time": "2024-06-13T08:52:04.120791Z",
     "start_time": "2024-06-13T08:52:04.116265Z"
    }
   },
   "cell_type": "code",
   "source": "df",
   "id": "d4e2ef43e90f8777",
   "execution_count": 85,
   "outputs": []
  },
  {
   "metadata": {
    "ExecuteTime": {
     "end_time": "2024-06-13T08:53:21.577943Z",
     "start_time": "2024-06-13T08:53:21.574513Z"
    }
   },
   "cell_type": "code",
   "source": "val = \"a,b, guido\"",
   "id": "3c0f17bd8b8ca549",
   "execution_count": 86,
   "outputs": []
  },
  {
   "metadata": {
    "ExecuteTime": {
     "end_time": "2024-06-13T08:53:27.667921Z",
     "start_time": "2024-06-13T08:53:27.665133Z"
    }
   },
   "cell_type": "code",
   "source": "val.split(\",\")",
   "id": "82e806a9f1106c39",
   "execution_count": 87,
   "outputs": []
  },
  {
   "metadata": {
    "ExecuteTime": {
     "end_time": "2024-06-13T08:53:58.133289Z",
     "start_time": "2024-06-13T08:53:58.125863Z"
    }
   },
   "cell_type": "code",
   "source": "pieces = [x.strip() for x in val.split(\",\")]",
   "id": "d1e2ff3157931dde",
   "execution_count": 88,
   "outputs": []
  },
  {
   "metadata": {
    "ExecuteTime": {
     "end_time": "2024-06-13T08:54:00.069Z",
     "start_time": "2024-06-13T08:54:00.066317Z"
    }
   },
   "cell_type": "code",
   "source": "pieces",
   "id": "4e4488b486a7e38",
   "execution_count": 89,
   "outputs": []
  },
  {
   "metadata": {
    "ExecuteTime": {
     "end_time": "2024-06-13T08:54:21.423261Z",
     "start_time": "2024-06-13T08:54:21.419538Z"
    }
   },
   "cell_type": "code",
   "source": "first, second, third = pieces",
   "id": "205c92d817d4e095",
   "execution_count": 90,
   "outputs": []
  },
  {
   "metadata": {
    "ExecuteTime": {
     "end_time": "2024-06-13T08:54:47.675108Z",
     "start_time": "2024-06-13T08:54:47.670328Z"
    }
   },
   "cell_type": "code",
   "source": "first + \"::\" + second + \"::\" + third",
   "id": "a956a361ce1b94be",
   "execution_count": 91,
   "outputs": []
  },
  {
   "metadata": {
    "ExecuteTime": {
     "end_time": "2024-06-13T08:55:02.258772Z",
     "start_time": "2024-06-13T08:55:02.253746Z"
    }
   },
   "cell_type": "code",
   "source": "\"::\".join(pieces)",
   "id": "b3b9b3cde21cf331",
   "execution_count": 92,
   "outputs": []
  },
  {
   "metadata": {
    "ExecuteTime": {
     "end_time": "2024-06-13T08:55:30.500866Z",
     "start_time": "2024-06-13T08:55:30.496163Z"
    }
   },
   "cell_type": "code",
   "source": "\"guido\" in val",
   "id": "319ca346998d0bc6",
   "execution_count": 93,
   "outputs": []
  },
  {
   "metadata": {
    "ExecuteTime": {
     "end_time": "2024-06-13T08:55:36.784139Z",
     "start_time": "2024-06-13T08:55:36.781174Z"
    }
   },
   "cell_type": "code",
   "source": "val.index(\",\")",
   "id": "3f009f40e8da822a",
   "execution_count": 94,
   "outputs": []
  },
  {
   "metadata": {
    "ExecuteTime": {
     "end_time": "2024-06-13T08:55:45.097627Z",
     "start_time": "2024-06-13T08:55:45.080031Z"
    }
   },
   "cell_type": "code",
   "source": "val.find(\":\")",
   "id": "816f0fbcbe85d83c",
   "execution_count": 95,
   "outputs": []
  },
  {
   "metadata": {
    "ExecuteTime": {
     "end_time": "2024-06-13T08:55:52.970581Z",
     "start_time": "2024-06-13T08:55:52.944513Z"
    }
   },
   "cell_type": "code",
   "source": "val.index(\":\")",
   "id": "a28704c9a4f17509",
   "execution_count": 96,
   "outputs": []
  },
  {
   "metadata": {
    "ExecuteTime": {
     "end_time": "2024-06-13T08:57:24.043411Z",
     "start_time": "2024-06-13T08:57:24.038771Z"
    }
   },
   "cell_type": "code",
   "source": "val.count(\",\")",
   "id": "67763ccd2742396f",
   "execution_count": 97,
   "outputs": []
  },
  {
   "metadata": {
    "ExecuteTime": {
     "end_time": "2024-06-13T08:57:35.909326Z",
     "start_time": "2024-06-13T08:57:35.903889Z"
    }
   },
   "cell_type": "code",
   "source": "val.replace(\",\", \"::\")",
   "id": "1db20a72b3c6eb7e",
   "execution_count": 98,
   "outputs": []
  },
  {
   "metadata": {
    "ExecuteTime": {
     "end_time": "2024-06-13T08:57:46.476930Z",
     "start_time": "2024-06-13T08:57:46.472553Z"
    }
   },
   "cell_type": "code",
   "source": "val.replace(\",\", \"\")",
   "id": "ac2cbbc6b07ad415",
   "execution_count": 99,
   "outputs": []
  },
  {
   "metadata": {
    "ExecuteTime": {
     "end_time": "2024-06-13T08:57:56.185239Z",
     "start_time": "2024-06-13T08:57:56.182651Z"
    }
   },
   "cell_type": "code",
   "source": "val",
   "id": "1b6b4b062248827d",
   "execution_count": 100,
   "outputs": []
  },
  {
   "metadata": {
    "ExecuteTime": {
     "end_time": "2024-06-13T09:01:43.802933Z",
     "start_time": "2024-06-13T09:01:43.799076Z"
    }
   },
   "cell_type": "code",
   "source": "import re",
   "id": "5f9ae5d653a14620",
   "execution_count": 101,
   "outputs": []
  },
  {
   "metadata": {
    "ExecuteTime": {
     "end_time": "2024-06-13T09:02:14.706943Z",
     "start_time": "2024-06-13T09:02:14.702923Z"
    }
   },
   "cell_type": "code",
   "source": "text = \"foo     bar\\t baz   \\tqux\"",
   "id": "a3bfb1a8de916991",
   "execution_count": 102,
   "outputs": []
  },
  {
   "metadata": {
    "ExecuteTime": {
     "end_time": "2024-06-13T09:02:27.889364Z",
     "start_time": "2024-06-13T09:02:27.870482Z"
    }
   },
   "cell_type": "code",
   "source": "re.split(r\"\\s+\", text)",
   "id": "870e3d9a7ccc02ac",
   "execution_count": 103,
   "outputs": []
  },
  {
   "metadata": {
    "ExecuteTime": {
     "end_time": "2024-06-13T09:02:52.599692Z",
     "start_time": "2024-06-13T09:02:52.595749Z"
    }
   },
   "cell_type": "code",
   "source": "regex = re.compile(r\"\\s+\")",
   "id": "8bcfb39bab5d01cc",
   "execution_count": 104,
   "outputs": []
  },
  {
   "metadata": {
    "ExecuteTime": {
     "end_time": "2024-06-13T09:03:01.297623Z",
     "start_time": "2024-06-13T09:03:01.292832Z"
    }
   },
   "cell_type": "code",
   "source": "regex.split(text)",
   "id": "6bcf166c33bce8bd",
   "execution_count": 105,
   "outputs": []
  },
  {
   "metadata": {
    "ExecuteTime": {
     "end_time": "2024-06-13T09:03:12.495834Z",
     "start_time": "2024-06-13T09:03:12.483535Z"
    }
   },
   "cell_type": "code",
   "source": "regex.findall(text)",
   "id": "41c289d384c8489d",
   "execution_count": 106,
   "outputs": []
  },
  {
   "metadata": {
    "ExecuteTime": {
     "end_time": "2024-06-13T09:05:27.131953Z",
     "start_time": "2024-06-13T09:05:27.121608Z"
    }
   },
   "cell_type": "code",
   "source": [
    "text = \"\"\"Dave dave@google.com\n",
    "Steve steve@gmail.com\n",
    "Rob rob@gmail.com\n",
    "Ryan ryan@yahoo.com\n",
    "\"\"\"\n",
    "pattern = r\"[A-Z0-9._%+-]+@[A-Z0-9.-]+\\.[A-Z]{2,4}\""
   ],
   "id": "f8a093028f374bbb",
   "execution_count": 107,
   "outputs": []
  },
  {
   "metadata": {
    "ExecuteTime": {
     "end_time": "2024-06-13T09:09:39.820617Z",
     "start_time": "2024-06-13T09:09:39.817562Z"
    }
   },
   "cell_type": "code",
   "source": "regex = re.compile(pattern, flags=re.IGNORECASE)",
   "id": "39d39efc480ab225",
   "execution_count": 122,
   "outputs": []
  },
  {
   "metadata": {
    "ExecuteTime": {
     "end_time": "2024-06-13T09:05:57.959707Z",
     "start_time": "2024-06-13T09:05:57.953422Z"
    }
   },
   "cell_type": "code",
   "source": "regex.findall(text)",
   "id": "17f6a381d4f602be",
   "execution_count": 109,
   "outputs": []
  },
  {
   "metadata": {
    "ExecuteTime": {
     "end_time": "2024-06-13T09:06:36.787647Z",
     "start_time": "2024-06-13T09:06:36.783901Z"
    }
   },
   "cell_type": "code",
   "source": "m = regex.search(text)",
   "id": "63f4e18103bc117",
   "execution_count": 110,
   "outputs": []
  },
  {
   "metadata": {
    "ExecuteTime": {
     "end_time": "2024-06-13T09:06:38.626457Z",
     "start_time": "2024-06-13T09:06:38.623776Z"
    }
   },
   "cell_type": "code",
   "source": "m",
   "id": "a0029bcddff8a634",
   "execution_count": 111,
   "outputs": []
  },
  {
   "metadata": {
    "ExecuteTime": {
     "end_time": "2024-06-13T09:07:04.679771Z",
     "start_time": "2024-06-13T09:07:04.671227Z"
    }
   },
   "cell_type": "code",
   "source": "text[m.start():m.end()]",
   "id": "a45f7b707c0d1123",
   "execution_count": 112,
   "outputs": []
  },
  {
   "metadata": {
    "ExecuteTime": {
     "end_time": "2024-06-13T09:07:19.955755Z",
     "start_time": "2024-06-13T09:07:19.951980Z"
    }
   },
   "cell_type": "code",
   "source": "print(regex.match(text))",
   "id": "8eda6fa970d23032",
   "execution_count": 113,
   "outputs": []
  },
  {
   "metadata": {
    "ExecuteTime": {
     "end_time": "2024-06-13T09:07:41.655314Z",
     "start_time": "2024-06-13T09:07:41.651419Z"
    }
   },
   "cell_type": "code",
   "source": "print(regex.sub(\"REDACTED\", text))",
   "id": "8a661e281bab82da",
   "execution_count": 114,
   "outputs": []
  },
  {
   "metadata": {
    "ExecuteTime": {
     "end_time": "2024-06-13T09:13:29.230835Z",
     "start_time": "2024-06-13T09:13:29.227042Z"
    }
   },
   "cell_type": "code",
   "source": [
    "pattern = r\"([A-Z0-9._%+-]+)@([A-Z0-9.-]+)\\.([A-Z]{2,4})\"\n",
    "regex = re.compile(pattern, flags=re.IGNORECASE)"
   ],
   "id": "cf23d1ed0493c69c",
   "execution_count": 134,
   "outputs": []
  },
  {
   "metadata": {
    "ExecuteTime": {
     "end_time": "2024-06-13T09:13:40.575231Z",
     "start_time": "2024-06-13T09:13:40.571389Z"
    }
   },
   "cell_type": "code",
   "source": "m = regex.match(\"wesm@bright.net\")",
   "id": "7c361aa0d430ee7e",
   "execution_count": 135,
   "outputs": []
  },
  {
   "metadata": {
    "ExecuteTime": {
     "end_time": "2024-06-13T09:13:41.642214Z",
     "start_time": "2024-06-13T09:13:41.639139Z"
    }
   },
   "cell_type": "code",
   "source": "m.groups()",
   "id": "198adb192f0171c6",
   "execution_count": 136,
   "outputs": []
  },
  {
   "metadata": {
    "ExecuteTime": {
     "end_time": "2024-06-13T09:13:57.114254Z",
     "start_time": "2024-06-13T09:13:57.108824Z"
    }
   },
   "cell_type": "code",
   "source": "regex.findall(text)",
   "id": "283eabeb17559e20",
   "execution_count": 137,
   "outputs": []
  },
  {
   "metadata": {
    "ExecuteTime": {
     "end_time": "2024-06-13T09:14:53.695679Z",
     "start_time": "2024-06-13T09:14:53.688732Z"
    }
   },
   "cell_type": "code",
   "source": "print(regex.sub(r\"Username: \\1, Domain: \\2, Suffix: \\3\", text))",
   "id": "5472b58e328e3114",
   "execution_count": 138,
   "outputs": []
  },
  {
   "metadata": {
    "ExecuteTime": {
     "end_time": "2024-06-13T09:16:55.886080Z",
     "start_time": "2024-06-13T09:16:55.881718Z"
    }
   },
   "cell_type": "code",
   "source": [
    "data = {\"Dave\": \"dave@google.com\", \"Steve\": \"steve@gmail.com\",\n",
    "        \"Rob\": \"rob@gmail.com\", \"Wes\": np.nan}"
   ],
   "id": "9197f233339f1661",
   "execution_count": 139,
   "outputs": []
  },
  {
   "metadata": {
    "ExecuteTime": {
     "end_time": "2024-06-13T09:17:04.039325Z",
     "start_time": "2024-06-13T09:17:04.025615Z"
    }
   },
   "cell_type": "code",
   "source": "data = pd.Series(data)",
   "id": "b651e97de45f0305",
   "execution_count": 140,
   "outputs": []
  },
  {
   "metadata": {
    "ExecuteTime": {
     "end_time": "2024-06-13T09:17:05.856435Z",
     "start_time": "2024-06-13T09:17:05.853041Z"
    }
   },
   "cell_type": "code",
   "source": "data",
   "id": "a2a633947673b15e",
   "execution_count": 141,
   "outputs": []
  },
  {
   "metadata": {
    "ExecuteTime": {
     "end_time": "2024-06-13T09:17:15.853583Z",
     "start_time": "2024-06-13T09:17:15.835523Z"
    }
   },
   "cell_type": "code",
   "source": "data.isna()",
   "id": "644290c9744ed418",
   "execution_count": 142,
   "outputs": []
  },
  {
   "metadata": {
    "ExecuteTime": {
     "end_time": "2024-06-13T09:17:35.039792Z",
     "start_time": "2024-06-13T09:17:35.027139Z"
    }
   },
   "cell_type": "code",
   "source": "data.str.contains(\"gmail\")",
   "id": "e7d516462242f0aa",
   "execution_count": 143,
   "outputs": []
  },
  {
   "metadata": {
    "ExecuteTime": {
     "end_time": "2024-06-13T09:17:57.789949Z",
     "start_time": "2024-06-13T09:17:57.780931Z"
    }
   },
   "cell_type": "code",
   "source": "data_as_string_ext = data.astype(\"string\")",
   "id": "99d1c6095fb6dfa7",
   "execution_count": 144,
   "outputs": []
  },
  {
   "metadata": {
    "ExecuteTime": {
     "end_time": "2024-06-13T09:18:03.885634Z",
     "start_time": "2024-06-13T09:18:03.881760Z"
    }
   },
   "cell_type": "code",
   "source": "data_as_string_ext",
   "id": "41bdbf19e7e0cbff",
   "execution_count": 145,
   "outputs": []
  },
  {
   "metadata": {
    "ExecuteTime": {
     "end_time": "2024-06-13T09:18:34.951114Z",
     "start_time": "2024-06-13T09:18:34.937677Z"
    }
   },
   "cell_type": "code",
   "source": "data_as_string_ext.str.contains(\"gmail\")",
   "id": "e1323a41336be329",
   "execution_count": 146,
   "outputs": []
  },
  {
   "metadata": {
    "ExecuteTime": {
     "end_time": "2024-06-13T09:19:33.660053Z",
     "start_time": "2024-06-13T09:19:33.655797Z"
    }
   },
   "cell_type": "code",
   "source": "pattern = r\"([A-Z0-9._%+-]+)@([A-Z0-9.-]+)\\.([A-Z]{2,4})\"",
   "id": "4a630204d4c99e0c",
   "execution_count": 147,
   "outputs": []
  },
  {
   "metadata": {
    "ExecuteTime": {
     "end_time": "2024-06-13T09:19:46.871704Z",
     "start_time": "2024-06-13T09:19:46.859260Z"
    }
   },
   "cell_type": "code",
   "source": "data.str.findall(pattern, flags=re.IGNORECASE)",
   "id": "ebe4552c01f48de7",
   "execution_count": 148,
   "outputs": []
  },
  {
   "metadata": {
    "ExecuteTime": {
     "end_time": "2024-06-13T09:20:34.891153Z",
     "start_time": "2024-06-13T09:20:34.882223Z"
    }
   },
   "cell_type": "code",
   "source": "matches = data.str.findall(pattern, flags=re.IGNORECASE).str[0]",
   "id": "c6ff1ae8a9d49e9",
   "execution_count": 149,
   "outputs": []
  },
  {
   "metadata": {
    "ExecuteTime": {
     "end_time": "2024-06-13T09:20:39.052097Z",
     "start_time": "2024-06-13T09:20:39.048396Z"
    }
   },
   "cell_type": "code",
   "source": "matches",
   "id": "4f532dfdc928072f",
   "execution_count": 150,
   "outputs": []
  },
  {
   "metadata": {
    "ExecuteTime": {
     "end_time": "2024-06-13T09:21:24.894866Z",
     "start_time": "2024-06-13T09:21:24.887125Z"
    }
   },
   "cell_type": "code",
   "source": "matches.str.get(1)",
   "id": "bea1fb9563c75578",
   "execution_count": 151,
   "outputs": []
  },
  {
   "metadata": {
    "ExecuteTime": {
     "end_time": "2024-06-13T09:21:42.785514Z",
     "start_time": "2024-06-13T09:21:42.764613Z"
    }
   },
   "cell_type": "code",
   "source": "data.str[:5]",
   "id": "c6879905e1296396",
   "execution_count": 152,
   "outputs": []
  },
  {
   "metadata": {
    "ExecuteTime": {
     "end_time": "2024-06-13T09:21:48.568554Z",
     "start_time": "2024-06-13T09:21:48.565287Z"
    }
   },
   "cell_type": "code",
   "source": "data",
   "id": "fde5404a5af6a4bf",
   "execution_count": 153,
   "outputs": []
  },
  {
   "metadata": {
    "ExecuteTime": {
     "end_time": "2024-06-13T09:22:05.777478Z",
     "start_time": "2024-06-13T09:22:05.767275Z"
    }
   },
   "cell_type": "code",
   "source": "data.str.extract(pattern, flags=re.IGNORECASE)",
   "id": "9fc1cb15bc417c2a",
   "execution_count": 154,
   "outputs": []
  },
  {
   "metadata": {
    "ExecuteTime": {
     "end_time": "2024-06-13T09:23:10.797545Z",
     "start_time": "2024-06-13T09:23:10.791234Z"
    }
   },
   "cell_type": "code",
   "source": "\"Hello\" * 5",
   "id": "100fe47a75546b41",
   "execution_count": 155,
   "outputs": []
  },
  {
   "metadata": {
    "ExecuteTime": {
     "end_time": "2024-06-13T09:24:44.884121Z",
     "start_time": "2024-06-13T09:24:44.878846Z"
    }
   },
   "cell_type": "code",
   "source": "values = pd.Series([\"apple\", \"orange\", \"apple\", \"apple\"] * 2)",
   "id": "15815fe29e4cd697",
   "execution_count": 156,
   "outputs": []
  },
  {
   "metadata": {
    "ExecuteTime": {
     "end_time": "2024-06-13T09:24:47.872881Z",
     "start_time": "2024-06-13T09:24:47.869616Z"
    }
   },
   "cell_type": "code",
   "source": "values",
   "id": "28db884cd7766465",
   "execution_count": 157,
   "outputs": []
  },
  {
   "metadata": {
    "ExecuteTime": {
     "end_time": "2024-06-13T09:24:59.876892Z",
     "start_time": "2024-06-13T09:24:59.859713Z"
    }
   },
   "cell_type": "code",
   "source": "values.shape",
   "id": "e10c32951d9ea11",
   "execution_count": 158,
   "outputs": []
  },
  {
   "metadata": {
    "ExecuteTime": {
     "end_time": "2024-06-13T09:25:12.756434Z",
     "start_time": "2024-06-13T09:25:12.738064Z"
    }
   },
   "cell_type": "code",
   "source": "pd.unique(values)",
   "id": "ca1c98f91345cd6e",
   "execution_count": 159,
   "outputs": []
  },
  {
   "metadata": {
    "ExecuteTime": {
     "end_time": "2024-06-13T09:25:25.481522Z",
     "start_time": "2024-06-13T09:25:25.462764Z"
    }
   },
   "cell_type": "code",
   "source": "values.value_counts()",
   "id": "860e21ddd972c817",
   "execution_count": 160,
   "outputs": []
  },
  {
   "metadata": {
    "ExecuteTime": {
     "end_time": "2024-06-13T09:25:59.371360Z",
     "start_time": "2024-06-13T09:25:59.362295Z"
    }
   },
   "cell_type": "code",
   "source": "values = pd.Series([0, 1, 0, 0] * 2)",
   "id": "81a1999ea6cbd237",
   "execution_count": 161,
   "outputs": []
  },
  {
   "metadata": {
    "ExecuteTime": {
     "end_time": "2024-06-13T09:26:16.538318Z",
     "start_time": "2024-06-13T09:26:16.533049Z"
    }
   },
   "cell_type": "code",
   "source": "dim = pd.Series([\"apple\", \"orange\"])",
   "id": "6bfc4b481eefb1ef",
   "execution_count": 162,
   "outputs": []
  },
  {
   "metadata": {
    "ExecuteTime": {
     "end_time": "2024-06-13T09:26:19.786088Z",
     "start_time": "2024-06-13T09:26:19.782813Z"
    }
   },
   "cell_type": "code",
   "source": "values",
   "id": "475cec64504fb7c3",
   "execution_count": 163,
   "outputs": []
  },
  {
   "metadata": {
    "ExecuteTime": {
     "end_time": "2024-06-13T09:27:06.996827Z",
     "start_time": "2024-06-13T09:27:06.989925Z"
    }
   },
   "cell_type": "code",
   "source": "dim",
   "id": "ea6c564ce27a66c2",
   "execution_count": 164,
   "outputs": []
  },
  {
   "metadata": {
    "ExecuteTime": {
     "end_time": "2024-06-13T09:27:19.198420Z",
     "start_time": "2024-06-13T09:27:19.189587Z"
    }
   },
   "cell_type": "code",
   "source": "dim.take(values)",
   "id": "6e7c4cf97144cfe9",
   "execution_count": 165,
   "outputs": []
  },
  {
   "metadata": {
    "ExecuteTime": {
     "end_time": "2024-06-13T09:27:52.015350Z",
     "start_time": "2024-06-13T09:27:52.010933Z"
    }
   },
   "cell_type": "code",
   "source": "fruits = [\"apple\", \"orange\", \"apple\", \"apple\"] * 2",
   "id": "d21eaaa466331967",
   "execution_count": 166,
   "outputs": []
  },
  {
   "metadata": {
    "ExecuteTime": {
     "end_time": "2024-06-13T09:27:58.345604Z",
     "start_time": "2024-06-13T09:27:58.342877Z"
    }
   },
   "cell_type": "code",
   "source": "N = len(fruits)",
   "id": "2c5e3cc5d7ee30eb",
   "execution_count": 167,
   "outputs": []
  },
  {
   "metadata": {
    "ExecuteTime": {
     "end_time": "2024-06-13T09:28:14.212073Z",
     "start_time": "2024-06-13T09:28:14.205877Z"
    }
   },
   "cell_type": "code",
   "source": "rng = np.random.default_rng(seed=12345)",
   "id": "e6405a45abf3c025",
   "execution_count": 168,
   "outputs": []
  },
  {
   "metadata": {
    "ExecuteTime": {
     "end_time": "2024-06-13T09:30:42.242189Z",
     "start_time": "2024-06-13T09:30:42.232414Z"
    }
   },
   "cell_type": "code",
   "source": [
    "df = pd.DataFrame(\n",
    "    {\n",
    "        \"fruit\": fruits,\n",
    "        \"basket_id\": np.arange(N),\n",
    "        \"count\": rng.integers(3, 15, size=N),\n",
    "        \"weight\": rng.uniform(0, 4, size=N)\n",
    "    },\n",
    "    columns=[\"basket_id\", \"fruit\", \"count\", \"weight\"]\n",
    ")"
   ],
   "id": "78a2288d7983a580",
   "execution_count": 170,
   "outputs": []
  },
  {
   "metadata": {
    "ExecuteTime": {
     "end_time": "2024-06-13T09:30:45.619825Z",
     "start_time": "2024-06-13T09:30:45.613580Z"
    }
   },
   "cell_type": "code",
   "source": "df",
   "id": "f6c42b7717e678db",
   "execution_count": 171,
   "outputs": []
  },
  {
   "metadata": {
    "ExecuteTime": {
     "end_time": "2024-06-13T09:31:43.374180Z",
     "start_time": "2024-06-13T09:31:43.353046Z"
    }
   },
   "cell_type": "code",
   "source": "fruit_cat = df[\"fruit\"].astype(\"category\")",
   "id": "dbb804cd878ccc7",
   "execution_count": 172,
   "outputs": []
  },
  {
   "metadata": {
    "ExecuteTime": {
     "end_time": "2024-06-13T09:31:46.709552Z",
     "start_time": "2024-06-13T09:31:46.705554Z"
    }
   },
   "cell_type": "code",
   "source": "fruit_cat",
   "id": "cdef332855d54325",
   "execution_count": 173,
   "outputs": []
  },
  {
   "metadata": {
    "ExecuteTime": {
     "end_time": "2024-06-13T09:32:28.471830Z",
     "start_time": "2024-06-13T09:32:28.467727Z"
    }
   },
   "cell_type": "code",
   "source": "c = fruit_cat.array",
   "id": "8bb99d370bfa7cc0",
   "execution_count": 174,
   "outputs": []
  },
  {
   "metadata": {
    "ExecuteTime": {
     "end_time": "2024-06-13T09:32:34.198576Z",
     "start_time": "2024-06-13T09:32:34.195822Z"
    }
   },
   "cell_type": "code",
   "source": "type(c)",
   "id": "7f16a9d0a11d47ef",
   "execution_count": 175,
   "outputs": []
  },
  {
   "metadata": {
    "ExecuteTime": {
     "end_time": "2024-06-13T09:32:53.695984Z",
     "start_time": "2024-06-13T09:32:53.690255Z"
    }
   },
   "cell_type": "code",
   "source": "c.categories",
   "id": "aa6ed34ecfae49b3",
   "execution_count": 176,
   "outputs": []
  },
  {
   "metadata": {
    "ExecuteTime": {
     "end_time": "2024-06-13T09:33:01.762698Z",
     "start_time": "2024-06-13T09:33:01.760002Z"
    }
   },
   "cell_type": "code",
   "source": "c.codes",
   "id": "cacc8da89df613ae",
   "execution_count": 177,
   "outputs": []
  },
  {
   "metadata": {
    "ExecuteTime": {
     "end_time": "2024-06-13T09:33:50.357392Z",
     "start_time": "2024-06-13T09:33:50.352506Z"
    }
   },
   "cell_type": "code",
   "source": "dict(enumerate(c.categories))",
   "id": "73353f05af6e7ede",
   "execution_count": 178,
   "outputs": []
  },
  {
   "metadata": {
    "ExecuteTime": {
     "end_time": "2024-06-13T09:34:20.111647Z",
     "start_time": "2024-06-13T09:34:20.100274Z"
    }
   },
   "cell_type": "code",
   "source": "df[\"fruit\"] = df[\"fruit\"].astype(\"category\")",
   "id": "d9ed0fccc0f0c169",
   "execution_count": 179,
   "outputs": []
  },
  {
   "metadata": {
    "ExecuteTime": {
     "end_time": "2024-06-13T09:34:28.845896Z",
     "start_time": "2024-06-13T09:34:28.839297Z"
    }
   },
   "cell_type": "code",
   "source": "df[\"fruit\"]",
   "id": "1c08ee099cb211dd",
   "execution_count": 180,
   "outputs": []
  },
  {
   "metadata": {
    "ExecuteTime": {
     "end_time": "2024-06-13T09:35:08.082035Z",
     "start_time": "2024-06-13T09:35:08.076494Z"
    }
   },
   "cell_type": "code",
   "source": "my_categories = pd.Categorical([\"foo\", \"bar\", \"baz\", \"foo\", \"bar\"])",
   "id": "19c2a4e89c4f622e",
   "execution_count": 181,
   "outputs": []
  },
  {
   "metadata": {
    "ExecuteTime": {
     "end_time": "2024-06-13T09:35:10.348244Z",
     "start_time": "2024-06-13T09:35:10.344924Z"
    }
   },
   "cell_type": "code",
   "source": "my_categories",
   "id": "4d2489fba5ff8d27",
   "execution_count": 182,
   "outputs": []
  },
  {
   "metadata": {
    "ExecuteTime": {
     "end_time": "2024-06-13T09:35:36.808264Z",
     "start_time": "2024-06-13T09:35:36.803861Z"
    }
   },
   "cell_type": "code",
   "source": "categories = [\"foo\", \"bar\", \"baz\"]",
   "id": "59fca4afa50c5bd1",
   "execution_count": 183,
   "outputs": []
  },
  {
   "metadata": {
    "ExecuteTime": {
     "end_time": "2024-06-13T09:35:50.285972Z",
     "start_time": "2024-06-13T09:35:50.282290Z"
    }
   },
   "cell_type": "code",
   "source": "codes = [0, 1, 2, 0, 0, 1]",
   "id": "4ae9f2cddc96fbaa",
   "execution_count": 184,
   "outputs": []
  },
  {
   "metadata": {
    "ExecuteTime": {
     "end_time": "2024-06-13T09:36:13.593123Z",
     "start_time": "2024-06-13T09:36:13.587248Z"
    }
   },
   "cell_type": "code",
   "source": "my_cats_2 = pd.Categorical.from_codes(codes, categories)",
   "id": "822449d05d82e471",
   "execution_count": 185,
   "outputs": []
  },
  {
   "metadata": {
    "ExecuteTime": {
     "end_time": "2024-06-13T09:36:18.740409Z",
     "start_time": "2024-06-13T09:36:18.736530Z"
    }
   },
   "cell_type": "code",
   "source": "my_cats_2",
   "id": "44fac340a97839b2",
   "execution_count": 186,
   "outputs": []
  },
  {
   "metadata": {
    "ExecuteTime": {
     "end_time": "2024-06-13T09:36:48.905674Z",
     "start_time": "2024-06-13T09:36:48.895078Z"
    }
   },
   "cell_type": "code",
   "source": "ordered_cat = pd.Categorical.from_codes(codes, categories, ordered=True)",
   "id": "72db89e97c09f511",
   "execution_count": 187,
   "outputs": []
  },
  {
   "metadata": {
    "ExecuteTime": {
     "end_time": "2024-06-13T09:36:52.133836Z",
     "start_time": "2024-06-13T09:36:52.126503Z"
    }
   },
   "cell_type": "code",
   "source": "ordered_cat",
   "id": "6731cc4056df7f8b",
   "execution_count": 188,
   "outputs": []
  },
  {
   "metadata": {
    "ExecuteTime": {
     "end_time": "2024-06-13T09:37:06.149517Z",
     "start_time": "2024-06-13T09:37:06.141740Z"
    }
   },
   "cell_type": "code",
   "source": "my_cats_2.as_ordered()",
   "id": "aa9e083a391a0567",
   "execution_count": 189,
   "outputs": []
  },
  {
   "metadata": {
    "ExecuteTime": {
     "end_time": "2024-06-13T09:37:47.214821Z",
     "start_time": "2024-06-13T09:37:47.205484Z"
    }
   },
   "cell_type": "code",
   "source": "rng = np.random.default_rng(seed=12345)",
   "id": "8693de6c8e0600a4",
   "execution_count": 190,
   "outputs": []
  },
  {
   "metadata": {
    "ExecuteTime": {
     "end_time": "2024-06-13T09:38:01.113721Z",
     "start_time": "2024-06-13T09:38:01.108273Z"
    }
   },
   "cell_type": "code",
   "source": "draws = rng.standard_normal(1000)",
   "id": "2228a8a0f03e5872",
   "execution_count": 191,
   "outputs": []
  },
  {
   "metadata": {
    "ExecuteTime": {
     "end_time": "2024-06-13T09:38:09.394424Z",
     "start_time": "2024-06-13T09:38:09.388779Z"
    }
   },
   "cell_type": "code",
   "source": "draws[:5]",
   "id": "ffee80e0eeb1c615",
   "execution_count": 192,
   "outputs": []
  },
  {
   "metadata": {
    "ExecuteTime": {
     "end_time": "2024-06-13T09:38:26.941764Z",
     "start_time": "2024-06-13T09:38:26.928345Z"
    }
   },
   "cell_type": "code",
   "source": "bins = pd.qcut(draws, 4)",
   "id": "3832775691c3f798",
   "execution_count": 193,
   "outputs": []
  },
  {
   "metadata": {
    "ExecuteTime": {
     "end_time": "2024-06-13T09:38:30.367031Z",
     "start_time": "2024-06-13T09:38:30.363378Z"
    }
   },
   "cell_type": "code",
   "source": "bins",
   "id": "638282a129ee435f",
   "execution_count": 194,
   "outputs": []
  },
  {
   "metadata": {
    "ExecuteTime": {
     "end_time": "2024-06-13T09:39:10.551307Z",
     "start_time": "2024-06-13T09:39:10.542376Z"
    }
   },
   "cell_type": "code",
   "source": "bins = pd.qcut(draws, 4, labels=[\"Q1\", \"Q2\", \"Q3\", \"Q4\"])",
   "id": "22da34338ed53729",
   "execution_count": 195,
   "outputs": []
  },
  {
   "metadata": {
    "ExecuteTime": {
     "end_time": "2024-06-13T09:39:12.497014Z",
     "start_time": "2024-06-13T09:39:12.493763Z"
    }
   },
   "cell_type": "code",
   "source": "bins",
   "id": "cd88fe97b0a4f144",
   "execution_count": 196,
   "outputs": []
  },
  {
   "metadata": {
    "ExecuteTime": {
     "end_time": "2024-06-13T09:39:31.124866Z",
     "start_time": "2024-06-13T09:39:31.118587Z"
    }
   },
   "cell_type": "code",
   "source": "bins.codes[:10]",
   "id": "1daa299dfd14df3b",
   "execution_count": 197,
   "outputs": []
  },
  {
   "metadata": {
    "ExecuteTime": {
     "end_time": "2024-06-13T09:40:15.561565Z",
     "start_time": "2024-06-13T09:40:15.555178Z"
    }
   },
   "cell_type": "code",
   "source": "bins = pd.Series(bins, name=\"quartile\")",
   "id": "506c3627feeab1fb",
   "execution_count": 198,
   "outputs": []
  },
  {
   "metadata": {
    "ExecuteTime": {
     "end_time": "2024-06-13T09:41:32.570742Z",
     "start_time": "2024-06-13T09:41:32.538872Z"
    }
   },
   "cell_type": "code",
   "source": "results = (pd.Series(draws).groupby(bins).agg([\"count\", \"min\", \"max\"]).reset_index())",
   "id": "99227b7d270d6adf",
   "execution_count": 199,
   "outputs": []
  },
  {
   "metadata": {
    "ExecuteTime": {
     "end_time": "2024-06-13T09:42:07.777051Z",
     "start_time": "2024-06-13T09:42:07.749825Z"
    }
   },
   "cell_type": "code",
   "source": "results",
   "id": "e53bfe6a81c8e657",
   "execution_count": 200,
   "outputs": []
  },
  {
   "metadata": {
    "ExecuteTime": {
     "end_time": "2024-06-13T09:42:26.514542Z",
     "start_time": "2024-06-13T09:42:26.497566Z"
    }
   },
   "cell_type": "code",
   "source": "draws",
   "id": "6d0cb41424927f23",
   "execution_count": 201,
   "outputs": []
  },
  {
   "metadata": {
    "ExecuteTime": {
     "end_time": "2024-06-13T09:43:21.146050Z",
     "start_time": "2024-06-13T09:43:21.138869Z"
    }
   },
   "cell_type": "code",
   "source": "results[\"quartile\"]",
   "id": "dfc4063ce415472e",
   "execution_count": 202,
   "outputs": []
  },
  {
   "metadata": {
    "ExecuteTime": {
     "end_time": "2024-06-13T09:44:22.570936Z",
     "start_time": "2024-06-13T09:44:22.550434Z"
    }
   },
   "cell_type": "code",
   "source": "N = 10_000_000",
   "id": "c0be3603325c202e",
   "execution_count": 203,
   "outputs": []
  },
  {
   "metadata": {
    "ExecuteTime": {
     "end_time": "2024-06-13T09:45:02.239136Z",
     "start_time": "2024-06-13T09:45:02.230098Z"
    }
   },
   "cell_type": "code",
   "source": "labels = pd.Series([\"foo\", \"bar\", \"baz\", \"qux\" * (N//4)])",
   "id": "3c79d40963c695fc",
   "execution_count": 204,
   "outputs": []
  },
  {
   "metadata": {
    "ExecuteTime": {
     "end_time": "2024-06-13T09:45:15.302230Z",
     "start_time": "2024-06-13T09:45:15.258140Z"
    }
   },
   "cell_type": "code",
   "source": "categories = labels.astype('category')",
   "id": "7ae2729165c74083",
   "execution_count": 205,
   "outputs": []
  },
  {
   "metadata": {
    "ExecuteTime": {
     "end_time": "2024-06-13T09:45:17.510156Z",
     "start_time": "2024-06-13T09:45:17.487055Z"
    }
   },
   "cell_type": "code",
   "source": "categories",
   "id": "85369457de1379f8",
   "execution_count": 206,
   "outputs": []
  },
  {
   "metadata": {
    "ExecuteTime": {
     "end_time": "2024-06-13T09:45:47.146419Z",
     "start_time": "2024-06-13T09:45:47.130613Z"
    }
   },
   "cell_type": "code",
   "source": "labels.memory_usage(deep=True)",
   "id": "4d9b5b5d71720bd0",
   "execution_count": 207,
   "outputs": []
  },
  {
   "metadata": {
    "ExecuteTime": {
     "end_time": "2024-06-13T09:46:04.639988Z",
     "start_time": "2024-06-13T09:46:04.634480Z"
    }
   },
   "cell_type": "code",
   "source": "categories.memory_usage(deep=True)",
   "id": "ad2d9abd6f25830f",
   "execution_count": 208,
   "outputs": []
  },
  {
   "metadata": {
    "ExecuteTime": {
     "end_time": "2024-06-13T09:46:53.257541Z",
     "start_time": "2024-06-13T09:46:53.198715Z"
    }
   },
   "cell_type": "code",
   "source": "%time _ = labels.astype(\"category\")",
   "id": "42f7451fb6ab898e",
   "execution_count": 209,
   "outputs": []
  },
  {
   "metadata": {
    "ExecuteTime": {
     "end_time": "2024-06-13T09:47:27.891257Z",
     "start_time": "2024-06-13T09:47:23.923225Z"
    }
   },
   "cell_type": "code",
   "source": "%timeit labels.value_counts()",
   "id": "445e4008bfa36abd",
   "execution_count": 210,
   "outputs": []
  },
  {
   "metadata": {
    "ExecuteTime": {
     "end_time": "2024-06-13T09:47:46.700513Z",
     "start_time": "2024-06-13T09:47:40.546545Z"
    }
   },
   "cell_type": "code",
   "source": "%timeit categories.value_counts()",
   "id": "b7c2d1f64efe3018",
   "execution_count": 211,
   "outputs": []
  },
  {
   "metadata": {
    "ExecuteTime": {
     "end_time": "2024-06-13T09:48:10.871717Z",
     "start_time": "2024-06-13T09:48:10.863569Z"
    }
   },
   "cell_type": "code",
   "source": "s = pd.Series([\"a\", \"b\", \"c\", \"d\"] * 2)",
   "id": "ceca118294bb704f",
   "execution_count": 212,
   "outputs": []
  },
  {
   "metadata": {
    "ExecuteTime": {
     "end_time": "2024-06-13T09:48:29.441612Z",
     "start_time": "2024-06-13T09:48:29.421282Z"
    }
   },
   "cell_type": "code",
   "source": "cat_s = s.astype('category')",
   "id": "1ecce41a5199e8d6",
   "execution_count": 213,
   "outputs": []
  },
  {
   "metadata": {
    "ExecuteTime": {
     "end_time": "2024-06-13T09:48:33.595691Z",
     "start_time": "2024-06-13T09:48:33.591055Z"
    }
   },
   "cell_type": "code",
   "source": "cat_s",
   "id": "94e8852d921b204c",
   "execution_count": 214,
   "outputs": []
  },
  {
   "metadata": {
    "ExecuteTime": {
     "end_time": "2024-06-13T09:48:53.689655Z",
     "start_time": "2024-06-13T09:48:53.683398Z"
    }
   },
   "cell_type": "code",
   "source": "cat_s.cat.codes",
   "id": "74866d51f1c2f94",
   "execution_count": 215,
   "outputs": []
  },
  {
   "metadata": {
    "ExecuteTime": {
     "end_time": "2024-06-13T09:49:06.850943Z",
     "start_time": "2024-06-13T09:49:06.834951Z"
    }
   },
   "cell_type": "code",
   "source": "cat_s.cat.categories",
   "id": "8e4977879a4eccb",
   "execution_count": 216,
   "outputs": []
  },
  {
   "metadata": {
    "ExecuteTime": {
     "end_time": "2024-06-13T09:49:26.584493Z",
     "start_time": "2024-06-13T09:49:26.579920Z"
    }
   },
   "cell_type": "code",
   "source": "actual_categories = [\"a\", \"b\", \"c\", \"d\", \"e\"]",
   "id": "56671c61d5fde8b9",
   "execution_count": 217,
   "outputs": []
  },
  {
   "metadata": {
    "ExecuteTime": {
     "end_time": "2024-06-13T09:50:34.562470Z",
     "start_time": "2024-06-13T09:50:34.545799Z"
    }
   },
   "cell_type": "code",
   "source": "cat_s2 = cat_s.cat.set_categories(actual_categories)",
   "id": "ee807860d6a06799",
   "execution_count": 221,
   "outputs": []
  },
  {
   "metadata": {
    "ExecuteTime": {
     "end_time": "2024-06-13T09:50:39.684611Z",
     "start_time": "2024-06-13T09:50:39.679730Z"
    }
   },
   "cell_type": "code",
   "source": "cat_s2",
   "id": "ce5e0861f3d6e24",
   "execution_count": 222,
   "outputs": []
  },
  {
   "metadata": {
    "ExecuteTime": {
     "end_time": "2024-06-13T09:50:48.146719Z",
     "start_time": "2024-06-13T09:50:48.141123Z"
    }
   },
   "cell_type": "code",
   "source": "cat_s.value_counts()",
   "id": "57b4aad6404070b4",
   "execution_count": 223,
   "outputs": []
  },
  {
   "metadata": {
    "ExecuteTime": {
     "end_time": "2024-06-13T09:51:03.606863Z",
     "start_time": "2024-06-13T09:51:03.598450Z"
    }
   },
   "cell_type": "code",
   "source": "cat_s2.value_counts()",
   "id": "65b7389c26177ca5",
   "execution_count": 224,
   "outputs": []
  },
  {
   "metadata": {
    "ExecuteTime": {
     "end_time": "2024-06-13T09:51:25.876087Z",
     "start_time": "2024-06-13T09:51:25.860311Z"
    }
   },
   "cell_type": "code",
   "source": "cat_s3 = cat_s[cat_s.isin([\"a\", \"b\"])]",
   "id": "9594c03bfe805331",
   "execution_count": 225,
   "outputs": []
  },
  {
   "metadata": {
    "ExecuteTime": {
     "end_time": "2024-06-13T09:51:29.071560Z",
     "start_time": "2024-06-13T09:51:29.067697Z"
    }
   },
   "cell_type": "code",
   "source": "cat_s3",
   "id": "be5728b24114c2f5",
   "execution_count": 226,
   "outputs": []
  },
  {
   "metadata": {
    "ExecuteTime": {
     "end_time": "2024-06-13T09:51:50.893353Z",
     "start_time": "2024-06-13T09:51:50.885421Z"
    }
   },
   "cell_type": "code",
   "source": "cat_s3.cat.remove_unused_categories()",
   "id": "13dd757a655373a1",
   "execution_count": 227,
   "outputs": []
  },
  {
   "metadata": {
    "ExecuteTime": {
     "end_time": "2024-06-13T09:52:43.715384Z",
     "start_time": "2024-06-13T09:52:43.706164Z"
    }
   },
   "cell_type": "code",
   "source": "cat_s = pd.Series([\"a\", \"b\", \"c\", \"d\"] * 2, dtype='category')",
   "id": "56ba39f457155807",
   "execution_count": 228,
   "outputs": []
  },
  {
   "metadata": {
    "ExecuteTime": {
     "end_time": "2024-06-13T09:52:52.012703Z",
     "start_time": "2024-06-13T09:52:52.002184Z"
    }
   },
   "cell_type": "code",
   "source": "pd.get_dummies(cat_s)",
   "id": "622fd78f1b314d9c",
   "execution_count": 229,
   "outputs": []
  },
  {
   "metadata": {},
   "cell_type": "code",
   "execution_count": null,
   "source": "",
   "id": "2b5b058c08374a50",
   "outputs": []
  }
 ],
 "metadata": {
  "kernelspec": {
   "display_name": "Python 3",
   "language": "python",
   "name": "python3"
  },
  "language_info": {
   "codemirror_mode": {
    "name": "ipython",
    "version": 2
   },
   "file_extension": ".py",
   "mimetype": "text/x-python",
   "name": "python",
   "nbconvert_exporter": "python",
   "pygments_lexer": "ipython2",
   "version": "2.7.6"
  }
 },
 "nbformat": 4,
 "nbformat_minor": 5
}
