{
 "cells": [
  {
   "cell_type": "code",
   "id": "initial_id",
   "metadata": {
    "collapsed": true,
    "ExecuteTime": {
     "end_time": "2024-05-31T08:15:48.136365Z",
     "start_time": "2024-05-31T08:15:48.029348Z"
    }
   },
   "source": [
    "import numpy as np\n",
    "\n",
    "my_arr = np.arange(1_000_000)\n",
    "my_list = list(range(1_000_000))"
   ],
   "execution_count": 1,
   "outputs": []
  },
  {
   "metadata": {
    "ExecuteTime": {
     "end_time": "2024-05-31T08:16:44.526888Z",
     "start_time": "2024-05-31T08:16:35.724315Z"
    }
   },
   "cell_type": "code",
   "source": [
    "%timeit my_arr2 = my_arr * 2\n",
    "%timeit my_list2 = [x * 2 for x in my_list]"
   ],
   "id": "c9c46d24f2a2f63d",
   "execution_count": 2,
   "outputs": []
  },
  {
   "metadata": {
    "ExecuteTime": {
     "end_time": "2024-05-31T08:19:08.514704Z",
     "start_time": "2024-05-31T08:19:08.507756Z"
    }
   },
   "cell_type": "code",
   "source": [
    "import numpy as np\n",
    "\n",
    "data = np.array([[1.5, -0.1, 3], [0, -3, 6.5]])"
   ],
   "id": "6cabd50aca5b475b",
   "execution_count": 4,
   "outputs": []
  },
  {
   "metadata": {
    "ExecuteTime": {
     "end_time": "2024-05-31T08:19:12.388827Z",
     "start_time": "2024-05-31T08:19:12.381214Z"
    }
   },
   "cell_type": "code",
   "source": "data",
   "id": "6f0a63140fb90c5b",
   "execution_count": 5,
   "outputs": []
  },
  {
   "metadata": {
    "ExecuteTime": {
     "end_time": "2024-05-31T08:21:10.256600Z",
     "start_time": "2024-05-31T08:21:10.249762Z"
    }
   },
   "cell_type": "code",
   "source": "data * 10",
   "id": "b87af8af5485e141",
   "execution_count": 6,
   "outputs": []
  },
  {
   "metadata": {
    "ExecuteTime": {
     "end_time": "2024-05-31T08:21:28.965525Z",
     "start_time": "2024-05-31T08:21:28.957500Z"
    }
   },
   "cell_type": "code",
   "source": "data + data",
   "id": "cf8146172d548470",
   "execution_count": 7,
   "outputs": []
  },
  {
   "metadata": {
    "ExecuteTime": {
     "end_time": "2024-05-31T08:28:50.602828Z",
     "start_time": "2024-05-31T08:28:50.595802Z"
    }
   },
   "cell_type": "code",
   "source": "data.shape",
   "id": "7dcf354beb052ebd",
   "execution_count": 8,
   "outputs": []
  },
  {
   "metadata": {
    "ExecuteTime": {
     "end_time": "2024-05-31T08:28:59.514090Z",
     "start_time": "2024-05-31T08:28:59.503912Z"
    }
   },
   "cell_type": "code",
   "source": "data.dtype",
   "id": "e1dda8559ddcaf4a",
   "execution_count": 9,
   "outputs": []
  },
  {
   "metadata": {
    "ExecuteTime": {
     "end_time": "2024-05-31T08:39:10.030141Z",
     "start_time": "2024-05-31T08:39:10.025460Z"
    }
   },
   "cell_type": "code",
   "source": "data1 = [6, 7.5, 8, 0, 1]",
   "id": "98a698e3d34b44f9",
   "execution_count": 10,
   "outputs": []
  },
  {
   "metadata": {
    "ExecuteTime": {
     "end_time": "2024-05-31T08:39:24.324578Z",
     "start_time": "2024-05-31T08:39:24.301245Z"
    }
   },
   "cell_type": "code",
   "source": "arr1 = np.array(data1)",
   "id": "f332480a63123adf",
   "execution_count": 11,
   "outputs": []
  },
  {
   "metadata": {
    "ExecuteTime": {
     "end_time": "2024-05-31T08:39:27.912095Z",
     "start_time": "2024-05-31T08:39:27.906935Z"
    }
   },
   "cell_type": "code",
   "source": "arr1",
   "id": "c6f6324ae65cf596",
   "execution_count": 12,
   "outputs": []
  },
  {
   "metadata": {
    "ExecuteTime": {
     "end_time": "2024-05-31T08:40:31.659745Z",
     "start_time": "2024-05-31T08:40:31.654259Z"
    }
   },
   "cell_type": "code",
   "source": "data2 = [[1, 2, 3, 4], [5, 6, 7, 8]]",
   "id": "447e0e0ce7441f00",
   "execution_count": 13,
   "outputs": []
  },
  {
   "metadata": {
    "ExecuteTime": {
     "end_time": "2024-05-31T08:40:43.989589Z",
     "start_time": "2024-05-31T08:40:43.983949Z"
    }
   },
   "cell_type": "code",
   "source": "arr2 = np.array(data2)",
   "id": "838cf478c33d9ef1",
   "execution_count": 14,
   "outputs": []
  },
  {
   "metadata": {
    "ExecuteTime": {
     "end_time": "2024-05-31T08:40:59.813918Z",
     "start_time": "2024-05-31T08:40:59.807014Z"
    }
   },
   "cell_type": "code",
   "source": "arr2",
   "id": "80f65c67d7518ef2",
   "execution_count": 15,
   "outputs": []
  },
  {
   "metadata": {
    "ExecuteTime": {
     "end_time": "2024-05-31T08:41:43.780816Z",
     "start_time": "2024-05-31T08:41:43.770234Z"
    }
   },
   "cell_type": "code",
   "source": "arr2.ndim",
   "id": "1334803ea2ee8042",
   "execution_count": 16,
   "outputs": []
  },
  {
   "metadata": {
    "ExecuteTime": {
     "end_time": "2024-05-31T08:42:00.071834Z",
     "start_time": "2024-05-31T08:42:00.066115Z"
    }
   },
   "cell_type": "code",
   "source": "arr2.shape",
   "id": "e9eb771b4630e1f9",
   "execution_count": 17,
   "outputs": []
  },
  {
   "metadata": {
    "ExecuteTime": {
     "end_time": "2024-05-31T08:42:50.186596Z",
     "start_time": "2024-05-31T08:42:50.180440Z"
    }
   },
   "cell_type": "code",
   "source": "arr1.dtype",
   "id": "945e7b8ac71ff105",
   "execution_count": 18,
   "outputs": []
  },
  {
   "metadata": {
    "ExecuteTime": {
     "end_time": "2024-05-31T08:42:57.671546Z",
     "start_time": "2024-05-31T08:42:57.665356Z"
    }
   },
   "cell_type": "code",
   "source": "arr2.dtype",
   "id": "79cc6de273bcaedf",
   "execution_count": 19,
   "outputs": []
  },
  {
   "metadata": {
    "ExecuteTime": {
     "end_time": "2024-05-31T08:44:13.764240Z",
     "start_time": "2024-05-31T08:44:13.758760Z"
    }
   },
   "cell_type": "code",
   "source": "np.zeros(10)",
   "id": "436bf350f0341a36",
   "execution_count": 20,
   "outputs": []
  },
  {
   "metadata": {
    "ExecuteTime": {
     "end_time": "2024-05-31T08:44:28.066134Z",
     "start_time": "2024-05-31T08:44:28.059031Z"
    }
   },
   "cell_type": "code",
   "source": "np.zeros((3, 6))",
   "id": "38bbecc24ea0d11",
   "execution_count": 21,
   "outputs": []
  },
  {
   "metadata": {
    "ExecuteTime": {
     "end_time": "2024-05-31T08:44:49.927697Z",
     "start_time": "2024-05-31T08:44:49.910037Z"
    }
   },
   "cell_type": "code",
   "source": "np.empty((2, 3, 2))",
   "id": "f56ddd2ac28a4733",
   "execution_count": 22,
   "outputs": []
  },
  {
   "metadata": {
    "ExecuteTime": {
     "end_time": "2024-05-31T08:47:32.900960Z",
     "start_time": "2024-05-31T08:47:32.893306Z"
    }
   },
   "cell_type": "code",
   "source": "np.arange(15)",
   "id": "e4d926b179c9f7cf",
   "execution_count": 23,
   "outputs": []
  },
  {
   "metadata": {
    "ExecuteTime": {
     "end_time": "2024-05-31T08:49:30.936068Z",
     "start_time": "2024-05-31T08:49:30.927783Z"
    }
   },
   "cell_type": "code",
   "source": "arr1 = np.array([1, 2, 3], dtype=np.float64)",
   "id": "194d8b2b971d0222",
   "execution_count": 24,
   "outputs": []
  },
  {
   "metadata": {
    "ExecuteTime": {
     "end_time": "2024-05-31T08:49:52.390302Z",
     "start_time": "2024-05-31T08:49:52.382261Z"
    }
   },
   "cell_type": "code",
   "source": "arr2 = np.array([1, 2, 3], dtype=np.int32)",
   "id": "230a8d539a890a74",
   "execution_count": 25,
   "outputs": []
  },
  {
   "metadata": {
    "ExecuteTime": {
     "end_time": "2024-05-31T08:49:58.142911Z",
     "start_time": "2024-05-31T08:49:58.134209Z"
    }
   },
   "cell_type": "code",
   "source": "arr1.dtype",
   "id": "3d54ae8c937d8782",
   "execution_count": 26,
   "outputs": []
  },
  {
   "metadata": {
    "ExecuteTime": {
     "end_time": "2024-05-31T08:50:03.233827Z",
     "start_time": "2024-05-31T08:50:03.229172Z"
    }
   },
   "cell_type": "code",
   "source": "arr2.dtype",
   "id": "ce039b867fe64b57",
   "execution_count": 27,
   "outputs": []
  },
  {
   "metadata": {
    "ExecuteTime": {
     "end_time": "2024-05-31T08:53:21.258057Z",
     "start_time": "2024-05-31T08:53:21.252424Z"
    }
   },
   "cell_type": "code",
   "source": "arr = np.array([1, 2, 3, 4, 5])",
   "id": "62817f2e0b934dfb",
   "execution_count": 28,
   "outputs": []
  },
  {
   "metadata": {
    "ExecuteTime": {
     "end_time": "2024-05-31T08:53:26.037361Z",
     "start_time": "2024-05-31T08:53:26.033562Z"
    }
   },
   "cell_type": "code",
   "source": "arr.dtype",
   "id": "ca4af6247661a764",
   "execution_count": 29,
   "outputs": []
  },
  {
   "metadata": {
    "ExecuteTime": {
     "end_time": "2024-05-31T08:53:47.079038Z",
     "start_time": "2024-05-31T08:53:47.073097Z"
    }
   },
   "cell_type": "code",
   "source": "float_arr = arr.astype(np.float64)",
   "id": "6f7be13537148407",
   "execution_count": 30,
   "outputs": []
  },
  {
   "metadata": {
    "ExecuteTime": {
     "end_time": "2024-05-31T08:53:51.613874Z",
     "start_time": "2024-05-31T08:53:51.609652Z"
    }
   },
   "cell_type": "code",
   "source": "float_arr",
   "id": "b5cdfb2e318a4a12",
   "execution_count": 31,
   "outputs": []
  },
  {
   "metadata": {
    "ExecuteTime": {
     "end_time": "2024-05-31T08:54:07.039828Z",
     "start_time": "2024-05-31T08:54:07.034697Z"
    }
   },
   "cell_type": "code",
   "source": "float_arr.dtype",
   "id": "a6a54010b7a6211b",
   "execution_count": 32,
   "outputs": []
  },
  {
   "metadata": {
    "ExecuteTime": {
     "end_time": "2024-05-31T08:54:54.434515Z",
     "start_time": "2024-05-31T08:54:54.422137Z"
    }
   },
   "cell_type": "code",
   "source": "arr = np.array([3.7, -1.2, -2.6, 0.5, 12.9, 10.1])",
   "id": "edfd7e4b165ba998",
   "execution_count": 33,
   "outputs": []
  },
  {
   "metadata": {
    "ExecuteTime": {
     "end_time": "2024-05-31T08:54:56.796126Z",
     "start_time": "2024-05-31T08:54:56.791386Z"
    }
   },
   "cell_type": "code",
   "source": "arr",
   "id": "d6edf5e67647234d",
   "execution_count": 34,
   "outputs": []
  },
  {
   "metadata": {
    "ExecuteTime": {
     "end_time": "2024-05-31T08:55:17.760672Z",
     "start_time": "2024-05-31T08:55:17.741129Z"
    }
   },
   "cell_type": "code",
   "source": "arr.astype(np.int32)",
   "id": "be729417352614a4",
   "execution_count": 35,
   "outputs": []
  },
  {
   "metadata": {
    "ExecuteTime": {
     "end_time": "2024-05-31T08:59:13.316629Z",
     "start_time": "2024-05-31T08:59:13.031172Z"
    }
   },
   "cell_type": "code",
   "source": [
    "import numpy as np\n",
    "\n",
    "numeric_strings = np.array([\"1.24\", \"-9.6\", \"42\"], dtype=np.string_)"
   ],
   "id": "68ab8541b008cba0",
   "execution_count": 2,
   "outputs": []
  },
  {
   "metadata": {
    "ExecuteTime": {
     "end_time": "2024-05-31T08:59:30.304933Z",
     "start_time": "2024-05-31T08:59:30.295102Z"
    }
   },
   "cell_type": "code",
   "source": "numeric_strings.astype(float)",
   "id": "a3e8fddcd02dd1ed",
   "execution_count": 3,
   "outputs": []
  },
  {
   "metadata": {
    "ExecuteTime": {
     "end_time": "2024-05-31T09:00:46.753885Z",
     "start_time": "2024-05-31T09:00:46.747518Z"
    }
   },
   "cell_type": "code",
   "source": "int_array = np.arange(10)",
   "id": "fecc04261c7907b3",
   "execution_count": 4,
   "outputs": []
  },
  {
   "metadata": {
    "ExecuteTime": {
     "end_time": "2024-05-31T09:01:29.581455Z",
     "start_time": "2024-05-31T09:01:29.574958Z"
    }
   },
   "cell_type": "code",
   "source": "calibers = np.array([.22, .270, .357, .380, .44, .50], dtype=np.float64)",
   "id": "6233bb134e6a650c",
   "execution_count": 5,
   "outputs": []
  },
  {
   "metadata": {
    "ExecuteTime": {
     "end_time": "2024-05-31T09:01:44.690341Z",
     "start_time": "2024-05-31T09:01:44.681958Z"
    }
   },
   "cell_type": "code",
   "source": "int_array.astype(calibers.dtype)",
   "id": "bd75983c667ce806",
   "execution_count": 6,
   "outputs": []
  },
  {
   "metadata": {
    "ExecuteTime": {
     "end_time": "2024-05-31T09:02:34.489931Z",
     "start_time": "2024-05-31T09:02:34.484162Z"
    }
   },
   "cell_type": "code",
   "source": "zeros_uint32 = np.zeros(8, dtype=\"u4\")",
   "id": "5aa2292d7d8d50c5",
   "execution_count": 7,
   "outputs": []
  },
  {
   "metadata": {
    "ExecuteTime": {
     "end_time": "2024-05-31T09:02:37.989190Z",
     "start_time": "2024-05-31T09:02:37.985146Z"
    }
   },
   "cell_type": "code",
   "source": "zeros_uint32",
   "id": "9462b9947bdbca6d",
   "execution_count": 8,
   "outputs": []
  },
  {
   "metadata": {
    "ExecuteTime": {
     "end_time": "2024-05-31T09:04:38.355807Z",
     "start_time": "2024-05-31T09:04:38.340114Z"
    }
   },
   "cell_type": "code",
   "source": "arr = np.array([[1., 2., 3.], [4., 5., 6.]])",
   "id": "79e517149a3ae14",
   "execution_count": 9,
   "outputs": []
  },
  {
   "metadata": {
    "ExecuteTime": {
     "end_time": "2024-05-31T09:04:40.197162Z",
     "start_time": "2024-05-31T09:04:40.194187Z"
    }
   },
   "cell_type": "code",
   "source": "arr",
   "id": "a6fe3e09ef29deaf",
   "execution_count": 10,
   "outputs": []
  },
  {
   "metadata": {
    "ExecuteTime": {
     "end_time": "2024-05-31T09:04:50.520624Z",
     "start_time": "2024-05-31T09:04:50.514520Z"
    }
   },
   "cell_type": "code",
   "source": "arr * arr",
   "id": "b33f3137df6ab63",
   "execution_count": 11,
   "outputs": []
  },
  {
   "metadata": {
    "ExecuteTime": {
     "end_time": "2024-05-31T09:05:04.429280Z",
     "start_time": "2024-05-31T09:05:04.422487Z"
    }
   },
   "cell_type": "code",
   "source": "arr - arr",
   "id": "eef8262b58932b78",
   "execution_count": 12,
   "outputs": []
  },
  {
   "metadata": {
    "ExecuteTime": {
     "end_time": "2024-05-31T09:05:10.179178Z",
     "start_time": "2024-05-31T09:05:10.175118Z"
    }
   },
   "cell_type": "code",
   "source": "1 / arr",
   "id": "1820b715f3208a43",
   "execution_count": 13,
   "outputs": []
  },
  {
   "metadata": {
    "ExecuteTime": {
     "end_time": "2024-05-31T09:05:34.591832Z",
     "start_time": "2024-05-31T09:05:34.584035Z"
    }
   },
   "cell_type": "code",
   "source": "arr ** 2",
   "id": "1f869f6c57bc6644",
   "execution_count": 14,
   "outputs": []
  },
  {
   "metadata": {
    "ExecuteTime": {
     "end_time": "2024-05-31T09:07:10.233381Z",
     "start_time": "2024-05-31T09:07:10.226820Z"
    }
   },
   "cell_type": "code",
   "source": "arr2 = np.array([[0., 4., 1.], [7., 2., 12.]])",
   "id": "4da7ea52239ef4ef",
   "execution_count": 16,
   "outputs": []
  },
  {
   "metadata": {
    "ExecuteTime": {
     "end_time": "2024-05-31T09:07:15.479388Z",
     "start_time": "2024-05-31T09:07:15.474485Z"
    }
   },
   "cell_type": "code",
   "source": "arr2",
   "id": "2899d70ef1aa6cf5",
   "execution_count": 17,
   "outputs": []
  },
  {
   "metadata": {
    "ExecuteTime": {
     "end_time": "2024-05-31T09:07:31.539585Z",
     "start_time": "2024-05-31T09:07:31.531996Z"
    }
   },
   "cell_type": "code",
   "source": "arr2 > arr",
   "id": "5b8702be00facf43",
   "execution_count": 18,
   "outputs": []
  },
  {
   "metadata": {
    "ExecuteTime": {
     "end_time": "2024-05-31T09:08:52.750499Z",
     "start_time": "2024-05-31T09:08:52.741139Z"
    }
   },
   "cell_type": "code",
   "source": "arr = np.arange(10)",
   "id": "56bef279f8c2705d",
   "execution_count": 19,
   "outputs": []
  },
  {
   "metadata": {
    "ExecuteTime": {
     "end_time": "2024-05-31T09:08:55.665501Z",
     "start_time": "2024-05-31T09:08:55.660937Z"
    }
   },
   "cell_type": "code",
   "source": "arr",
   "id": "58ae3a6bf1d6bc4b",
   "execution_count": 20,
   "outputs": []
  },
  {
   "metadata": {
    "ExecuteTime": {
     "end_time": "2024-05-31T09:09:02.944670Z",
     "start_time": "2024-05-31T09:09:02.939469Z"
    }
   },
   "cell_type": "code",
   "source": "arr[5]",
   "id": "bb847ff042f0ad1c",
   "execution_count": 21,
   "outputs": []
  },
  {
   "metadata": {
    "ExecuteTime": {
     "end_time": "2024-05-31T09:09:09.500741Z",
     "start_time": "2024-05-31T09:09:09.496932Z"
    }
   },
   "cell_type": "code",
   "source": "arr[5:8]",
   "id": "df4eaebd19cdc603",
   "execution_count": 22,
   "outputs": []
  },
  {
   "metadata": {
    "ExecuteTime": {
     "end_time": "2024-05-31T09:09:27.158644Z",
     "start_time": "2024-05-31T09:09:27.154364Z"
    }
   },
   "cell_type": "code",
   "source": "arr[5:8] = 12",
   "id": "62329839e15ada9f",
   "execution_count": 23,
   "outputs": []
  },
  {
   "metadata": {
    "ExecuteTime": {
     "end_time": "2024-05-31T09:09:28.488542Z",
     "start_time": "2024-05-31T09:09:28.484853Z"
    }
   },
   "cell_type": "code",
   "source": "arr",
   "id": "3bc059d8251cce15",
   "execution_count": 24,
   "outputs": []
  },
  {
   "metadata": {
    "ExecuteTime": {
     "end_time": "2024-05-31T09:10:12.980432Z",
     "start_time": "2024-05-31T09:10:12.976092Z"
    }
   },
   "cell_type": "code",
   "source": "arr_slice = arr[5:8]",
   "id": "e5e61221702247a0",
   "execution_count": 25,
   "outputs": []
  },
  {
   "metadata": {
    "ExecuteTime": {
     "end_time": "2024-05-31T09:10:17.070477Z",
     "start_time": "2024-05-31T09:10:17.067106Z"
    }
   },
   "cell_type": "code",
   "source": "arr_slice",
   "id": "38a30519967a130c",
   "execution_count": 26,
   "outputs": []
  },
  {
   "metadata": {
    "ExecuteTime": {
     "end_time": "2024-05-31T09:10:42.226147Z",
     "start_time": "2024-05-31T09:10:42.220589Z"
    }
   },
   "cell_type": "code",
   "source": "arr_slice[1] = 12345",
   "id": "1af1d426f8fbd17a",
   "execution_count": 27,
   "outputs": []
  },
  {
   "metadata": {
    "ExecuteTime": {
     "end_time": "2024-05-31T09:10:45.021860Z",
     "start_time": "2024-05-31T09:10:45.018987Z"
    }
   },
   "cell_type": "code",
   "source": "arr",
   "id": "713c0500e075cd9",
   "execution_count": 28,
   "outputs": []
  },
  {
   "metadata": {
    "ExecuteTime": {
     "end_time": "2024-05-31T09:11:13.408333Z",
     "start_time": "2024-05-31T09:11:13.400745Z"
    }
   },
   "cell_type": "code",
   "source": [
    "\n",
    "arr_slice[:] = 64"
   ],
   "id": "2dc7e4696fa4e3e6",
   "execution_count": 29,
   "outputs": []
  },
  {
   "metadata": {
    "ExecuteTime": {
     "end_time": "2024-05-31T09:11:14.959078Z",
     "start_time": "2024-05-31T09:11:14.954890Z"
    }
   },
   "cell_type": "code",
   "source": "arr",
   "id": "c74c77a27f495b09",
   "execution_count": 30,
   "outputs": []
  },
  {
   "metadata": {
    "ExecuteTime": {
     "end_time": "2024-05-31T09:13:13.447965Z",
     "start_time": "2024-05-31T09:13:13.441803Z"
    }
   },
   "cell_type": "code",
   "source": "arr2d = np.array([[1., 2., 3.], [4., 5., 6.], [7., 8., 9.]])",
   "id": "19a6df1a816141de",
   "execution_count": 31,
   "outputs": []
  },
  {
   "metadata": {
    "ExecuteTime": {
     "end_time": "2024-05-31T09:13:21.128549Z",
     "start_time": "2024-05-31T09:13:21.121415Z"
    }
   },
   "cell_type": "code",
   "source": "arr2d[2]",
   "id": "716ef613334c9c9e",
   "execution_count": 32,
   "outputs": []
  },
  {
   "metadata": {
    "ExecuteTime": {
     "end_time": "2024-05-31T09:13:56.974270Z",
     "start_time": "2024-05-31T09:13:56.967981Z"
    }
   },
   "cell_type": "code",
   "source": "arr2d[0][2]",
   "id": "7ca8929142081443",
   "execution_count": 33,
   "outputs": []
  },
  {
   "metadata": {
    "ExecuteTime": {
     "end_time": "2024-05-31T09:14:11.663700Z",
     "start_time": "2024-05-31T09:14:11.646827Z"
    }
   },
   "cell_type": "code",
   "source": "arr2d[0, 2]",
   "id": "1b06dc26ec4ee77f",
   "execution_count": 34,
   "outputs": []
  },
  {
   "metadata": {
    "ExecuteTime": {
     "end_time": "2024-05-31T09:16:24.808015Z",
     "start_time": "2024-05-31T09:16:24.802180Z"
    }
   },
   "cell_type": "code",
   "source": "arr3d = np.array([[[1, 2, 3], [4, 5, 6]], [[7, 8, 9], [10, 11, 12]]])",
   "id": "de57f5e9d327dfc2",
   "execution_count": 35,
   "outputs": []
  },
  {
   "metadata": {
    "ExecuteTime": {
     "end_time": "2024-05-31T09:16:29.630236Z",
     "start_time": "2024-05-31T09:16:29.626902Z"
    }
   },
   "cell_type": "code",
   "source": "arr3d",
   "id": "4906ae7f6dd02f68",
   "execution_count": 36,
   "outputs": []
  },
  {
   "metadata": {
    "ExecuteTime": {
     "end_time": "2024-05-31T09:16:37.446393Z",
     "start_time": "2024-05-31T09:16:37.440366Z"
    }
   },
   "cell_type": "code",
   "source": "arr3d.shape",
   "id": "94fbb340501a2e8b",
   "execution_count": 37,
   "outputs": []
  },
  {
   "metadata": {
    "ExecuteTime": {
     "end_time": "2024-05-31T09:17:03.035425Z",
     "start_time": "2024-05-31T09:17:03.028971Z"
    }
   },
   "cell_type": "code",
   "source": "arr3d[0]",
   "id": "235a8546f41b5a8b",
   "execution_count": 38,
   "outputs": []
  },
  {
   "metadata": {
    "ExecuteTime": {
     "end_time": "2024-05-31T09:17:33.080929Z",
     "start_time": "2024-05-31T09:17:33.074502Z"
    }
   },
   "cell_type": "code",
   "source": "old_values = arr3d[0].copy()",
   "id": "4a0e97d4c77e1e67",
   "execution_count": 39,
   "outputs": []
  },
  {
   "metadata": {
    "ExecuteTime": {
     "end_time": "2024-05-31T09:17:45.503195Z",
     "start_time": "2024-05-31T09:17:45.498980Z"
    }
   },
   "cell_type": "code",
   "source": "arr3d[0] = 42",
   "id": "233eb1a94721191a",
   "execution_count": 40,
   "outputs": []
  },
  {
   "metadata": {
    "ExecuteTime": {
     "end_time": "2024-05-31T09:17:52.792538Z",
     "start_time": "2024-05-31T09:17:52.789348Z"
    }
   },
   "cell_type": "code",
   "source": "arr3d",
   "id": "1fcee9e99cf91d48",
   "execution_count": 41,
   "outputs": []
  },
  {
   "metadata": {
    "ExecuteTime": {
     "end_time": "2024-05-31T09:20:39.970731Z",
     "start_time": "2024-05-31T09:20:39.962435Z"
    }
   },
   "cell_type": "code",
   "source": "arr3d[0] = old_values",
   "id": "44ed0242583f6cb5",
   "execution_count": 42,
   "outputs": []
  },
  {
   "metadata": {
    "ExecuteTime": {
     "end_time": "2024-05-31T09:20:43.924385Z",
     "start_time": "2024-05-31T09:20:43.921295Z"
    }
   },
   "cell_type": "code",
   "source": "arr3d",
   "id": "9eb358f69fa86823",
   "execution_count": 43,
   "outputs": []
  },
  {
   "metadata": {
    "ExecuteTime": {
     "end_time": "2024-05-31T09:21:29.695149Z",
     "start_time": "2024-05-31T09:21:29.681585Z"
    }
   },
   "cell_type": "code",
   "source": "arr3d[1, 0]",
   "id": "b93f64cbd7213080",
   "execution_count": 44,
   "outputs": []
  },
  {
   "metadata": {
    "ExecuteTime": {
     "end_time": "2024-05-31T09:21:57.014025Z",
     "start_time": "2024-05-31T09:21:57.010006Z"
    }
   },
   "cell_type": "code",
   "source": "x = arr3d[1]",
   "id": "903984bbebb184c3",
   "execution_count": 45,
   "outputs": []
  },
  {
   "metadata": {
    "ExecuteTime": {
     "end_time": "2024-05-31T09:21:58.582366Z",
     "start_time": "2024-05-31T09:21:58.579212Z"
    }
   },
   "cell_type": "code",
   "source": "x",
   "id": "7089db0271af33a7",
   "execution_count": 46,
   "outputs": []
  },
  {
   "metadata": {
    "ExecuteTime": {
     "end_time": "2024-05-31T09:22:08.941330Z",
     "start_time": "2024-05-31T09:22:08.935757Z"
    }
   },
   "cell_type": "code",
   "source": "x[0]",
   "id": "81c86f6bc83c120",
   "execution_count": 47,
   "outputs": []
  },
  {
   "metadata": {
    "ExecuteTime": {
     "end_time": "2024-05-31T09:23:10.166322Z",
     "start_time": "2024-05-31T09:23:10.160904Z"
    }
   },
   "cell_type": "code",
   "source": "arr",
   "id": "cd0db370d56a132a",
   "execution_count": 48,
   "outputs": []
  },
  {
   "metadata": {
    "ExecuteTime": {
     "end_time": "2024-05-31T09:23:21.852995Z",
     "start_time": "2024-05-31T09:23:21.847760Z"
    }
   },
   "cell_type": "code",
   "source": "arr[1:6]",
   "id": "f681a020b090e383",
   "execution_count": 49,
   "outputs": []
  },
  {
   "metadata": {
    "ExecuteTime": {
     "end_time": "2024-05-31T09:23:37.446460Z",
     "start_time": "2024-05-31T09:23:37.440002Z"
    }
   },
   "cell_type": "code",
   "source": "arr2d",
   "id": "c74dc07265bae76e",
   "execution_count": 50,
   "outputs": []
  },
  {
   "metadata": {
    "ExecuteTime": {
     "end_time": "2024-05-31T09:24:08.097715Z",
     "start_time": "2024-05-31T09:24:08.092220Z"
    }
   },
   "cell_type": "code",
   "source": "arr2d[:2]",
   "id": "6ba96751bcaf2d18",
   "execution_count": 51,
   "outputs": []
  },
  {
   "metadata": {
    "ExecuteTime": {
     "end_time": "2024-05-31T09:26:46.039176Z",
     "start_time": "2024-05-31T09:26:46.029739Z"
    }
   },
   "cell_type": "code",
   "source": "arr2d[:2, 1:]",
   "id": "3b71b1313211828d",
   "execution_count": 52,
   "outputs": []
  },
  {
   "metadata": {
    "ExecuteTime": {
     "end_time": "2024-05-31T09:27:38.637459Z",
     "start_time": "2024-05-31T09:27:38.631986Z"
    }
   },
   "cell_type": "code",
   "source": "lower_dim_slic = arr2d[1, :2]",
   "id": "b5383597d9d64312",
   "execution_count": 53,
   "outputs": []
  },
  {
   "metadata": {
    "ExecuteTime": {
     "end_time": "2024-05-31T09:27:45.379699Z",
     "start_time": "2024-05-31T09:27:45.375876Z"
    }
   },
   "cell_type": "code",
   "source": "lower_dim_slic.shape",
   "id": "db66d90e5519c423",
   "execution_count": 54,
   "outputs": []
  },
  {
   "metadata": {
    "ExecuteTime": {
     "end_time": "2024-05-31T09:30:28.066106Z",
     "start_time": "2024-05-31T09:30:28.060169Z"
    }
   },
   "cell_type": "code",
   "source": "arr2d[:2, 2]",
   "id": "5341000f12ae61f2",
   "execution_count": 55,
   "outputs": []
  },
  {
   "metadata": {
    "ExecuteTime": {
     "end_time": "2024-05-31T09:31:27.396269Z",
     "start_time": "2024-05-31T09:31:27.387193Z"
    }
   },
   "cell_type": "code",
   "source": "arr2d[:, :1]",
   "id": "1efd1b39b79dbba6",
   "execution_count": 56,
   "outputs": []
  },
  {
   "metadata": {
    "ExecuteTime": {
     "end_time": "2024-05-31T09:32:05.691825Z",
     "start_time": "2024-05-31T09:32:05.687346Z"
    }
   },
   "cell_type": "code",
   "source": "arr2d[:2, 1:] = 0",
   "id": "d3b230dfe57134a9",
   "execution_count": 57,
   "outputs": []
  },
  {
   "metadata": {
    "ExecuteTime": {
     "end_time": "2024-05-31T09:32:10.881259Z",
     "start_time": "2024-05-31T09:32:10.878405Z"
    }
   },
   "cell_type": "code",
   "source": "arr2d",
   "id": "bc460219cf52f48a",
   "execution_count": 58,
   "outputs": []
  },
  {
   "metadata": {
    "ExecuteTime": {
     "end_time": "2024-05-31T09:43:59.287930Z",
     "start_time": "2024-05-31T09:43:59.283517Z"
    }
   },
   "cell_type": "code",
   "source": "names = np.array([\"Bob\", \"Joe\", \"Will\", \"Bob\", \"Will\", \"Joe\", \"Joe\"])",
   "id": "12a7e9387028d73f",
   "execution_count": 65,
   "outputs": []
  },
  {
   "metadata": {
    "ExecuteTime": {
     "end_time": "2024-05-31T09:34:35.461876Z",
     "start_time": "2024-05-31T09:34:35.455454Z"
    }
   },
   "cell_type": "code",
   "source": "data = np.array([[4, 7], [0, 2], [-5, 6], [0, 0], [1, 2], [-12, -4], [3, 4]])",
   "id": "51ec153c45af7f8d",
   "execution_count": 60,
   "outputs": []
  },
  {
   "metadata": {
    "ExecuteTime": {
     "end_time": "2024-05-31T09:34:39.090710Z",
     "start_time": "2024-05-31T09:34:39.087854Z"
    }
   },
   "cell_type": "code",
   "source": "names",
   "id": "bc62f8b0b44c457c",
   "execution_count": 61,
   "outputs": []
  },
  {
   "metadata": {
    "ExecuteTime": {
     "end_time": "2024-05-31T09:34:42.517162Z",
     "start_time": "2024-05-31T09:34:42.513376Z"
    }
   },
   "cell_type": "code",
   "source": "data",
   "id": "c0b0deb2da3f7565",
   "execution_count": 62,
   "outputs": []
  },
  {
   "metadata": {
    "ExecuteTime": {
     "end_time": "2024-05-31T09:44:02.714773Z",
     "start_time": "2024-05-31T09:44:02.709834Z"
    }
   },
   "cell_type": "code",
   "source": "names == \"Bob\"",
   "id": "2f0bb7fb999027c6",
   "execution_count": 66,
   "outputs": []
  },
  {
   "metadata": {
    "ExecuteTime": {
     "end_time": "2024-05-31T09:44:24.555865Z",
     "start_time": "2024-05-31T09:44:24.550299Z"
    }
   },
   "cell_type": "code",
   "source": "data[names == \"Bob\"]",
   "id": "f59b33138a6b62ab",
   "execution_count": 67,
   "outputs": []
  },
  {
   "metadata": {
    "ExecuteTime": {
     "end_time": "2024-05-31T09:45:39.350907Z",
     "start_time": "2024-05-31T09:45:39.345783Z"
    }
   },
   "cell_type": "code",
   "source": "data[names == \"Bob\", 1:]",
   "id": "b1e7d90b35202140",
   "execution_count": 68,
   "outputs": []
  },
  {
   "metadata": {
    "ExecuteTime": {
     "end_time": "2024-05-31T09:46:01.008611Z",
     "start_time": "2024-05-31T09:46:01.003027Z"
    }
   },
   "cell_type": "code",
   "source": "data[names == \"Bob\", 1]",
   "id": "554cabb617b2855a",
   "execution_count": 69,
   "outputs": []
  },
  {
   "metadata": {
    "ExecuteTime": {
     "end_time": "2024-05-31T09:46:26.381414Z",
     "start_time": "2024-05-31T09:46:26.376234Z"
    }
   },
   "cell_type": "code",
   "source": "names != \"Bob\"",
   "id": "6a7a1a653bccb203",
   "execution_count": 70,
   "outputs": []
  },
  {
   "metadata": {
    "ExecuteTime": {
     "end_time": "2024-05-31T09:46:49.084004Z",
     "start_time": "2024-05-31T09:46:49.077091Z"
    }
   },
   "cell_type": "code",
   "source": "~(names == \"Bob\")",
   "id": "93898a09ab6ee47a",
   "execution_count": 71,
   "outputs": []
  },
  {
   "metadata": {
    "ExecuteTime": {
     "end_time": "2024-05-31T09:47:04.510208Z",
     "start_time": "2024-05-31T09:47:04.505346Z"
    }
   },
   "cell_type": "code",
   "source": "data[~(names == \"Bob\")]",
   "id": "d5c98aa9173df74",
   "execution_count": 72,
   "outputs": []
  },
  {
   "metadata": {
    "ExecuteTime": {
     "end_time": "2024-05-31T09:49:20.503305Z",
     "start_time": "2024-05-31T09:49:20.497847Z"
    }
   },
   "cell_type": "code",
   "source": "cond = names == \"Bob\"",
   "id": "20ca6cb2f31d38ef",
   "execution_count": 73,
   "outputs": []
  },
  {
   "metadata": {
    "ExecuteTime": {
     "end_time": "2024-05-31T09:49:27.423871Z",
     "start_time": "2024-05-31T09:49:27.417970Z"
    }
   },
   "cell_type": "code",
   "source": "data[~cond]",
   "id": "dc0e07b08dc844c0",
   "execution_count": 74,
   "outputs": []
  },
  {
   "metadata": {
    "ExecuteTime": {
     "end_time": "2024-05-31T09:50:39.983360Z",
     "start_time": "2024-05-31T09:50:39.979347Z"
    }
   },
   "cell_type": "code",
   "source": "mask = (names == \"Bob\") | (names == \"Will\")",
   "id": "d188d8982df9b829",
   "execution_count": 75,
   "outputs": []
  },
  {
   "metadata": {
    "ExecuteTime": {
     "end_time": "2024-05-31T09:50:42.631475Z",
     "start_time": "2024-05-31T09:50:42.628259Z"
    }
   },
   "cell_type": "code",
   "source": "mask",
   "id": "1620287807368189",
   "execution_count": 76,
   "outputs": []
  },
  {
   "metadata": {
    "ExecuteTime": {
     "end_time": "2024-05-31T09:50:58.223755Z",
     "start_time": "2024-05-31T09:50:58.218353Z"
    }
   },
   "cell_type": "code",
   "source": "data[mask]",
   "id": "4451c73aefc97939",
   "execution_count": 77,
   "outputs": []
  },
  {
   "metadata": {
    "ExecuteTime": {
     "end_time": "2024-05-31T09:52:55.963291Z",
     "start_time": "2024-05-31T09:52:55.948586Z"
    }
   },
   "cell_type": "code",
   "source": "data[data < 0] = 0",
   "id": "288adee957619164",
   "execution_count": 78,
   "outputs": []
  },
  {
   "metadata": {
    "ExecuteTime": {
     "end_time": "2024-05-31T09:52:58.454357Z",
     "start_time": "2024-05-31T09:52:58.451239Z"
    }
   },
   "cell_type": "code",
   "source": "data",
   "id": "1fa4a78e000cb356",
   "execution_count": 79,
   "outputs": []
  },
  {
   "metadata": {
    "ExecuteTime": {
     "end_time": "2024-05-31T09:53:56.138928Z",
     "start_time": "2024-05-31T09:53:56.127900Z"
    }
   },
   "cell_type": "code",
   "source": "data[names != \"Joe\"] = 7",
   "id": "2db97f268aa59fb3",
   "execution_count": 80,
   "outputs": []
  },
  {
   "metadata": {
    "ExecuteTime": {
     "end_time": "2024-05-31T09:53:59.218321Z",
     "start_time": "2024-05-31T09:53:59.214540Z"
    }
   },
   "cell_type": "code",
   "source": "data",
   "id": "3a594930f9e921f2",
   "execution_count": 81,
   "outputs": []
  },
  {
   "metadata": {
    "ExecuteTime": {
     "end_time": "2024-05-31T09:54:18.607302Z",
     "start_time": "2024-05-31T09:54:18.596527Z"
    }
   },
   "cell_type": "code",
   "source": "names != \"Joe\"",
   "id": "492f9b97493c3a56",
   "execution_count": 82,
   "outputs": []
  },
  {
   "metadata": {
    "ExecuteTime": {
     "end_time": "2024-05-31T09:54:43.040609Z",
     "start_time": "2024-05-31T09:54:43.035154Z"
    }
   },
   "cell_type": "code",
   "source": "data",
   "id": "7f2fd18accb74996",
   "execution_count": 83,
   "outputs": []
  },
  {
   "metadata": {
    "ExecuteTime": {
     "end_time": "2024-05-31T10:05:46.471286Z",
     "start_time": "2024-05-31T10:05:46.452377Z"
    }
   },
   "cell_type": "code",
   "source": "arr = np.zeros((8, 4))",
   "id": "d7123562054ae7b9",
   "execution_count": 84,
   "outputs": []
  },
  {
   "metadata": {
    "ExecuteTime": {
     "end_time": "2024-05-31T10:06:02.827307Z",
     "start_time": "2024-05-31T10:06:02.823647Z"
    }
   },
   "cell_type": "code",
   "source": [
    "for i in range(8):\n",
    "    arr[i] = i"
   ],
   "id": "9f2fd9d0e7c6626",
   "execution_count": 85,
   "outputs": []
  },
  {
   "metadata": {
    "ExecuteTime": {
     "end_time": "2024-05-31T10:06:06.463092Z",
     "start_time": "2024-05-31T10:06:06.459698Z"
    }
   },
   "cell_type": "code",
   "source": "arr",
   "id": "acfe3ff8126fd709",
   "execution_count": 86,
   "outputs": []
  },
  {
   "metadata": {
    "ExecuteTime": {
     "end_time": "2024-05-31T10:08:37.845414Z",
     "start_time": "2024-05-31T10:08:37.840403Z"
    }
   },
   "cell_type": "code",
   "source": "arr[3, 3]",
   "id": "89681c2c849ab64a",
   "execution_count": 87,
   "outputs": []
  },
  {
   "metadata": {
    "ExecuteTime": {
     "end_time": "2024-05-31T10:09:02.215725Z",
     "start_time": "2024-05-31T10:09:02.209321Z"
    }
   },
   "cell_type": "code",
   "source": "arr[[4, 3, 0, 6]]",
   "id": "cb4baf1bac1a2416",
   "execution_count": 88,
   "outputs": []
  },
  {
   "metadata": {
    "ExecuteTime": {
     "end_time": "2024-05-31T10:09:39.939671Z",
     "start_time": "2024-05-31T10:09:39.932301Z"
    }
   },
   "cell_type": "code",
   "source": "arr[[-3, -5, -7]]",
   "id": "6bb2a0c0ca637a0e",
   "execution_count": 89,
   "outputs": []
  },
  {
   "metadata": {
    "ExecuteTime": {
     "end_time": "2024-05-31T10:10:32.960700Z",
     "start_time": "2024-05-31T10:10:32.953312Z"
    }
   },
   "cell_type": "code",
   "source": "arr = np.arange(32).reshape((8, 4))",
   "id": "1254492673a5efe5",
   "execution_count": 90,
   "outputs": []
  },
  {
   "metadata": {
    "ExecuteTime": {
     "end_time": "2024-05-31T10:10:41.268349Z",
     "start_time": "2024-05-31T10:10:41.265707Z"
    }
   },
   "cell_type": "code",
   "source": "arr",
   "id": "2160cf4df8752e04",
   "execution_count": 91,
   "outputs": []
  },
  {
   "metadata": {
    "ExecuteTime": {
     "end_time": "2024-05-31T10:14:54.059901Z",
     "start_time": "2024-05-31T10:14:54.052823Z"
    }
   },
   "cell_type": "code",
   "source": "arr[[1, 5, 7, 2]][:, [0, 3, 1, 2]]",
   "id": "6f6e159a0de65d73",
   "execution_count": 93,
   "outputs": []
  },
  {
   "metadata": {
    "ExecuteTime": {
     "end_time": "2024-05-31T10:15:58.353435Z",
     "start_time": "2024-05-31T10:15:58.345926Z"
    }
   },
   "cell_type": "code",
   "source": "arr[[1,5,7,2],[0,3,1,2]]",
   "id": "dc4ebb40b4d85582",
   "execution_count": 94,
   "outputs": []
  },
  {
   "metadata": {
    "ExecuteTime": {
     "end_time": "2024-05-31T10:16:32.142715Z",
     "start_time": "2024-05-31T10:16:32.138194Z"
    }
   },
   "cell_type": "code",
   "source": "arr[[1,5,7,2],[0,3,1,2]] = 0",
   "id": "36fa75e57839e29c",
   "execution_count": 95,
   "outputs": []
  },
  {
   "metadata": {
    "ExecuteTime": {
     "end_time": "2024-05-31T10:16:34.355647Z",
     "start_time": "2024-05-31T10:16:34.352695Z"
    }
   },
   "cell_type": "code",
   "source": "arr",
   "id": "3a28f4c5cf06157c",
   "execution_count": 96,
   "outputs": []
  },
  {
   "metadata": {
    "ExecuteTime": {
     "end_time": "2024-05-31T10:17:51.878520Z",
     "start_time": "2024-05-31T10:17:51.873448Z"
    }
   },
   "cell_type": "code",
   "source": "arr = np.arange(15).reshape((3,5))",
   "id": "7ffdfe852b5e6196",
   "execution_count": 97,
   "outputs": []
  },
  {
   "metadata": {
    "ExecuteTime": {
     "end_time": "2024-05-31T10:17:53.197045Z",
     "start_time": "2024-05-31T10:17:53.194216Z"
    }
   },
   "cell_type": "code",
   "source": "arr",
   "id": "95d09fc30b86afcc",
   "execution_count": 98,
   "outputs": []
  },
  {
   "metadata": {
    "ExecuteTime": {
     "end_time": "2024-05-31T10:18:22.376767Z",
     "start_time": "2024-05-31T10:18:22.371269Z"
    }
   },
   "cell_type": "code",
   "source": "arr.T",
   "id": "9148bbc280f2a28c",
   "execution_count": 99,
   "outputs": []
  },
  {
   "metadata": {
    "ExecuteTime": {
     "end_time": "2024-05-31T10:19:41.897257Z",
     "start_time": "2024-05-31T10:19:41.892746Z"
    }
   },
   "cell_type": "code",
   "source": "arr = np.array([[0,1,0], [1,2,-2],[6,3,2],[-1,0,-1],[1,0,1]])",
   "id": "8c2205f5364c6c67",
   "execution_count": 100,
   "outputs": []
  },
  {
   "metadata": {
    "ExecuteTime": {
     "end_time": "2024-05-31T10:19:44.183445Z",
     "start_time": "2024-05-31T10:19:44.180309Z"
    }
   },
   "cell_type": "code",
   "source": "arr",
   "id": "804f13d60893c0be",
   "execution_count": 101,
   "outputs": []
  },
  {
   "metadata": {
    "ExecuteTime": {
     "end_time": "2024-05-31T10:20:10.120064Z",
     "start_time": "2024-05-31T10:20:10.113667Z"
    }
   },
   "cell_type": "code",
   "source": "np.dot(arr.T, arr)",
   "id": "1ae23568326cb9e4",
   "execution_count": 102,
   "outputs": []
  },
  {
   "metadata": {
    "ExecuteTime": {
     "end_time": "2024-05-31T10:20:34.824529Z",
     "start_time": "2024-05-31T10:20:34.819311Z"
    }
   },
   "cell_type": "code",
   "source": "arr.T @ arr",
   "id": "c105da70aeac933e",
   "execution_count": 103,
   "outputs": []
  },
  {
   "metadata": {
    "ExecuteTime": {
     "end_time": "2024-05-31T10:20:56.964010Z",
     "start_time": "2024-05-31T10:20:56.939130Z"
    }
   },
   "cell_type": "code",
   "source": "arr",
   "id": "608972fc33086844",
   "execution_count": 104,
   "outputs": []
  },
  {
   "metadata": {
    "ExecuteTime": {
     "end_time": "2024-05-31T10:21:26.345852Z",
     "start_time": "2024-05-31T10:21:26.340590Z"
    }
   },
   "cell_type": "code",
   "source": "arr.swapaxes(0,1)",
   "id": "5d3dda09eeafb8e2",
   "execution_count": 105,
   "outputs": []
  },
  {
   "metadata": {
    "ExecuteTime": {
     "end_time": "2024-05-31T10:26:34.897467Z",
     "start_time": "2024-05-31T10:26:34.889925Z"
    }
   },
   "cell_type": "code",
   "source": "samples = np.random.standard_normal(size=(4,4))",
   "id": "431b10061f50b334",
   "execution_count": 106,
   "outputs": []
  },
  {
   "metadata": {
    "ExecuteTime": {
     "end_time": "2024-05-31T10:26:36.730541Z",
     "start_time": "2024-05-31T10:26:36.727591Z"
    }
   },
   "cell_type": "code",
   "source": "samples",
   "id": "8da98d308505e160",
   "execution_count": 107,
   "outputs": []
  },
  {
   "metadata": {
    "ExecuteTime": {
     "end_time": "2024-05-31T10:27:23.320158Z",
     "start_time": "2024-05-31T10:27:23.316517Z"
    }
   },
   "cell_type": "code",
   "source": [
    "from random import normalvariate\n",
    "N = 1_000_000"
   ],
   "id": "1a5332e93d3af7cd",
   "execution_count": 108,
   "outputs": []
  },
  {
   "metadata": {
    "ExecuteTime": {
     "end_time": "2024-05-31T10:27:50.600486Z",
     "start_time": "2024-05-31T10:27:47.180157Z"
    }
   },
   "cell_type": "code",
   "source": "%timeit samples = [normalvariate(0, 1) for _ in range(N)]",
   "id": "4f99537347d69a97",
   "execution_count": 109,
   "outputs": []
  },
  {
   "metadata": {
    "ExecuteTime": {
     "end_time": "2024-05-31T10:28:52.331795Z",
     "start_time": "2024-05-31T10:28:40.094452Z"
    }
   },
   "cell_type": "code",
   "source": "%timeit np.random.standard_normal(N)",
   "id": "76d310021851baa7",
   "execution_count": 110,
   "outputs": []
  },
  {
   "metadata": {
    "ExecuteTime": {
     "end_time": "2024-05-31T10:30:51.873824Z",
     "start_time": "2024-05-31T10:30:51.864616Z"
    }
   },
   "cell_type": "code",
   "source": "rng = np.random.default_rng(seed=12345)",
   "id": "cac94698835c0fee",
   "execution_count": 111,
   "outputs": []
  },
  {
   "metadata": {
    "ExecuteTime": {
     "end_time": "2024-05-31T10:31:10.590583Z",
     "start_time": "2024-05-31T10:31:10.583711Z"
    }
   },
   "cell_type": "code",
   "source": "data = rng.standard_normal((2,3))",
   "id": "21ef6cf90659b2fc",
   "execution_count": 112,
   "outputs": []
  },
  {
   "metadata": {
    "ExecuteTime": {
     "end_time": "2024-05-31T10:31:44.066491Z",
     "start_time": "2024-05-31T10:31:44.061115Z"
    }
   },
   "cell_type": "code",
   "source": "type(rng)",
   "id": "c836693fe1381c5",
   "execution_count": 113,
   "outputs": []
  },
  {
   "metadata": {},
   "cell_type": "code",
   "execution_count": null,
   "source": "",
   "id": "98a1c8a056bebdea",
   "outputs": []
  }
 ],
 "metadata": {
  "kernelspec": {
   "display_name": "Python 3",
   "language": "python",
   "name": "python3"
  },
  "language_info": {
   "codemirror_mode": {
    "name": "ipython",
    "version": 2
   },
   "file_extension": ".py",
   "mimetype": "text/x-python",
   "name": "python",
   "nbconvert_exporter": "python",
   "pygments_lexer": "ipython2",
   "version": "2.7.6"
  }
 },
 "nbformat": 4,
 "nbformat_minor": 5
}
