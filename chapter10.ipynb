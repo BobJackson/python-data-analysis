{
 "cells": [
  {
   "cell_type": "code",
   "id": "initial_id",
   "metadata": {
    "collapsed": true,
    "ExecuteTime": {
     "end_time": "2024-06-14T07:05:11.199045Z",
     "start_time": "2024-06-14T07:05:10.482500Z"
    }
   },
   "source": [
    "import numpy as np\n",
    "import pandas as pd"
   ],
   "execution_count": 1,
   "outputs": []
  },
  {
   "metadata": {
    "ExecuteTime": {
     "end_time": "2024-06-14T07:07:16.461288Z",
     "start_time": "2024-06-14T07:07:16.427860Z"
    }
   },
   "cell_type": "code",
   "source": [
    "df = pd.DataFrame({\"key1\": [\"a\", \"a\", None, \"b\", \"b\", \"a\", None],\n",
    "                   \"key2\": pd.Series([1, 2, 1, 2, 1, None, 1], dtype=\"Int64\"),\n",
    "                   \"data1\": np.random.standard_normal(7),\n",
    "                   \"data2\": np.random.standard_normal(7)})"
   ],
   "id": "a9d946a9311ab333",
   "execution_count": 2,
   "outputs": []
  },
  {
   "metadata": {
    "ExecuteTime": {
     "end_time": "2024-06-14T07:07:17.556273Z",
     "start_time": "2024-06-14T07:07:17.547300Z"
    }
   },
   "cell_type": "code",
   "source": "df",
   "id": "ba5e9bcaf615a99a",
   "execution_count": 3,
   "outputs": []
  },
  {
   "metadata": {
    "ExecuteTime": {
     "end_time": "2024-06-14T07:07:44.625613Z",
     "start_time": "2024-06-14T07:07:44.619312Z"
    }
   },
   "cell_type": "code",
   "source": "grouped = df[\"data1\"].groupby(df[\"key1\"])",
   "id": "fc747255ea527c14",
   "execution_count": 4,
   "outputs": []
  },
  {
   "metadata": {
    "ExecuteTime": {
     "end_time": "2024-06-14T07:07:46.847422Z",
     "start_time": "2024-06-14T07:07:46.844557Z"
    }
   },
   "cell_type": "code",
   "source": "grouped",
   "id": "c589215b1f4b782e",
   "execution_count": 5,
   "outputs": []
  },
  {
   "metadata": {
    "ExecuteTime": {
     "end_time": "2024-06-14T07:07:58.189180Z",
     "start_time": "2024-06-14T07:07:58.183521Z"
    }
   },
   "cell_type": "code",
   "source": "grouped.mean()",
   "id": "91d467c065137d7b",
   "execution_count": 6,
   "outputs": []
  },
  {
   "metadata": {
    "ExecuteTime": {
     "end_time": "2024-06-14T07:08:39.496696Z",
     "start_time": "2024-06-14T07:08:39.486081Z"
    }
   },
   "cell_type": "code",
   "source": "means = df[\"data1\"].groupby([df[\"key1\"], df[\"key2\"]]).mean()",
   "id": "e5a82c9415d74a26",
   "execution_count": 7,
   "outputs": []
  },
  {
   "metadata": {
    "ExecuteTime": {
     "end_time": "2024-06-14T07:08:41.692200Z",
     "start_time": "2024-06-14T07:08:41.687534Z"
    }
   },
   "cell_type": "code",
   "source": "means",
   "id": "40f22fe16bc927ab",
   "execution_count": 8,
   "outputs": []
  },
  {
   "metadata": {
    "ExecuteTime": {
     "end_time": "2024-06-14T07:08:56.407866Z",
     "start_time": "2024-06-14T07:08:56.397866Z"
    }
   },
   "cell_type": "code",
   "source": "means.unstack()",
   "id": "6c1fb0996e2ea4e2",
   "execution_count": 9,
   "outputs": []
  },
  {
   "metadata": {
    "ExecuteTime": {
     "end_time": "2024-06-14T07:11:49.080998Z",
     "start_time": "2024-06-14T07:11:49.078906Z"
    }
   },
   "cell_type": "code",
   "source": "states = np.array([\"OH\", \"CA\", \"CA\", \"OH\", \"OH\", \"CA\", \"OH\"])",
   "id": "a7664aab6a9baaf9",
   "execution_count": 13,
   "outputs": []
  },
  {
   "metadata": {
    "ExecuteTime": {
     "end_time": "2024-06-14T07:10:54.449994Z",
     "start_time": "2024-06-14T07:10:54.445566Z"
    }
   },
   "cell_type": "code",
   "source": "years = [2005, 2005, 2006, 2005, 2006, 2005, 2006]",
   "id": "2c98697f82371b12",
   "execution_count": 11,
   "outputs": []
  },
  {
   "metadata": {
    "ExecuteTime": {
     "end_time": "2024-06-14T07:11:50.333558Z",
     "start_time": "2024-06-14T07:11:50.325697Z"
    }
   },
   "cell_type": "code",
   "source": "df[\"data1\"].groupby([states, years]).mean()",
   "id": "fafc59e83b10dbbc",
   "execution_count": 14,
   "outputs": []
  },
  {
   "metadata": {
    "ExecuteTime": {
     "end_time": "2024-06-14T07:12:37.739221Z",
     "start_time": "2024-06-14T07:12:37.722627Z"
    }
   },
   "cell_type": "code",
   "source": "df[\"data1\"]",
   "id": "658cbcb372485720",
   "execution_count": 15,
   "outputs": []
  },
  {
   "metadata": {
    "ExecuteTime": {
     "end_time": "2024-06-14T07:12:56.183253Z",
     "start_time": "2024-06-14T07:12:56.175954Z"
    }
   },
   "cell_type": "code",
   "source": "df.groupby(\"key1\").mean()",
   "id": "fdc02c1096b4a03d",
   "execution_count": 16,
   "outputs": []
  },
  {
   "metadata": {
    "ExecuteTime": {
     "end_time": "2024-06-14T07:13:09.175591Z",
     "start_time": "2024-06-14T07:13:08.387123Z"
    }
   },
   "cell_type": "code",
   "source": "df.groupby(\"key2\").mean()",
   "id": "cc228d2c8a9e9b4b",
   "execution_count": 17,
   "outputs": []
  },
  {
   "metadata": {
    "ExecuteTime": {
     "end_time": "2024-06-14T07:13:46.036352Z",
     "start_time": "2024-06-14T07:13:46.031403Z"
    }
   },
   "cell_type": "code",
   "source": "df",
   "id": "fed4d09068f711f4",
   "execution_count": 18,
   "outputs": []
  },
  {
   "metadata": {
    "ExecuteTime": {
     "end_time": "2024-06-14T07:14:44.231338Z",
     "start_time": "2024-06-14T07:14:44.205735Z"
    }
   },
   "cell_type": "code",
   "source": "df.groupby([\"key1\", \"key2\"]).mean()",
   "id": "f118d776ed886500",
   "execution_count": 21,
   "outputs": []
  },
  {
   "metadata": {
    "ExecuteTime": {
     "end_time": "2024-06-14T07:15:10.974840Z",
     "start_time": "2024-06-14T07:15:10.944899Z"
    }
   },
   "cell_type": "code",
   "source": "df.groupby([\"key1\", \"key2\"]).size()",
   "id": "bdf440aeab46fb4f",
   "execution_count": 22,
   "outputs": []
  },
  {
   "metadata": {
    "ExecuteTime": {
     "end_time": "2024-06-14T07:15:34.164158Z",
     "start_time": "2024-06-14T07:15:34.155353Z"
    }
   },
   "cell_type": "code",
   "source": "df.groupby(\"key1\", dropna=False).size()",
   "id": "c49666219750f81f",
   "execution_count": 23,
   "outputs": []
  },
  {
   "metadata": {
    "ExecuteTime": {
     "end_time": "2024-06-14T07:16:07.472448Z",
     "start_time": "2024-06-14T07:16:07.449841Z"
    }
   },
   "cell_type": "code",
   "source": "df.groupby([\"key1\", \"key2\"], dropna=False).size()",
   "id": "e889846376a974c7",
   "execution_count": 24,
   "outputs": []
  },
  {
   "metadata": {
    "ExecuteTime": {
     "end_time": "2024-06-14T07:16:24.226296Z",
     "start_time": "2024-06-14T07:16:24.220186Z"
    }
   },
   "cell_type": "code",
   "source": "df.groupby(\"key1\").count()",
   "id": "649a441cc403174e",
   "execution_count": 25,
   "outputs": []
  },
  {
   "metadata": {
    "ExecuteTime": {
     "end_time": "2024-06-14T07:17:13.057778Z",
     "start_time": "2024-06-14T07:17:13.040186Z"
    }
   },
   "cell_type": "code",
   "source": [
    "for name, group in df.groupby(\"key1\"):\n",
    "    print(name)\n",
    "    print(group)"
   ],
   "id": "30bc820a78505408",
   "execution_count": 26,
   "outputs": []
  },
  {
   "metadata": {
    "ExecuteTime": {
     "end_time": "2024-06-14T07:18:17.703654Z",
     "start_time": "2024-06-14T07:18:17.679126Z"
    }
   },
   "cell_type": "code",
   "source": [
    "for (k1, k2), group in df.groupby([\"key1\", \"key2\"]):\n",
    "    print((k1, k2))\n",
    "    print(group)"
   ],
   "id": "8098fb8225704224",
   "execution_count": 27,
   "outputs": []
  },
  {
   "metadata": {
    "ExecuteTime": {
     "end_time": "2024-06-14T07:18:55.495935Z",
     "start_time": "2024-06-14T07:18:55.473841Z"
    }
   },
   "cell_type": "code",
   "source": "pieces = {name: group for name, group in df.groupby(\"key1\")}",
   "id": "58093c19e022600",
   "execution_count": 28,
   "outputs": []
  },
  {
   "metadata": {
    "ExecuteTime": {
     "end_time": "2024-06-14T07:19:00.099336Z",
     "start_time": "2024-06-14T07:19:00.094928Z"
    }
   },
   "cell_type": "code",
   "source": "pieces[\"b\"]",
   "id": "428c871a6bd32d2c",
   "execution_count": 29,
   "outputs": []
  },
  {
   "metadata": {
    "ExecuteTime": {
     "end_time": "2024-06-14T07:20:13.256800Z",
     "start_time": "2024-06-14T07:20:13.248966Z"
    }
   },
   "cell_type": "code",
   "source": "grouped = df.groupby({\"key1\": \"key\", \"key2\": \"key\", \"data1\": \"data\", \"data2\": \"data\"}, axis=\"columns\")",
   "id": "7a2a812d3809720f",
   "execution_count": 30,
   "outputs": []
  },
  {
   "metadata": {
    "ExecuteTime": {
     "end_time": "2024-06-14T07:23:54.904705Z",
     "start_time": "2024-06-14T07:23:54.885950Z"
    }
   },
   "cell_type": "code",
   "source": [
    "for group_key, group_values in grouped:\n",
    "    print(group_key)\n",
    "    print(group_values)"
   ],
   "id": "c1429499f6b3c750",
   "execution_count": 31,
   "outputs": []
  },
  {
   "metadata": {
    "ExecuteTime": {
     "end_time": "2024-06-14T07:25:24.095971Z",
     "start_time": "2024-06-14T07:25:24.089448Z"
    }
   },
   "cell_type": "code",
   "source": "df.groupby(\"key1\")[\"data1\"]",
   "id": "8ed78bd2068dd7ae",
   "execution_count": 32,
   "outputs": []
  },
  {
   "metadata": {
    "ExecuteTime": {
     "end_time": "2024-06-14T07:25:38.489428Z",
     "start_time": "2024-06-14T07:25:38.482068Z"
    }
   },
   "cell_type": "code",
   "source": "df.groupby(\"key2\")[\"data2\"]",
   "id": "5908be4b96278b38",
   "execution_count": 33,
   "outputs": []
  },
  {
   "metadata": {
    "ExecuteTime": {
     "end_time": "2024-06-14T07:26:09.972681Z",
     "start_time": "2024-06-14T07:26:09.966546Z"
    }
   },
   "cell_type": "code",
   "source": "df[\"data1\"].groupby(df[\"key1\"])",
   "id": "35f28501f5da684b",
   "execution_count": 34,
   "outputs": []
  },
  {
   "metadata": {
    "ExecuteTime": {
     "end_time": "2024-06-14T07:27:08.265486Z",
     "start_time": "2024-06-14T07:27:08.249784Z"
    }
   },
   "cell_type": "code",
   "source": "df.groupby([\"key1\", \"key2\"])[[\"data2\"]].mean()",
   "id": "2ffc6169be52cf5c",
   "execution_count": 35,
   "outputs": []
  },
  {
   "metadata": {
    "ExecuteTime": {
     "end_time": "2024-06-14T07:27:43.416270Z",
     "start_time": "2024-06-14T07:27:43.411182Z"
    }
   },
   "cell_type": "code",
   "source": "s_grouped = df.groupby([\"key1\", \"key2\"])[\"data2\"]",
   "id": "e37d50055771a540",
   "execution_count": 36,
   "outputs": []
  },
  {
   "metadata": {
    "ExecuteTime": {
     "end_time": "2024-06-14T07:27:47.334502Z",
     "start_time": "2024-06-14T07:27:47.331624Z"
    }
   },
   "cell_type": "code",
   "source": "s_grouped",
   "id": "76789d520ad0655c",
   "execution_count": 37,
   "outputs": []
  },
  {
   "metadata": {
    "ExecuteTime": {
     "end_time": "2024-06-14T07:27:53.174266Z",
     "start_time": "2024-06-14T07:27:53.167366Z"
    }
   },
   "cell_type": "code",
   "source": "s_grouped.mean()",
   "id": "9519fbd6e0534bbd",
   "execution_count": 38,
   "outputs": []
  },
  {
   "metadata": {
    "ExecuteTime": {
     "end_time": "2024-06-14T07:28:09.649932Z",
     "start_time": "2024-06-14T07:28:09.640113Z"
    }
   },
   "cell_type": "code",
   "source": "s_grouped.max()",
   "id": "d4f6a82154768f2d",
   "execution_count": 39,
   "outputs": []
  },
  {
   "metadata": {
    "ExecuteTime": {
     "end_time": "2024-06-14T07:29:38.498725Z",
     "start_time": "2024-06-14T07:29:38.490546Z"
    }
   },
   "cell_type": "code",
   "source": [
    "people = pd.DataFrame(np.random.standard_normal((5, 5)),\n",
    "                      columns=[\"a\", \"b\", \"c\", \"d\", \"e\"],\n",
    "                      index=[\"Joe\", \"Steve\", \"Wanda\", \"Jill\", \"Trey\"])"
   ],
   "id": "a515696f3a3d7692",
   "execution_count": 40,
   "outputs": []
  },
  {
   "metadata": {
    "ExecuteTime": {
     "end_time": "2024-06-14T07:30:00.176600Z",
     "start_time": "2024-06-14T07:30:00.170953Z"
    }
   },
   "cell_type": "code",
   "source": "people.iloc[2:3, [1, 2]] = np.nan",
   "id": "db6bee905f152acc",
   "execution_count": 41,
   "outputs": []
  },
  {
   "metadata": {
    "ExecuteTime": {
     "end_time": "2024-06-14T07:30:03.064202Z",
     "start_time": "2024-06-14T07:30:03.059522Z"
    }
   },
   "cell_type": "code",
   "source": "people",
   "id": "28a775f08bf9adaf",
   "execution_count": 42,
   "outputs": []
  },
  {
   "metadata": {
    "ExecuteTime": {
     "end_time": "2024-06-14T07:31:15.344913Z",
     "start_time": "2024-06-14T07:31:15.325668Z"
    }
   },
   "cell_type": "code",
   "source": "mapping = {\"a\": \"red\", \"b\": \"red\", \"c\": \"blue\", \"d\": \"blue\", \"e\": \"red\", \"f\": \"orange\"}",
   "id": "9e0b5ebe555b3e63",
   "execution_count": 43,
   "outputs": []
  },
  {
   "metadata": {
    "ExecuteTime": {
     "end_time": "2024-06-14T07:32:18.256057Z",
     "start_time": "2024-06-14T07:32:18.252429Z"
    }
   },
   "cell_type": "code",
   "source": "by_column = people.groupby(mapping, axis=\"columns\")",
   "id": "5396852daf86ad78",
   "execution_count": 47,
   "outputs": []
  },
  {
   "metadata": {
    "ExecuteTime": {
     "end_time": "2024-06-14T07:32:05.990118Z",
     "start_time": "2024-06-14T07:32:05.977829Z"
    }
   },
   "cell_type": "code",
   "source": "# by_column = people.T.groupby(mapping)",
   "id": "f3ba246646f02ab7",
   "execution_count": 45,
   "outputs": []
  },
  {
   "metadata": {
    "ExecuteTime": {
     "end_time": "2024-06-14T07:32:29.985710Z",
     "start_time": "2024-06-14T07:32:29.981648Z"
    }
   },
   "cell_type": "code",
   "source": "by_column.sum()",
   "id": "dc13d84e2a45989d",
   "execution_count": 49,
   "outputs": []
  },
  {
   "metadata": {
    "ExecuteTime": {
     "end_time": "2024-06-14T07:32:47.733232Z",
     "start_time": "2024-06-14T07:32:47.730369Z"
    }
   },
   "cell_type": "code",
   "source": "map_series = pd.Series(mapping)",
   "id": "ff3f0b20b2f92b7f",
   "execution_count": 50,
   "outputs": []
  },
  {
   "metadata": {
    "ExecuteTime": {
     "end_time": "2024-06-14T07:32:51.870783Z",
     "start_time": "2024-06-14T07:32:51.867167Z"
    }
   },
   "cell_type": "code",
   "source": "map_series",
   "id": "fcd1e85128b18869",
   "execution_count": 51,
   "outputs": []
  },
  {
   "metadata": {
    "ExecuteTime": {
     "end_time": "2024-06-14T07:33:12.117276Z",
     "start_time": "2024-06-14T07:33:12.103074Z"
    }
   },
   "cell_type": "code",
   "source": "people.groupby(map_series, axis=\"columns\").count()",
   "id": "b36b88fdae9fd5ab",
   "execution_count": 52,
   "outputs": []
  },
  {
   "metadata": {
    "ExecuteTime": {
     "end_time": "2024-06-14T07:33:43.986783Z",
     "start_time": "2024-06-14T07:33:43.976577Z"
    }
   },
   "cell_type": "code",
   "source": "people",
   "id": "70f19cf3a77fb1bb",
   "execution_count": 53,
   "outputs": []
  },
  {
   "metadata": {
    "ExecuteTime": {
     "end_time": "2024-06-14T07:34:18.452380Z",
     "start_time": "2024-06-14T07:34:18.440852Z"
    }
   },
   "cell_type": "code",
   "source": "people.groupby(len).sum()",
   "id": "e173d95e211a1665",
   "execution_count": 54,
   "outputs": []
  },
  {
   "metadata": {
    "ExecuteTime": {
     "end_time": "2024-06-14T07:34:41.964035Z",
     "start_time": "2024-06-14T07:34:41.960095Z"
    }
   },
   "cell_type": "code",
   "source": "key_list = [\"one\", \"one\", \"one\", \"two\", \"two\"]",
   "id": "a727bcd3f5760956",
   "execution_count": 55,
   "outputs": []
  },
  {
   "metadata": {
    "ExecuteTime": {
     "end_time": "2024-06-14T07:34:54.474118Z",
     "start_time": "2024-06-14T07:34:54.458898Z"
    }
   },
   "cell_type": "code",
   "source": "people.groupby([len, key_list]).min()",
   "id": "ec9eddef9031dcd1",
   "execution_count": 56,
   "outputs": []
  },
  {
   "metadata": {
    "ExecuteTime": {
     "end_time": "2024-06-14T07:35:59.435870Z",
     "start_time": "2024-06-14T07:35:59.426897Z"
    }
   },
   "cell_type": "code",
   "source": [
    "columns = pd.MultiIndex.from_arrays([[\"US\", \"US\", \"US\", \"JP\", \"JP\"],\n",
    "                                     [1, 3, 5, 1, 3]],\n",
    "                                    names=[\"cty\", \"tenor\"])"
   ],
   "id": "236e15fcb3ff5caf",
   "execution_count": 57,
   "outputs": []
  },
  {
   "metadata": {
    "ExecuteTime": {
     "end_time": "2024-06-14T07:36:31.230504Z",
     "start_time": "2024-06-14T07:36:31.222743Z"
    }
   },
   "cell_type": "code",
   "source": "hier_df = pd.DataFrame(np.random.standard_normal((4, 5)), columns=columns)",
   "id": "1669e5758246cd55",
   "execution_count": 58,
   "outputs": []
  },
  {
   "metadata": {
    "ExecuteTime": {
     "end_time": "2024-06-14T07:36:40.292207Z",
     "start_time": "2024-06-14T07:36:40.286554Z"
    }
   },
   "cell_type": "code",
   "source": "hier_df",
   "id": "41ddacda495d92e0",
   "execution_count": 59,
   "outputs": []
  },
  {
   "metadata": {
    "ExecuteTime": {
     "end_time": "2024-06-14T07:37:08.304300Z",
     "start_time": "2024-06-14T07:37:08.293332Z"
    }
   },
   "cell_type": "code",
   "source": "hier_df.groupby(level=\"cty\", axis=\"columns\").count()",
   "id": "6951ead567910201",
   "execution_count": 60,
   "outputs": []
  },
  {
   "metadata": {
    "ExecuteTime": {
     "end_time": "2024-06-14T07:41:46.612798Z",
     "start_time": "2024-06-14T07:41:46.600748Z"
    }
   },
   "cell_type": "code",
   "source": "df",
   "id": "348d6bae1a5a0f55",
   "execution_count": 61,
   "outputs": []
  },
  {
   "metadata": {
    "ExecuteTime": {
     "end_time": "2024-06-14T07:42:08.458723Z",
     "start_time": "2024-06-14T07:42:08.453184Z"
    }
   },
   "cell_type": "code",
   "source": "grouped = df.groupby(\"key1\")",
   "id": "4cf63d7d02e08e29",
   "execution_count": 62,
   "outputs": []
  },
  {
   "metadata": {
    "ExecuteTime": {
     "end_time": "2024-06-14T07:42:28.723728Z",
     "start_time": "2024-06-14T07:42:28.701499Z"
    }
   },
   "cell_type": "code",
   "source": "grouped[\"data1\"].nsmallest(2)",
   "id": "bef06d71add8e289",
   "execution_count": 63,
   "outputs": []
  },
  {
   "metadata": {
    "ExecuteTime": {
     "end_time": "2024-06-14T07:43:27.029350Z",
     "start_time": "2024-06-14T07:43:27.025612Z"
    }
   },
   "cell_type": "code",
   "source": [
    "def peak_to_peak(arr):\n",
    "    return arr.max() - arr.min()"
   ],
   "id": "eed5985837dd3689",
   "execution_count": 64,
   "outputs": []
  },
  {
   "metadata": {
    "ExecuteTime": {
     "end_time": "2024-06-14T07:44:10.066063Z",
     "start_time": "2024-06-14T07:44:10.043967Z"
    }
   },
   "cell_type": "code",
   "source": "grouped.agg(peak_to_peak)",
   "id": "f88cc5cadd734f07",
   "execution_count": 65,
   "outputs": []
  },
  {
   "metadata": {
    "ExecuteTime": {
     "end_time": "2024-06-14T07:44:37.222186Z",
     "start_time": "2024-06-14T07:44:37.187343Z"
    }
   },
   "cell_type": "code",
   "source": "grouped.describe()",
   "id": "f83f1a86118b7314",
   "execution_count": 66,
   "outputs": []
  },
  {
   "metadata": {
    "ExecuteTime": {
     "end_time": "2024-06-14T07:45:12.917944Z",
     "start_time": "2024-06-14T07:45:12.901151Z"
    }
   },
   "cell_type": "code",
   "source": "tips = pd.read_csv(\"examples/tips.csv\")",
   "id": "bb1673f40aaa0d24",
   "execution_count": 67,
   "outputs": []
  },
  {
   "metadata": {
    "ExecuteTime": {
     "end_time": "2024-06-14T07:45:17.907840Z",
     "start_time": "2024-06-14T07:45:17.900518Z"
    }
   },
   "cell_type": "code",
   "source": "tips.head()",
   "id": "e7904fea5e570206",
   "execution_count": 68,
   "outputs": []
  },
  {
   "metadata": {
    "ExecuteTime": {
     "end_time": "2024-06-14T07:45:56.603929Z",
     "start_time": "2024-06-14T07:45:56.596422Z"
    }
   },
   "cell_type": "code",
   "source": "tips[\"tip_pct\"] = tips[\"tip\"] / tips[\"total_bill\"]",
   "id": "b24ac9df793d0536",
   "execution_count": 69,
   "outputs": []
  },
  {
   "metadata": {
    "ExecuteTime": {
     "end_time": "2024-06-14T07:46:00.523782Z",
     "start_time": "2024-06-14T07:46:00.518380Z"
    }
   },
   "cell_type": "code",
   "source": "tips.head()",
   "id": "a15634be946b1bfc",
   "execution_count": 70,
   "outputs": []
  },
  {
   "metadata": {
    "ExecuteTime": {
     "end_time": "2024-06-14T07:46:34.269472Z",
     "start_time": "2024-06-14T07:46:34.263764Z"
    }
   },
   "cell_type": "code",
   "source": "grouped = tips.groupby([\"day\", \"smoker\"])",
   "id": "2acee18770389877",
   "execution_count": 71,
   "outputs": []
  },
  {
   "metadata": {
    "ExecuteTime": {
     "end_time": "2024-06-14T07:47:24.894097Z",
     "start_time": "2024-06-14T07:47:24.888972Z"
    }
   },
   "cell_type": "code",
   "source": "grouped_pct = grouped[\"tip_pct\"]",
   "id": "8684b1d9774b5671",
   "execution_count": 72,
   "outputs": []
  },
  {
   "metadata": {
    "ExecuteTime": {
     "end_time": "2024-06-14T07:47:38.118255Z",
     "start_time": "2024-06-14T07:47:38.111878Z"
    }
   },
   "cell_type": "code",
   "source": "grouped_pct.agg(\"mean\")",
   "id": "45c0d7c10449c9c7",
   "execution_count": 73,
   "outputs": []
  },
  {
   "metadata": {
    "ExecuteTime": {
     "end_time": "2024-06-14T07:48:12.990724Z",
     "start_time": "2024-06-14T07:48:12.975045Z"
    }
   },
   "cell_type": "code",
   "source": "grouped_pct.agg([\"mean\", \"std\", peak_to_peak])",
   "id": "55ee21ebe8d02844",
   "execution_count": 74,
   "outputs": []
  },
  {
   "metadata": {
    "ExecuteTime": {
     "end_time": "2024-06-14T07:49:05.917251Z",
     "start_time": "2024-06-14T07:49:05.882429Z"
    }
   },
   "cell_type": "code",
   "source": "grouped_pct.agg([(\"average\", \"mean\"), (\"stdev\", np.std)])",
   "id": "f55a856f42d5b5a6",
   "execution_count": 75,
   "outputs": []
  },
  {
   "metadata": {
    "ExecuteTime": {
     "end_time": "2024-06-14T07:49:52.947410Z",
     "start_time": "2024-06-14T07:49:52.942518Z"
    }
   },
   "cell_type": "code",
   "source": "functions = [\"count\", \"mean\", \"max\"]",
   "id": "bc2fd511a3088dda",
   "execution_count": 76,
   "outputs": []
  },
  {
   "metadata": {
    "ExecuteTime": {
     "end_time": "2024-06-14T07:50:20.053168Z",
     "start_time": "2024-06-14T07:50:20.033865Z"
    }
   },
   "cell_type": "code",
   "source": "result = grouped[[\"tip_pct\", \"total_bill\"]].agg(functions)",
   "id": "61de1fdcfedce015",
   "execution_count": 77,
   "outputs": []
  },
  {
   "metadata": {
    "ExecuteTime": {
     "end_time": "2024-06-14T07:50:21.605721Z",
     "start_time": "2024-06-14T07:50:21.598463Z"
    }
   },
   "cell_type": "code",
   "source": "result",
   "id": "4fba0b96dbcbea69",
   "execution_count": 78,
   "outputs": []
  },
  {
   "metadata": {
    "ExecuteTime": {
     "end_time": "2024-06-14T07:50:47.046416Z",
     "start_time": "2024-06-14T07:50:47.035921Z"
    }
   },
   "cell_type": "code",
   "source": "result[\"tip_pct\"]",
   "id": "4b87e4abf3b2ddc8",
   "execution_count": 79,
   "outputs": []
  },
  {
   "metadata": {
    "ExecuteTime": {
     "end_time": "2024-06-14T07:51:35.833005Z",
     "start_time": "2024-06-14T07:51:35.828157Z"
    }
   },
   "cell_type": "code",
   "source": "ftuples = [(\"Average\", \"mean\"), (\"Variance\", np.var)]",
   "id": "9c757cb0999b4319",
   "execution_count": 80,
   "outputs": []
  },
  {
   "metadata": {
    "ExecuteTime": {
     "end_time": "2024-06-14T07:52:06.373320Z",
     "start_time": "2024-06-14T07:52:06.352572Z"
    }
   },
   "cell_type": "code",
   "source": "grouped[[\"tip_pct\", \"total_bill\"]].agg(ftuples)",
   "id": "d8caa4aac086e408",
   "execution_count": 81,
   "outputs": []
  },
  {
   "metadata": {
    "ExecuteTime": {
     "end_time": "2024-06-14T07:52:41.166937Z",
     "start_time": "2024-06-14T07:52:41.153453Z"
    }
   },
   "cell_type": "code",
   "source": "grouped.agg({\"tip\": np.max, \"size\": \"sum\"})",
   "id": "cc94e539baa1f5cc",
   "execution_count": 82,
   "outputs": []
  },
  {
   "metadata": {
    "ExecuteTime": {
     "end_time": "2024-06-14T07:54:07.290483Z",
     "start_time": "2024-06-14T07:54:07.271652Z"
    }
   },
   "cell_type": "code",
   "source": "grouped.agg({\"tip_pct\": [\"min\", \"max\", \"mean\", \"std\"], \"size\": \"sum\"})",
   "id": "4c72f6b90a2ababe",
   "execution_count": 84,
   "outputs": []
  },
  {
   "metadata": {
    "ExecuteTime": {
     "end_time": "2024-06-14T07:55:35.929267Z",
     "start_time": "2024-06-14T07:55:35.912306Z"
    }
   },
   "cell_type": "code",
   "source": "tips.groupby([\"day\", \"smoker\"], as_index=False).min()",
   "id": "b8255d0f123a67e6",
   "execution_count": 88,
   "outputs": []
  },
  {
   "metadata": {
    "ExecuteTime": {
     "end_time": "2024-06-14T07:57:05.044778Z",
     "start_time": "2024-06-14T07:57:05.039828Z"
    }
   },
   "cell_type": "code",
   "source": [
    "def top(df, n=5, columns=\"tip_pct\"):\n",
    "    return df.sort_values(columns, ascending=False)[:n]"
   ],
   "id": "79fafe7928a5ffef",
   "execution_count": 89,
   "outputs": []
  },
  {
   "metadata": {
    "ExecuteTime": {
     "end_time": "2024-06-14T07:57:13.922006Z",
     "start_time": "2024-06-14T07:57:13.914745Z"
    }
   },
   "cell_type": "code",
   "source": "top(tips, n=6)",
   "id": "29952c462a891c49",
   "execution_count": 90,
   "outputs": []
  },
  {
   "metadata": {
    "ExecuteTime": {
     "end_time": "2024-06-14T07:57:34.458819Z",
     "start_time": "2024-06-14T07:57:34.441243Z"
    }
   },
   "cell_type": "code",
   "source": "tips.groupby(\"smoker\").apply(top)",
   "id": "983013b23efc7a9a",
   "execution_count": 91,
   "outputs": []
  },
  {
   "metadata": {
    "ExecuteTime": {
     "end_time": "2024-06-14T07:58:22.523917Z",
     "start_time": "2024-06-14T07:58:22.506266Z"
    }
   },
   "cell_type": "code",
   "source": "tips.groupby([\"smoker\", \"day\"]).apply(top, n=1, columns=\"total_bill\")",
   "id": "e6d59986f0bdc9ac",
   "execution_count": 92,
   "outputs": []
  },
  {
   "metadata": {
    "ExecuteTime": {
     "end_time": "2024-06-14T07:59:50.457821Z",
     "start_time": "2024-06-14T07:59:50.445155Z"
    }
   },
   "cell_type": "code",
   "source": "result = tips.groupby(\"smoker\")[\"tip_pct\"].describe()",
   "id": "95bcb959bf64220b",
   "execution_count": 93,
   "outputs": []
  },
  {
   "metadata": {
    "ExecuteTime": {
     "end_time": "2024-06-14T07:59:53.156208Z",
     "start_time": "2024-06-14T07:59:53.150775Z"
    }
   },
   "cell_type": "code",
   "source": "result",
   "id": "84034375f873a3da",
   "execution_count": 94,
   "outputs": []
  },
  {
   "metadata": {
    "ExecuteTime": {
     "end_time": "2024-06-14T08:00:30.803041Z",
     "start_time": "2024-06-14T08:00:30.792982Z"
    }
   },
   "cell_type": "code",
   "source": "result.unstack()",
   "id": "9842dffdf2fe14c7",
   "execution_count": 95,
   "outputs": []
  },
  {
   "metadata": {
    "ExecuteTime": {
     "end_time": "2024-06-14T08:01:10.795519Z",
     "start_time": "2024-06-14T08:01:10.789125Z"
    }
   },
   "cell_type": "code",
   "source": [
    "def f(group):\n",
    "    return group.describe()"
   ],
   "id": "87586dcff585f02d",
   "execution_count": 96,
   "outputs": []
  },
  {
   "metadata": {
    "ExecuteTime": {
     "end_time": "2024-06-14T08:01:16.719380Z",
     "start_time": "2024-06-14T08:01:16.693756Z"
    }
   },
   "cell_type": "code",
   "source": "grouped.apply(f)",
   "id": "a255043f39b15d7b",
   "execution_count": 97,
   "outputs": []
  },
  {
   "metadata": {
    "ExecuteTime": {
     "end_time": "2024-06-14T08:02:10.537707Z",
     "start_time": "2024-06-14T08:02:10.512388Z"
    }
   },
   "cell_type": "code",
   "source": "tips.groupby(\"smoker\", group_keys=False).apply(top)",
   "id": "f30214e01e1668df",
   "execution_count": 98,
   "outputs": []
  },
  {
   "metadata": {
    "ExecuteTime": {
     "end_time": "2024-06-14T08:03:19.104878Z",
     "start_time": "2024-06-14T08:03:19.098356Z"
    }
   },
   "cell_type": "code",
   "source": [
    "frame = pd.DataFrame({\"data1\": np.random.standard_normal(1000),\n",
    "                      \"data2\": np.random.standard_normal(1000)})"
   ],
   "id": "a2b7c56b8768292d",
   "execution_count": 99,
   "outputs": []
  },
  {
   "metadata": {
    "ExecuteTime": {
     "end_time": "2024-06-14T08:03:23.207318Z",
     "start_time": "2024-06-14T08:03:23.202530Z"
    }
   },
   "cell_type": "code",
   "source": "frame.head()",
   "id": "7c3e069ab855b863",
   "execution_count": 100,
   "outputs": []
  },
  {
   "metadata": {
    "ExecuteTime": {
     "end_time": "2024-06-14T08:03:50.042325Z",
     "start_time": "2024-06-14T08:03:50.030623Z"
    }
   },
   "cell_type": "code",
   "source": "quartiles = pd.cut(frame[\"data1\"], 4)",
   "id": "17df0fd8b4fb0c30",
   "execution_count": 101,
   "outputs": []
  },
  {
   "metadata": {
    "ExecuteTime": {
     "end_time": "2024-06-14T08:03:57.358668Z",
     "start_time": "2024-06-14T08:03:57.354416Z"
    }
   },
   "cell_type": "code",
   "source": "quartiles.head(10)",
   "id": "8beab48d8c21475f",
   "execution_count": 102,
   "outputs": []
  },
  {
   "metadata": {
    "ExecuteTime": {
     "end_time": "2024-06-14T08:06:45.470512Z",
     "start_time": "2024-06-14T08:06:45.464927Z"
    }
   },
   "cell_type": "code",
   "source": [
    "def get_stats(group):\n",
    "    return pd.DataFrame({\n",
    "        \"min\": group.min(),\n",
    "        \"max\": group.max(),\n",
    "        \"count\": group.count(),\n",
    "        \"mean\": group.mean()\n",
    "    })"
   ],
   "id": "f0747c796dae1828",
   "execution_count": 103,
   "outputs": []
  },
  {
   "metadata": {
    "ExecuteTime": {
     "end_time": "2024-06-14T08:06:58.455081Z",
     "start_time": "2024-06-14T08:06:58.444343Z"
    }
   },
   "cell_type": "code",
   "source": "grouped = frame.groupby(quartiles)",
   "id": "df419e38e4240253",
   "execution_count": 104,
   "outputs": []
  },
  {
   "metadata": {
    "ExecuteTime": {
     "end_time": "2024-06-14T08:07:10.773077Z",
     "start_time": "2024-06-14T08:07:10.753229Z"
    }
   },
   "cell_type": "code",
   "source": "grouped.apply(get_stats)",
   "id": "c50b82e9eec9fdfa",
   "execution_count": 105,
   "outputs": []
  },
  {
   "metadata": {
    "ExecuteTime": {
     "end_time": "2024-06-14T08:08:13.371280Z",
     "start_time": "2024-06-14T08:08:13.336558Z"
    }
   },
   "cell_type": "code",
   "source": "grouped.agg([\"min\", \"max\", \"count\", \"mean\"])",
   "id": "2e95d7adfeea9dd0",
   "execution_count": 106,
   "outputs": []
  },
  {
   "metadata": {
    "ExecuteTime": {
     "end_time": "2024-06-14T08:09:13.008013Z",
     "start_time": "2024-06-14T08:09:12.984559Z"
    }
   },
   "cell_type": "code",
   "source": "quartiles_samp = pd.qcut(frame[\"data1\"], 4, labels=False)",
   "id": "529c7f8c3fd6508",
   "execution_count": 107,
   "outputs": []
  },
  {
   "metadata": {
    "ExecuteTime": {
     "end_time": "2024-06-14T08:09:19.497205Z",
     "start_time": "2024-06-14T08:09:19.492496Z"
    }
   },
   "cell_type": "code",
   "source": "quartiles_samp.head()",
   "id": "1acd2b1dc7bff747",
   "execution_count": 108,
   "outputs": []
  },
  {
   "metadata": {
    "ExecuteTime": {
     "end_time": "2024-06-14T08:09:35.023622Z",
     "start_time": "2024-06-14T08:09:34.989692Z"
    }
   },
   "cell_type": "code",
   "source": "grouped = frame.groupby(quartiles_samp)",
   "id": "31ffda893b5bc663",
   "execution_count": 109,
   "outputs": []
  },
  {
   "metadata": {
    "ExecuteTime": {
     "end_time": "2024-06-14T08:09:43.235954Z",
     "start_time": "2024-06-14T08:09:43.219858Z"
    }
   },
   "cell_type": "code",
   "source": "grouped.apply(get_stats)",
   "id": "7b0536922d936c35",
   "execution_count": 110,
   "outputs": []
  },
  {
   "metadata": {
    "ExecuteTime": {
     "end_time": "2024-06-14T08:10:09.987349Z",
     "start_time": "2024-06-14T08:10:09.978398Z"
    }
   },
   "cell_type": "code",
   "source": "s = pd.Series(np.random.standard_normal(6))",
   "id": "baaad941a2f763a0",
   "execution_count": 111,
   "outputs": []
  },
  {
   "metadata": {
    "ExecuteTime": {
     "end_time": "2024-06-14T08:10:21.609240Z",
     "start_time": "2024-06-14T08:10:21.606555Z"
    }
   },
   "cell_type": "code",
   "source": "s[::2] = np.nan",
   "id": "f784868d1c75089a",
   "execution_count": 112,
   "outputs": []
  },
  {
   "metadata": {
    "ExecuteTime": {
     "end_time": "2024-06-14T08:10:23.705360Z",
     "start_time": "2024-06-14T08:10:23.701999Z"
    }
   },
   "cell_type": "code",
   "source": "s",
   "id": "f46574390df90e01",
   "execution_count": 113,
   "outputs": []
  },
  {
   "metadata": {
    "ExecuteTime": {
     "end_time": "2024-06-14T08:14:00.092370Z",
     "start_time": "2024-06-14T08:14:00.083116Z"
    }
   },
   "cell_type": "code",
   "source": "s.fillna(s.mean())",
   "id": "9280bf9a4ae37a1e",
   "execution_count": 114,
   "outputs": []
  },
  {
   "metadata": {
    "ExecuteTime": {
     "end_time": "2024-06-14T08:15:13.840383Z",
     "start_time": "2024-06-14T08:15:13.832711Z"
    }
   },
   "cell_type": "code",
   "source": "states = [\"Ohio\", \"New York\", \"Vermont\", \"Florida\", \"Oregon\", \"Nevada\", \"California\", \"Idaho\"]",
   "id": "67623bdb4aed23c1",
   "execution_count": 115,
   "outputs": []
  },
  {
   "metadata": {
    "ExecuteTime": {
     "end_time": "2024-06-14T08:15:50.193616Z",
     "start_time": "2024-06-14T08:15:50.189118Z"
    }
   },
   "cell_type": "code",
   "source": "group_key = [\"East\", \"East\", \"East\", \"East\", \"West\", \"West\", \"West\", \"West\"]",
   "id": "1e9c7b731a419a1f",
   "execution_count": 116,
   "outputs": []
  },
  {
   "metadata": {
    "ExecuteTime": {
     "end_time": "2024-06-14T08:16:09.469098Z",
     "start_time": "2024-06-14T08:16:09.463556Z"
    }
   },
   "cell_type": "code",
   "source": "data = pd.Series(np.random.standard_normal(8), index=states)",
   "id": "253686d03269ed6e",
   "execution_count": 117,
   "outputs": []
  },
  {
   "metadata": {
    "ExecuteTime": {
     "end_time": "2024-06-14T08:16:13.617670Z",
     "start_time": "2024-06-14T08:16:13.613876Z"
    }
   },
   "cell_type": "code",
   "source": "data",
   "id": "130349258210cc4c",
   "execution_count": 118,
   "outputs": []
  },
  {
   "metadata": {
    "ExecuteTime": {
     "end_time": "2024-06-14T08:17:56.344004Z",
     "start_time": "2024-06-14T08:17:56.336828Z"
    }
   },
   "cell_type": "code",
   "source": "data[[\"Vermont\", \"Nevada\", \"Idaho\"]] = np.nan",
   "id": "c1bbb24e48c7abca",
   "execution_count": 119,
   "outputs": []
  },
  {
   "metadata": {
    "ExecuteTime": {
     "end_time": "2024-06-14T08:17:57.635583Z",
     "start_time": "2024-06-14T08:17:57.632310Z"
    }
   },
   "cell_type": "code",
   "source": "data",
   "id": "12235f8a23a7ca86",
   "execution_count": 120,
   "outputs": []
  },
  {
   "metadata": {
    "ExecuteTime": {
     "end_time": "2024-06-14T08:18:17.097999Z",
     "start_time": "2024-06-14T08:18:17.082753Z"
    }
   },
   "cell_type": "code",
   "source": "data.groupby(group_key).size()",
   "id": "1a5889023fc7c73e",
   "execution_count": 121,
   "outputs": []
  },
  {
   "metadata": {
    "ExecuteTime": {
     "end_time": "2024-06-14T08:18:31.155888Z",
     "start_time": "2024-06-14T08:18:31.146587Z"
    }
   },
   "cell_type": "code",
   "source": "data.groupby(group_key).count()",
   "id": "c3d18eb5a63f98c9",
   "execution_count": 122,
   "outputs": []
  },
  {
   "metadata": {
    "ExecuteTime": {
     "end_time": "2024-06-14T08:19:34.288313Z",
     "start_time": "2024-06-14T08:19:34.279477Z"
    }
   },
   "cell_type": "code",
   "source": "data.groupby(group_key).mean()",
   "id": "37edefa2343ca47d",
   "execution_count": 123,
   "outputs": []
  },
  {
   "metadata": {
    "ExecuteTime": {
     "end_time": "2024-06-14T08:20:06.425775Z",
     "start_time": "2024-06-14T08:20:06.421276Z"
    }
   },
   "cell_type": "code",
   "source": [
    "def fill_mean(group):\n",
    "    return group.fillna(group.mean())"
   ],
   "id": "b8ba17821bd04120",
   "execution_count": 124,
   "outputs": []
  },
  {
   "metadata": {
    "ExecuteTime": {
     "end_time": "2024-06-14T08:20:20.171276Z",
     "start_time": "2024-06-14T08:20:20.152837Z"
    }
   },
   "cell_type": "code",
   "source": "data.groupby(group_key).apply(fill_mean)",
   "id": "596a609a770b232c",
   "execution_count": 125,
   "outputs": []
  },
  {
   "metadata": {
    "ExecuteTime": {
     "end_time": "2024-06-14T08:21:11.145939Z",
     "start_time": "2024-06-14T08:21:11.140014Z"
    }
   },
   "cell_type": "code",
   "source": "fill_values = {\"East\": 0.5, \"West\": -1}",
   "id": "48ad1e3faa6006c7",
   "execution_count": 126,
   "outputs": []
  },
  {
   "metadata": {
    "ExecuteTime": {
     "end_time": "2024-06-14T08:21:45.703868Z",
     "start_time": "2024-06-14T08:21:45.698787Z"
    }
   },
   "cell_type": "code",
   "source": [
    "def fill_func(group):\n",
    "    return group.fillna(fill_values[group.name])"
   ],
   "id": "e5c8f88ba7770f42",
   "execution_count": 127,
   "outputs": []
  },
  {
   "metadata": {
    "ExecuteTime": {
     "end_time": "2024-06-14T08:22:03.095175Z",
     "start_time": "2024-06-14T08:22:03.084177Z"
    }
   },
   "cell_type": "code",
   "source": "data.groupby(group_key).apply(fill_func)",
   "id": "7e199cf1cfbc7a55",
   "execution_count": 128,
   "outputs": []
  },
  {
   "metadata": {
    "ExecuteTime": {
     "end_time": "2024-06-14T08:22:10.484770Z",
     "start_time": "2024-06-14T08:22:10.480403Z"
    }
   },
   "cell_type": "code",
   "source": "group_key",
   "id": "8d264118b82b3e02",
   "execution_count": 129,
   "outputs": []
  },
  {
   "metadata": {
    "ExecuteTime": {
     "end_time": "2024-06-14T08:22:49.794306Z",
     "start_time": "2024-06-14T08:22:49.783111Z"
    }
   },
   "cell_type": "code",
   "source": "[\"East\", \"West\"] * 4",
   "id": "9269e8db6371ae2",
   "execution_count": 130,
   "outputs": []
  },
  {
   "metadata": {
    "ExecuteTime": {
     "end_time": "2024-06-14T08:23:11.470378Z",
     "start_time": "2024-06-14T08:23:11.464562Z"
    }
   },
   "cell_type": "code",
   "source": "sorted([\"East\", \"West\"] * 4)",
   "id": "b0c57b3c29d2c754",
   "execution_count": 131,
   "outputs": []
  },
  {
   "metadata": {
    "ExecuteTime": {
     "end_time": "2024-06-14T08:31:34.199631Z",
     "start_time": "2024-06-14T08:31:34.193535Z"
    }
   },
   "cell_type": "code",
   "source": [
    "suits = [\"H\", \"S\", \"C\", \"D\"] # Hearts(♥️), Spades（♠️）, Clubs（♣️）, Diamonds（♦️）\n",
    "card_val = (list(range(1, 11)) + [10] * 3) * 4\n",
    "base_names = [\"A\"] + list(range(2,11)) + [\"J\", \"K\", \"Q\"]\n",
    "cards = []\n",
    "for suit in suits:\n",
    "    cards.extend(str(num) + suit for num in base_names)\n",
    "\n",
    "deck = pd.Series(card_val, index=cards)"
   ],
   "id": "322309ad1c643836",
   "execution_count": 132,
   "outputs": []
  },
  {
   "metadata": {
    "ExecuteTime": {
     "end_time": "2024-06-14T08:35:06.460024Z",
     "start_time": "2024-06-14T08:35:06.457304Z"
    }
   },
   "cell_type": "code",
   "source": "card_val = (list(range(1, 11)) + [10] * 3) * 4",
   "id": "aeb03ab4c3c28eb4",
   "execution_count": 139,
   "outputs": []
  },
  {
   "metadata": {
    "ExecuteTime": {
     "end_time": "2024-06-14T08:36:19.609852Z",
     "start_time": "2024-06-14T08:36:19.606723Z"
    }
   },
   "cell_type": "code",
   "source": "len(card_val)",
   "id": "7a87fd2f956c935b",
   "execution_count": 142,
   "outputs": []
  },
  {
   "metadata": {
    "ExecuteTime": {
     "end_time": "2024-06-14T08:37:03.401627Z",
     "start_time": "2024-06-14T08:37:03.378341Z"
    }
   },
   "cell_type": "code",
   "source": "card_val",
   "id": "2235e57d321cb6df",
   "execution_count": 143,
   "outputs": []
  },
  {
   "metadata": {
    "ExecuteTime": {
     "end_time": "2024-06-14T08:31:41.306912Z",
     "start_time": "2024-06-14T08:31:41.302765Z"
    }
   },
   "cell_type": "code",
   "source": "deck.head(13)",
   "id": "276093520725ae7e",
   "execution_count": 133,
   "outputs": []
  },
  {
   "metadata": {
    "ExecuteTime": {
     "end_time": "2024-06-14T08:32:23.019215Z",
     "start_time": "2024-06-14T08:32:23.011948Z"
    }
   },
   "cell_type": "code",
   "source": [
    "def draw(deck, n=5):\n",
    "    return deck.sample(n)"
   ],
   "id": "92e2b28104419cb",
   "execution_count": 134,
   "outputs": []
  },
  {
   "metadata": {
    "ExecuteTime": {
     "end_time": "2024-06-14T08:32:28.387367Z",
     "start_time": "2024-06-14T08:32:28.381747Z"
    }
   },
   "cell_type": "code",
   "source": "draw(deck)",
   "id": "10cc92f1d146425e",
   "execution_count": 135,
   "outputs": []
  },
  {
   "metadata": {
    "ExecuteTime": {
     "end_time": "2024-06-14T08:33:30.168985Z",
     "start_time": "2024-06-14T08:33:30.164924Z"
    }
   },
   "cell_type": "code",
   "source": [
    "def get_suit(card):\n",
    "    # last letter is suit\n",
    "    return card[-1]"
   ],
   "id": "449d80f760e4dec8",
   "execution_count": 136,
   "outputs": []
  },
  {
   "metadata": {
    "ExecuteTime": {
     "end_time": "2024-06-14T08:33:52.948004Z",
     "start_time": "2024-06-14T08:33:52.922391Z"
    }
   },
   "cell_type": "code",
   "source": "deck.groupby(get_suit).apply(draw, n=2)",
   "id": "50ecdcf81ab4b677",
   "execution_count": 137,
   "outputs": []
  },
  {
   "metadata": {
    "ExecuteTime": {
     "end_time": "2024-06-14T08:40:10.852007Z",
     "start_time": "2024-06-14T08:40:10.847330Z"
    }
   },
   "cell_type": "code",
   "source": "deck.groupby(get_suit, group_keys=False).apply(draw, n=2)",
   "id": "e61fc69b091036a3",
   "execution_count": 145,
   "outputs": []
  },
  {
   "metadata": {
    "ExecuteTime": {
     "end_time": "2024-06-14T08:42:28.398337Z",
     "start_time": "2024-06-14T08:42:28.389448Z"
    }
   },
   "cell_type": "code",
   "source": [
    "df = pd.DataFrame({\"category\": [\"a\", \"a\", \"a\", \"a\", \"b\", \"b\", \"b\", \"b\"],\n",
    "                   \"data\": np.random.standard_normal(8),\n",
    "                   \"weights\": np.random.uniform(size=8)})"
   ],
   "id": "3942c76071e7c3bf",
   "execution_count": 146,
   "outputs": []
  },
  {
   "metadata": {
    "ExecuteTime": {
     "end_time": "2024-06-14T08:42:30.857751Z",
     "start_time": "2024-06-14T08:42:30.853063Z"
    }
   },
   "cell_type": "code",
   "source": "df",
   "id": "8f5a063889782166",
   "execution_count": 147,
   "outputs": []
  },
  {
   "metadata": {
    "ExecuteTime": {
     "end_time": "2024-06-14T08:43:03.449770Z",
     "start_time": "2024-06-14T08:43:03.443878Z"
    }
   },
   "cell_type": "code",
   "source": "grouped = df.groupby(\"category\")",
   "id": "c051b9477bed74f",
   "execution_count": 148,
   "outputs": []
  },
  {
   "metadata": {
    "ExecuteTime": {
     "end_time": "2024-06-14T08:44:31.371943Z",
     "start_time": "2024-06-14T08:44:31.366762Z"
    }
   },
   "cell_type": "code",
   "source": [
    "def get_wavg(group):\n",
    "    return np.average(group[\"data\"], weights=group[\"weights\"])"
   ],
   "id": "c2c52113ff1b8b2b",
   "execution_count": 149,
   "outputs": []
  },
  {
   "metadata": {
    "ExecuteTime": {
     "end_time": "2024-06-14T08:46:46.431664Z",
     "start_time": "2024-06-14T08:46:46.420801Z"
    }
   },
   "cell_type": "code",
   "source": "grouped.apply(get_wavg)",
   "id": "8ff7e8240261c0f9",
   "execution_count": 150,
   "outputs": []
  },
  {
   "metadata": {
    "ExecuteTime": {
     "end_time": "2024-06-14T08:47:50.676283Z",
     "start_time": "2024-06-14T08:47:50.659664Z"
    }
   },
   "cell_type": "code",
   "source": "close_px = pd.read_csv(\"examples/stock_px.csv\", parse_dates=True,index_col=0)",
   "id": "16e7ef044c417a29",
   "execution_count": 151,
   "outputs": []
  },
  {
   "metadata": {
    "ExecuteTime": {
     "end_time": "2024-06-14T08:47:59.481384Z",
     "start_time": "2024-06-14T08:47:59.472850Z"
    }
   },
   "cell_type": "code",
   "source": "close_px.info()",
   "id": "a4837c6ddb2b3c47",
   "execution_count": 152,
   "outputs": []
  },
  {
   "metadata": {
    "ExecuteTime": {
     "end_time": "2024-06-14T08:48:26.424636Z",
     "start_time": "2024-06-14T08:48:26.414353Z"
    }
   },
   "cell_type": "code",
   "source": "close_px.tail(4)",
   "id": "51306a3d38327d47",
   "execution_count": 153,
   "outputs": []
  },
  {
   "metadata": {
    "ExecuteTime": {
     "end_time": "2024-06-14T08:49:11.389386Z",
     "start_time": "2024-06-14T08:49:11.383260Z"
    }
   },
   "cell_type": "code",
   "source": [
    "def spx_corr(group):\n",
    "    return group.corrwith(group[\"SPX\"])"
   ],
   "id": "386e9657bc208533",
   "execution_count": 154,
   "outputs": []
  },
  {
   "metadata": {
    "ExecuteTime": {
     "end_time": "2024-06-14T08:49:40.073694Z",
     "start_time": "2024-06-14T08:49:40.061901Z"
    }
   },
   "cell_type": "code",
   "source": "rets = close_px.pct_change().dropna()",
   "id": "22c1930a21dd020d",
   "execution_count": 155,
   "outputs": []
  },
  {
   "metadata": {
    "ExecuteTime": {
     "end_time": "2024-06-14T08:50:27.846079Z",
     "start_time": "2024-06-14T08:50:27.814028Z"
    }
   },
   "cell_type": "code",
   "source": [
    "def get_year(x):\n",
    "    return x.year"
   ],
   "id": "65a650cac8689839",
   "execution_count": 156,
   "outputs": []
  },
  {
   "metadata": {
    "ExecuteTime": {
     "end_time": "2024-06-14T08:50:49.163573Z",
     "start_time": "2024-06-14T08:50:49.148806Z"
    }
   },
   "cell_type": "code",
   "source": "by_year = rets.groupby(get_year)",
   "id": "e3be5b5336fc77af",
   "execution_count": 157,
   "outputs": []
  },
  {
   "metadata": {
    "ExecuteTime": {
     "end_time": "2024-06-14T08:51:10.845476Z",
     "start_time": "2024-06-14T08:51:10.815660Z"
    }
   },
   "cell_type": "code",
   "source": "by_year.apply(spx_corr)",
   "id": "6bf3168a66f21363",
   "execution_count": 158,
   "outputs": []
  },
  {
   "metadata": {
    "ExecuteTime": {
     "end_time": "2024-06-14T08:52:14.234088Z",
     "start_time": "2024-06-14T08:52:14.229373Z"
    }
   },
   "cell_type": "code",
   "source": [
    "def corr_aapl_msft(group):\n",
    "    return group[\"AAPL\"].corr(group[\"MSFT\"])"
   ],
   "id": "1cef60238108007",
   "execution_count": 159,
   "outputs": []
  },
  {
   "metadata": {
    "ExecuteTime": {
     "end_time": "2024-06-14T08:52:25.702408Z",
     "start_time": "2024-06-14T08:52:25.673810Z"
    }
   },
   "cell_type": "code",
   "source": "by_year.apply(corr_aapl_msft)",
   "id": "22f05f6808513d55",
   "execution_count": 160,
   "outputs": []
  },
  {
   "metadata": {
    "ExecuteTime": {
     "end_time": "2024-06-14T09:11:58.675165Z",
     "start_time": "2024-06-14T09:11:56.287358Z"
    }
   },
   "cell_type": "code",
   "source": [
    "import statsmodels.api as sm\n",
    "\n",
    "def regress(data, yvar=None, xvars=None):\n",
    "    Y = data[yvar]\n",
    "    X = data[xvars]\n",
    "    result = sm.OLS(Y,X).fit()\n",
    "    return result.params"
   ],
   "id": "9c65f9b55b4c7edc",
   "execution_count": 161,
   "outputs": []
  },
  {
   "metadata": {
    "ExecuteTime": {
     "end_time": "2024-06-14T09:12:34.934825Z",
     "start_time": "2024-06-14T09:12:34.883803Z"
    }
   },
   "cell_type": "code",
   "source": "by_year.apply(regress, yvar=\"AAPL\", xvars=[\"SPX\"])",
   "id": "d45b7e48db924bba",
   "execution_count": 162,
   "outputs": []
  },
  {
   "metadata": {
    "ExecuteTime": {
     "end_time": "2024-06-14T09:14:05.685297Z",
     "start_time": "2024-06-14T09:14:05.676155Z"
    }
   },
   "cell_type": "code",
   "source": [
    "df = pd.DataFrame({\"key\": [\"a\", \"b\", \"c\"] * 4,\n",
    "                   \"value\": np.arange(12.)})"
   ],
   "id": "31b432969e9fa409",
   "execution_count": 163,
   "outputs": []
  },
  {
   "metadata": {
    "ExecuteTime": {
     "end_time": "2024-06-14T09:14:06.692389Z",
     "start_time": "2024-06-14T09:14:06.687262Z"
    }
   },
   "cell_type": "code",
   "source": "df",
   "id": "fedfb12e78d4b01b",
   "execution_count": 164,
   "outputs": []
  },
  {
   "metadata": {
    "ExecuteTime": {
     "end_time": "2024-06-14T09:14:35.291354Z",
     "start_time": "2024-06-14T09:14:35.286183Z"
    }
   },
   "cell_type": "code",
   "source": "g = df.groupby(\"key\")[\"value\"]",
   "id": "ba4078b3255fc491",
   "execution_count": 165,
   "outputs": []
  },
  {
   "metadata": {
    "ExecuteTime": {
     "end_time": "2024-06-14T09:14:39.803190Z",
     "start_time": "2024-06-14T09:14:39.798728Z"
    }
   },
   "cell_type": "code",
   "source": "g.mean()",
   "id": "2911d4fd17950a03",
   "execution_count": 166,
   "outputs": []
  },
  {
   "metadata": {
    "ExecuteTime": {
     "end_time": "2024-06-14T09:15:12.711150Z",
     "start_time": "2024-06-14T09:15:12.706243Z"
    }
   },
   "cell_type": "code",
   "source": [
    "def get_mean(group):\n",
    "    return group.mean()"
   ],
   "id": "fd20749c5e2a7391",
   "execution_count": 167,
   "outputs": []
  },
  {
   "metadata": {
    "ExecuteTime": {
     "end_time": "2024-06-14T09:15:20.484735Z",
     "start_time": "2024-06-14T09:15:20.475628Z"
    }
   },
   "cell_type": "code",
   "source": "g.transform(get_mean)",
   "id": "11ccdf2d31f99623",
   "execution_count": 168,
   "outputs": []
  },
  {
   "metadata": {
    "ExecuteTime": {
     "end_time": "2024-06-14T09:15:37.272581Z",
     "start_time": "2024-06-14T09:15:37.261382Z"
    }
   },
   "cell_type": "code",
   "source": "g.transform('mean')",
   "id": "d955aecab6d79720",
   "execution_count": 169,
   "outputs": []
  },
  {
   "metadata": {
    "ExecuteTime": {
     "end_time": "2024-06-14T09:16:07.147547Z",
     "start_time": "2024-06-14T09:16:07.143231Z"
    }
   },
   "cell_type": "code",
   "source": [
    "def times_two(group):\n",
    "    return group * 2"
   ],
   "id": "b1010fb609dff2e2",
   "execution_count": 170,
   "outputs": []
  },
  {
   "metadata": {
    "ExecuteTime": {
     "end_time": "2024-06-14T09:16:14.234221Z",
     "start_time": "2024-06-14T09:16:14.226679Z"
    }
   },
   "cell_type": "code",
   "source": "g.transform(times_two)",
   "id": "d1a787a61890ed23",
   "execution_count": 171,
   "outputs": []
  },
  {
   "metadata": {
    "ExecuteTime": {
     "end_time": "2024-06-14T09:17:12.537338Z",
     "start_time": "2024-06-14T09:17:12.532849Z"
    }
   },
   "cell_type": "code",
   "source": [
    "def get_ranks(group):\n",
    "    return group.rank(ascending=False)"
   ],
   "id": "2372e9f12b1377f0",
   "execution_count": 172,
   "outputs": []
  },
  {
   "metadata": {
    "ExecuteTime": {
     "end_time": "2024-06-14T09:17:19.934379Z",
     "start_time": "2024-06-14T09:17:19.922519Z"
    }
   },
   "cell_type": "code",
   "source": "g.transform(get_ranks)",
   "id": "6c8a4cb6e9fa4dfb",
   "execution_count": 173,
   "outputs": []
  },
  {
   "metadata": {
    "ExecuteTime": {
     "end_time": "2024-06-14T09:18:15.251435Z",
     "start_time": "2024-06-14T09:18:15.240800Z"
    }
   },
   "cell_type": "code",
   "source": [
    "def normalize(x):\n",
    "    return (x - x.mean()) / x.std()"
   ],
   "id": "e313c4f21e682821",
   "execution_count": 174,
   "outputs": []
  },
  {
   "metadata": {
    "ExecuteTime": {
     "end_time": "2024-06-14T09:18:23.731508Z",
     "start_time": "2024-06-14T09:18:23.702208Z"
    }
   },
   "cell_type": "code",
   "source": "g.transform(normalize)",
   "id": "50ee996965d203e7",
   "execution_count": 175,
   "outputs": []
  },
  {
   "metadata": {
    "ExecuteTime": {
     "end_time": "2024-06-14T09:18:44.598741Z",
     "start_time": "2024-06-14T09:18:44.583575Z"
    }
   },
   "cell_type": "code",
   "source": "g.apply(normalize)",
   "id": "abbf8e5d96476b4",
   "execution_count": 176,
   "outputs": []
  },
  {
   "metadata": {
    "ExecuteTime": {
     "end_time": "2024-06-14T09:20:05.673425Z",
     "start_time": "2024-06-14T09:20:05.640612Z"
    }
   },
   "cell_type": "code",
   "source": "g.transform(\"mean\")",
   "id": "eb123d0e965591d7",
   "execution_count": 178,
   "outputs": []
  },
  {
   "metadata": {
    "ExecuteTime": {
     "end_time": "2024-06-14T09:20:46.694890Z",
     "start_time": "2024-06-14T09:20:46.680720Z"
    }
   },
   "cell_type": "code",
   "source": "normalized = (df[\"value\"] - g.transform(\"mean\")) / g.transform(\"std\")",
   "id": "b53a2cee6bf876ae",
   "execution_count": 179,
   "outputs": []
  },
  {
   "metadata": {
    "ExecuteTime": {
     "end_time": "2024-06-14T09:20:48.845253Z",
     "start_time": "2024-06-14T09:20:48.841930Z"
    }
   },
   "cell_type": "code",
   "source": "normalized",
   "id": "425dc50e3b2e04ea",
   "execution_count": 180,
   "outputs": []
  },
  {
   "metadata": {
    "ExecuteTime": {
     "end_time": "2024-06-14T09:23:47.728137Z",
     "start_time": "2024-06-14T09:23:47.699421Z"
    }
   },
   "cell_type": "code",
   "source": "tips.head()",
   "id": "3646f81f2c5aeeb3",
   "execution_count": 181,
   "outputs": []
  },
  {
   "metadata": {
    "ExecuteTime": {
     "end_time": "2024-06-14T09:24:19.144366Z",
     "start_time": "2024-06-14T09:24:18.232069Z"
    }
   },
   "cell_type": "code",
   "source": "tips.pivot_table(index=[\"day\", \"smoker\"])",
   "id": "fd75a397e9f8c438",
   "execution_count": 182,
   "outputs": []
  },
  {
   "metadata": {
    "ExecuteTime": {
     "end_time": "2024-06-14T09:25:22.585156Z",
     "start_time": "2024-06-14T09:25:22.565251Z"
    }
   },
   "cell_type": "code",
   "source": "tips.pivot_table(index=[\"time\", \"day\"], columns=\"smoker\", values=[\"tip_pct\", \"size\"])",
   "id": "4697492f8dd939b5",
   "execution_count": 183,
   "outputs": []
  },
  {
   "metadata": {
    "ExecuteTime": {
     "end_time": "2024-06-14T09:26:32.368937Z",
     "start_time": "2024-06-14T09:26:32.340874Z"
    }
   },
   "cell_type": "code",
   "source": "tips.pivot_table(index=[\"time\", \"day\"], columns=\"smoker\", values=[\"tip_pct\", \"size\"], margins=True)",
   "id": "2ab0410d66101fa2",
   "execution_count": 184,
   "outputs": []
  },
  {
   "metadata": {
    "ExecuteTime": {
     "end_time": "2024-06-14T09:28:11.088111Z",
     "start_time": "2024-06-14T09:28:11.070943Z"
    }
   },
   "cell_type": "code",
   "source": [
    "tips.pivot_table(index=[\"time\", \"smoker\"], columns=\"day\",\n",
    "                 values=\"tip_pct\", aggfunc=len, margins=True)"
   ],
   "id": "3aab50a36ca181f0",
   "execution_count": 187,
   "outputs": []
  },
  {
   "metadata": {
    "ExecuteTime": {
     "end_time": "2024-06-14T09:29:05.204341Z",
     "start_time": "2024-06-14T09:29:05.188475Z"
    }
   },
   "cell_type": "code",
   "source": [
    "tips.pivot_table(index=[\"time\", \"size\", \"smoker\"], columns=\"day\",\n",
    "                 values=\"tip_pct\", fill_value=0)"
   ],
   "id": "ff13f89e7e51e650",
   "execution_count": 188,
   "outputs": []
  },
  {
   "metadata": {
    "ExecuteTime": {
     "end_time": "2024-06-14T09:29:53.178553Z",
     "start_time": "2024-06-14T09:29:53.173572Z"
    }
   },
   "cell_type": "code",
   "source": "from io import StringIO",
   "id": "a82c53f200abb594",
   "execution_count": 189,
   "outputs": []
  },
  {
   "metadata": {
    "ExecuteTime": {
     "end_time": "2024-06-14T09:32:59.168354Z",
     "start_time": "2024-06-14T09:32:59.161657Z"
    }
   },
   "cell_type": "code",
   "source": [
    "data = \"\"\"Sample    Nationality Handedness\n",
    "1   USA  Right-handed\n",
    "2   Japan   Left-handed\n",
    "3   USA Right-handed\n",
    "4   Japan   Right-handed\n",
    "5   Japan   Left-handed\n",
    "6   Japan   Right-handed\n",
    "7   USA Right-handed\n",
    "8   USA Left-handed\n",
    "9   Japan   Right-handed\n",
    "10  USA Right-handed\n",
    "\"\"\""
   ],
   "id": "29110da36e980c5e",
   "execution_count": 190,
   "outputs": []
  },
  {
   "metadata": {
    "ExecuteTime": {
     "end_time": "2024-06-14T09:33:24.583411Z",
     "start_time": "2024-06-14T09:33:24.559020Z"
    }
   },
   "cell_type": "code",
   "source": "data = pd.read_table(StringIO(data), sep=\"\\s+\")",
   "id": "6bc1a92e0658dc9e",
   "execution_count": 191,
   "outputs": []
  },
  {
   "metadata": {
    "ExecuteTime": {
     "end_time": "2024-06-14T09:33:25.857448Z",
     "start_time": "2024-06-14T09:33:25.852624Z"
    }
   },
   "cell_type": "code",
   "source": "data",
   "id": "d9ceed8504481855",
   "execution_count": 192,
   "outputs": []
  },
  {
   "metadata": {
    "ExecuteTime": {
     "end_time": "2024-06-14T09:34:06.920336Z",
     "start_time": "2024-06-14T09:34:06.898828Z"
    }
   },
   "cell_type": "code",
   "source": "pd.crosstab(data[\"Nationality\"], data[\"Handedness\"], margins=True)",
   "id": "d43ff383626caa5e",
   "execution_count": 193,
   "outputs": []
  },
  {
   "metadata": {
    "ExecuteTime": {
     "end_time": "2024-06-14T09:34:55.893721Z",
     "start_time": "2024-06-14T09:34:55.856239Z"
    }
   },
   "cell_type": "code",
   "source": "pd.crosstab([tips[\"time\"], tips[\"day\"]], tips[\"smoker\"], margins=True)",
   "id": "ff7a818ebf1c6e9b",
   "execution_count": 194,
   "outputs": []
  },
  {
   "metadata": {},
   "cell_type": "code",
   "execution_count": null,
   "source": "",
   "id": "ec48d0d6b736dd81",
   "outputs": []
  }
 ],
 "metadata": {
  "kernelspec": {
   "display_name": "Python 3",
   "language": "python",
   "name": "python3"
  },
  "language_info": {
   "codemirror_mode": {
    "name": "ipython",
    "version": 2
   },
   "file_extension": ".py",
   "mimetype": "text/x-python",
   "name": "python",
   "nbconvert_exporter": "python",
   "pygments_lexer": "ipython2",
   "version": "2.7.6"
  }
 },
 "nbformat": 4,
 "nbformat_minor": 5
}
